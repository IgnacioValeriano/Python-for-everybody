{
 "cells": [
  {
   "cell_type": "markdown",
   "id": "004ae61e",
   "metadata": {},
   "source": [
    "ÍNDICE\n",
    "\n",
    "1. Diccionario como un conjunto de contadores\n",
    "2. Diccionarios y archivos\n",
    "3. Bucles y diccionarios\n",
    "4. Análisis avanzado de texto\n",
    "5. Depuración\n",
    "6. Glosario\n",
    "7. Ejercicios"
   ]
  },
  {
   "cell_type": "code",
   "execution_count": 37,
   "id": "92492e2b",
   "metadata": {},
   "outputs": [],
   "source": [
    "import string"
   ]
  },
  {
   "cell_type": "code",
   "execution_count": 3,
   "id": "6f159e67",
   "metadata": {},
   "outputs": [
    {
     "data": {
      "text/plain": [
       "{}"
      ]
     },
     "execution_count": 3,
     "metadata": {},
     "output_type": "execute_result"
    }
   ],
   "source": [
    "diccionario = dict()\n",
    "diccionario"
   ]
  },
  {
   "cell_type": "code",
   "execution_count": 4,
   "id": "ce61c00a",
   "metadata": {},
   "outputs": [
    {
     "data": {
      "text/plain": [
       "{'one': 'uno'}"
      ]
     },
     "execution_count": 4,
     "metadata": {},
     "output_type": "execute_result"
    }
   ],
   "source": [
    "diccionario['one'] = 'uno'\n",
    "diccionario"
   ]
  },
  {
   "cell_type": "code",
   "execution_count": 5,
   "id": "27b2550c",
   "metadata": {},
   "outputs": [
    {
     "data": {
      "text/plain": [
       "{'one': 'uno', 'two': 'dos', 'three': 'tres'}"
      ]
     },
     "execution_count": 5,
     "metadata": {},
     "output_type": "execute_result"
    }
   ],
   "source": [
    "diccionario = {\n",
    "    'one':'uno',\n",
    "    'two':'dos',\n",
    "    'three':'tres'\n",
    "}\n",
    "\n",
    "diccionario"
   ]
  },
  {
   "cell_type": "code",
   "execution_count": 6,
   "id": "906b733d",
   "metadata": {},
   "outputs": [
    {
     "data": {
      "text/plain": [
       "'dos'"
      ]
     },
     "execution_count": 6,
     "metadata": {},
     "output_type": "execute_result"
    }
   ],
   "source": [
    "diccionario['two']"
   ]
  },
  {
   "cell_type": "code",
   "execution_count": 7,
   "id": "4908825e",
   "metadata": {},
   "outputs": [
    {
     "data": {
      "text/plain": [
       "3"
      ]
     },
     "execution_count": 7,
     "metadata": {},
     "output_type": "execute_result"
    }
   ],
   "source": [
    "len(diccionario)"
   ]
  },
  {
   "cell_type": "code",
   "execution_count": 8,
   "id": "3bc7b456",
   "metadata": {},
   "outputs": [
    {
     "data": {
      "text/plain": [
       "False"
      ]
     },
     "execution_count": 8,
     "metadata": {},
     "output_type": "execute_result"
    }
   ],
   "source": [
    "'uno' in diccionario"
   ]
  },
  {
   "cell_type": "code",
   "execution_count": 9,
   "id": "29a6e8c5",
   "metadata": {},
   "outputs": [
    {
     "data": {
      "text/plain": [
       "True"
      ]
     },
     "execution_count": 9,
     "metadata": {},
     "output_type": "execute_result"
    }
   ],
   "source": [
    "'one' in diccionario"
   ]
  },
  {
   "cell_type": "code",
   "execution_count": 10,
   "id": "11e9094a",
   "metadata": {},
   "outputs": [
    {
     "data": {
      "text/plain": [
       "['uno', 'dos', 'tres']"
      ]
     },
     "execution_count": 10,
     "metadata": {},
     "output_type": "execute_result"
    }
   ],
   "source": [
    "valores = list(diccionario.values())\n",
    "valores"
   ]
  },
  {
   "cell_type": "code",
   "execution_count": 11,
   "id": "3b1d1c7a",
   "metadata": {},
   "outputs": [
    {
     "data": {
      "text/plain": [
       "True"
      ]
     },
     "execution_count": 11,
     "metadata": {},
     "output_type": "execute_result"
    }
   ],
   "source": [
    "'uno' in valores"
   ]
  },
  {
   "cell_type": "markdown",
   "id": "39793bc8",
   "metadata": {},
   "source": [
    "# 1. Diccionario como un conjunto de contadores"
   ]
  },
  {
   "cell_type": "code",
   "execution_count": 12,
   "id": "8d1d4a32",
   "metadata": {},
   "outputs": [
    {
     "name": "stdout",
     "output_type": "stream",
     "text": [
      "{'b': 1, 'r': 2, 'o': 3, 'n': 1, 't': 1, 's': 1, 'a': 1, 'u': 1, 'i': 1}\n"
     ]
    }
   ],
   "source": [
    "palabra = 'brontosaurio'\n",
    "\n",
    "diccionario = dict()\n",
    "\n",
    "for letra in palabra:\n",
    "    if letra not in diccionario:\n",
    "        diccionario[letra] = 1\n",
    "    else:\n",
    "        diccionario[letra] += 1\n",
    "\n",
    "print(diccionario)"
   ]
  },
  {
   "cell_type": "code",
   "execution_count": 13,
   "id": "79979f26",
   "metadata": {},
   "outputs": [
    {
     "name": "stdout",
     "output_type": "stream",
     "text": [
      "100\n",
      "0\n"
     ]
    }
   ],
   "source": [
    "cuentas = {'chuck':1, \n",
    "           'annie':42, \n",
    "           'jan':100}\n",
    "\n",
    "print(cuentas.get('jan',0))\n",
    "print(cuentas.get('tim',0))"
   ]
  },
  {
   "cell_type": "code",
   "execution_count": 17,
   "id": "012a1f25",
   "metadata": {},
   "outputs": [
    {
     "name": "stdout",
     "output_type": "stream",
     "text": [
      "{'b': 1, 'r': 2, 'o': 3, 'n': 1, 't': 1, 's': 1, 'a': 1, 'u': 1, 'i': 1}\n"
     ]
    }
   ],
   "source": [
    "palabra = 'brontosaurio'\n",
    "\n",
    "diccionario = dict()\n",
    "\n",
    "for letra in palabra:\n",
    "    diccionario[letra] = diccionario.get(letra,0) + 1\n",
    "\n",
    "print(diccionario)"
   ]
  },
  {
   "cell_type": "markdown",
   "id": "080dfaa3",
   "metadata": {},
   "source": [
    "# 2. Diccionarios y archivos "
   ]
  },
  {
   "cell_type": "code",
   "execution_count": 20,
   "id": "7aa39e45",
   "metadata": {},
   "outputs": [
    {
     "name": "stdout",
     "output_type": "stream",
     "text": [
      "Ingresa el nombre del archivo:romeo.txt\n",
      "{'But': 1, 'soft': 1, 'what': 1, 'light': 1, 'through': 1, 'yonder': 1, 'window': 1, 'breaks': 1, 'It': 1, 'is': 3, 'the': 3, 'east': 1, 'and': 3, 'Juliet': 1, 'sun': 2, 'Arise': 1, 'fair': 1, 'kill': 1, 'envious': 1, 'moon': 1, 'Who': 1, 'already': 1, 'sick': 1, 'pale': 1, 'with': 1, 'grief': 1}\n"
     ]
    }
   ],
   "source": [
    "nombre_archivo = input('Ingresa el nombre del archivo:')\n",
    "ruta = fr'Datos\\\\Python para todos\\\\' + f'{nombre_archivo}'\n",
    "\n",
    "try:\n",
    "    manejador_archivos = open(ruta)\n",
    "except:\n",
    "    print('El archivo no se puede abrir:',nombre_archivo)\n",
    "\n",
    "contador = dict()\n",
    "\n",
    "for linea in manejador_archivos:\n",
    "    palabras = linea.split()\n",
    "    for palabra in palabras:\n",
    "        if palabra not in contador:\n",
    "            contador[palabra] = 1\n",
    "        else:\n",
    "            contador[palabra] += 1\n",
    "\n",
    "print(contador)"
   ]
  },
  {
   "cell_type": "markdown",
   "id": "681d6990",
   "metadata": {},
   "source": [
    "# 3. Bucles y diccionarios"
   ]
  },
  {
   "cell_type": "code",
   "execution_count": 29,
   "id": "7bf8c2c4",
   "metadata": {},
   "outputs": [
    {
     "name": "stdout",
     "output_type": "stream",
     "text": [
      "chuck 1\n",
      "annie 42\n",
      "jan 100\n"
     ]
    }
   ],
   "source": [
    "contadores = {'chuck':1, \n",
    "              'annie': 42, \n",
    "              'jan':100}\n",
    "\n",
    "for clave in contadores:\n",
    "    print(clave, contadores[clave])"
   ]
  },
  {
   "cell_type": "code",
   "execution_count": 30,
   "id": "4491fabc",
   "metadata": {},
   "outputs": [
    {
     "name": "stdout",
     "output_type": "stream",
     "text": [
      "annie 42\n",
      "jan 100\n"
     ]
    }
   ],
   "source": [
    "for clave in contadores:\n",
    "    if contadores[clave]>10:\n",
    "        print(clave,contadores[clave])"
   ]
  },
  {
   "cell_type": "code",
   "execution_count": 33,
   "id": "b8415046",
   "metadata": {},
   "outputs": [
    {
     "data": {
      "text/plain": [
       "['chuck', 'annie', 'jan']"
      ]
     },
     "execution_count": 33,
     "metadata": {},
     "output_type": "execute_result"
    }
   ],
   "source": [
    "lista = list(contadores.keys())\n",
    "lista"
   ]
  },
  {
   "cell_type": "code",
   "execution_count": 35,
   "id": "29937fdb",
   "metadata": {},
   "outputs": [
    {
     "data": {
      "text/plain": [
       "['annie', 'chuck', 'jan']"
      ]
     },
     "execution_count": 35,
     "metadata": {},
     "output_type": "execute_result"
    }
   ],
   "source": [
    "lista.sort()\n",
    "lista"
   ]
  },
  {
   "cell_type": "code",
   "execution_count": 36,
   "id": "28cacd2f",
   "metadata": {},
   "outputs": [
    {
     "name": "stdout",
     "output_type": "stream",
     "text": [
      "annie 42\n",
      "chuck 1\n",
      "jan 100\n"
     ]
    }
   ],
   "source": [
    "for clave in lista:\n",
    "    print(clave,contadores[clave])"
   ]
  },
  {
   "cell_type": "markdown",
   "id": "62cb1612",
   "metadata": {},
   "source": [
    "# 4. Análisis avanzado de texto"
   ]
  },
  {
   "cell_type": "code",
   "execution_count": 38,
   "id": "48147bf0",
   "metadata": {},
   "outputs": [
    {
     "data": {
      "text/plain": [
       "'!\"#$%&\\'()*+,-./:;<=>?@[\\\\]^_`{|}~'"
      ]
     },
     "execution_count": 38,
     "metadata": {},
     "output_type": "execute_result"
    }
   ],
   "source": [
    "string.punctuation"
   ]
  },
  {
   "cell_type": "code",
   "execution_count": 40,
   "id": "f444c96e",
   "metadata": {
    "scrolled": true
   },
   "outputs": [
    {
     "name": "stdout",
     "output_type": "stream",
     "text": [
      "Ingresa el nombre del archivo:romeo-full.txt\n",
      "{'romeo': 40, 'and': 42, 'juliet': 32, 'act': 1, '2': 2, 'scene': 2, 'ii': 1, 'capulets': 1, 'orchard': 2, 'enter': 1, 'he': 5, 'jests': 1, 'at': 9, 'scars': 1, 'that': 30, 'never': 2, 'felt': 1, 'a': 24, 'wound': 1, 'appears': 1, 'above': 6, 'window': 2, 'but': 18, 'soft': 1, 'what': 11, 'light': 5, 'through': 2, 'yonder': 2, 'breaks': 1, 'it': 22, 'is': 21, 'the': 34, 'east': 1, 'sun': 2, 'arise': 1, 'fair': 4, 'kill': 2, 'envious': 2, 'moon': 4, 'who': 5, 'already': 1, 'sick': 2, 'pale': 1, 'with': 8, 'grief': 2, 'thou': 32, 'her': 14, 'maid': 2, 'art': 7, 'far': 2, 'more': 9, 'than': 6, 'she': 9, 'be': 14, 'not': 18, 'since': 1, 'vestal': 1, 'livery': 1, 'green': 1, 'none': 1, 'fools': 1, 'do': 7, 'wear': 1, 'cast': 1, 'off': 1, 'my': 29, 'lady': 2, 'o': 11, 'love': 24, 'knew': 1, 'were': 9, 'speaks': 3, 'yet': 9, 'says': 1, 'nothing': 1, 'of': 20, 'eye': 2, 'discourses': 1, 'i': 61, 'will': 8, 'answer': 1, 'am': 7, 'too': 8, 'bold': 1, 'tis': 4, 'to': 34, 'me': 18, 'two': 1, 'fairest': 1, 'stars': 2, 'in': 13, 'all': 6, 'heaven': 3, 'having': 1, 'some': 3, 'business': 1, 'entreat': 1, 'eyes': 6, 'twinkle': 1, 'their': 6, 'spheres': 1, 'till': 4, 'they': 5, 'return': 1, 'if': 12, 'there': 3, 'head': 2, 'brightness': 1, 'cheek': 4, 'would': 16, 'shame': 1, 'those': 2, 'as': 12, 'daylight': 1, 'doth': 2, 'lamp': 1, 'airy': 2, 'region': 1, 'stream': 1, 'so': 10, 'bright': 2, 'birds': 1, 'sing': 1, 'think': 2, 'night': 16, 'see': 2, 'how': 5, 'leans': 1, 'upon': 5, 'hand': 4, 'glove': 1, 'might': 1, 'touch': 1, 'ay': 2, 'speak': 4, 'again': 6, 'angel': 1, 'for': 12, 'glorious': 1, 'this': 9, 'being': 2, 'oer': 1, 'winged': 1, 'messenger': 1, 'unto': 1, 'whiteupturned': 1, 'wondering': 1, 'mortals': 1, 'fall': 1, 'back': 4, 'gaze': 1, 'on': 4, 'him': 2, 'when': 2, 'bestrides': 1, 'lazypacing': 1, 'clouds': 1, 'sails': 1, 'bosom': 1, 'air': 1, 'wherefore': 2, 'deny': 2, 'thy': 20, 'father': 1, 'refuse': 1, 'name': 11, 'or': 4, 'wilt': 6, 'sworn': 1, 'ill': 8, 'no': 6, 'longer': 1, 'capulet': 1, 'aside': 1, 'shall': 6, 'hear': 2, 'enemy': 2, 'thyself': 1, 'though': 1, 'montague': 5, 'whats': 2, 'nor': 5, 'foot': 2, 'arm': 1, 'face': 2, 'any': 4, 'other': 4, 'part': 2, 'belonging': 1, 'man': 2, 'which': 7, 'we': 2, 'call': 3, 'rose': 1, 'by': 14, 'smell': 1, 'sweet': 8, 'calld': 1, 'retain': 1, 'dear': 7, 'perfection': 1, 'owes': 1, 'without': 1, 'title': 1, 'doff': 1, 'thee': 24, 'take': 3, 'myself': 2, 'word': 4, 'new': 1, 'baptized': 1, 'henceforth': 1, 'thus': 1, 'bescreend': 1, 'stumblest': 1, 'counsel': 2, 'know': 3, 'tell': 3, 'saint': 2, 'hateful': 1, 'because': 1, 'an': 2, 'had': 1, 'written': 1, 'tear': 2, 'ears': 2, 'have': 13, 'drunk': 1, 'hundred': 1, 'words': 2, 'tongues': 2, 'utterance': 1, 'sound': 2, 'neither': 1, 'either': 1, 'dislike': 1, 'camest': 1, 'hither': 1, 'walls': 2, 'are': 3, 'high': 1, 'hard': 1, 'climb': 1, 'place': 2, 'death': 2, 'considering': 1, 'kinsmen': 2, 'find': 2, 'here': 4, 'loves': 3, 'wings': 1, 'did': 3, 'oerperch': 1, 'these': 2, 'stony': 1, 'limits': 1, 'cannot': 1, 'hold': 1, 'out': 2, 'can': 2, 'dares': 1, 'attempt': 1, 'therefore': 3, 'let': 3, 'murder': 1, 'alack': 1, 'lies': 2, 'peril': 1, 'thine': 2, 'twenty': 2, 'swords': 1, 'look': 1, 'proof': 1, 'against': 1, 'enmity': 1, 'world': 3, 'saw': 1, 'nights': 1, 'cloak': 1, 'hide': 1, 'from': 4, 'sight': 1, 'them': 1, 'life': 1, 'better': 1, 'ended': 1, 'hate': 1, 'prorogued': 1, 'wanting': 1, 'whose': 1, 'direction': 1, 'foundst': 1, 'first': 1, 'prompt': 1, 'inquire': 1, 'lent': 2, 'pilot': 1, 'wert': 1, 'vast': 1, 'shore': 1, 'washd': 1, 'farthest': 1, 'sea': 2, 'adventure': 1, 'such': 2, 'merchandise': 1, 'knowst': 1, 'mask': 1, 'else': 3, 'maiden': 1, 'blush': 1, 'bepaint': 1, 'hast': 1, 'heard': 1, 'tonight': 3, 'fain': 3, 'dwell': 2, 'form': 1, 'spoke': 1, 'farewell': 1, 'compliment': 1, 'dost': 2, 'say': 5, 'swearst': 1, 'mayst': 2, 'prove': 4, 'false': 1, 'lovers': 2, 'perjuries': 1, 'then': 2, 'jove': 1, 'laughs': 1, 'gentle': 1, 'pronounce': 1, 'faithfully': 1, 'thinkst': 1, 'quickly': 1, 'won': 1, 'frown': 1, 'perverse': 1, 'nay': 1, 'woo': 1, 'truth': 1, 'fond': 1, 'havior': 1, 'trust': 1, 'gentleman': 1, 'true': 3, 'cunning': 1, 'strange': 2, 'should': 2, 'been': 1, 'must': 1, 'confess': 1, 'overheardst': 1, 'ere': 2, 'was': 1, 'ware': 1, 'passion': 1, 'pardon': 1, 'impute': 1, 'yielding': 1, 'dark': 1, 'hath': 1, 'discovered': 1, 'blessed': 3, 'swear': 6, 'tips': 1, 'silver': 1, 'fruittree': 1, 'tops': 1, 'inconstant': 1, 'monthly': 1, 'changes': 1, 'circled': 1, 'orb': 1, 'lest': 1, 'likewise': 1, 'variable': 1, 'gracious': 1, 'self': 1, 'god': 1, 'idolatry': 1, 'believe': 1, 'hearts': 1, 'well': 2, 'although': 1, 'joy': 2, 'contract': 1, 'rash': 1, 'unadvised': 1, 'sudden': 1, 'like': 3, 'lightning': 1, 'cease': 2, 'one': 2, 'lightens': 1, 'good': 9, 'bud': 1, 'summers': 1, 'ripening': 1, 'breath': 1, 'may': 2, 'beauteous': 1, 'flower': 1, 'next': 1, 'meet': 1, 'repose': 1, 'rest': 2, 'come': 5, 'heart': 1, 'within': 5, 'breast': 2, 'leave': 2, 'unsatisfied': 1, 'satisfaction': 1, 'canst': 1, 'exchange': 1, 'faithful': 1, 'vow': 1, 'mine': 3, 'gave': 1, 'before': 1, 'didst': 1, 'request': 1, 'give': 3, 'wouldst': 1, 'withdraw': 1, 'purpose': 2, 'frank': 1, 'wish': 1, 'thing': 1, 'bounty': 1, 'boundless': 1, 'deep': 1, 'both': 1, 'infinite': 1, 'nurse': 4, 'calls': 2, 'noise': 1, 'adieu': 1, 'anon': 1, 'stay': 2, 'little': 2, 'exit': 4, 'afeard': 1, 'dream': 1, 'flatteringsweet': 1, 'substantial': 1, 'reenter': 2, 'three': 1, 'indeed': 1, 'bent': 1, 'honourable': 1, 'marriage': 1, 'send': 3, 'tomorrow': 3, 'procure': 1, 'where': 2, 'time': 1, 'perform': 1, 'rite': 1, 'fortunes': 1, 'lay': 1, 'follow': 1, 'lord': 1, 'throughout': 1, 'madam': 2, 'anonbut': 1, 'meanst': 1, 'beseech': 1, 'suit': 1, 'thrive': 1, 'soul': 2, 'thousand': 2, 'times': 2, 'worse': 1, 'want': 1, 'goes': 1, 'toward': 2, 'schoolboys': 1, 'books': 1, 'school': 1, 'heavy': 1, 'looks': 1, 'retiring': 1, 'hist': 2, 'falconers': 1, 'voice': 1, 'lure': 1, 'tasselgentle': 1, 'bondage': 1, 'hoarse': 2, 'aloud': 1, 'cave': 1, 'echo': 1, 'make': 1, 'tongue': 1, 'repetition': 1, 'romeos': 1, 'silversweet': 1, 'softest': 1, 'music': 1, 'attending': 1, 'oclock': 1, 'hour': 1, 'nine': 1, 'fail': 1, 'years': 1, 'forgot': 1, 'why': 1, 'stand': 2, 'remember': 1, 'forget': 2, 'still': 3, 'remembering': 1, 'company': 1, 'forgetting': 1, 'home': 1, 'almost': 1, 'morning': 1, 'gone': 1, 'further': 1, 'wantons': 1, 'bird': 2, 'lets': 1, 'hop': 1, 'poor': 1, 'prisoner': 1, 'his': 3, 'twisted': 1, 'gyves': 1, 'silk': 1, 'thread': 1, 'plucks': 1, 'lovingjealous': 1, 'liberty': 1, 'much': 1, 'cherishing': 1, 'parting': 1, 'sorrow': 1, 'morrow': 1, 'sleep': 2, 'peace': 2, 'hence': 1, 'ghostly': 1, 'fathers': 1, 'cell': 1, 'help': 1, 'crave': 1, 'hap': 1}\n"
     ]
    }
   ],
   "source": [
    "nombre_archivo = input('Ingresa el nombre del archivo:')\n",
    "ruta = fr'Datos\\\\Python para todos\\\\' + f'{nombre_archivo}'\n",
    "\n",
    "try:\n",
    "    manejador_archivos = open(ruta)\n",
    "except:\n",
    "    print('El archivo no se puede abrir:',nombre_archivo)\n",
    "    \n",
    "contadores = dict()\n",
    "\n",
    "for linea in manejador_archivos:\n",
    "    linea = linea.rstrip()\n",
    "    linea = linea.translate(linea.maketrans('','',string.punctuation))\n",
    "    linea = linea.lower()\n",
    "    palabras = linea.split()\n",
    "    \n",
    "    for palabra in palabras:\n",
    "        if palabra not in contadores:\n",
    "            contadores[palabra] = 1\n",
    "        else:\n",
    "            contadores[palabra] += 1\n",
    "\n",
    "print(contadores)"
   ]
  },
  {
   "cell_type": "markdown",
   "id": "ce56835c",
   "metadata": {},
   "source": [
    "# 5. Depuración"
   ]
  },
  {
   "cell_type": "markdown",
   "id": "3dd5668d",
   "metadata": {},
   "source": [
    "# 6. Glosario"
   ]
  },
  {
   "cell_type": "markdown",
   "id": "0b8c83d0",
   "metadata": {},
   "source": [
    "Bucles anidados: cuando hay uno o más bucles “dentro” de otro bucle. Los bucles internos terminan de ejecutar cada vez que el bucle externo ejecuta una vez.\n",
    "\n",
    "Búsqueda: una operación de diccionario que toma una clave y encuentra su valor correspondiente.\n",
    "\n",
    "Clave: un objeto que aparece en un diccionario como la primera parte de un par clave-valor.\n",
    "\n",
    "Diccionario: una asociación de un conjunto de claves a sus valores correspondientes.\n",
    "\n",
    "Elemento: otro nombre para un par clave-valor.\n",
    "\n",
    "Función hash: una función utilizada por una tabla hash para calcular la localización de una clave.\n",
    "\n",
    "Histograma: un set de contadores.\n",
    "\n",
    "Implementación: una forma de llevar a cabo un cálculo.\n",
    "\n",
    "Par clave-valor: la representación de una asociación de una clave a un valor.\n",
    "\n",
    "Tabla hash: el algoritmo utilizado para implementar diccionarios en Python.\n",
    "\n",
    "Valor: un objeto que aparece en un diccionario como la segunda parte de un par clave-valor. Esta definición es más específica que nuestro uso previo de la palabra “valor”."
   ]
  },
  {
   "cell_type": "markdown",
   "id": "8676c384",
   "metadata": {},
   "source": [
    "# 7. Ejercicios "
   ]
  },
  {
   "cell_type": "markdown",
   "id": "3b5a00a1",
   "metadata": {},
   "source": [
    "1. Escribe un programa que lee las palabras en words.txt y las almacena como claves en un diccionario. No importa qué valores tenga. Luego puedes utilizar el operador in como una forma rápida de revisar si una cadena está en el diccionario."
   ]
  },
  {
   "cell_type": "code",
   "execution_count": 42,
   "id": "b5ba6ede",
   "metadata": {
    "scrolled": true
   },
   "outputs": [
    {
     "name": "stdout",
     "output_type": "stream",
     "text": [
      "{'Writing': 'value', 'programs': 'value', 'or': 'value', 'programming': 'value', 'is': 'value', 'a': 'value', 'very': 'value', 'creative': 'value', 'and': 'value', 'rewarding': 'value', 'activity': 'value', 'You': 'value', 'can': 'value', 'write': 'value', 'for': 'value', 'many': 'value', 'reasons': 'value', 'ranging': 'value', 'from': 'value', 'making': 'value', 'your': 'value', 'living': 'value', 'to': 'value', 'solving': 'value', 'difficult': 'value', 'data': 'value', 'analysis': 'value', 'problem': 'value', 'having': 'value', 'fun': 'value', 'helping': 'value', 'someone': 'value', 'else': 'value', 'solve': 'value', 'This': 'value', 'book': 'value', 'assumes': 'value', 'that': 'value', '{\\\\em': 'value', 'everyone}': 'value', 'needs': 'value', 'know': 'value', 'how': 'value', 'program': 'value', 'once': 'value', 'you': 'value', 'program,': 'value', 'will': 'value', 'figure': 'value', 'out': 'value', 'what': 'value', 'want': 'value', 'do': 'value', 'with': 'value', 'newfound': 'value', 'skills': 'value', 'We': 'value', 'are': 'value', 'surrounded': 'value', 'in': 'value', 'our': 'value', 'daily': 'value', 'lives': 'value', 'computers': 'value', 'laptops': 'value', 'cell': 'value', 'phones': 'value', 'think': 'value', 'of': 'value', 'these': 'value', 'as': 'value', 'personal': 'value', 'assistants': 'value', 'who': 'value', 'take': 'value', 'care': 'value', 'things': 'value', 'on': 'value', 'behalf': 'value', 'The': 'value', 'hardware': 'value', 'current-day': 'value', 'essentially': 'value', 'built': 'value', 'continuously': 'value', 'ask': 'value', 'us': 'value', 'the': 'value', 'question': 'value', 'What': 'value', 'would': 'value', 'like': 'value', 'me': 'value', 'next': 'value', 'Our': 'value', 'fast': 'value', 'have': 'value', 'vasts': 'value', 'amounts': 'value', 'memory': 'value', 'could': 'value', 'be': 'value', 'helpful': 'value', 'if': 'value', 'we': 'value', 'only': 'value', 'knew': 'value', 'language': 'value', 'speak': 'value', 'explain': 'value', 'computer': 'value', 'it': 'value', 'If': 'value', 'this': 'value', 'tell': 'value', 'tasks': 'value', 'were': 'value', 'reptitive': 'value', 'Interestingly,': 'value', 'kinds': 'value', 'best': 'value', 'often': 'value', 'humans': 'value', 'find': 'value', 'boring': 'value', 'mind-numbing': 'value'}\n"
     ]
    }
   ],
   "source": [
    "try:\n",
    "    nombre_archivo = 'words.txt'\n",
    "    ruta = fr'Datos\\\\Python para todos\\\\' + f'{nombre_archivo}'\n",
    "    manejador_archivos = open(ruta)\n",
    "except:\n",
    "     print('El archivo no abre.')\n",
    "\n",
    "palabras = dict()\n",
    "\n",
    "for linea in manejador_archivos:\n",
    "    linea = linea.split()\n",
    "    for palabra in linea:\n",
    "        if palabra not in palabras:\n",
    "            palabras[palabra] = 'value'\n",
    "\n",
    "print(palabras)"
   ]
  },
  {
   "cell_type": "markdown",
   "id": "b05683d5",
   "metadata": {},
   "source": [
    "2. Escribir un programa que clasifica cada mensaje de correo dependiendo del día de la semana en que se recibió. Para hacer esto busca las líneas que comienzan con “From”, después busca por la tercer palabra y mantén un contador para cada uno de los días de la semana. Al final del programa imprime los contenidos de tu diccionario (el orden no importa).\n",
    "\n",
    "Línea de ejemplo:\n",
    "\n",
    "From stephen.marquard@uct.ac.za Sat Jan 5 09:14:16 2008\n",
    "\n",
    "Ejemplo de ejecución:\n",
    "\n",
    "python dow.py\n",
    "\n",
    "Ingresa un nombre de archivo: mbox-short.txt\n",
    "\n",
    "{'Fri': 20, 'Thu': 6, 'Sat': 1}"
   ]
  },
  {
   "cell_type": "code",
   "execution_count": 43,
   "id": "2ceec462",
   "metadata": {},
   "outputs": [
    {
     "name": "stdout",
     "output_type": "stream",
     "text": [
      "{'Sat': 1, 'Fri': 20, 'Thu': 6}\n"
     ]
    }
   ],
   "source": [
    "try:\n",
    "    nombre_archivo = 'mbox-short.txt'\n",
    "    ruta = fr'Datos\\\\Python para todos\\\\' + f'{nombre_archivo}'\n",
    "    manejador_archivos = open(ruta)\n",
    "\n",
    "except:\n",
    "    print('El archivo no abre')\n",
    "\n",
    "contar_dias = dict()\n",
    "\n",
    "for linea in manejador_archivos:\n",
    "    linea = linea.split()\n",
    "    if len(linea)>2 and linea[0] == 'From':\n",
    "        dia = linea[2]\n",
    "        contar_dias[dia] = contar_dias.get(dia,0)+1\n",
    "        \n",
    "print(contar_dias)"
   ]
  },
  {
   "cell_type": "markdown",
   "id": "43268a4b",
   "metadata": {},
   "source": [
    "3. Escribe un programa para leer a través de un historial de correos, construye un histograma utilizando un diccionario para contar cuántos mensajes han llegado de cada dirección de correo electrónico, e imprime el diccionario.\n",
    "\n",
    "Ingresa un nombre de archivo: mbox-short.txt\n",
    "\n",
    "{'gopal.ramasammycook@gmail.com': 1, 'louis@media.berkeley.edu': 3,\n",
    "\n",
    "'cwen@iupui.edu': 5, 'antranig@caret.cam.ac.uk': 1,\n",
    "\n",
    "'rjlowe@iupui.edu': 2, 'gsilver@umich.edu': 3,\n",
    "\n",
    "'david.horwitz@uct.ac.za': 4, 'wagnermr@iupui.edu': 1,\n",
    "\n",
    "'zqian@umich.edu': 4, 'stephen.marquard@uct.ac.za': 2,\n",
    "\n",
    "'ray@media.berkeley.edu': 1}"
   ]
  },
  {
   "cell_type": "code",
   "execution_count": 45,
   "id": "c66e5f5d",
   "metadata": {},
   "outputs": [
    {
     "name": "stdout",
     "output_type": "stream",
     "text": [
      "{'stephen.marquard@uct.ac.za': 2, 'louis@media.berkeley.edu': 3, 'zqian@umich.edu': 4, 'rjlowe@iupui.edu': 2, 'cwen@iupui.edu': 5, 'gsilver@umich.edu': 3, 'wagnermr@iupui.edu': 1, 'antranig@caret.cam.ac.uk': 1, 'gopal.ramasammycook@gmail.com': 1, 'david.horwitz@uct.ac.za': 4, 'ray@media.berkeley.edu': 1}\n"
     ]
    }
   ],
   "source": [
    "try:\n",
    "    nombre_archivo = 'mbox-short.txt'\n",
    "    ruta = fr'Datos\\\\Python para todos\\\\' + f'{nombre_archivo}'\n",
    "    manejador_archivos = open(ruta)\n",
    "\n",
    "except:\n",
    "    print('El archivo no abre')\n",
    "    \n",
    "contar_email = dict()\n",
    "\n",
    "for linea in manejador_archivos:\n",
    "    linea = linea.split()\n",
    "    if len(linea) > 3 and linea[0] == 'From':\n",
    "        mail = linea[1]\n",
    "        contar_email[mail] = contar_email.get(mail,0)+1\n",
    "        \n",
    "print(contar_email)"
   ]
  },
  {
   "cell_type": "markdown",
   "id": "e5b1e9ba",
   "metadata": {},
   "source": [
    "4. Agrega código al programa anterior para determinar quién tiene la mayoría de mensajes en el archivo. Después de que todos los datos hayan sido leídos y el diccionario haya sido creado, mira a través del diccionario utilizando un bucle máximo (ve Capítulo 5: Bucles máximos y mínimos) para encontrar quién tiene la mayoría de mensajes e imprimir cuántos mensajes tiene esa persona.\n",
    "\n",
    "Ingresa un nombre de archivo: mbox-short.txt\n",
    "\n",
    "cwen@iupui.edu 5\n",
    "Ingresa un nombre de archivo: mbox.txt\n",
    "\n",
    "zqian@umich.edu 195"
   ]
  },
  {
   "cell_type": "code",
   "execution_count": 46,
   "id": "1062e009",
   "metadata": {},
   "outputs": [
    {
     "name": "stdout",
     "output_type": "stream",
     "text": [
      "Ingrese el nombre del archivo:mbox-short.txt\n",
      "cwen@iupui.edu 5\n"
     ]
    }
   ],
   "source": [
    "def obtenerMaximo(contar_email):\n",
    "    contar_max = 0\n",
    "    email_max = ''\n",
    "    \n",
    "    for llave in contar_email:\n",
    "        if contar_email[llave] > contar_max or contar_max == 0:\n",
    "            contar_max = contar_email[llave]\n",
    "            email_max = llave\n",
    "            \n",
    "    print(email_max,contar_max)\n",
    "    \n",
    "try:\n",
    "    nombre_archivo = input('Ingrese el nombre del archivo:')\n",
    "    ruta = fr'Datos\\\\Python para todos\\\\' + f'{nombre_archivo}'\n",
    "    manejador_archivos = open(ruta)\n",
    "except:\n",
    "    print('El archivo no abre')\n",
    "    \n",
    "contar_email = dict()\n",
    "\n",
    "for linea in manejador_archivos:\n",
    "    linea = linea.split()\n",
    "    if len(linea) > 3 and linea[0] == 'From':\n",
    "        mail = linea[1]\n",
    "        contar_email[mail] = contar_email.get(mail,0)+1\n",
    "\n",
    "obtenerMaximo(contar_email)"
   ]
  },
  {
   "cell_type": "markdown",
   "id": "28440ea0",
   "metadata": {},
   "source": [
    "5. Este programa almacena el nombre del dominio (en vez de la dirección) desde donde fue enviado el mensaje en vez de quién envió el mensaje (es decir, la dirección de correo electrónica completa). Al final del programa, imprime el contenido de tu diccionario.\n",
    "\n",
    "python schoolcount.py\n",
    "\n",
    "Ingresa un nombre de archivo: mbox-short.txt\n",
    "\n",
    "{'media.berkeley.edu': 4, 'uct.ac.za': 6, 'umich.edu': 7,\n",
    "\n",
    "'gmail.com': 1, 'caret.cam.ac.uk': 1, 'iupui.edu': 8}"
   ]
  },
  {
   "cell_type": "code",
   "execution_count": 47,
   "id": "ddb82415",
   "metadata": {},
   "outputs": [
    {
     "name": "stdout",
     "output_type": "stream",
     "text": [
      "Ingrese el nombre del archivo:mbox-short.txt\n",
      "{'uct.ac.za': 6, 'media.berkeley.edu': 4, 'umich.edu': 7, 'iupui.edu': 8, 'caret.cam.ac.uk': 1, 'gmail.com': 1}\n"
     ]
    }
   ],
   "source": [
    "def obtenerDominio(mail):\n",
    "    return mail[mail.find('@')+1:]\n",
    "\n",
    "nombre_archivo = input('Ingrese el nombre del archivo:')\n",
    "ruta = fr'Datos\\\\Python para todos\\\\' + f'{nombre_archivo}'\n",
    "\n",
    "try:\n",
    "    manejador_archivos = open(ruta)\n",
    "except:\n",
    "    print('El archivo no abre')\n",
    "    \n",
    "contar_dominio = dict()\n",
    "\n",
    "for linea in manejador_archivos:\n",
    "    linea = linea.split()\n",
    "    if len(linea) > 3 and linea[0] == 'From':\n",
    "        dominio = obtenerDominio(linea[1])\n",
    "        contar_dominio[dominio] = contar_dominio.get(dominio,0)+1\n",
    "\n",
    "print(contar_dominio)"
   ]
  }
 ],
 "metadata": {
  "kernelspec": {
   "display_name": "Python 3 (ipykernel)",
   "language": "python",
   "name": "python3"
  },
  "language_info": {
   "codemirror_mode": {
    "name": "ipython",
    "version": 3
   },
   "file_extension": ".py",
   "mimetype": "text/x-python",
   "name": "python",
   "nbconvert_exporter": "python",
   "pygments_lexer": "ipython3",
   "version": "3.10.9"
  }
 },
 "nbformat": 4,
 "nbformat_minor": 5
}
