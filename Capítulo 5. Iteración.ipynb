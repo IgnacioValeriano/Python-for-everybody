{
 "cells": [
  {
   "cell_type": "markdown",
   "id": "195d5ce1",
   "metadata": {},
   "source": [
    "ÍNDICE:\n",
    "\n",
    "1. Actualización de variables\n",
    "2. La sentencia while\n",
    "3. Bucles infinitos\n",
    "4. \"Bucles infinitos\" y break\n",
    "5. Finalizar iteraciones con continue\n",
    "6. Bucles definidos usando for\n",
    "7. Diseños de bucles\n",
    "8. Depuración\n",
    "9. Glosario\n",
    "10. Ejercicios"
   ]
  },
  {
   "cell_type": "markdown",
   "id": "7c26a820",
   "metadata": {},
   "source": [
    "# 1. Actualización de variables"
   ]
  },
  {
   "cell_type": "code",
   "execution_count": 1,
   "id": "c0239b15",
   "metadata": {},
   "outputs": [
    {
     "name": "stdout",
     "output_type": "stream",
     "text": [
      "0\n",
      "1\n"
     ]
    }
   ],
   "source": [
    "x = 0\n",
    "print(x)\n",
    "x += 1\n",
    "print(x)"
   ]
  },
  {
   "cell_type": "markdown",
   "id": "88b78bac",
   "metadata": {},
   "source": [
    "# 2. La sentencia while"
   ]
  },
  {
   "cell_type": "code",
   "execution_count": 2,
   "id": "648a3c0d",
   "metadata": {},
   "outputs": [
    {
     "name": "stdout",
     "output_type": "stream",
     "text": [
      "5\n",
      "4\n",
      "3\n",
      "2\n",
      "1\n",
      "¡Despegue!\n"
     ]
    }
   ],
   "source": [
    "n = 5\n",
    "while n > 0:\n",
    "    print(n)\n",
    "    n -= 1\n",
    "print('¡Despegue!')"
   ]
  },
  {
   "cell_type": "markdown",
   "id": "3aed45bc",
   "metadata": {},
   "source": [
    "# 3. Bucles infinitos"
   ]
  },
  {
   "cell_type": "markdown",
   "id": "b36a198c",
   "metadata": {},
   "source": [
    "# 4. \"Bucles infinitos\" y break"
   ]
  },
  {
   "cell_type": "code",
   "execution_count": 3,
   "id": "c8acf850",
   "metadata": {},
   "outputs": [
    {
     "name": "stdout",
     "output_type": "stream",
     "text": [
      "> Hola\n",
      "Hola\n",
      "> mundo\n",
      "mundo\n",
      "> fin\n",
      "¡Terminado!\n"
     ]
    }
   ],
   "source": [
    "while True:\n",
    "    linea = input('> ')\n",
    "    if linea == 'fin':\n",
    "        break\n",
    "    print(linea)\n",
    "print('¡Terminado!')"
   ]
  },
  {
   "cell_type": "markdown",
   "id": "d9d2cf46",
   "metadata": {},
   "source": [
    "# 5. Finalizar iteraciones con continue"
   ]
  },
  {
   "cell_type": "code",
   "execution_count": 4,
   "id": "a40f2337",
   "metadata": {},
   "outputs": [
    {
     "name": "stdout",
     "output_type": "stream",
     "text": [
      "> Hola\n",
      "Hola\n",
      "> # Comentario\n",
      "> fin\n",
      "¡Terminado!\n"
     ]
    }
   ],
   "source": [
    "while True: \n",
    "    linea = input('> ')\n",
    "    if linea[0] == '#':\n",
    "        continue\n",
    "    if linea == 'fin':\n",
    "        break\n",
    "    print(linea)\n",
    "print('¡Terminado!')"
   ]
  },
  {
   "cell_type": "markdown",
   "id": "e8037636",
   "metadata": {},
   "source": [
    "# 6. Bucles definidos usando for"
   ]
  },
  {
   "cell_type": "code",
   "execution_count": 5,
   "id": "e78c6669",
   "metadata": {},
   "outputs": [
    {
     "name": "stdout",
     "output_type": "stream",
     "text": [
      "Feliz año nuevo: Joseph\n",
      "Feliz año nuevo: Glenn\n",
      "Feliz año nuevo: Sally\n",
      "¡Terminado!\n"
     ]
    }
   ],
   "source": [
    "amigos = ['Joseph','Glenn','Sally']\n",
    "\n",
    "for amigo in amigos:\n",
    "    print('Feliz año nuevo:', amigo)\n",
    "print('¡Terminado!')"
   ]
  },
  {
   "cell_type": "markdown",
   "id": "546840ca",
   "metadata": {},
   "source": [
    "# 7. Diseños de bucles"
   ]
  },
  {
   "cell_type": "markdown",
   "id": "6cc933ed",
   "metadata": {},
   "source": [
    "## 1. Bucles de recuento y suma"
   ]
  },
  {
   "cell_type": "code",
   "execution_count": 6,
   "id": "52559e03",
   "metadata": {},
   "outputs": [
    {
     "name": "stdout",
     "output_type": "stream",
     "text": [
      "Número de elementos: 6\n"
     ]
    }
   ],
   "source": [
    "contador = 0\n",
    "\n",
    "for valor in [3, 41, 12, 9, 74, 15]:\n",
    "    contador += 1\n",
    "\n",
    "print('Número de elementos:',contador)"
   ]
  },
  {
   "cell_type": "code",
   "execution_count": 7,
   "id": "d4cc6e7d",
   "metadata": {},
   "outputs": [
    {
     "name": "stdout",
     "output_type": "stream",
     "text": [
      "Total: 154\n"
     ]
    }
   ],
   "source": [
    "total = 0\n",
    "\n",
    "for valor in [3, 41, 12, 9, 74, 15]:\n",
    "    total += valor\n",
    "\n",
    "print('Total:',total)"
   ]
  },
  {
   "cell_type": "markdown",
   "id": "92b352dd",
   "metadata": {},
   "source": [
    "## 2. Bucles de máximos y mínimos"
   ]
  },
  {
   "cell_type": "code",
   "execution_count": 8,
   "id": "40130894",
   "metadata": {},
   "outputs": [
    {
     "name": "stdout",
     "output_type": "stream",
     "text": [
      "Antes: None\n",
      "Bucle: 3 3\n",
      "Bucle: 41 41\n",
      "Bucle: 12 41\n",
      "Bucle: 9 41\n",
      "Bucle: 74 74\n",
      "Bucle: 15 74\n",
      "Mayor: 74\n"
     ]
    }
   ],
   "source": [
    "mayor = None\n",
    "\n",
    "print('Antes:',mayor)\n",
    "\n",
    "for valor in [3, 41, 12, 9, 74, 15]:\n",
    "    if mayor is None or valor > mayor:\n",
    "        mayor = valor\n",
    "    print('Bucle:', valor, mayor)\n",
    "\n",
    "print('Mayor:', mayor)"
   ]
  },
  {
   "cell_type": "code",
   "execution_count": 9,
   "id": "38590008",
   "metadata": {},
   "outputs": [
    {
     "name": "stdout",
     "output_type": "stream",
     "text": [
      "Antes: None\n",
      "Bucle: 3 3\n",
      "Bucle: 41 3\n",
      "Bucle: 12 3\n",
      "Bucle: 9 3\n",
      "Bucle: 74 3\n",
      "Bucle: 15 3\n",
      "Menor: 3\n"
     ]
    }
   ],
   "source": [
    "menor = None\n",
    "\n",
    "print('Antes:',menor)\n",
    "\n",
    "for valor in [3, 41, 12, 9, 74, 15]:\n",
    "    if menor is None or valor < menor:\n",
    "        menor = valor\n",
    "    print('Bucle:', valor, menor)\n",
    "\n",
    "print('Menor:', menor)"
   ]
  },
  {
   "cell_type": "code",
   "execution_count": 10,
   "id": "5ad90b75",
   "metadata": {},
   "outputs": [],
   "source": [
    "def minimo(valores):\n",
    "    menor = None\n",
    "    for valor in valores:\n",
    "        if menor is None or valor < menor:\n",
    "            menor = valor\n",
    "    return menor"
   ]
  },
  {
   "cell_type": "code",
   "execution_count": 11,
   "id": "1897ad24",
   "metadata": {},
   "outputs": [
    {
     "name": "stdout",
     "output_type": "stream",
     "text": [
      "3\n",
      "3\n"
     ]
    }
   ],
   "source": [
    "print(minimo([3, 41, 12, 9, 74, 15]))\n",
    "print(min([3, 41, 12, 9, 74, 15]))"
   ]
  },
  {
   "cell_type": "markdown",
   "id": "59e434d4",
   "metadata": {},
   "source": [
    "# 8. Depuración"
   ]
  },
  {
   "cell_type": "markdown",
   "id": "025bd8ca",
   "metadata": {},
   "source": [
    "# 9. Glosario"
   ]
  },
  {
   "cell_type": "markdown",
   "id": "2558601e",
   "metadata": {},
   "source": [
    "Acumulador: una variable usada en un bucle para sumar o acumular un resultado.\n",
    "\n",
    "Bucle infinito: bucle en el cual la condición de terminación no se satisface nunca o para el cual no existe dicha condición de terminación.\n",
    "\n",
    "Contador: una variable usada en un bucle para contar el número de veces que algo sucede. Inicializamos el contador a cero y luego lo vamos incrementando cada vez que queramos que “cuente” algo.\n",
    "\n",
    "Decremento: una actualización que disminuye el valor de una variable.\n",
    "\n",
    "Inicializar: una asignación que da un valor inicial a una variable que va a ser después actualizada.\n",
    "\n",
    "Incremento: una actualización que aumenta el valor de una variable (a menudo en una unidad).\n",
    "\n",
    "Iteración: Ejecución repetida de una serie de sentencias usando bien una función que se llama a si misma o bien un bucle."
   ]
  },
  {
   "cell_type": "markdown",
   "id": "d9e85ea0",
   "metadata": {},
   "source": [
    "# 10. Ejercicios"
   ]
  },
  {
   "cell_type": "markdown",
   "id": "e6132c98",
   "metadata": {},
   "source": [
    "1. Escribe un programa que lea repetidamente números hasta que el usuario introduzca “fin”. Una vez se haya introducido “fin”, muestra por pantalla el total, la cantidad de números y la media de esos números. Si el usuario introduce cualquier otra cosa que no sea un número, detecta su fallo usando try y except, muestra un mensaje de error y pasa al número siguiente.\n",
    "\n",
    "Introduzca un número: 4\n",
    "\n",
    "Introduzca un número: 5\n",
    "\n",
    "Introduzca un número: dato erróneo\n",
    "\n",
    "Entrada inválida\n",
    "\n",
    "Introduzca un número: 7\n",
    "\n",
    "Introduzca un número: fin\n",
    "\n",
    "16 \n",
    "\n",
    "3 \n",
    "\n",
    "5.33333333333"
   ]
  },
  {
   "cell_type": "code",
   "execution_count": 12,
   "id": "c0537015",
   "metadata": {},
   "outputs": [
    {
     "name": "stdout",
     "output_type": "stream",
     "text": [
      "Ingrese un número:4\n",
      "Ingrese un número:5\n",
      "Ingrese un número:py\n",
      "Entrada inválida\n",
      "Ingrese un número:7\n",
      "Ingrese un número:fin\n",
      "Total: 16.0\n",
      "Contador: 3\n",
      "Promedio 5.333333333333333\n"
     ]
    }
   ],
   "source": [
    "total = 0\n",
    "contador = 0\n",
    "promedio = 0\n",
    "\n",
    "while True:\n",
    "    try:\n",
    "        numeros = input('Ingrese un número:')\n",
    "        if numeros == 'fin':\n",
    "            print('Total:',total)\n",
    "            print('Contador:',contador)\n",
    "            print('Promedio',promedio)\n",
    "            break\n",
    "        num = float(numeros)\n",
    "        total += num\n",
    "        contador += 1\n",
    "        promedio = total/contador\n",
    "    except:\n",
    "        print('Entrada inválida')"
   ]
  },
  {
   "cell_type": "markdown",
   "id": "7a183545",
   "metadata": {},
   "source": [
    "2. Escribe otro programa que pida una lista de números como la anterior y al final muestre por pantalla el máximo y mínimo de los números, en vez de la media."
   ]
  },
  {
   "cell_type": "code",
   "execution_count": 14,
   "id": "1a317e94",
   "metadata": {},
   "outputs": [
    {
     "name": "stdout",
     "output_type": "stream",
     "text": [
      "Ingrese un número:5\n",
      "Ingrese un número:5\n",
      "Ingrese un número:py\n",
      "Entrada inválida\n",
      "Ingrese un número:5\n",
      "Ingrese un número:2\n",
      "Ingrese un número:fin\n",
      "Total: 17.0\n",
      "Contador: 4\n",
      "Máximo: 5.0\n",
      "Menor: 2.0\n"
     ]
    }
   ],
   "source": [
    "total = 0\n",
    "contador = 0\n",
    "mayor = None\n",
    "menor = None\n",
    "\n",
    "while True:\n",
    "    try:\n",
    "        numeros = input('Ingrese un número:')\n",
    "        if numeros == 'fin':\n",
    "            print('Total:',total)\n",
    "            print('Contador:',contador)\n",
    "            print('Máximo:',mayor)\n",
    "            print('Menor:',menor)\n",
    "            break\n",
    "        num = float(numeros)\n",
    "        if mayor is None or mayor <= num:\n",
    "            mayor = num\n",
    "        elif menor is None or menor >= num:\n",
    "            menor = num\n",
    "        total += num\n",
    "        contador += 1\n",
    "    except:\n",
    "        print('Entrada inválida')\n",
    "        pass"
   ]
  }
 ],
 "metadata": {
  "kernelspec": {
   "display_name": "Python 3 (ipykernel)",
   "language": "python",
   "name": "python3"
  },
  "language_info": {
   "codemirror_mode": {
    "name": "ipython",
    "version": 3
   },
   "file_extension": ".py",
   "mimetype": "text/x-python",
   "name": "python",
   "nbconvert_exporter": "python",
   "pygments_lexer": "ipython3",
   "version": "3.10.9"
  }
 },
 "nbformat": 4,
 "nbformat_minor": 5
}
