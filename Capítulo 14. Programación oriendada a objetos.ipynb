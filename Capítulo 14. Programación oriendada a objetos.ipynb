{
 "cells": [
  {
   "cell_type": "markdown",
   "id": "ca693f58",
   "metadata": {},
   "source": [
    "ÍNDICE:\n",
    "\n",
    "1. Manejando programas más grandes\n",
    "2. Cómo empeza\n",
    "3. Usando objetos\n",
    "4. Comenzando con programas\n",
    "5. Subdividiendo un problema\n",
    "6. Nuestro primero objeto de Python\n",
    "7. Clases como tipos\n",
    "8. Ciclo de vida de un objeto\n",
    "9. Múltiples instancias\n",
    "10. Herencia\n",
    "11. Resumen\n",
    "12. Glosario"
   ]
  },
  {
   "cell_type": "code",
   "execution_count": 4,
   "id": "1dc2b002",
   "metadata": {},
   "outputs": [],
   "source": [
    "import urllib.request, urllib.parse, urllib.error\n",
    "from bs4 import BeautifulSoup\n",
    "import ssl"
   ]
  },
  {
   "cell_type": "markdown",
   "id": "457461af",
   "metadata": {},
   "source": [
    "# 1. Manejando programas más grandes"
   ]
  },
  {
   "cell_type": "markdown",
   "id": "42f034c4",
   "metadata": {},
   "source": [
    "# 2. Cómo empeza"
   ]
  },
  {
   "cell_type": "markdown",
   "id": "326b3cce",
   "metadata": {},
   "source": [
    "# 3. Usando objetos"
   ]
  },
  {
   "cell_type": "code",
   "execution_count": 1,
   "id": "7c05bbef",
   "metadata": {},
   "outputs": [
    {
     "name": "stdout",
     "output_type": "stream",
     "text": [
      "chuck\n",
      "chuck\n",
      "chuck\n"
     ]
    }
   ],
   "source": [
    "cosa = list()\n",
    "\n",
    "cosa.append('python')\n",
    "\n",
    "cosa.append('chuck')\n",
    "\n",
    "cosa.sort()\n",
    "\n",
    "print(cosa[0])\n",
    "print(cosa.__getitem__(0))\n",
    "print(list.__getitem__(cosa,0))"
   ]
  },
  {
   "cell_type": "code",
   "execution_count": 2,
   "id": "5c19a0ed",
   "metadata": {
    "scrolled": true
   },
   "outputs": [
    {
     "data": {
      "text/plain": [
       "['__add__',\n",
       " '__class__',\n",
       " '__class_getitem__',\n",
       " '__contains__',\n",
       " '__delattr__',\n",
       " '__delitem__',\n",
       " '__dir__',\n",
       " '__doc__',\n",
       " '__eq__',\n",
       " '__format__',\n",
       " '__ge__',\n",
       " '__getattribute__',\n",
       " '__getitem__',\n",
       " '__gt__',\n",
       " '__hash__',\n",
       " '__iadd__',\n",
       " '__imul__',\n",
       " '__init__',\n",
       " '__init_subclass__',\n",
       " '__iter__',\n",
       " '__le__',\n",
       " '__len__',\n",
       " '__lt__',\n",
       " '__mul__',\n",
       " '__ne__',\n",
       " '__new__',\n",
       " '__reduce__',\n",
       " '__reduce_ex__',\n",
       " '__repr__',\n",
       " '__reversed__',\n",
       " '__rmul__',\n",
       " '__setattr__',\n",
       " '__setitem__',\n",
       " '__sizeof__',\n",
       " '__str__',\n",
       " '__subclasshook__',\n",
       " 'append',\n",
       " 'clear',\n",
       " 'copy',\n",
       " 'count',\n",
       " 'extend',\n",
       " 'index',\n",
       " 'insert',\n",
       " 'pop',\n",
       " 'remove',\n",
       " 'reverse',\n",
       " 'sort']"
      ]
     },
     "execution_count": 2,
     "metadata": {},
     "output_type": "execute_result"
    }
   ],
   "source": [
    "cosa = list()\n",
    "dir(cosa)"
   ]
  },
  {
   "cell_type": "markdown",
   "id": "fe5c482f",
   "metadata": {},
   "source": [
    "# 4. Comenzando con programas"
   ]
  },
  {
   "cell_type": "code",
   "execution_count": 5,
   "id": "a6020354",
   "metadata": {},
   "outputs": [
    {
     "name": "stdout",
     "output_type": "stream",
     "text": [
      "Ingrese el número de piso US: 5\n",
      "Número de piso US es: 4\n"
     ]
    }
   ],
   "source": [
    "piso = input('Ingrese el número de piso US: ')\n",
    "cantidad = int(piso) - 1\n",
    "print('Número de piso US es:',cantidad)"
   ]
  },
  {
   "cell_type": "code",
   "execution_count": 6,
   "id": "4711d34e",
   "metadata": {},
   "outputs": [
    {
     "ename": "KeyboardInterrupt",
     "evalue": "Interrupted by user",
     "output_type": "error",
     "traceback": [
      "\u001b[1;31m---------------------------------------------------------------------------\u001b[0m",
      "\u001b[1;31mKeyboardInterrupt\u001b[0m                         Traceback (most recent call last)",
      "Cell \u001b[1;32mIn[6], line 6\u001b[0m\n\u001b[0;32m      3\u001b[0m ctx\u001b[38;5;241m.\u001b[39mcheck_hostname \u001b[38;5;241m=\u001b[39m \u001b[38;5;28;01mFalse\u001b[39;00m\n\u001b[0;32m      4\u001b[0m ctx\u001b[38;5;241m.\u001b[39mverify_mode \u001b[38;5;241m=\u001b[39m ssl\u001b[38;5;241m.\u001b[39mCERT_NONE\n\u001b[1;32m----> 6\u001b[0m url \u001b[38;5;241m=\u001b[39m \u001b[38;5;28;43minput\u001b[39;49m\u001b[43m(\u001b[49m\u001b[38;5;124;43m'\u001b[39;49m\u001b[38;5;124;43mIntroduzca - \u001b[39;49m\u001b[38;5;124;43m'\u001b[39;49m\u001b[43m)\u001b[49m\n\u001b[0;32m      7\u001b[0m html \u001b[38;5;241m=\u001b[39m urllib\u001b[38;5;241m.\u001b[39mrequest\u001b[38;5;241m.\u001b[39murlopen(url, context\u001b[38;5;241m=\u001b[39mctx)\u001b[38;5;241m.\u001b[39mread()\n\u001b[0;32m      8\u001b[0m sopa \u001b[38;5;241m=\u001b[39m BeautifulSoup(html,\u001b[38;5;124m'\u001b[39m\u001b[38;5;124mhtml.parser\u001b[39m\u001b[38;5;124m'\u001b[39m)\n",
      "File \u001b[1;32mC:\\ProgramData\\anaconda3\\lib\\site-packages\\ipykernel\\kernelbase.py:1175\u001b[0m, in \u001b[0;36mKernel.raw_input\u001b[1;34m(self, prompt)\u001b[0m\n\u001b[0;32m   1171\u001b[0m \u001b[38;5;28;01mif\u001b[39;00m \u001b[38;5;129;01mnot\u001b[39;00m \u001b[38;5;28mself\u001b[39m\u001b[38;5;241m.\u001b[39m_allow_stdin:\n\u001b[0;32m   1172\u001b[0m     \u001b[38;5;28;01mraise\u001b[39;00m StdinNotImplementedError(\n\u001b[0;32m   1173\u001b[0m         \u001b[38;5;124m\"\u001b[39m\u001b[38;5;124mraw_input was called, but this frontend does not support input requests.\u001b[39m\u001b[38;5;124m\"\u001b[39m\n\u001b[0;32m   1174\u001b[0m     )\n\u001b[1;32m-> 1175\u001b[0m \u001b[38;5;28;01mreturn\u001b[39;00m \u001b[38;5;28;43mself\u001b[39;49m\u001b[38;5;241;43m.\u001b[39;49m\u001b[43m_input_request\u001b[49m\u001b[43m(\u001b[49m\n\u001b[0;32m   1176\u001b[0m \u001b[43m    \u001b[49m\u001b[38;5;28;43mstr\u001b[39;49m\u001b[43m(\u001b[49m\u001b[43mprompt\u001b[49m\u001b[43m)\u001b[49m\u001b[43m,\u001b[49m\n\u001b[0;32m   1177\u001b[0m \u001b[43m    \u001b[49m\u001b[38;5;28;43mself\u001b[39;49m\u001b[38;5;241;43m.\u001b[39;49m\u001b[43m_parent_ident\u001b[49m\u001b[43m[\u001b[49m\u001b[38;5;124;43m\"\u001b[39;49m\u001b[38;5;124;43mshell\u001b[39;49m\u001b[38;5;124;43m\"\u001b[39;49m\u001b[43m]\u001b[49m\u001b[43m,\u001b[49m\n\u001b[0;32m   1178\u001b[0m \u001b[43m    \u001b[49m\u001b[38;5;28;43mself\u001b[39;49m\u001b[38;5;241;43m.\u001b[39;49m\u001b[43mget_parent\u001b[49m\u001b[43m(\u001b[49m\u001b[38;5;124;43m\"\u001b[39;49m\u001b[38;5;124;43mshell\u001b[39;49m\u001b[38;5;124;43m\"\u001b[39;49m\u001b[43m)\u001b[49m\u001b[43m,\u001b[49m\n\u001b[0;32m   1179\u001b[0m \u001b[43m    \u001b[49m\u001b[43mpassword\u001b[49m\u001b[38;5;241;43m=\u001b[39;49m\u001b[38;5;28;43;01mFalse\u001b[39;49;00m\u001b[43m,\u001b[49m\n\u001b[0;32m   1180\u001b[0m \u001b[43m\u001b[49m\u001b[43m)\u001b[49m\n",
      "File \u001b[1;32mC:\\ProgramData\\anaconda3\\lib\\site-packages\\ipykernel\\kernelbase.py:1217\u001b[0m, in \u001b[0;36mKernel._input_request\u001b[1;34m(self, prompt, ident, parent, password)\u001b[0m\n\u001b[0;32m   1214\u001b[0m             \u001b[38;5;28;01mbreak\u001b[39;00m\n\u001b[0;32m   1215\u001b[0m \u001b[38;5;28;01mexcept\u001b[39;00m \u001b[38;5;167;01mKeyboardInterrupt\u001b[39;00m:\n\u001b[0;32m   1216\u001b[0m     \u001b[38;5;66;03m# re-raise KeyboardInterrupt, to truncate traceback\u001b[39;00m\n\u001b[1;32m-> 1217\u001b[0m     \u001b[38;5;28;01mraise\u001b[39;00m \u001b[38;5;167;01mKeyboardInterrupt\u001b[39;00m(\u001b[38;5;124m\"\u001b[39m\u001b[38;5;124mInterrupted by user\u001b[39m\u001b[38;5;124m\"\u001b[39m) \u001b[38;5;28;01mfrom\u001b[39;00m \u001b[38;5;28mNone\u001b[39m\n\u001b[0;32m   1218\u001b[0m \u001b[38;5;28;01mexcept\u001b[39;00m \u001b[38;5;167;01mException\u001b[39;00m:\n\u001b[0;32m   1219\u001b[0m     \u001b[38;5;28mself\u001b[39m\u001b[38;5;241m.\u001b[39mlog\u001b[38;5;241m.\u001b[39mwarning(\u001b[38;5;124m\"\u001b[39m\u001b[38;5;124mInvalid Message:\u001b[39m\u001b[38;5;124m\"\u001b[39m, exc_info\u001b[38;5;241m=\u001b[39m\u001b[38;5;28;01mTrue\u001b[39;00m)\n",
      "\u001b[1;31mKeyboardInterrupt\u001b[0m: Interrupted by user"
     ]
    }
   ],
   "source": [
    "# Funciona, solo que hay que agregarle la página\n",
    "\n",
    "# Ignorar errores del certificado SSL\n",
    "ctx = ssl.create_default_context()\n",
    "ctx.check_hostname = False\n",
    "ctx.verify_mode = ssl.CERT_NONE\n",
    "\n",
    "url = input('Introduzca - ')\n",
    "html = urllib.request.urlopen(url, context=ctx).read()\n",
    "sopa = BeautifulSoup(html,'html.parser')\n",
    "\n",
    "# Recuperar todas las etiquetas de anclaje\n",
    "etiquetas = sopa('a')\n",
    "for etiqueta in etiquetas:\n",
    "    print(etiqueta.get('href',None))"
   ]
  },
  {
   "cell_type": "markdown",
   "id": "3076b41e",
   "metadata": {},
   "source": [
    "# 5. Subdividiendo un problema"
   ]
  },
  {
   "cell_type": "markdown",
   "id": "5b4fd37f",
   "metadata": {},
   "source": [
    "# 6. Nuestro primero objeto de Python"
   ]
  },
  {
   "cell_type": "code",
   "execution_count": 7,
   "id": "29f5ddfa",
   "metadata": {},
   "outputs": [
    {
     "name": "stdout",
     "output_type": "stream",
     "text": [
      "Hasta ahora 1\n",
      "Hasta ahora 2\n",
      "Hasta ahora 3\n",
      "Hasta ahora 4\n"
     ]
    }
   ],
   "source": [
    "class GrupoAnimal:\n",
    "    x = 0\n",
    "    \n",
    "    def grupo(self):\n",
    "        self.x += 1\n",
    "        print('Hasta ahora',self.x)\n",
    "        \n",
    "an = GrupoAnimal()\n",
    "an.grupo()\n",
    "an.grupo()\n",
    "an.grupo()\n",
    "GrupoAnimal.grupo(an)"
   ]
  },
  {
   "cell_type": "code",
   "execution_count": 8,
   "id": "13c80ff2",
   "metadata": {},
   "outputs": [
    {
     "ename": "NameError",
     "evalue": "name 'grupo' is not defined",
     "output_type": "error",
     "traceback": [
      "\u001b[1;31m---------------------------------------------------------------------------\u001b[0m",
      "\u001b[1;31mNameError\u001b[0m                                 Traceback (most recent call last)",
      "Cell \u001b[1;32mIn[8], line 1\u001b[0m\n\u001b[1;32m----> 1\u001b[0m \u001b[43mgrupo\u001b[49m(\u001b[38;5;241m3\u001b[39m)\n",
      "\u001b[1;31mNameError\u001b[0m: name 'grupo' is not defined"
     ]
    }
   ],
   "source": [
    "# Solo se define para la clase\n",
    "grupo(3)"
   ]
  },
  {
   "cell_type": "markdown",
   "id": "41c766be",
   "metadata": {},
   "source": [
    "# 7. Clases como tipos"
   ]
  },
  {
   "cell_type": "code",
   "execution_count": 13,
   "id": "0edfed61",
   "metadata": {},
   "outputs": [],
   "source": [
    "class GrupoAnimal:\n",
    "    x = 0\n",
    "    \n",
    "    def grupo(self):\n",
    "        self.x += 1\n",
    "        print('Hasta ahora',self.x)\n",
    "        \n",
    "an = GrupoAnimal()"
   ]
  },
  {
   "cell_type": "code",
   "execution_count": 12,
   "id": "58e876f1",
   "metadata": {},
   "outputs": [
    {
     "name": "stdout",
     "output_type": "stream",
     "text": [
      "Type <class '__main__.GrupoAnimal'>\n"
     ]
    }
   ],
   "source": [
    "print('Type', type(an))"
   ]
  },
  {
   "cell_type": "code",
   "execution_count": 11,
   "id": "3f94c9b4",
   "metadata": {},
   "outputs": [
    {
     "name": "stdout",
     "output_type": "stream",
     "text": [
      "Dir ['__class__', '__delattr__', '__dict__', '__dir__', '__doc__', '__eq__', '__format__', '__ge__', '__getattribute__', '__gt__', '__hash__', '__init__', '__init_subclass__', '__le__', '__lt__', '__module__', '__ne__', '__new__', '__reduce__', '__reduce_ex__', '__repr__', '__setattr__', '__sizeof__', '__str__', '__subclasshook__', '__weakref__', 'grupo', 'x']\n"
     ]
    }
   ],
   "source": [
    "print('Dir', dir(an))"
   ]
  },
  {
   "cell_type": "code",
   "execution_count": 10,
   "id": "2dbc2d5b",
   "metadata": {},
   "outputs": [
    {
     "name": "stdout",
     "output_type": "stream",
     "text": [
      "Type <class 'int'>\n"
     ]
    }
   ],
   "source": [
    "print('Type', type(an.x))"
   ]
  },
  {
   "cell_type": "code",
   "execution_count": 9,
   "id": "7ff030ef",
   "metadata": {},
   "outputs": [
    {
     "name": "stdout",
     "output_type": "stream",
     "text": [
      "Type <class 'method'>\n"
     ]
    }
   ],
   "source": [
    "print('Type', type(an.grupo))"
   ]
  },
  {
   "cell_type": "markdown",
   "id": "3af4474d",
   "metadata": {},
   "source": [
    "# 8. Ciclo de vida de un objeto"
   ]
  },
  {
   "cell_type": "code",
   "execution_count": 16,
   "id": "d122d25e",
   "metadata": {},
   "outputs": [
    {
     "name": "stdout",
     "output_type": "stream",
     "text": [
      "Estoy construido\n",
      "Estoy destruido 3\n",
      "Hasta ahora 1\n",
      "Hasta ahora 2\n",
      "Hasta ahora 3\n",
      "Estoy destruido 3\n",
      "an contiene 42\n"
     ]
    }
   ],
   "source": [
    "class GrupoAnimal:\n",
    "    x = 0\n",
    "    \n",
    "    def __init__(self):\n",
    "        print('Estoy construido')\n",
    "        \n",
    "    \n",
    "    def grupo(self):\n",
    "        self.x += 1\n",
    "        print('Hasta ahora',self.x)\n",
    "        \n",
    "    def __del__(self):\n",
    "        print('Estoy destruido',self.x)\n",
    "        \n",
    "an = GrupoAnimal()\n",
    "an.grupo()\n",
    "an.grupo()\n",
    "an.grupo()\n",
    "an = 42\n",
    "print('an contiene',an)"
   ]
  },
  {
   "cell_type": "markdown",
   "id": "d9de186a",
   "metadata": {},
   "source": [
    "# 9. Múltiples instancias"
   ]
  },
  {
   "cell_type": "code",
   "execution_count": 17,
   "id": "f184e151",
   "metadata": {},
   "outputs": [
    {
     "name": "stdout",
     "output_type": "stream",
     "text": [
      "Sally construido\n",
      "Jim construido\n",
      "Sally recuento grupal 1\n",
      "Jim recuento grupal 1\n",
      "Sally recuento grupal 2\n"
     ]
    }
   ],
   "source": [
    "class GrupoAnimal:\n",
    "    x = 0\n",
    "    \n",
    "    nombre = ''\n",
    "    \n",
    "    def __init__(self,nom):\n",
    "        self.nombre = nom\n",
    "        print(self.nombre,'construido')\n",
    "        \n",
    "    def grupo(self):\n",
    "        self.x += 1\n",
    "        print(self.nombre,'recuento grupal',self.x)\n",
    "        \n",
    "s = GrupoAnimal('Sally')\n",
    "j = GrupoAnimal('Jim')\n",
    "\n",
    "s.grupo()\n",
    "j.grupo()\n",
    "s.grupo()"
   ]
  },
  {
   "cell_type": "markdown",
   "id": "f4fd1cc5",
   "metadata": {},
   "source": [
    "# 10. Herencia"
   ]
  },
  {
   "cell_type": "code",
   "execution_count": null,
   "id": "3abf037e",
   "metadata": {},
   "outputs": [],
   "source": [
    "# El código funciona si tengo los demás ejemplos en \n",
    "# archivos distintos\n",
    "from party import GrupoAnimal\n",
    "\n",
    "class GrilloFan(GrupoAnimal):\n",
    "    puntos = 0\n",
    "    def seis(self):\n",
    "        self.puntos += 6\n",
    "        self.grupo()\n",
    "        print(self.nombre,\"puntos\",self.puntos)\n",
    "\n",
    "s = GrupoAnimal(\"Sally\")\n",
    "s.grupo()\n",
    "j = GrilloFan(\"Jim\")\n",
    "j.grupo()\n",
    "j.seis()\n",
    "print(dir(j))"
   ]
  },
  {
   "cell_type": "markdown",
   "id": "1d2ff757",
   "metadata": {},
   "source": [
    "# 11. Resumen"
   ]
  },
  {
   "cell_type": "code",
   "execution_count": 19,
   "id": "7fe6f3f3",
   "metadata": {},
   "outputs": [
    {
     "name": "stdout",
     "output_type": "stream",
     "text": [
      "chuck\n",
      "chuck\n",
      "chuck\n"
     ]
    }
   ],
   "source": [
    "cosa = list()\n",
    "cosa.append('python')\n",
    "cosa.append('chuck')\n",
    "\n",
    "cosa.sort()\n",
    "print(cosa[0])\n",
    "print(cosa.__getitem__(0))\n",
    "print(list.__getitem__(cosa,0))"
   ]
  },
  {
   "cell_type": "markdown",
   "id": "6f8b4c16",
   "metadata": {},
   "source": [
    "# 12. Glosario"
   ]
  },
  {
   "cell_type": "markdown",
   "id": "df0b1127",
   "metadata": {},
   "source": [
    "Atributo: una variable que es parte de una clase. \n",
    "\n",
    "Clase: una plantilla que puede usarse para construir un objeto. Define los atributos y métodos que formarán a dicho objeto.\n",
    "\n",
    "Clase hija: una nueva clase creada cuando una clase padre es extendida. La clase hija hereda todos los atributos y métodos de la clase padre.\n",
    "\n",
    "Clase padre: la clase que está siendo extendida para crear una nueva clase hija. La clase padre aporta todos sus métodos y atributos a la nueva clase hija.\n",
    "\n",
    "Constructor: un método opcional con un nombre especial (__init__) que es llamado al momento en que se utiliza una clase para construir un objeto. Normalmente se utiliza para determinar los valores iniciales del objeto.\n",
    "\n",
    "Destructor: un método opcional con un nombre especial (__del__) que es llamado justo un momento antes de que un objeto sea destruido. Los destructores rara vez son utilizados.\n",
    "\n",
    "Herencia: cuando creamos una nueva clase (hija) extendiendo una clase existente (padre). La clase hija tiene todos los atributos y métodos de la clase padre, más los atributos y métodos adicionales definidos por la clase hija.\n",
    "\n",
    "Método: una función contenida dentro de una clase y de los objetos construidos desde esa clase. Algunos patrones de diseño orientados a objetos describen este concepto como ‘mensaje’ en lugar de ‘método’.\n",
    "\n",
    "Objeto: una instancia construida de una clase. Un objeto contiene todos los atributos y métodos definidos por la clase. En algunos casos de documentación orientada a objetos se utiliza el término ‘instancia’ de manera intercambiable con ‘objeto’."
   ]
  }
 ],
 "metadata": {
  "kernelspec": {
   "display_name": "Python 3 (ipykernel)",
   "language": "python",
   "name": "python3"
  },
  "language_info": {
   "codemirror_mode": {
    "name": "ipython",
    "version": 3
   },
   "file_extension": ".py",
   "mimetype": "text/x-python",
   "name": "python",
   "nbconvert_exporter": "python",
   "pygments_lexer": "ipython3",
   "version": "3.10.9"
  }
 },
 "nbformat": 4,
 "nbformat_minor": 5
}
