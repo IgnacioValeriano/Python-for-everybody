{
 "cells": [
  {
   "cell_type": "markdown",
   "id": "2fe6e79f",
   "metadata": {},
   "source": [
    "ÍNDICE:\n",
    "\n",
    "1. Protocolo de transporte de hipertexto-HTTP\n",
    "2. El navegador web más sencillo del mundo\n",
    "3. Recepción de una imagen mediante HTTP\n",
    "4. Recepción de páginas web con urllib\n",
    "5. Leyendo archivos binarios con urllib\n",
    "6. Análisis de HTML y rascado de la web\n",
    "7. Análisis de HTML mediante expresiones regulares\n",
    "8. Análisis de HTML mediante BeautifulSoup\n",
    "9. Sección extra para usuarios de Unix/Linux\n",
    "10. Glosario\n",
    "11. Ejercicios"
   ]
  },
  {
   "cell_type": "code",
   "execution_count": 2,
   "id": "7270c604",
   "metadata": {},
   "outputs": [],
   "source": [
    "import socket\n",
    "import time\n",
    "import urllib.request, urllib.parse, urllib.error\n",
    "from urllib.request import urlopen\n",
    "import re\n",
    "import ssl\n",
    "from bs4 import BeautifulSoup\n",
    "import os"
   ]
  },
  {
   "cell_type": "markdown",
   "id": "377960d1",
   "metadata": {},
   "source": [
    "# 1. Protocolo de transporte de hipertexto-HTTP"
   ]
  },
  {
   "cell_type": "markdown",
   "id": "6bba49d8",
   "metadata": {},
   "source": [
    "# 2. El navegador web más sencillo del mundo"
   ]
  },
  {
   "cell_type": "code",
   "execution_count": 2,
   "id": "5908e96f",
   "metadata": {},
   "outputs": [
    {
     "name": "stdout",
     "output_type": "stream",
     "text": [
      "HTTP/1.1 200 OK\r\n",
      "Date: Sun, 10 Dec 2023 00:42:31 GMT\r\n",
      "Server: Apache/2.4.18 (Ubuntu)\r\n",
      "Last-Modified: Sat, 13 May 2017 11:22:22 GMT\r\n",
      "ETag: \"a7-54f6609245537\"\r\n",
      "Accept-Ranges: bytes\r\n",
      "Content-Length: 167\r\n",
      "Cache-Control: max-age=0, no-cache, no-store, must-revalidate\r\n",
      "Pragma: no-cache\r\n",
      "Expires: Wed, 11 Jan 1984 05:00:00 GMT\r\n",
      "Connection: close\r\n",
      "Content-Type: text/plain\r\n",
      "\r\n",
      "But soft what light through yonder window breaks\n",
      "It is the east and Juliet is the sun\n",
      "Arise fair sun and kill the envious moon\n",
      "Who is already sick and pale with grief\n"
     ]
    }
   ],
   "source": [
    "misock = socket.socket(socket.AF_INET, socket.SOCK_STREAM)\n",
    "misock.connect(('data.pr4e.org',80))\n",
    "\n",
    "cmd = 'GET http://data.pr4e.org/romeo.txt HTTP/1.0\\r\\n\\r\\n'.encode()\n",
    "misock.send(cmd)\n",
    "\n",
    "while True:\n",
    "    datos = misock.recv(512)\n",
    "    if len(datos) < 1:\n",
    "        break\n",
    "    print(datos.decode(),end='')\n",
    "\n",
    "misock.close()"
   ]
  },
  {
   "cell_type": "code",
   "execution_count": 3,
   "id": "9b372447",
   "metadata": {},
   "outputs": [
    {
     "data": {
      "text/plain": [
       "b'Hola mundo'"
      ]
     },
     "execution_count": 3,
     "metadata": {},
     "output_type": "execute_result"
    }
   ],
   "source": [
    "b'Hola mundo'"
   ]
  },
  {
   "cell_type": "code",
   "execution_count": 4,
   "id": "96b7ba12",
   "metadata": {},
   "outputs": [
    {
     "data": {
      "text/plain": [
       "b'Hola mundo'"
      ]
     },
     "execution_count": 4,
     "metadata": {},
     "output_type": "execute_result"
    }
   ],
   "source": [
    "'Hola mundo'.encode()"
   ]
  },
  {
   "cell_type": "markdown",
   "id": "cde74dc7",
   "metadata": {},
   "source": [
    "# 3. Recepción de una imagen mediante HTTP"
   ]
  },
  {
   "cell_type": "code",
   "execution_count": 6,
   "id": "7256e68f",
   "metadata": {
    "scrolled": true
   },
   "outputs": [
    {
     "name": "stdout",
     "output_type": "stream",
     "text": [
      "5120 5120\n",
      "5120 10240\n",
      "5120 15360\n",
      "5120 20480\n",
      "5120 25600\n",
      "5120 30720\n",
      "5120 35840\n",
      "5120 40960\n",
      "5120 46080\n",
      "5120 51200\n",
      "5120 56320\n",
      "5120 61440\n",
      "5120 66560\n",
      "5120 71680\n",
      "5120 76800\n",
      "5120 81920\n",
      "5120 87040\n",
      "5120 92160\n",
      "5120 97280\n",
      "5120 102400\n",
      "5120 107520\n",
      "5120 112640\n",
      "5120 117760\n",
      "5120 122880\n",
      "5120 128000\n",
      "5120 133120\n",
      "5120 138240\n",
      "5120 143360\n",
      "5120 148480\n",
      "5120 153600\n",
      "5120 158720\n",
      "5120 163840\n",
      "5120 168960\n",
      "5120 174080\n",
      "5120 179200\n",
      "5120 184320\n",
      "5120 189440\n",
      "5120 194560\n",
      "5120 199680\n",
      "5120 204800\n",
      "5120 209920\n",
      "5120 215040\n",
      "5120 220160\n",
      "5120 225280\n",
      "5120 230400\n",
      "208 230608\n",
      "Longitud del encabezado 394\n",
      "HTTP/1.1 200 OK\n",
      "Date: Sun, 10 Dec 2023 00:46:06 GMT\n",
      "Server: Apache/2.4.18 (Ubuntu)\n",
      "Last-Modified: Mon, 15 May 2017 12:27:40 GMT\n",
      "ETag: \"38342-54f8f2e5b6277\"\n",
      "Accept-Ranges: bytes\n",
      "Content-Length: 230210\n",
      "Vary: Accept-Encoding\n",
      "Cache-Control: max-age=0, no-cache, no-store, must-revalidate\n",
      "Pragma: no-cache\n",
      "Expires: Wed, 11 Jan 1984 05:00:00 GMT\n",
      "Connection: close\n",
      "Content-Type: image/jpeg\n"
     ]
    }
   ],
   "source": [
    "SERVIDOR = 'data.pr4e.org'\n",
    "PUERTO = 80\n",
    "\n",
    "misock = socket.socket(socket.AF_INET, socket.SOCK_STREAM)\n",
    "misock.connect((SERVIDOR, PUERTO))\n",
    "misock.sendall(b'GET http://data.pr4e.org/cover3.jpg HTTP/1.0\\r\\n\\r\\n')\n",
    "\n",
    "contador = 0\n",
    "imagen = b\"\"\n",
    "\n",
    "while True:\n",
    "    datos = misock.recv(5120)\n",
    "    if len(datos) < 1:\n",
    "        break\n",
    "    time.sleep(0.25)\n",
    "    contador += len(datos)\n",
    "    print(len(datos),contador)\n",
    "    imagen += datos\n",
    "    \n",
    "misock.close()\n",
    "\n",
    "# Búsqueda del final de la cabecera (2 CRLF)\n",
    "pos = imagen.find(b\"\\r\\n\\r\\n\")\n",
    "print('Longitud del encabezado',pos)\n",
    "print(imagen[:pos].decode())\n",
    "\n",
    "# Ignorar la cabecera y guardar los datos de la imagen\n",
    "imagen = imagen[pos+4:]\n",
    "\n",
    "manejador_archivos = open(\"cosa.jpg\",\"wb\")\n",
    "\n",
    "manejador_archivos.write(imagen)\n",
    "\n",
    "manejador_archivos.close()"
   ]
  },
  {
   "cell_type": "markdown",
   "id": "b55d93ca",
   "metadata": {},
   "source": [
    "# 4. Recepción de páginas web con urllib"
   ]
  },
  {
   "cell_type": "code",
   "execution_count": 8,
   "id": "606cd10e",
   "metadata": {},
   "outputs": [
    {
     "name": "stdout",
     "output_type": "stream",
     "text": [
      "But soft what light through yonder window breaks\n",
      "It is the east and Juliet is the sun\n",
      "Arise fair sun and kill the envious moon\n",
      "Who is already sick and pale with grief\n"
     ]
    }
   ],
   "source": [
    "manejador_archivos = urllib.request.urlopen('http://data.pr4e.org/romeo.txt')\n",
    "for linea in manejador_archivos:\n",
    "    print(linea.decode().strip())"
   ]
  },
  {
   "cell_type": "code",
   "execution_count": 10,
   "id": "31fa4512",
   "metadata": {},
   "outputs": [
    {
     "name": "stdout",
     "output_type": "stream",
     "text": [
      "{'But': 1, 'soft': 1, 'what': 1, 'light': 1, 'through': 1, 'yonder': 1, 'window': 1, 'breaks': 1, 'It': 1, 'is': 3, 'the': 3, 'east': 1, 'and': 3, 'Juliet': 1, 'sun': 2, 'Arise': 1, 'fair': 1, 'kill': 1, 'envious': 1, 'moon': 1, 'Who': 1, 'already': 1, 'sick': 1, 'pale': 1, 'with': 1, 'grief': 1}\n"
     ]
    }
   ],
   "source": [
    "manejador_archivos = urllib.request.urlopen('http://data.pr4e.org/romeo.txt')\n",
    "\n",
    "contadores = dict()\n",
    "\n",
    "for linea in manejador_archivos:\n",
    "    palabras = linea.decode().split()\n",
    "    for palabra in palabras:\n",
    "        contadores[palabra] = contadores.get(palabra, 0) + 1\n",
    "\n",
    "print(contadores)"
   ]
  },
  {
   "cell_type": "markdown",
   "id": "0b82c442",
   "metadata": {},
   "source": [
    "# 5. Leyendo archivos binarios con urllib"
   ]
  },
  {
   "cell_type": "code",
   "execution_count": 11,
   "id": "82ce71a4",
   "metadata": {},
   "outputs": [],
   "source": [
    "img = urllib.request.urlopen('http://data.pr4e.org/cover3.jpg').read()\n",
    "\n",
    "manejador_archivos = open('portada.jpg','wb')\n",
    "manejador_archivos.write(img)\n",
    "manejador_archivos.close()"
   ]
  },
  {
   "cell_type": "code",
   "execution_count": 12,
   "id": "c356820d",
   "metadata": {},
   "outputs": [
    {
     "name": "stdout",
     "output_type": "stream",
     "text": [
      "230210 caracteres copiados.\n"
     ]
    }
   ],
   "source": [
    "img = urllib.request.urlopen('http://data.pr4e.org/cover3.jpg')\n",
    "\n",
    "manejador_archivos = open('portada.jpg','wb')\n",
    "tamano = 0\n",
    "while True:\n",
    "    info = img.read(100000)\n",
    "    if len(info) < 1:\n",
    "        break\n",
    "    tamano += len(info)\n",
    "    manejador_archivos.write(info)\n",
    "    \n",
    "print(tamano, 'caracteres copiados.')\n",
    "manejador_archivos.close()"
   ]
  },
  {
   "cell_type": "markdown",
   "id": "cdd6d4f2",
   "metadata": {},
   "source": [
    "# 6. Análisis de HTML y rascado de la web"
   ]
  },
  {
   "cell_type": "markdown",
   "id": "466b56e1",
   "metadata": {},
   "source": [
    "# 7. Análisis de HTML mediante expresiones regulares"
   ]
  },
  {
   "cell_type": "code",
   "execution_count": 14,
   "id": "bba11ad6",
   "metadata": {
    "scrolled": true
   },
   "outputs": [
    {
     "name": "stdout",
     "output_type": "stream",
     "text": [
      "Introduzca - https://docs.python.org\n",
      "https://docs.python.org/3/index.html\n",
      "https://www.python.org/\n",
      "https://docs.python.org/3.13/\n",
      "https://docs.python.org/3.12/\n",
      "https://docs.python.org/3.11/\n",
      "https://docs.python.org/3.10/\n",
      "https://docs.python.org/3.9/\n",
      "https://docs.python.org/3.8/\n",
      "https://docs.python.org/3.7/\n",
      "https://docs.python.org/3.6/\n",
      "https://docs.python.org/3.5/\n",
      "https://docs.python.org/3.4/\n",
      "https://docs.python.org/3.3/\n",
      "https://docs.python.org/3.2/\n",
      "https://docs.python.org/3.1/\n",
      "https://docs.python.org/3.0/\n",
      "https://docs.python.org/2.7/\n",
      "https://docs.python.org/2.6/\n",
      "https://www.python.org/doc/versions/\n",
      "https://peps.python.org\n",
      "https://wiki.python.org/moin/BeginnersGuide\n",
      "https://wiki.python.org/moin/PythonBooks\n",
      "https://www.python.org/doc/av/\n",
      "https://devguide.python.org/\n",
      "https://www.python.org/\n",
      "https://devguide.python.org/docquality/#helping-with-documentation\n",
      "https://docs.python.org/3.13/\n",
      "https://docs.python.org/3.12/\n",
      "https://docs.python.org/3.11/\n",
      "https://docs.python.org/3.10/\n",
      "https://docs.python.org/3.9/\n",
      "https://docs.python.org/3.8/\n",
      "https://docs.python.org/3.7/\n",
      "https://docs.python.org/3.6/\n",
      "https://docs.python.org/3.5/\n",
      "https://docs.python.org/3.4/\n",
      "https://docs.python.org/3.3/\n",
      "https://docs.python.org/3.2/\n",
      "https://docs.python.org/3.1/\n",
      "https://docs.python.org/3.0/\n",
      "https://docs.python.org/2.7/\n",
      "https://docs.python.org/2.6/\n",
      "https://www.python.org/doc/versions/\n",
      "https://peps.python.org\n",
      "https://wiki.python.org/moin/BeginnersGuide\n",
      "https://wiki.python.org/moin/PythonBooks\n",
      "https://www.python.org/doc/av/\n",
      "https://devguide.python.org/\n",
      "https://www.python.org/\n",
      "https://www.python.org/psf/donations/\n",
      "https://www.sphinx-doc.org/\n"
     ]
    }
   ],
   "source": [
    "# Ignorar errores de certificado SSL\n",
    "\n",
    "ctx = ssl.create_default_context()\n",
    "ctx.check_hostname = False\n",
    "ctx.verify_mode = ssl.CERT_NONE\n",
    "\n",
    "url = input('Introduzca - ')\n",
    "html = urllib.request.urlopen(url).read()\n",
    "enlaces = re.findall(b'href=\"(http[s]?://.*?)\"', html)\n",
    "\n",
    "for enlace in enlaces:\n",
    "    print(enlace.decode())"
   ]
  },
  {
   "cell_type": "markdown",
   "id": "4a7208bb",
   "metadata": {},
   "source": [
    "# 8. Análisis de HTML mediante BeautifulSoup"
   ]
  },
  {
   "cell_type": "code",
   "execution_count": 16,
   "id": "b1f76878",
   "metadata": {
    "scrolled": true
   },
   "outputs": [
    {
     "name": "stdout",
     "output_type": "stream",
     "text": [
      "Introduzca - https://docs.python.org\n",
      "https://www.python.org/\n",
      "download.html\n",
      "https://docs.python.org/3.13/\n",
      "https://docs.python.org/3.12/\n",
      "https://docs.python.org/3.11/\n",
      "https://docs.python.org/3.10/\n",
      "https://docs.python.org/3.9/\n",
      "https://docs.python.org/3.8/\n",
      "https://docs.python.org/3.7/\n",
      "https://docs.python.org/3.6/\n",
      "https://docs.python.org/3.5/\n",
      "https://docs.python.org/3.4/\n",
      "https://docs.python.org/3.3/\n",
      "https://docs.python.org/3.2/\n",
      "https://docs.python.org/3.1/\n",
      "https://docs.python.org/3.0/\n",
      "https://docs.python.org/2.7/\n",
      "https://docs.python.org/2.6/\n",
      "https://www.python.org/doc/versions/\n",
      "https://peps.python.org\n",
      "https://wiki.python.org/moin/BeginnersGuide\n",
      "https://wiki.python.org/moin/PythonBooks\n",
      "https://www.python.org/doc/av/\n",
      "https://devguide.python.org/\n",
      "genindex.html\n",
      "py-modindex.html\n",
      "https://www.python.org/\n",
      "#\n",
      "\n",
      "whatsnew/3.12.html\n",
      "whatsnew/index.html\n",
      "tutorial/index.html\n",
      "library/index.html\n",
      "reference/index.html\n",
      "using/index.html\n",
      "howto/index.html\n",
      "installing/index.html\n",
      "distributing/index.html\n",
      "extending/index.html\n",
      "c-api/index.html\n",
      "faq/index.html\n",
      "py-modindex.html\n",
      "genindex.html\n",
      "glossary.html\n",
      "search.html\n",
      "contents.html\n",
      "bugs.html\n",
      "https://devguide.python.org/docquality/#helping-with-documentation\n",
      "about.html\n",
      "license.html\n",
      "copyright.html\n",
      "download.html\n",
      "download.html\n",
      "https://docs.python.org/3.13/\n",
      "https://docs.python.org/3.12/\n",
      "https://docs.python.org/3.11/\n",
      "https://docs.python.org/3.10/\n",
      "https://docs.python.org/3.9/\n",
      "https://docs.python.org/3.8/\n",
      "https://docs.python.org/3.7/\n",
      "https://docs.python.org/3.6/\n",
      "https://docs.python.org/3.5/\n",
      "https://docs.python.org/3.4/\n",
      "https://docs.python.org/3.3/\n",
      "https://docs.python.org/3.2/\n",
      "https://docs.python.org/3.1/\n",
      "https://docs.python.org/3.0/\n",
      "https://docs.python.org/2.7/\n",
      "https://docs.python.org/2.6/\n",
      "https://www.python.org/doc/versions/\n",
      "https://peps.python.org\n",
      "https://wiki.python.org/moin/BeginnersGuide\n",
      "https://wiki.python.org/moin/PythonBooks\n",
      "https://www.python.org/doc/av/\n",
      "https://devguide.python.org/\n",
      "genindex.html\n",
      "py-modindex.html\n",
      "https://www.python.org/\n",
      "#\n",
      "\n",
      "copyright.html\n",
      "/license.html\n",
      "https://www.python.org/psf/donations/\n",
      "/bugs.html\n",
      "https://www.sphinx-doc.org/\n"
     ]
    }
   ],
   "source": [
    "# Ignorar errores de certificado SSL\n",
    "ctx = ssl.create_default_context()\n",
    "ctx.check_hostname = False\n",
    "ctx.verify_mode = ssl.CERT_NONE\n",
    "\n",
    "url = input('Introduzca - ')\n",
    "html = urllib.request.urlopen(url, context=ctx).read()\n",
    "sopa = BeautifulSoup(html, 'html.parser')\n",
    "\n",
    "# Recuperar todas las etiquetas de anclaje\n",
    "etiquetas = sopa('a')\n",
    "for etiqueta in etiquetas:\n",
    "    print(etiqueta.get('href', None))"
   ]
  },
  {
   "cell_type": "code",
   "execution_count": 18,
   "id": "9383eec6",
   "metadata": {},
   "outputs": [
    {
     "name": "stdout",
     "output_type": "stream",
     "text": [
      "Introduzca - http://www.dr-chuck.com/page1.html\n",
      "ETIQUETA: <a href=\"http://www.dr-chuck.com/page2.htm\">\n",
      "Second Page</a>\n",
      "URL: http://www.dr-chuck.com/page2.htm\n",
      "Contenido: \n",
      "Second Page\n",
      "Atributos: {'href': 'http://www.dr-chuck.com/page2.htm'}\n"
     ]
    }
   ],
   "source": [
    "# Ignorar errores de certificado SSL\n",
    "ctx = ssl.create_default_context()\n",
    "ctx.check_hostname = False\n",
    "ctx.verify_mode = ssl.CERT_NONE\n",
    "\n",
    "url = input('Introduzca - ')\n",
    "html = urlopen(url, context=ctx).read()\n",
    "sopa = BeautifulSoup(html, \"html.parser\")\n",
    "\n",
    "# Obtener todas las etiquetas de anclaje\n",
    "etiquetas = sopa('a')\n",
    "for etiqueta in etiquetas:\n",
    "    print('ETIQUETA:', etiqueta)\n",
    "    print('URL:', etiqueta.get('href',None))\n",
    "    print('Contenido:', etiqueta.contents[0])\n",
    "    print('Atributos:', etiqueta.attrs)"
   ]
  },
  {
   "cell_type": "markdown",
   "id": "269d1ccb",
   "metadata": {},
   "source": [
    "# 9. Sección extra para usuarios de Unix/Linux"
   ]
  },
  {
   "cell_type": "code",
   "execution_count": 21,
   "id": "ce2f88fb",
   "metadata": {},
   "outputs": [
    {
     "name": "stdout",
     "output_type": "stream",
     "text": [
      "Ingresa una URL como http://data.pr4e.org/cover3.jpg\n",
      "http://www.dr-chuck.com/page1.html\n",
      "¿Remplazar page1.html (S/n)?n\n",
      "Datos no copiados\n",
      "Reemplazando page1.html\n",
      "131 caracteres copiados en page1.html\n"
     ]
    }
   ],
   "source": [
    "print('Ingresa una URL como http://data.pr4e.org/cover3.jpg')\n",
    "\n",
    "urlstr = input().strip()\n",
    "img = urllib.request.urlopen(urlstr)\n",
    "\n",
    "# Obtener la última \"palabra\"\n",
    "palabras = urlstr.split('/')\n",
    "nombre_archivo = palabras[-1]\n",
    "\n",
    "# No sobreescribir el archivo\n",
    "if os.path.exists(nombre_archivo):\n",
    "    if input('¿Remplazar ' + nombre_archivo + ' (S/n)?') != 'S':\n",
    "        print('Datos no copiados')\n",
    "        exit()\n",
    "    print('Reemplazando', nombre_archivo)\n",
    "\n",
    "manejador_archivos = open(nombre_archivo, 'wb')\n",
    "longitud = 0\n",
    "\n",
    "while True:\n",
    "    info = img.read(100000)\n",
    "    if len(info) < 1: break\n",
    "    longitud = longitud + len(info)\n",
    "    manejador_archivos.write(info)\n",
    "\n",
    "print(longitud, 'caracteres copiados en', nombre_archivo)\n",
    "manejador_archivos.close()"
   ]
  },
  {
   "cell_type": "markdown",
   "id": "62259462",
   "metadata": {},
   "source": [
    "# 10. Glosario"
   ]
  },
  {
   "cell_type": "markdown",
   "id": "09b3d277",
   "metadata": {},
   "source": [
    "BeautifulSoup: una librería de Python para analizar documentos HTML y extraer datos de ellos, que compensa la mayoría de las imperfecciones que los navegadores HTML normalmente ignoran. Puedes descargar el código de BeautifulSoup desde www.crummy.com.\n",
    "\n",
    "Puerto: un número que generalmente indica qué aplicación estás contactando cuando realizas una conexión con un socket en un servidor. Por ejemplo, el tráfico web normalmente usa el puerto 80, mientras que el tráfico del correo electrónico usa el puerto 25.\n",
    "\n",
    "Rascado: cuando un programa simula ser un navegador web y recupera una página web, para luego realizar una búsqueda en su contenido. A menudo los programas siguen los enlaces en una página para encontrar la siguiente, de modo que pueden atravesar una red de páginas o una red social.\n",
    "\n",
    "Rastrear: la acción de un motor de búsqueda web que consiste en recuperar una página y luego todas las páginas enlazadas por ella, continuando así sucesivamente hasta que tienen casi todas las páginas de Internet, que usan a continuación para construir su índice de búsqueda.\n",
    "\n",
    "Socket: una conexión de red entre dos aplicaciones, en la cual dichas aplicaciones pueden enviar y recibir datos en ambas direcciones."
   ]
  },
  {
   "cell_type": "markdown",
   "id": "d774058b",
   "metadata": {},
   "source": [
    "# 11. Ejercicios"
   ]
  },
  {
   "cell_type": "markdown",
   "id": "f475c82f",
   "metadata": {},
   "source": [
    "1. Utiliza urllib para rehacer el ejercicio anterior de modo que \n",
    "\n",
    "(1) reciba el documento de una URL, \n",
    "\n",
    "(2) muestre hasta 3000 caracteres, y \n",
    "\n",
    "(3) cuente la cantidad total de caracteres en el documento. \n",
    "\n",
    "No te preocupes de las cabeceras en este ejercicio, simplemente muesta los primeros 3000 caracteres del contenido del documento."
   ]
  },
  {
   "cell_type": "code",
   "execution_count": 3,
   "id": "83bb5d13",
   "metadata": {},
   "outputs": [
    {
     "name": "stdout",
     "output_type": "stream",
     "text": [
      "But soft what light through yonder window breaks\n",
      "It is the east and Juliet is the sun\n",
      "Arise fair sun and kill the envious moon\n",
      "Who is already sick and pale with grief\n",
      "167\n"
     ]
    }
   ],
   "source": [
    "manejador_archivos = urllib.request.urlopen('http://data.pr4e.org/romeo.txt')\n",
    "\n",
    "caracteres = 0\n",
    "caracteres_limit = 3000\n",
    "\n",
    "for linea in manejador_archivos:\n",
    "    linea = linea.decode()\n",
    "    next_count = caracteres + len(linea)\n",
    "    if next_count <= caracteres_limit:\n",
    "        print(linea.rstrip('\\n'))\n",
    "    elif caracteres < caracteres_limit:\n",
    "        caracteres_remain = caracteres_limit - caracteres - 1\n",
    "        print(linea[:caracteres_remain])\n",
    "    caracteres = next_count\n",
    "print(caracteres)"
   ]
  },
  {
   "cell_type": "markdown",
   "id": "02647799",
   "metadata": {},
   "source": [
    "2. Cambia el programa urllinks.py para extraer y contar las etiquetas de párrafo (p) del documento HTML recuperado y mostrar el total de párrafos como salida del programa. No muestres el texto de los párrafos, sólo cuéntalos. Prueba el programa en varias páginas web pequeñas, y también en otras más grandes."
   ]
  },
  {
   "cell_type": "code",
   "execution_count": 4,
   "id": "6ee9e398",
   "metadata": {},
   "outputs": [
    {
     "name": "stdout",
     "output_type": "stream",
     "text": [
      "Ingrese - http://data.pr4e.org/romeo.txt\n",
      "0\n"
     ]
    }
   ],
   "source": [
    "contador = 0                               \n",
    "\n",
    "ctx = ssl.create_default_context()\n",
    "ctx.check_hostname = False\n",
    "ctx.verify_mode = ssl.CERT_NONE\n",
    "\n",
    "url = input('Ingrese - ')\n",
    "html = urllib.request.urlopen(url, context=ctx).read()\n",
    "sopa = BeautifulSoup(html, 'html.parser')\n",
    "\n",
    "# Recuperar todas las etiquetas de anclaje\n",
    "tags = sopa('p')\n",
    "\n",
    "for tag in tags:\n",
    "    contador += 1  \n",
    "\n",
    "print(contador)"
   ]
  },
  {
   "cell_type": "code",
   "execution_count": 6,
   "id": "976fcf7a",
   "metadata": {},
   "outputs": [
    {
     "data": {
      "text/plain": [
       "But soft what light through yonder window breaks\n",
       "It is the east and Juliet is the sun\n",
       "Arise fair sun and kill the envious moon\n",
       "Who is already sick and pale with grief"
      ]
     },
     "execution_count": 6,
     "metadata": {},
     "output_type": "execute_result"
    }
   ],
   "source": [
    "sopa"
   ]
  },
  {
   "cell_type": "markdown",
   "id": "058862c7",
   "metadata": {},
   "source": [
    "3. Cambia el programa del socket de modo que solamente muestra datos después de que se haya recibido la cabecera y la línea en blanco. Recuerda que recv recibe caracteres (saltos de línea incluidos), no líneas."
   ]
  },
  {
   "cell_type": "code",
   "execution_count": 7,
   "id": "5fa00eaa",
   "metadata": {},
   "outputs": [
    {
     "name": "stdout",
     "output_type": "stream",
     "text": [
      "But soft what light through yonder window breaks\n",
      "It is the east and Juliet is the sun\n",
      "Arise fair sun and kill the envious moon\n",
      "Who is already sick and pale with grief\n",
      "\n"
     ]
    }
   ],
   "source": [
    "my_sock = socket.socket(socket.AF_INET, socket.SOCK_STREAM)\n",
    "my_sock.connect(('data.pr4e.org', 80))\n",
    "cmd = 'GET http://data.pr4e.org/romeo.txt HTTP/1.0\\r\\n\\r\\n'.encode()\n",
    "my_sock.send(cmd)\n",
    "\n",
    "datos = my_sock.recv(512)\n",
    "mensaje = datos.decode()\n",
    "header_end_pos = mensaje.find('\\r\\n\\r\\n') + 4   # Encuentra el final del encabezado\n",
    "\n",
    "# Agrega cuatro para excluir: '\\r\\n\\r\\n'\n",
    "print(mensaje[header_end_pos:], end='')\n",
    "\n",
    "while True:                                 # Encabezado en los primeros datos solamente\n",
    "    datos = my_sock.recv(512)\n",
    "    if not datos:\n",
    "        break\n",
    "    print(datos.decode())\n",
    "\n",
    "my_sock.close()"
   ]
  }
 ],
 "metadata": {
  "kernelspec": {
   "display_name": "Python 3 (ipykernel)",
   "language": "python",
   "name": "python3"
  },
  "language_info": {
   "codemirror_mode": {
    "name": "ipython",
    "version": 3
   },
   "file_extension": ".py",
   "mimetype": "text/x-python",
   "name": "python",
   "nbconvert_exporter": "python",
   "pygments_lexer": "ipython3",
   "version": "3.10.9"
  }
 },
 "nbformat": 4,
 "nbformat_minor": 5
}
