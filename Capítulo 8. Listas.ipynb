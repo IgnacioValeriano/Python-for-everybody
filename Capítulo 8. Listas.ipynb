{
 "cells": [
  {
   "cell_type": "markdown",
   "id": "d9bb6156",
   "metadata": {},
   "source": [
    "ÍNDICE:\n",
    "\n",
    "1. Una lista es una secuencia\n",
    "2. Las listas son mutables\n",
    "3. Recorriendo una lista\n",
    "4. Operadores de listas\n",
    "5. Rebanado de listas\n",
    "6. Métodos de listas\n",
    "7. Eliminando elementos\n",
    "8. Listas y funciones\n",
    "9. Listas y cadenas\n",
    "10. Analizando líneas\n",
    "11. Objetos y valores\n",
    "12. Alias\n",
    "13. Listas como argumentos\n",
    "14. Depuración\n",
    "15. Glosario\n",
    "16. Ejercicios"
   ]
  },
  {
   "cell_type": "markdown",
   "id": "b00e7387",
   "metadata": {},
   "source": [
    "# 1. Una lista es una secuencia"
   ]
  },
  {
   "cell_type": "code",
   "execution_count": 16,
   "id": "3573b382",
   "metadata": {},
   "outputs": [
    {
     "data": {
      "text/plain": [
       "[10, 20, 30, 40]"
      ]
     },
     "execution_count": 16,
     "metadata": {},
     "output_type": "execute_result"
    }
   ],
   "source": [
    "[10,20,30,40]"
   ]
  },
  {
   "cell_type": "code",
   "execution_count": 17,
   "id": "e2684fd8",
   "metadata": {},
   "outputs": [
    {
     "data": {
      "text/plain": [
       "['rana crujiente', 'vejiga de carnero', 'vómito de alondra']"
      ]
     },
     "execution_count": 17,
     "metadata": {},
     "output_type": "execute_result"
    }
   ],
   "source": [
    "['rana crujiente','vejiga de carnero','vómito de alondra']"
   ]
  },
  {
   "cell_type": "code",
   "execution_count": 18,
   "id": "d310d8d3",
   "metadata": {},
   "outputs": [
    {
     "data": {
      "text/plain": [
       "['spam', 2.0, 5, [10, 20]]"
      ]
     },
     "execution_count": 18,
     "metadata": {},
     "output_type": "execute_result"
    }
   ],
   "source": [
    "['spam',2.0,5,[10,20]]"
   ]
  },
  {
   "cell_type": "code",
   "execution_count": 19,
   "id": "8afd8d1d",
   "metadata": {},
   "outputs": [
    {
     "data": {
      "text/plain": [
       "[]"
      ]
     },
     "execution_count": 19,
     "metadata": {},
     "output_type": "execute_result"
    }
   ],
   "source": [
    "[]"
   ]
  },
  {
   "cell_type": "code",
   "execution_count": 20,
   "id": "4c8abb62",
   "metadata": {},
   "outputs": [],
   "source": [
    "quesos = ['Cheddar','Edam','Gouda']\n",
    "numeros = [17,123]\n",
    "vacia = []"
   ]
  },
  {
   "cell_type": "code",
   "execution_count": 21,
   "id": "5c883768",
   "metadata": {},
   "outputs": [
    {
     "name": "stdout",
     "output_type": "stream",
     "text": [
      "['Cheddar', 'Edam', 'Gouda'] [17, 123] []\n"
     ]
    }
   ],
   "source": [
    "print(quesos,numeros,vacia)"
   ]
  },
  {
   "cell_type": "code",
   "execution_count": 22,
   "id": "93c28334",
   "metadata": {},
   "outputs": [],
   "source": [
    "lista_cursos = ['Python', 'Django', 'Flask', 'Ruby', 'Java', 'Rust']\n",
    "\n",
    "lista_cursos_2 = ['C','C++','Docker']"
   ]
  },
  {
   "cell_type": "code",
   "execution_count": 23,
   "id": "553386fd",
   "metadata": {},
   "outputs": [
    {
     "name": "stdout",
     "output_type": "stream",
     "text": [
      "6\n"
     ]
    }
   ],
   "source": [
    "print(len(lista_cursos))"
   ]
  },
  {
   "cell_type": "markdown",
   "id": "472a2f28",
   "metadata": {},
   "source": [
    "# 2. Las listas son mutables"
   ]
  },
  {
   "cell_type": "code",
   "execution_count": 24,
   "id": "9f9a8f66",
   "metadata": {},
   "outputs": [
    {
     "data": {
      "text/plain": [
       "'Cheddar'"
      ]
     },
     "execution_count": 24,
     "metadata": {},
     "output_type": "execute_result"
    }
   ],
   "source": [
    "quesos[0]"
   ]
  },
  {
   "cell_type": "code",
   "execution_count": 25,
   "id": "668ffd7b",
   "metadata": {},
   "outputs": [
    {
     "data": {
      "text/plain": [
       "[17, 5]"
      ]
     },
     "execution_count": 25,
     "metadata": {},
     "output_type": "execute_result"
    }
   ],
   "source": [
    "numeros = [17, 123]\n",
    "numeros[1] = 5\n",
    "numeros"
   ]
  },
  {
   "cell_type": "code",
   "execution_count": 26,
   "id": "029da59f",
   "metadata": {},
   "outputs": [
    {
     "data": {
      "text/plain": [
       "True"
      ]
     },
     "execution_count": 26,
     "metadata": {},
     "output_type": "execute_result"
    }
   ],
   "source": [
    "'Edam' in quesos"
   ]
  },
  {
   "cell_type": "code",
   "execution_count": 27,
   "id": "8953297a",
   "metadata": {},
   "outputs": [
    {
     "data": {
      "text/plain": [
       "False"
      ]
     },
     "execution_count": 27,
     "metadata": {},
     "output_type": "execute_result"
    }
   ],
   "source": [
    "'Brie' in quesos"
   ]
  },
  {
   "cell_type": "markdown",
   "id": "d7d52de4",
   "metadata": {},
   "source": [
    "# 3. Recorriendo una lista"
   ]
  },
  {
   "cell_type": "code",
   "execution_count": 28,
   "id": "04e07783",
   "metadata": {},
   "outputs": [
    {
     "name": "stdout",
     "output_type": "stream",
     "text": [
      "Cheddar\n",
      "Edam\n",
      "Gouda\n"
     ]
    }
   ],
   "source": [
    "for queso in quesos:\n",
    "    print(queso)"
   ]
  },
  {
   "cell_type": "code",
   "execution_count": 29,
   "id": "dc1371ba",
   "metadata": {},
   "outputs": [
    {
     "name": "stdout",
     "output_type": "stream",
     "text": [
      "34\n",
      "10\n"
     ]
    }
   ],
   "source": [
    "for i in range(len(numeros)):\n",
    "    numeros[i] = numeros[i]*2\n",
    "    print(numeros[i])"
   ]
  },
  {
   "cell_type": "code",
   "execution_count": 30,
   "id": "35de7cb0",
   "metadata": {},
   "outputs": [],
   "source": [
    "for x in vacia:\n",
    "    print('Esto nunca sucede')"
   ]
  },
  {
   "cell_type": "code",
   "execution_count": 31,
   "id": "eea67800",
   "metadata": {},
   "outputs": [
    {
     "data": {
      "text/plain": [
       "4"
      ]
     },
     "execution_count": 31,
     "metadata": {},
     "output_type": "execute_result"
    }
   ],
   "source": [
    "len(['spam',1,['Brie','Roquefort','Pol le Veq'],[1,2,3]])"
   ]
  },
  {
   "cell_type": "markdown",
   "id": "ef7eec98",
   "metadata": {},
   "source": [
    "# 4. Operadores de listas"
   ]
  },
  {
   "cell_type": "code",
   "execution_count": 32,
   "id": "d1555034",
   "metadata": {},
   "outputs": [
    {
     "name": "stdout",
     "output_type": "stream",
     "text": [
      "[1, 2, 3, 4, 5, 6]\n"
     ]
    }
   ],
   "source": [
    "a = [1,2,3]\n",
    "b = [4,5,6]\n",
    "\n",
    "c = a + b\n",
    "print(c)"
   ]
  },
  {
   "cell_type": "code",
   "execution_count": 33,
   "id": "38922af7",
   "metadata": {},
   "outputs": [
    {
     "data": {
      "text/plain": [
       "[0, 0, 0, 0]"
      ]
     },
     "execution_count": 33,
     "metadata": {},
     "output_type": "execute_result"
    }
   ],
   "source": [
    "[0]*4"
   ]
  },
  {
   "cell_type": "code",
   "execution_count": 34,
   "id": "f6fa079a",
   "metadata": {},
   "outputs": [
    {
     "data": {
      "text/plain": [
       "[1, 2, 3, 1, 2, 3, 1, 2, 3]"
      ]
     },
     "execution_count": 34,
     "metadata": {},
     "output_type": "execute_result"
    }
   ],
   "source": [
    "[1,2,3]*3"
   ]
  },
  {
   "cell_type": "markdown",
   "id": "00965ebc",
   "metadata": {},
   "source": [
    "# 5. Rebanado de listas"
   ]
  },
  {
   "cell_type": "code",
   "execution_count": 35,
   "id": "cecdc413",
   "metadata": {},
   "outputs": [
    {
     "data": {
      "text/plain": [
       "['b', 'c']"
      ]
     },
     "execution_count": 35,
     "metadata": {},
     "output_type": "execute_result"
    }
   ],
   "source": [
    "t = ['a','b','c','d','e','f']\n",
    "t[1:3]"
   ]
  },
  {
   "cell_type": "code",
   "execution_count": 36,
   "id": "62a08c77",
   "metadata": {},
   "outputs": [
    {
     "data": {
      "text/plain": [
       "['a', 'b', 'c', 'd']"
      ]
     },
     "execution_count": 36,
     "metadata": {},
     "output_type": "execute_result"
    }
   ],
   "source": [
    "t[:4]"
   ]
  },
  {
   "cell_type": "code",
   "execution_count": 37,
   "id": "b1d2826f",
   "metadata": {},
   "outputs": [
    {
     "data": {
      "text/plain": [
       "['d', 'e', 'f']"
      ]
     },
     "execution_count": 37,
     "metadata": {},
     "output_type": "execute_result"
    }
   ],
   "source": [
    "t[3:]"
   ]
  },
  {
   "cell_type": "code",
   "execution_count": 38,
   "id": "d6dfb2e1",
   "metadata": {},
   "outputs": [
    {
     "data": {
      "text/plain": [
       "['a', 'b', 'c', 'd', 'e', 'f']"
      ]
     },
     "execution_count": 38,
     "metadata": {},
     "output_type": "execute_result"
    }
   ],
   "source": [
    "t[:]"
   ]
  },
  {
   "cell_type": "code",
   "execution_count": 39,
   "id": "79291fa7",
   "metadata": {},
   "outputs": [
    {
     "data": {
      "text/plain": [
       "['a', 'x', 'y', 'd', 'e', 'f']"
      ]
     },
     "execution_count": 39,
     "metadata": {},
     "output_type": "execute_result"
    }
   ],
   "source": [
    "t = ['a','b','c','d','e','f']\n",
    "t[1:3] = ['x','y']\n",
    "t"
   ]
  },
  {
   "cell_type": "markdown",
   "id": "b9dcdff2",
   "metadata": {},
   "source": [
    "# 6. Métodos de listas"
   ]
  },
  {
   "cell_type": "code",
   "execution_count": 40,
   "id": "8560fad0",
   "metadata": {},
   "outputs": [
    {
     "data": {
      "text/plain": [
       "['a', 'b', 'c', 'd']"
      ]
     },
     "execution_count": 40,
     "metadata": {},
     "output_type": "execute_result"
    }
   ],
   "source": [
    "t = ['a','b','c']\n",
    "t.append('d')\n",
    "t"
   ]
  },
  {
   "cell_type": "code",
   "execution_count": 41,
   "id": "4ece7ef2",
   "metadata": {},
   "outputs": [
    {
     "data": {
      "text/plain": [
       "['Python',\n",
       " 'Django',\n",
       " 'Flask',\n",
       " 'Ruby',\n",
       " 'Java',\n",
       " 'Rust',\n",
       " 'MongoDB',\n",
       " 'C#',\n",
       " 'JavaScript']"
      ]
     },
     "execution_count": 41,
     "metadata": {},
     "output_type": "execute_result"
    }
   ],
   "source": [
    "lista_cursos.append('MongoDB') # Añade un elemento al final de la lista\n",
    "lista_cursos.append('C#')\n",
    "lista_cursos.append('JavaScript')\n",
    "lista_cursos"
   ]
  },
  {
   "cell_type": "code",
   "execution_count": 42,
   "id": "e8c00664",
   "metadata": {},
   "outputs": [
    {
     "data": {
      "text/plain": [
       "['a', 'b', 'c', 'd', 'e']"
      ]
     },
     "execution_count": 42,
     "metadata": {},
     "output_type": "execute_result"
    }
   ],
   "source": [
    "t1 = ['a','b','c']\n",
    "t2 = ['d','e']\n",
    "t1.extend(t2)\n",
    "t1"
   ]
  },
  {
   "cell_type": "code",
   "execution_count": 43,
   "id": "7e1f752a",
   "metadata": {},
   "outputs": [
    {
     "data": {
      "text/plain": [
       "['Python',\n",
       " 'Django',\n",
       " 'Flask',\n",
       " 'Ruby',\n",
       " 'Java',\n",
       " 'Rust',\n",
       " 'MongoDB',\n",
       " 'C#',\n",
       " 'JavaScript',\n",
       " 'C',\n",
       " 'C++',\n",
       " 'Docker']"
      ]
     },
     "execution_count": 43,
     "metadata": {},
     "output_type": "execute_result"
    }
   ],
   "source": [
    "lista_cursos.extend(lista_cursos_2) # Extiende los elementos de una lista a partir de otra\n",
    "lista_cursos"
   ]
  },
  {
   "cell_type": "code",
   "execution_count": 44,
   "id": "1a8c0f8b",
   "metadata": {},
   "outputs": [
    {
     "data": {
      "text/plain": [
       "['PyGame',\n",
       " 'Python',\n",
       " 'Rails',\n",
       " 'Django',\n",
       " 'Flask',\n",
       " 'Ruby',\n",
       " 'Java',\n",
       " 'Rust',\n",
       " 'MongoDB',\n",
       " 'C#',\n",
       " 'JavaScript',\n",
       " 'C',\n",
       " 'C++',\n",
       " 'Docker']"
      ]
     },
     "execution_count": 44,
     "metadata": {},
     "output_type": "execute_result"
    }
   ],
   "source": [
    "lista_cursos.insert(1,'Rails') # Añade un elemento a partir de un índice en concreto\n",
    "lista_cursos.insert(0,'PyGame')\n",
    "lista_cursos"
   ]
  },
  {
   "cell_type": "code",
   "execution_count": 45,
   "id": "6cea6785",
   "metadata": {},
   "outputs": [
    {
     "data": {
      "text/plain": [
       "['a', 'b', 'c', 'd', 'e']"
      ]
     },
     "execution_count": 45,
     "metadata": {},
     "output_type": "execute_result"
    }
   ],
   "source": [
    "t = ['d','c','e','b','a']\n",
    "t.sort()\n",
    "t"
   ]
  },
  {
   "cell_type": "code",
   "execution_count": 46,
   "id": "e6e8c710",
   "metadata": {},
   "outputs": [
    {
     "data": {
      "text/plain": [
       "[1, 3, 4, 5, 8, 44, 90, 132, 600]"
      ]
     },
     "execution_count": 46,
     "metadata": {},
     "output_type": "execute_result"
    }
   ],
   "source": [
    "lista = [8, 90, 1, 5, 44, 132, 600, 3, 4]\n",
    "lista.sort()\n",
    "lista"
   ]
  },
  {
   "cell_type": "code",
   "execution_count": 47,
   "id": "d594097c",
   "metadata": {},
   "outputs": [
    {
     "name": "stdout",
     "output_type": "stream",
     "text": [
      "[600, 132, 90, 44, 8, 5, 4, 3, 1]\n"
     ]
    }
   ],
   "source": [
    "lista.sort(reverse=True)\n",
    "print(lista)"
   ]
  },
  {
   "cell_type": "markdown",
   "id": "792dd4da",
   "metadata": {},
   "source": [
    "# 7. Eliminando elementos"
   ]
  },
  {
   "cell_type": "code",
   "execution_count": 48,
   "id": "9f46d3dd",
   "metadata": {},
   "outputs": [],
   "source": [
    "t = ['a','b','c']\n",
    "x = t.pop(1)"
   ]
  },
  {
   "cell_type": "code",
   "execution_count": 49,
   "id": "10b06cfc",
   "metadata": {},
   "outputs": [
    {
     "data": {
      "text/plain": [
       "['a', 'c']"
      ]
     },
     "execution_count": 49,
     "metadata": {},
     "output_type": "execute_result"
    }
   ],
   "source": [
    "t"
   ]
  },
  {
   "cell_type": "code",
   "execution_count": 50,
   "id": "d08752f1",
   "metadata": {},
   "outputs": [
    {
     "data": {
      "text/plain": [
       "'b'"
      ]
     },
     "execution_count": 50,
     "metadata": {},
     "output_type": "execute_result"
    }
   ],
   "source": [
    "x"
   ]
  },
  {
   "cell_type": "code",
   "execution_count": 51,
   "id": "c25734a6",
   "metadata": {},
   "outputs": [
    {
     "data": {
      "text/plain": [
       "['a', 'c']"
      ]
     },
     "execution_count": 51,
     "metadata": {},
     "output_type": "execute_result"
    }
   ],
   "source": [
    "t = ['a','b','c']\n",
    "del t[1]\n",
    "t"
   ]
  },
  {
   "cell_type": "code",
   "execution_count": 52,
   "id": "61f480b4",
   "metadata": {},
   "outputs": [
    {
     "data": {
      "text/plain": [
       "['a', 'c']"
      ]
     },
     "execution_count": 52,
     "metadata": {},
     "output_type": "execute_result"
    }
   ],
   "source": [
    "t = ['a','b','c']\n",
    "t.remove('b')\n",
    "t"
   ]
  },
  {
   "cell_type": "code",
   "execution_count": 53,
   "id": "874f4376",
   "metadata": {},
   "outputs": [
    {
     "data": {
      "text/plain": [
       "['a', 'f']"
      ]
     },
     "execution_count": 53,
     "metadata": {},
     "output_type": "execute_result"
    }
   ],
   "source": [
    "t = ['a','b','c','d','e','f']\n",
    "del t[1:5]\n",
    "t"
   ]
  },
  {
   "cell_type": "markdown",
   "id": "851c59f0",
   "metadata": {},
   "source": [
    "# 8. Listas y funciones"
   ]
  },
  {
   "cell_type": "code",
   "execution_count": 54,
   "id": "eab722a3",
   "metadata": {},
   "outputs": [
    {
     "data": {
      "text/plain": [
       "14"
      ]
     },
     "execution_count": 54,
     "metadata": {},
     "output_type": "execute_result"
    }
   ],
   "source": [
    "len(lista_cursos)"
   ]
  },
  {
   "cell_type": "code",
   "execution_count": 55,
   "id": "e91f2a09",
   "metadata": {},
   "outputs": [
    {
     "name": "stdout",
     "output_type": "stream",
     "text": [
      "1\n",
      "600\n"
     ]
    }
   ],
   "source": [
    "print(min(lista))\n",
    "print(max(lista))"
   ]
  },
  {
   "cell_type": "code",
   "execution_count": 56,
   "id": "ca9633b6",
   "metadata": {},
   "outputs": [
    {
     "name": "stdout",
     "output_type": "stream",
     "text": [
      "6\n",
      "74\n",
      "3\n",
      "154\n",
      "25.67\n"
     ]
    }
   ],
   "source": [
    "numeros = [3,41,12,9,74,15]\n",
    "\n",
    "print(len(numeros))\n",
    "print(max(numeros))\n",
    "print(min(numeros))\n",
    "print(sum(numeros))\n",
    "print(round(sum(numeros)/len(numeros),2)) # Promedio"
   ]
  },
  {
   "cell_type": "code",
   "execution_count": 57,
   "id": "8b675f3d",
   "metadata": {},
   "outputs": [
    {
     "name": "stdout",
     "output_type": "stream",
     "text": [
      "Ingresa un número:2\n",
      "Ingresa un número:5\n",
      "Ingresa un número:fin\n",
      "Promedio: 3.5\n"
     ]
    }
   ],
   "source": [
    "total = 0\n",
    "contador = 0\n",
    "\n",
    "while True:\n",
    "    inp = input('Ingresa un número:')\n",
    "    if inp == 'fin':\n",
    "        break\n",
    "    valor = float(inp)\n",
    "    total += valor\n",
    "    contador += 1\n",
    "\n",
    "promedio = total / contador\n",
    "print('Promedio:',promedio)"
   ]
  },
  {
   "cell_type": "code",
   "execution_count": 58,
   "id": "128844c2",
   "metadata": {},
   "outputs": [
    {
     "name": "stdout",
     "output_type": "stream",
     "text": [
      "Ingresa un número:2\n",
      "Ingresa un número:4\n",
      "Ingresa un número:fin\n",
      "Promedio: 3.0\n"
     ]
    }
   ],
   "source": [
    "numeros = list()\n",
    "\n",
    "while True:\n",
    "    inp = input('Ingresa un número:')\n",
    "    if inp == 'fin':\n",
    "        break\n",
    "    valor = float(inp)\n",
    "    numeros.append(valor)\n",
    "\n",
    "promedio = sum(numeros) / len(numeros)\n",
    "print('Promedio:',promedio)"
   ]
  },
  {
   "cell_type": "markdown",
   "id": "0bd26243",
   "metadata": {},
   "source": [
    "# 9. Listas y cadenas"
   ]
  },
  {
   "cell_type": "code",
   "execution_count": 59,
   "id": "f92fd3e1",
   "metadata": {},
   "outputs": [
    {
     "name": "stdout",
     "output_type": "stream",
     "text": [
      "['s', 'p', 'a', 'm']\n"
     ]
    }
   ],
   "source": [
    "s = 'spam'\n",
    "t = list(s)\n",
    "print(t)"
   ]
  },
  {
   "cell_type": "code",
   "execution_count": 60,
   "id": "1fd592fb",
   "metadata": {},
   "outputs": [
    {
     "data": {
      "text/plain": [
       "['suspirando', 'por', 'los', 'fiordos']"
      ]
     },
     "execution_count": 60,
     "metadata": {},
     "output_type": "execute_result"
    }
   ],
   "source": [
    "s = 'suspirando por los fiordos'\n",
    "t = s.split()\n",
    "t"
   ]
  },
  {
   "cell_type": "code",
   "execution_count": 61,
   "id": "964ce42c",
   "metadata": {},
   "outputs": [
    {
     "data": {
      "text/plain": [
       "'los'"
      ]
     },
     "execution_count": 61,
     "metadata": {},
     "output_type": "execute_result"
    }
   ],
   "source": [
    "t[2]"
   ]
  },
  {
   "cell_type": "code",
   "execution_count": 62,
   "id": "e1ae155f",
   "metadata": {},
   "outputs": [
    {
     "data": {
      "text/plain": [
       "['spam', 'spam', 'spam']"
      ]
     },
     "execution_count": 62,
     "metadata": {},
     "output_type": "execute_result"
    }
   ],
   "source": [
    "s = 'spam-spam-spam'\n",
    "delimiter = '-'\n",
    "s.split(delimiter)"
   ]
  },
  {
   "cell_type": "code",
   "execution_count": 63,
   "id": "d7d93528",
   "metadata": {},
   "outputs": [
    {
     "data": {
      "text/plain": [
       "'suspirando por los fiordos'"
      ]
     },
     "execution_count": 63,
     "metadata": {},
     "output_type": "execute_result"
    }
   ],
   "source": [
    "t = ['suspirando','por','los','fiordos']\n",
    "delimiter = ' '\n",
    "delimiter.join(t)"
   ]
  },
  {
   "cell_type": "markdown",
   "id": "ab48dad0",
   "metadata": {},
   "source": [
    "# 10. Analizando líneas"
   ]
  },
  {
   "cell_type": "code",
   "execution_count": 65,
   "id": "5f99bb49",
   "metadata": {},
   "outputs": [
    {
     "name": "stdout",
     "output_type": "stream",
     "text": [
      "Sat\n",
      "Fri\n",
      "Fri\n",
      "Fri\n",
      "Fri\n",
      "Fri\n",
      "Fri\n",
      "Fri\n",
      "Fri\n",
      "Fri\n",
      "Fri\n",
      "Fri\n",
      "Fri\n",
      "Fri\n",
      "Fri\n",
      "Fri\n",
      "Fri\n",
      "Fri\n",
      "Fri\n",
      "Fri\n",
      "Fri\n",
      "Thu\n",
      "Thu\n",
      "Thu\n",
      "Thu\n",
      "Thu\n",
      "Thu\n"
     ]
    }
   ],
   "source": [
    "nombre_archivo = 'mbox-short.txt'\n",
    "ruta = fr'Datos\\\\Python para todos\\\\' + nombre_archivo\n",
    "manejador_archivos = open(ruta)\n",
    "\n",
    "for linea in manejador_archivos:\n",
    "    linea = linea.rstrip()\n",
    "    if not linea.startswith('From '):\n",
    "        continue\n",
    "    palabras = linea.split()\n",
    "    print(palabras[2])"
   ]
  },
  {
   "cell_type": "markdown",
   "id": "9c37fa4a",
   "metadata": {},
   "source": [
    "# 11. Objetos y valores"
   ]
  },
  {
   "cell_type": "code",
   "execution_count": 66,
   "id": "d31ef3fb",
   "metadata": {},
   "outputs": [],
   "source": [
    "a = 'banana'\n",
    "b = 'banana'"
   ]
  },
  {
   "cell_type": "code",
   "execution_count": 67,
   "id": "e21ea31e",
   "metadata": {},
   "outputs": [
    {
     "data": {
      "text/plain": [
       "True"
      ]
     },
     "execution_count": 67,
     "metadata": {},
     "output_type": "execute_result"
    }
   ],
   "source": [
    "a is b"
   ]
  },
  {
   "cell_type": "code",
   "execution_count": 68,
   "id": "d5188a3a",
   "metadata": {},
   "outputs": [
    {
     "data": {
      "text/plain": [
       "False"
      ]
     },
     "execution_count": 68,
     "metadata": {},
     "output_type": "execute_result"
    }
   ],
   "source": [
    "a = [1,2,3]\n",
    "b = [1,2,3]\n",
    "a is b"
   ]
  },
  {
   "cell_type": "markdown",
   "id": "cafd1c51",
   "metadata": {},
   "source": [
    "# 12. Alias"
   ]
  },
  {
   "cell_type": "code",
   "execution_count": 69,
   "id": "9b0ca13c",
   "metadata": {},
   "outputs": [
    {
     "data": {
      "text/plain": [
       "True"
      ]
     },
     "execution_count": 69,
     "metadata": {},
     "output_type": "execute_result"
    }
   ],
   "source": [
    "a = [1,2,3]\n",
    "b = a\n",
    "b is a"
   ]
  },
  {
   "cell_type": "code",
   "execution_count": 70,
   "id": "10a0e3e4",
   "metadata": {},
   "outputs": [
    {
     "data": {
      "text/plain": [
       "[17, 2, 3]"
      ]
     },
     "execution_count": 70,
     "metadata": {},
     "output_type": "execute_result"
    }
   ],
   "source": [
    "b[0] = 17\n",
    "b"
   ]
  },
  {
   "cell_type": "code",
   "execution_count": 71,
   "id": "ae73615a",
   "metadata": {},
   "outputs": [
    {
     "data": {
      "text/plain": [
       "[17, 2, 3]"
      ]
     },
     "execution_count": 71,
     "metadata": {},
     "output_type": "execute_result"
    }
   ],
   "source": [
    "a # Se cambiaron los 2"
   ]
  },
  {
   "cell_type": "code",
   "execution_count": 72,
   "id": "95cea9b5",
   "metadata": {},
   "outputs": [
    {
     "data": {
      "text/plain": [
       "False"
      ]
     },
     "execution_count": 72,
     "metadata": {},
     "output_type": "execute_result"
    }
   ],
   "source": [
    "a = [1,2,3]\n",
    "b = a.copy()\n",
    "b is a"
   ]
  },
  {
   "cell_type": "markdown",
   "id": "50f7ada6",
   "metadata": {},
   "source": [
    "# 13. Listas como argumentos"
   ]
  },
  {
   "cell_type": "code",
   "execution_count": 73,
   "id": "2cf366cb",
   "metadata": {},
   "outputs": [
    {
     "data": {
      "text/plain": [
       "['b', 'c', 'd']"
      ]
     },
     "execution_count": 73,
     "metadata": {},
     "output_type": "execute_result"
    }
   ],
   "source": [
    "def remover_primero(t):\n",
    "    del t[0]\n",
    "\n",
    "letras = ['a','b','c','d']\n",
    "remover_primero(letras)\n",
    "letras"
   ]
  },
  {
   "cell_type": "code",
   "execution_count": 74,
   "id": "c287e247",
   "metadata": {},
   "outputs": [
    {
     "data": {
      "text/plain": [
       "[1, 2, 3]"
      ]
     },
     "execution_count": 74,
     "metadata": {},
     "output_type": "execute_result"
    }
   ],
   "source": [
    "t1 = [1,2]\n",
    "t2 = t1.append(3) # ya que t1 y t2 son el mismo objeto\n",
    "t1"
   ]
  },
  {
   "cell_type": "code",
   "execution_count": 75,
   "id": "30628c1d",
   "metadata": {},
   "outputs": [
    {
     "name": "stdout",
     "output_type": "stream",
     "text": [
      "None\n"
     ]
    }
   ],
   "source": [
    "print(t2)"
   ]
  },
  {
   "cell_type": "code",
   "execution_count": 76,
   "id": "f64a7a04",
   "metadata": {},
   "outputs": [
    {
     "data": {
      "text/plain": [
       "[1, 2, 3]"
      ]
     },
     "execution_count": 76,
     "metadata": {},
     "output_type": "execute_result"
    }
   ],
   "source": [
    "t1 = [1,2]\n",
    "t3 = t1 + [3]\n",
    "t3"
   ]
  },
  {
   "cell_type": "code",
   "execution_count": 77,
   "id": "c09223cc",
   "metadata": {},
   "outputs": [
    {
     "data": {
      "text/plain": [
       "[1, 2]"
      ]
     },
     "execution_count": 77,
     "metadata": {},
     "output_type": "execute_result"
    }
   ],
   "source": [
    "t1"
   ]
  },
  {
   "cell_type": "code",
   "execution_count": 78,
   "id": "3fdec8b2",
   "metadata": {},
   "outputs": [
    {
     "data": {
      "text/plain": [
       "False"
      ]
     },
     "execution_count": 78,
     "metadata": {},
     "output_type": "execute_result"
    }
   ],
   "source": [
    "t2 is t3"
   ]
  },
  {
   "cell_type": "code",
   "execution_count": 79,
   "id": "fc40c6b0",
   "metadata": {},
   "outputs": [
    {
     "name": "stdout",
     "output_type": "stream",
     "text": [
      "['b', 'c']\n"
     ]
    }
   ],
   "source": [
    "def cola(t):\n",
    "    return t[1:]\n",
    "\n",
    "letras = ['a','b','c']\n",
    "resto = cola(letras)\n",
    "print(resto)"
   ]
  },
  {
   "cell_type": "markdown",
   "id": "27f2c8e4",
   "metadata": {},
   "source": [
    "# 14. Depuración"
   ]
  },
  {
   "cell_type": "code",
   "execution_count": 80,
   "id": "d62f2942",
   "metadata": {},
   "outputs": [
    {
     "name": "stdout",
     "output_type": "stream",
     "text": [
      "Sat\n",
      "Fri\n",
      "Fri\n",
      "Fri\n",
      "Fri\n",
      "Fri\n",
      "Fri\n",
      "Fri\n",
      "Fri\n",
      "Fri\n",
      "Fri\n",
      "Fri\n",
      "Fri\n",
      "Fri\n",
      "Fri\n",
      "Fri\n",
      "Fri\n",
      "Fri\n",
      "Fri\n",
      "Fri\n",
      "Fri\n",
      "Thu\n",
      "Thu\n",
      "Thu\n",
      "Thu\n",
      "Thu\n",
      "Thu\n"
     ]
    }
   ],
   "source": [
    "nombre_archivo = 'mbox-short.txt'\n",
    "ruta = fr'Datos\\\\Python para todos\\\\' + nombre_archivo\n",
    "manejador_archivos = open(ruta)\n",
    "\n",
    "contador = 0\n",
    "\n",
    "for linea in manejador_archivos:\n",
    "    palabras = linea.split()\n",
    "    if len(palabras) == 0:\n",
    "        continue\n",
    "    if palabras[0] != 'From':\n",
    "        continue\n",
    "    print(palabras[2])"
   ]
  },
  {
   "cell_type": "code",
   "execution_count": 81,
   "id": "71c09609",
   "metadata": {},
   "outputs": [
    {
     "name": "stdout",
     "output_type": "stream",
     "text": [
      "Depuración: ['From', 'stephen.marquard@uct.ac.za', 'Sat', 'Jan', '5', '09:14:16', '2008']\n",
      "Sat\n",
      "Depuración: ['Return-Path:', '<postmaster@collab.sakaiproject.org>']\n",
      "Depuración: ['Received:', 'from', 'murder', '(mail.umich.edu', '[141.211.14.90])']\n",
      "Depuración: ['by', 'frankenstein.mail.umich.edu', '(Cyrus', 'v2.3.8)', 'with', 'LMTPA;']\n",
      "Depuración: ['Sat,', '05', 'Jan', '2008', '09:14:16', '-0500']\n",
      "Depuración: ['X-Sieve:', 'CMU', 'Sieve', '2.3']\n",
      "Depuración: ['Received:', 'from', 'murder', '([unix', 'socket])']\n",
      "Depuración: ['by', 'mail.umich.edu', '(Cyrus', 'v2.2.12)', 'with', 'LMTPA;']\n",
      "Depuración: ['Sat,', '05', 'Jan', '2008', '09:14:16', '-0500']\n",
      "Depuración: ['Received:', 'from', 'holes.mr.itd.umich.edu', '(holes.mr.itd.umich.edu', '[141.211.14.79])']\n",
      "Depuración: ['by', 'flawless.mail.umich.edu', '()', 'with', 'ESMTP', 'id', 'm05EEFR1013674;']\n",
      "Depuración: ['Sat,', '5', 'Jan', '2008', '09:14:15', '-0500']\n",
      "Depuración: ['Received:', 'FROM', 'paploo.uhi.ac.uk', '(app1.prod.collab.uhi.ac.uk', '[194.35.219.184])']\n",
      "Depuración: ['BY', 'holes.mr.itd.umich.edu', 'ID', '477F90B0.2DB2F.12494', ';']\n",
      "Depuración: ['5', 'Jan', '2008', '09:14:10', '-0500']\n",
      "Depuración: ['Received:', 'from', 'paploo.uhi.ac.uk', '(localhost', '[127.0.0.1])']\n",
      "Depuración: ['by', 'paploo.uhi.ac.uk', '(Postfix)', 'with', 'ESMTP', 'id', '5F919BC2F2;']\n",
      "Depuración: ['Sat,', '5', 'Jan', '2008', '14:10:05', '+0000', '(GMT)']\n",
      "Depuración: ['Message-ID:', '<200801051412.m05ECIaH010327@nakamura.uits.iupui.edu>']\n",
      "Depuración: ['Mime-Version:', '1.0']\n",
      "Depuración: ['Content-Transfer-Encoding:', '7bit']\n",
      "Depuración: ['Received:', 'from', 'prod.collab.uhi.ac.uk', '([194.35.219.182])']\n",
      "Depuración: ['by', 'paploo.uhi.ac.uk', '(JAMES', 'SMTP', 'Server', '2.1.3)', 'with', 'SMTP', 'ID', '899']\n",
      "Depuración: ['for', '<source@collab.sakaiproject.org>;']\n",
      "Depuración: ['Sat,', '5', 'Jan', '2008', '14:09:50', '+0000', '(GMT)']\n",
      "Depuración: ['Received:', 'from', 'nakamura.uits.iupui.edu', '(nakamura.uits.iupui.edu', '[134.68.220.122])']\n",
      "Depuración: ['by', 'shmi.uhi.ac.uk', '(Postfix)', 'with', 'ESMTP', 'id', 'A215243002']\n",
      "Depuración: ['for', '<source@collab.sakaiproject.org>;', 'Sat,', '5', 'Jan', '2008', '14:13:33', '+0000', '(GMT)']\n",
      "Depuración: ['Received:', 'from', 'nakamura.uits.iupui.edu', '(localhost', '[127.0.0.1])']\n",
      "Depuración: ['by', 'nakamura.uits.iupui.edu', '(8.12.11.20060308/8.12.11)', 'with', 'ESMTP', 'id', 'm05ECJVp010329']\n",
      "Depuración: ['for', '<source@collab.sakaiproject.org>;', 'Sat,', '5', 'Jan', '2008', '09:12:19', '-0500']\n",
      "Depuración: ['Received:', '(from', 'apache@localhost)']\n",
      "Depuración: ['by', 'nakamura.uits.iupui.edu', '(8.12.11.20060308/8.12.11/Submit)', 'id', 'm05ECIaH010327']\n",
      "Depuración: ['for', 'source@collab.sakaiproject.org;', 'Sat,', '5', 'Jan', '2008', '09:12:18', '-0500']\n",
      "Depuración: ['Date:', 'Sat,', '5', 'Jan', '2008', '09:12:18', '-0500']\n",
      "Depuración: ['X-Authentication-Warning:', 'nakamura.uits.iupui.edu:', 'apache', 'set', 'sender', 'to', 'stephen.marquard@uct.ac.za', 'using', '-f']\n",
      "Depuración: ['To:', 'source@collab.sakaiproject.org']\n",
      "Depuración: ['From:', 'stephen.marquard@uct.ac.za']\n",
      "Depuración: ['Subject:', '[sakai]', 'svn', 'commit:', 'r39772', '-', 'content/branches/sakai_2-5-x/content-impl/impl/src/java/org/sakaiproject/content/impl']\n",
      "Depuración: ['X-Content-Type-Outer-Envelope:', 'text/plain;', 'charset=UTF-8']\n",
      "Depuración: ['X-Content-Type-Message-Body:', 'text/plain;', 'charset=UTF-8']\n",
      "Depuración: ['Content-Type:', 'text/plain;', 'charset=UTF-8']\n",
      "Depuración: ['X-DSPAM-Result:', 'Innocent']\n",
      "Depuración: ['X-DSPAM-Processed:', 'Sat', 'Jan', '5', '09:14:16', '2008']\n",
      "Depuración: ['X-DSPAM-Confidence:', '0.8475']\n",
      "Depuración: ['X-DSPAM-Probability:', '0.0000']\n",
      "Depuración: []\n",
      "Depuración: ['Details:', 'http://source.sakaiproject.org/viewsvn/?view=rev&rev=39772']\n",
      "Depuración: []\n",
      "Depuración: ['Author:', 'stephen.marquard@uct.ac.za']\n",
      "Depuración: ['Date:', '2008-01-05', '09:12:07', '-0500', '(Sat,', '05', 'Jan', '2008)']\n",
      "Depuración: ['New', 'Revision:', '39772']\n",
      "Depuración: []\n",
      "Depuración: ['Modified:']\n",
      "Depuración: ['content/branches/sakai_2-5-x/content-impl/impl/src/java/org/sakaiproject/content/impl/ContentServiceSqlOracle.java']\n",
      "Depuración: ['content/branches/sakai_2-5-x/content-impl/impl/src/java/org/sakaiproject/content/impl/DbContentService.java']\n",
      "Depuración: ['Log:']\n",
      "Depuración: ['SAK-12501', 'merge', 'to', '2-5-x:', 'r39622,', 'r39624:5,', 'r39632:3', '(resolve', 'conflict', 'from', 'differing', 'linebreaks', 'for', 'r39622)']\n",
      "Depuración: []\n",
      "Depuración: ['----------------------']\n",
      "Depuración: ['This', 'automatic', 'notification', 'message', 'was', 'sent', 'by', 'Sakai', 'Collab', '(https://collab.sakaiproject.org/portal)', 'from', 'the', 'Source', 'site.']\n",
      "Depuración: ['You', 'can', 'modify', 'how', 'you', 'receive', 'notifications', 'at', 'My', 'Workspace', '>', 'Preferences.']\n",
      "Depuración: []\n",
      "Depuración: []\n",
      "Depuración: []\n",
      "Depuración: ['From', 'louis@media.berkeley.edu', 'Fri', 'Jan', '4', '18:10:48', '2008']\n",
      "Fri\n",
      "Depuración: ['Return-Path:', '<postmaster@collab.sakaiproject.org>']\n",
      "Depuración: ['Received:', 'from', 'murder', '(mail.umich.edu', '[141.211.14.97])']\n",
      "Depuración: ['by', 'frankenstein.mail.umich.edu', '(Cyrus', 'v2.3.8)', 'with', 'LMTPA;']\n",
      "Depuración: ['Fri,', '04', 'Jan', '2008', '18:10:48', '-0500']\n",
      "Depuración: ['X-Sieve:', 'CMU', 'Sieve', '2.3']\n",
      "Depuración: ['Received:', 'from', 'murder', '([unix', 'socket])']\n",
      "Depuración: ['by', 'mail.umich.edu', '(Cyrus', 'v2.2.12)', 'with', 'LMTPA;']\n",
      "Depuración: ['Fri,', '04', 'Jan', '2008', '18:10:48', '-0500']\n",
      "Depuración: ['Received:', 'from', 'icestorm.mr.itd.umich.edu', '(icestorm.mr.itd.umich.edu', '[141.211.93.149])']\n",
      "Depuración: ['by', 'sleepers.mail.umich.edu', '()', 'with', 'ESMTP', 'id', 'm04NAbGa029441;']\n",
      "Depuración: ['Fri,', '4', 'Jan', '2008', '18:10:37', '-0500']\n",
      "Depuración: ['Received:', 'FROM', 'paploo.uhi.ac.uk', '(app1.prod.collab.uhi.ac.uk', '[194.35.219.184])']\n",
      "Depuración: ['BY', 'icestorm.mr.itd.umich.edu', 'ID', '477EBCE3.161BB.4320', ';']\n",
      "Depuración: ['4', 'Jan', '2008', '18:10:31', '-0500']\n",
      "Depuración: ['Received:', 'from', 'paploo.uhi.ac.uk', '(localhost', '[127.0.0.1])']\n",
      "Depuración: ['by', 'paploo.uhi.ac.uk', '(Postfix)', 'with', 'ESMTP', 'id', '07969BB706;']\n",
      "Depuración: ['Fri,', '4', 'Jan', '2008', '23:10:33', '+0000', '(GMT)']\n",
      "Depuración: ['Message-ID:', '<200801042308.m04N8v6O008125@nakamura.uits.iupui.edu>']\n",
      "Depuración: ['Mime-Version:', '1.0']\n",
      "Depuración: ['Content-Transfer-Encoding:', '7bit']\n",
      "Depuración: ['Received:', 'from', 'prod.collab.uhi.ac.uk', '([194.35.219.182])']\n",
      "Depuración: ['by', 'paploo.uhi.ac.uk', '(JAMES', 'SMTP', 'Server', '2.1.3)', 'with', 'SMTP', 'ID', '710']\n",
      "Depuración: ['for', '<source@collab.sakaiproject.org>;']\n",
      "Depuración: ['Fri,', '4', 'Jan', '2008', '23:10:10', '+0000', '(GMT)']\n",
      "Depuración: ['Received:', 'from', 'nakamura.uits.iupui.edu', '(nakamura.uits.iupui.edu', '[134.68.220.122])']\n",
      "Depuración: ['by', 'shmi.uhi.ac.uk', '(Postfix)', 'with', 'ESMTP', 'id', '4BA2F42F57']\n",
      "Depuración: ['for', '<source@collab.sakaiproject.org>;', 'Fri,', '4', 'Jan', '2008', '23:10:10', '+0000', '(GMT)']\n",
      "Depuración: ['Received:', 'from', 'nakamura.uits.iupui.edu', '(localhost', '[127.0.0.1])']\n",
      "Depuración: ['by', 'nakamura.uits.iupui.edu', '(8.12.11.20060308/8.12.11)', 'with', 'ESMTP', 'id', 'm04N8vHG008127']\n",
      "Depuración: ['for', '<source@collab.sakaiproject.org>;', 'Fri,', '4', 'Jan', '2008', '18:08:57', '-0500']\n",
      "Depuración: ['Received:', '(from', 'apache@localhost)']\n",
      "Depuración: ['by', 'nakamura.uits.iupui.edu', '(8.12.11.20060308/8.12.11/Submit)', 'id', 'm04N8v6O008125']\n",
      "Depuración: ['for', 'source@collab.sakaiproject.org;', 'Fri,', '4', 'Jan', '2008', '18:08:57', '-0500']\n",
      "Depuración: ['Date:', 'Fri,', '4', 'Jan', '2008', '18:08:57', '-0500']\n",
      "Depuración: ['X-Authentication-Warning:', 'nakamura.uits.iupui.edu:', 'apache', 'set', 'sender', 'to', 'louis@media.berkeley.edu', 'using', '-f']\n",
      "Depuración: ['To:', 'source@collab.sakaiproject.org']\n",
      "Depuración: ['From:', 'louis@media.berkeley.edu']\n",
      "Depuración: ['Subject:', '[sakai]', 'svn', 'commit:', 'r39771', '-', 'in', 'bspace/site-manage/sakai_2-4-x/site-manage-tool/tool/src:', 'bundle', 'java/org/sakaiproject/site/tool']\n",
      "Depuración: ['X-Content-Type-Outer-Envelope:', 'text/plain;', 'charset=UTF-8']\n",
      "Depuración: ['X-Content-Type-Message-Body:', 'text/plain;', 'charset=UTF-8']\n",
      "Depuración: ['Content-Type:', 'text/plain;', 'charset=UTF-8']\n",
      "Depuración: ['X-DSPAM-Result:', 'Innocent']\n",
      "Depuración: ['X-DSPAM-Processed:', 'Fri', 'Jan', '4', '18:10:48', '2008']\n",
      "Depuración: ['X-DSPAM-Confidence:', '0.6178']\n",
      "Depuración: ['X-DSPAM-Probability:', '0.0000']\n",
      "Depuración: []\n",
      "Depuración: ['Details:', 'http://source.sakaiproject.org/viewsvn/?view=rev&rev=39771']\n",
      "Depuración: []\n",
      "Depuración: ['Author:', 'louis@media.berkeley.edu']\n",
      "Depuración: ['Date:', '2008-01-04', '18:08:50', '-0500', '(Fri,', '04', 'Jan', '2008)']\n",
      "Depuración: ['New', 'Revision:', '39771']\n",
      "Depuración: []\n",
      "Depuración: ['Modified:']\n",
      "Depuración: ['bspace/site-manage/sakai_2-4-x/site-manage-tool/tool/src/bundle/sitesetupgeneric.properties']\n",
      "Depuración: ['bspace/site-manage/sakai_2-4-x/site-manage-tool/tool/src/java/org/sakaiproject/site/tool/SiteAction.java']\n",
      "Depuración: ['Log:']\n",
      "Depuración: ['BSP-1415', 'New', '(Guest)', 'user', 'Notification']\n",
      "Depuración: []\n",
      "Depuración: ['----------------------']\n",
      "Depuración: ['This', 'automatic', 'notification', 'message', 'was', 'sent', 'by', 'Sakai', 'Collab', '(https://collab.sakaiproject.org/portal)', 'from', 'the', 'Source', 'site.']\n",
      "Depuración: ['You', 'can', 'modify', 'how', 'you', 'receive', 'notifications', 'at', 'My', 'Workspace', '>', 'Preferences.']\n",
      "Depuración: []\n",
      "Depuración: []\n",
      "Depuración: []\n",
      "Depuración: ['From', 'zqian@umich.edu', 'Fri', 'Jan', '4', '16:10:39', '2008']\n",
      "Fri\n",
      "Depuración: ['Return-Path:', '<postmaster@collab.sakaiproject.org>']\n",
      "Depuración: ['Received:', 'from', 'murder', '(mail.umich.edu', '[141.211.14.25])']\n",
      "Depuración: ['by', 'frankenstein.mail.umich.edu', '(Cyrus', 'v2.3.8)', 'with', 'LMTPA;']\n",
      "Depuración: ['Fri,', '04', 'Jan', '2008', '16:10:39', '-0500']\n",
      "Depuración: ['X-Sieve:', 'CMU', 'Sieve', '2.3']\n",
      "Depuración: ['Received:', 'from', 'murder', '([unix', 'socket])']\n",
      "Depuración: ['by', 'mail.umich.edu', '(Cyrus', 'v2.2.12)', 'with', 'LMTPA;']\n",
      "Depuración: ['Fri,', '04', 'Jan', '2008', '16:10:39', '-0500']\n",
      "Depuración: ['Received:', 'from', 'ghostbusters.mr.itd.umich.edu', '(ghostbusters.mr.itd.umich.edu', '[141.211.93.144])']\n",
      "Depuración: ['by', 'panther.mail.umich.edu', '()', 'with', 'ESMTP', 'id', 'm04LAcZw014275;']\n",
      "Depuración: ['Fri,', '4', 'Jan', '2008', '16:10:38', '-0500']\n",
      "Depuración: ['Received:', 'FROM', 'paploo.uhi.ac.uk', '(app1.prod.collab.uhi.ac.uk', '[194.35.219.184])']\n",
      "Depuración: ['BY', 'ghostbusters.mr.itd.umich.edu', 'ID', '477EA0C6.A0214.25480', ';']\n",
      "Depuración: ['4', 'Jan', '2008', '16:10:33', '-0500']\n",
      "Depuración: ['Received:', 'from', 'paploo.uhi.ac.uk', '(localhost', '[127.0.0.1])']\n",
      "Depuración: ['by', 'paploo.uhi.ac.uk', '(Postfix)', 'with', 'ESMTP', 'id', 'C48CDBB490;']\n",
      "Depuración: ['Fri,', '4', 'Jan', '2008', '21:10:31', '+0000', '(GMT)']\n",
      "Depuración: ['Message-ID:', '<200801042109.m04L92hb007923@nakamura.uits.iupui.edu>']\n",
      "Depuración: ['Mime-Version:', '1.0']\n",
      "Depuración: ['Content-Transfer-Encoding:', '7bit']\n",
      "Depuración: ['Received:', 'from', 'prod.collab.uhi.ac.uk', '([194.35.219.182])']\n",
      "Depuración: ['by', 'paploo.uhi.ac.uk', '(JAMES', 'SMTP', 'Server', '2.1.3)', 'with', 'SMTP', 'ID', '906']\n",
      "Depuración: ['for', '<source@collab.sakaiproject.org>;']\n",
      "Depuración: ['Fri,', '4', 'Jan', '2008', '21:10:18', '+0000', '(GMT)']\n",
      "Depuración: ['Received:', 'from', 'nakamura.uits.iupui.edu', '(nakamura.uits.iupui.edu', '[134.68.220.122])']\n",
      "Depuración: ['by', 'shmi.uhi.ac.uk', '(Postfix)', 'with', 'ESMTP', 'id', '7D13042F71']\n",
      "Depuración: ['for', '<source@collab.sakaiproject.org>;', 'Fri,', '4', 'Jan', '2008', '21:10:14', '+0000', '(GMT)']\n",
      "Depuración: ['Received:', 'from', 'nakamura.uits.iupui.edu', '(localhost', '[127.0.0.1])']\n",
      "Depuración: ['by', 'nakamura.uits.iupui.edu', '(8.12.11.20060308/8.12.11)', 'with', 'ESMTP', 'id', 'm04L927E007925']\n",
      "Depuración: ['for', '<source@collab.sakaiproject.org>;', 'Fri,', '4', 'Jan', '2008', '16:09:02', '-0500']\n",
      "Depuración: ['Received:', '(from', 'apache@localhost)']\n",
      "Depuración: ['by', 'nakamura.uits.iupui.edu', '(8.12.11.20060308/8.12.11/Submit)', 'id', 'm04L92hb007923']\n",
      "Depuración: ['for', 'source@collab.sakaiproject.org;', 'Fri,', '4', 'Jan', '2008', '16:09:02', '-0500']\n",
      "Depuración: ['Date:', 'Fri,', '4', 'Jan', '2008', '16:09:02', '-0500']\n",
      "Depuración: ['X-Authentication-Warning:', 'nakamura.uits.iupui.edu:', 'apache', 'set', 'sender', 'to', 'zqian@umich.edu', 'using', '-f']\n",
      "Depuración: ['To:', 'source@collab.sakaiproject.org']\n",
      "Depuración: ['From:', 'zqian@umich.edu']\n",
      "Depuración: ['Subject:', '[sakai]', 'svn', 'commit:', 'r39770', '-', 'site-manage/branches/sakai_2-5-x/site-manage-tool/tool/src/webapp/vm/sitesetup']\n",
      "Depuración: ['X-Content-Type-Outer-Envelope:', 'text/plain;', 'charset=UTF-8']\n",
      "Depuración: ['X-Content-Type-Message-Body:', 'text/plain;', 'charset=UTF-8']\n",
      "Depuración: ['Content-Type:', 'text/plain;', 'charset=UTF-8']\n",
      "Depuración: ['X-DSPAM-Result:', 'Innocent']\n",
      "Depuración: ['X-DSPAM-Processed:', 'Fri', 'Jan', '4', '16:10:39', '2008']\n",
      "Depuración: ['X-DSPAM-Confidence:', '0.6961']\n",
      "Depuración: ['X-DSPAM-Probability:', '0.0000']\n",
      "Depuración: []\n",
      "Depuración: ['Details:', 'http://source.sakaiproject.org/viewsvn/?view=rev&rev=39770']\n",
      "Depuración: []\n",
      "Depuración: ['Author:', 'zqian@umich.edu']\n",
      "Depuración: ['Date:', '2008-01-04', '16:09:01', '-0500', '(Fri,', '04', 'Jan', '2008)']\n",
      "Depuración: ['New', 'Revision:', '39770']\n",
      "Depuración: []\n",
      "Depuración: ['Modified:']\n",
      "Depuración: ['site-manage/branches/sakai_2-5-x/site-manage-tool/tool/src/webapp/vm/sitesetup/chef_site-siteInfo-list.vm']\n",
      "Depuración: ['Log:']\n",
      "Depuración: ['merge', 'fix', 'to', 'SAK-9996', 'into', '2-5-x', 'branch:', 'svn', 'merge', '-r', '39687:39688', 'https://source.sakaiproject.org/svn/site-manage/trunk/']\n",
      "Depuración: []\n",
      "Depuración: ['----------------------']\n",
      "Depuración: ['This', 'automatic', 'notification', 'message', 'was', 'sent', 'by', 'Sakai', 'Collab', '(https://collab.sakaiproject.org/portal)', 'from', 'the', 'Source', 'site.']\n",
      "Depuración: ['You', 'can', 'modify', 'how', 'you', 'receive', 'notifications', 'at', 'My', 'Workspace', '>', 'Preferences.']\n",
      "Depuración: []\n",
      "Depuración: []\n",
      "Depuración: []\n",
      "Depuración: ['From', 'rjlowe@iupui.edu', 'Fri', 'Jan', '4', '15:46:24', '2008']\n",
      "Fri\n",
      "Depuración: ['Return-Path:', '<postmaster@collab.sakaiproject.org>']\n",
      "Depuración: ['Received:', 'from', 'murder', '(mail.umich.edu', '[141.211.14.25])']\n",
      "Depuración: ['by', 'frankenstein.mail.umich.edu', '(Cyrus', 'v2.3.8)', 'with', 'LMTPA;']\n",
      "Depuración: ['Fri,', '04', 'Jan', '2008', '15:46:24', '-0500']\n",
      "Depuración: ['X-Sieve:', 'CMU', 'Sieve', '2.3']\n",
      "Depuración: ['Received:', 'from', 'murder', '([unix', 'socket])']\n",
      "Depuración: ['by', 'mail.umich.edu', '(Cyrus', 'v2.2.12)', 'with', 'LMTPA;']\n",
      "Depuración: ['Fri,', '04', 'Jan', '2008', '15:46:24', '-0500']\n",
      "Depuración: ['Received:', 'from', 'dreamcatcher.mr.itd.umich.edu', '(dreamcatcher.mr.itd.umich.edu', '[141.211.14.43])']\n",
      "Depuración: ['by', 'panther.mail.umich.edu', '()', 'with', 'ESMTP', 'id', 'm04KkNbx032077;']\n",
      "Depuración: ['Fri,', '4', 'Jan', '2008', '15:46:23', '-0500']\n",
      "Depuración: ['Received:', 'FROM', 'paploo.uhi.ac.uk', '(app1.prod.collab.uhi.ac.uk', '[194.35.219.184])']\n",
      "Depuración: ['BY', 'dreamcatcher.mr.itd.umich.edu', 'ID', '477E9B13.2F3BC.22965', ';']\n",
      "Depuración: ['4', 'Jan', '2008', '15:46:13', '-0500']\n",
      "Depuración: ['Received:', 'from', 'paploo.uhi.ac.uk', '(localhost', '[127.0.0.1])']\n",
      "Depuración: ['by', 'paploo.uhi.ac.uk', '(Postfix)', 'with', 'ESMTP', 'id', '4AE03BB552;']\n",
      "Depuración: ['Fri,', '4', 'Jan', '2008', '20:46:13', '+0000', '(GMT)']\n",
      "Depuración: ['Message-ID:', '<200801042044.m04Kiem3007881@nakamura.uits.iupui.edu>']\n",
      "Depuración: ['Mime-Version:', '1.0']\n",
      "Depuración: ['Content-Transfer-Encoding:', '7bit']\n",
      "Depuración: ['Received:', 'from', 'prod.collab.uhi.ac.uk', '([194.35.219.182])']\n",
      "Depuración: ['by', 'paploo.uhi.ac.uk', '(JAMES', 'SMTP', 'Server', '2.1.3)', 'with', 'SMTP', 'ID', '38']\n",
      "Depuración: ['for', '<source@collab.sakaiproject.org>;']\n",
      "Depuración: ['Fri,', '4', 'Jan', '2008', '20:45:56', '+0000', '(GMT)']\n",
      "Depuración: ['Received:', 'from', 'nakamura.uits.iupui.edu', '(nakamura.uits.iupui.edu', '[134.68.220.122])']\n",
      "Depuración: ['by', 'shmi.uhi.ac.uk', '(Postfix)', 'with', 'ESMTP', 'id', 'A55D242F57']\n",
      "Depuración: ['for', '<source@collab.sakaiproject.org>;', 'Fri,', '4', 'Jan', '2008', '20:45:52', '+0000', '(GMT)']\n",
      "Depuración: ['Received:', 'from', 'nakamura.uits.iupui.edu', '(localhost', '[127.0.0.1])']\n",
      "Depuración: ['by', 'nakamura.uits.iupui.edu', '(8.12.11.20060308/8.12.11)', 'with', 'ESMTP', 'id', 'm04KieqE007883']\n",
      "Depuración: ['for', '<source@collab.sakaiproject.org>;', 'Fri,', '4', 'Jan', '2008', '15:44:40', '-0500']\n",
      "Depuración: ['Received:', '(from', 'apache@localhost)']\n",
      "Depuración: ['by', 'nakamura.uits.iupui.edu', '(8.12.11.20060308/8.12.11/Submit)', 'id', 'm04Kiem3007881']\n",
      "Depuración: ['for', 'source@collab.sakaiproject.org;', 'Fri,', '4', 'Jan', '2008', '15:44:40', '-0500']\n",
      "Depuración: ['Date:', 'Fri,', '4', 'Jan', '2008', '15:44:40', '-0500']\n",
      "Depuración: ['X-Authentication-Warning:', 'nakamura.uits.iupui.edu:', 'apache', 'set', 'sender', 'to', 'rjlowe@iupui.edu', 'using', '-f']\n",
      "Depuración: ['To:', 'source@collab.sakaiproject.org']\n",
      "Depuración: ['From:', 'rjlowe@iupui.edu']\n",
      "Depuración: ['Subject:', '[sakai]', 'svn', 'commit:', 'r39769', '-', 'in', 'gradebook/trunk/app/ui/src:', 'java/org/sakaiproject/tool/gradebook/ui/helpers/beans', 'java/org/sakaiproject/tool/gradebook/ui/helpers/producers', 'webapp/WEB-INF', 'webapp/WEB-INF/bundle']\n",
      "Depuración: ['X-Content-Type-Outer-Envelope:', 'text/plain;', 'charset=UTF-8']\n",
      "Depuración: ['X-Content-Type-Message-Body:', 'text/plain;', 'charset=UTF-8']\n",
      "Depuración: ['Content-Type:', 'text/plain;', 'charset=UTF-8']\n",
      "Depuración: ['X-DSPAM-Result:', 'Innocent']\n",
      "Depuración: ['X-DSPAM-Processed:', 'Fri', 'Jan', '4', '15:46:24', '2008']\n",
      "Depuración: ['X-DSPAM-Confidence:', '0.7565']\n",
      "Depuración: ['X-DSPAM-Probability:', '0.0000']\n",
      "Depuración: []\n",
      "Depuración: ['Details:', 'http://source.sakaiproject.org/viewsvn/?view=rev&rev=39769']\n",
      "Depuración: []\n",
      "Depuración: ['Author:', 'rjlowe@iupui.edu']\n",
      "Depuración: ['Date:', '2008-01-04', '15:44:39', '-0500', '(Fri,', '04', 'Jan', '2008)']\n",
      "Depuración: ['New', 'Revision:', '39769']\n",
      "Depuración: []\n",
      "Depuración: ['Modified:']\n",
      "Depuración: ['gradebook/trunk/app/ui/src/java/org/sakaiproject/tool/gradebook/ui/helpers/beans/AssignmentGradeRecordBean.java']\n",
      "Depuración: ['gradebook/trunk/app/ui/src/java/org/sakaiproject/tool/gradebook/ui/helpers/producers/GradeGradebookItemProducer.java']\n",
      "Depuración: ['gradebook/trunk/app/ui/src/webapp/WEB-INF/applicationContext.xml']\n",
      "Depuración: ['gradebook/trunk/app/ui/src/webapp/WEB-INF/bundle/messages.properties']\n",
      "Depuración: ['gradebook/trunk/app/ui/src/webapp/WEB-INF/requestContext.xml']\n",
      "Depuración: ['Log:']\n",
      "Depuración: ['SAK-12180', '-', 'Fixed', 'errors', 'with', 'grading', 'helper']\n",
      "Depuración: []\n",
      "Depuración: ['----------------------']\n",
      "Depuración: ['This', 'automatic', 'notification', 'message', 'was', 'sent', 'by', 'Sakai', 'Collab', '(https://collab.sakaiproject.org/portal)', 'from', 'the', 'Source', 'site.']\n",
      "Depuración: ['You', 'can', 'modify', 'how', 'you', 'receive', 'notifications', 'at', 'My', 'Workspace', '>', 'Preferences.']\n",
      "Depuración: []\n",
      "Depuración: []\n",
      "Depuración: []\n",
      "Depuración: ['From', 'zqian@umich.edu', 'Fri', 'Jan', '4', '15:03:18', '2008']\n",
      "Fri\n",
      "Depuración: ['Return-Path:', '<postmaster@collab.sakaiproject.org>']\n",
      "Depuración: ['Received:', 'from', 'murder', '(mail.umich.edu', '[141.211.14.46])']\n",
      "Depuración: ['by', 'frankenstein.mail.umich.edu', '(Cyrus', 'v2.3.8)', 'with', 'LMTPA;']\n",
      "Depuración: ['Fri,', '04', 'Jan', '2008', '15:03:18', '-0500']\n",
      "Depuración: ['X-Sieve:', 'CMU', 'Sieve', '2.3']\n",
      "Depuración: ['Received:', 'from', 'murder', '([unix', 'socket])']\n",
      "Depuración: ['by', 'mail.umich.edu', '(Cyrus', 'v2.2.12)', 'with', 'LMTPA;']\n",
      "Depuración: ['Fri,', '04', 'Jan', '2008', '15:03:18', '-0500']\n",
      "Depuración: ['Received:', 'from', 'firestarter.mr.itd.umich.edu', '(firestarter.mr.itd.umich.edu', '[141.211.14.83])']\n",
      "Depuración: ['by', 'fan.mail.umich.edu', '()', 'with', 'ESMTP', 'id', 'm04K3HGF006563;']\n",
      "Depuración: ['Fri,', '4', 'Jan', '2008', '15:03:17', '-0500']\n",
      "Depuración: ['Received:', 'FROM', 'paploo.uhi.ac.uk', '(app1.prod.collab.uhi.ac.uk', '[194.35.219.184])']\n",
      "Depuración: ['BY', 'firestarter.mr.itd.umich.edu', 'ID', '477E9100.8F7F4.1590', ';']\n",
      "Depuración: ['4', 'Jan', '2008', '15:03:15', '-0500']\n",
      "Depuración: ['Received:', 'from', 'paploo.uhi.ac.uk', '(localhost', '[127.0.0.1])']\n",
      "Depuración: ['by', 'paploo.uhi.ac.uk', '(Postfix)', 'with', 'ESMTP', 'id', '57770BB477;']\n",
      "Depuración: ['Fri,', '4', 'Jan', '2008', '20:03:09', '+0000', '(GMT)']\n",
      "Depuración: ['Message-ID:', '<200801042001.m04K1cO0007738@nakamura.uits.iupui.edu>']\n",
      "Depuración: ['Mime-Version:', '1.0']\n",
      "Depuración: ['Content-Transfer-Encoding:', '7bit']\n",
      "Depuración: ['Received:', 'from', 'prod.collab.uhi.ac.uk', '([194.35.219.182])']\n",
      "Depuración: ['by', 'paploo.uhi.ac.uk', '(JAMES', 'SMTP', 'Server', '2.1.3)', 'with', 'SMTP', 'ID', '622']\n",
      "Depuración: ['for', '<source@collab.sakaiproject.org>;']\n",
      "Depuración: ['Fri,', '4', 'Jan', '2008', '20:02:46', '+0000', '(GMT)']\n",
      "Depuración: ['Received:', 'from', 'nakamura.uits.iupui.edu', '(nakamura.uits.iupui.edu', '[134.68.220.122])']\n",
      "Depuración: ['by', 'shmi.uhi.ac.uk', '(Postfix)', 'with', 'ESMTP', 'id', 'AB4D042F4D']\n",
      "Depuración: ['for', '<source@collab.sakaiproject.org>;', 'Fri,', '4', 'Jan', '2008', '20:02:50', '+0000', '(GMT)']\n",
      "Depuración: ['Received:', 'from', 'nakamura.uits.iupui.edu', '(localhost', '[127.0.0.1])']\n",
      "Depuración: ['by', 'nakamura.uits.iupui.edu', '(8.12.11.20060308/8.12.11)', 'with', 'ESMTP', 'id', 'm04K1cXv007740']\n",
      "Depuración: ['for', '<source@collab.sakaiproject.org>;', 'Fri,', '4', 'Jan', '2008', '15:01:38', '-0500']\n",
      "Depuración: ['Received:', '(from', 'apache@localhost)']\n",
      "Depuración: ['by', 'nakamura.uits.iupui.edu', '(8.12.11.20060308/8.12.11/Submit)', 'id', 'm04K1cO0007738']\n",
      "Depuración: ['for', 'source@collab.sakaiproject.org;', 'Fri,', '4', 'Jan', '2008', '15:01:38', '-0500']\n",
      "Depuración: ['Date:', 'Fri,', '4', 'Jan', '2008', '15:01:38', '-0500']\n",
      "Depuración: ['X-Authentication-Warning:', 'nakamura.uits.iupui.edu:', 'apache', 'set', 'sender', 'to', 'zqian@umich.edu', 'using', '-f']\n",
      "Depuración: ['To:', 'source@collab.sakaiproject.org']\n",
      "Depuración: ['From:', 'zqian@umich.edu']\n",
      "Depuración: ['Subject:', '[sakai]', 'svn', 'commit:', 'r39766', '-', 'site-manage/branches/sakai_2-4-x/site-manage-tool/tool/src/java/org/sakaiproject/site/tool']\n",
      "Depuración: ['X-Content-Type-Outer-Envelope:', 'text/plain;', 'charset=UTF-8']\n",
      "Depuración: ['X-Content-Type-Message-Body:', 'text/plain;', 'charset=UTF-8']\n",
      "Depuración: ['Content-Type:', 'text/plain;', 'charset=UTF-8']\n",
      "Depuración: ['X-DSPAM-Result:', 'Innocent']\n",
      "Depuración: ['X-DSPAM-Processed:', 'Fri', 'Jan', '4', '15:03:18', '2008']\n",
      "Depuración: ['X-DSPAM-Confidence:', '0.7626']\n",
      "Depuración: ['X-DSPAM-Probability:', '0.0000']\n",
      "Depuración: []\n",
      "Depuración: ['Details:', 'http://source.sakaiproject.org/viewsvn/?view=rev&rev=39766']\n",
      "Depuración: []\n",
      "Depuración: ['Author:', 'zqian@umich.edu']\n",
      "Depuración: ['Date:', '2008-01-04', '15:01:37', '-0500', '(Fri,', '04', 'Jan', '2008)']\n",
      "Depuración: ['New', 'Revision:', '39766']\n",
      "Depuración: []\n",
      "Depuración: ['Modified:']\n",
      "Depuración: ['site-manage/branches/sakai_2-4-x/site-manage-tool/tool/src/java/org/sakaiproject/site/tool/SiteAction.java']\n",
      "Depuración: ['Log:']\n",
      "Depuración: ['merge', 'fix', 'to', 'SAK-10788', 'into', 'site-manage', '2.4.x', 'branch:']\n",
      "Depuración: []\n",
      "Depuración: ['Sakai', 'Source', 'Repository', '#38024', 'Wed', 'Nov', '07', '14:54:46', 'MST', '2007', 'zqian@umich.edu', 'Fix', 'to', 'SAK-10788:', 'If', 'a', 'provided', 'id', 'in', 'a', 'couse', 'site', 'is', 'fake', 'or', \"doesn't\", 'provide', 'any', 'user', 'information,', 'Site', 'Info', 'appears', 'to', 'be', 'like', 'project', 'site', 'with', 'empty', 'participant', 'list']\n",
      "Depuración: []\n",
      "Depuración: ['Watch', 'for', 'enrollments', 'object', 'being', 'null', 'and', 'concatenate', 'provider', 'ids', 'when', 'there', 'are', 'more', 'than', 'one.']\n",
      "Depuración: ['Files', 'Changed']\n",
      "Depuración: ['MODIFY', '/site-manage/trunk/site-manage-tool/tool/src/java/org/sakaiproject/site/tool/SiteAction.java']\n",
      "Depuración: []\n",
      "Depuración: []\n",
      "Depuración: []\n",
      "Depuración: []\n",
      "Depuración: ['----------------------']\n",
      "Depuración: ['This', 'automatic', 'notification', 'message', 'was', 'sent', 'by', 'Sakai', 'Collab', '(https://collab.sakaiproject.org/portal)', 'from', 'the', 'Source', 'site.']\n",
      "Depuración: ['You', 'can', 'modify', 'how', 'you', 'receive', 'notifications', 'at', 'My', 'Workspace', '>', 'Preferences.']\n",
      "Depuración: []\n",
      "Depuración: []\n",
      "Depuración: []\n",
      "Depuración: ['From', 'rjlowe@iupui.edu', 'Fri', 'Jan', '4', '14:50:18', '2008']\n",
      "Fri\n",
      "Depuración: ['Return-Path:', '<postmaster@collab.sakaiproject.org>']\n",
      "Depuración: ['Received:', 'from', 'murder', '(mail.umich.edu', '[141.211.14.93])']\n",
      "Depuración: ['by', 'frankenstein.mail.umich.edu', '(Cyrus', 'v2.3.8)', 'with', 'LMTPA;']\n",
      "Depuración: ['Fri,', '04', 'Jan', '2008', '14:50:18', '-0500']\n",
      "Depuración: ['X-Sieve:', 'CMU', 'Sieve', '2.3']\n",
      "Depuración: ['Received:', 'from', 'murder', '([unix', 'socket])']\n",
      "Depuración: ['by', 'mail.umich.edu', '(Cyrus', 'v2.2.12)', 'with', 'LMTPA;']\n",
      "Depuración: ['Fri,', '04', 'Jan', '2008', '14:50:18', '-0500']\n",
      "Depuración: ['Received:', 'from', 'eyewitness.mr.itd.umich.edu', '(eyewitness.mr.itd.umich.edu', '[141.211.93.142])']\n",
      "Depuración: ['by', 'mission.mail.umich.edu', '()', 'with', 'ESMTP', 'id', 'm04JoHJi019755;']\n",
      "Depuración: ['Fri,', '4', 'Jan', '2008', '14:50:17', '-0500']\n",
      "Depuración: ['Received:', 'FROM', 'paploo.uhi.ac.uk', '(app1.prod.collab.uhi.ac.uk', '[194.35.219.184])']\n",
      "Depuración: ['BY', 'eyewitness.mr.itd.umich.edu', 'ID', '477E8DF2.67B91.5278', ';']\n",
      "Depuración: ['4', 'Jan', '2008', '14:50:13', '-0500']\n",
      "Depuración: ['Received:', 'from', 'paploo.uhi.ac.uk', '(localhost', '[127.0.0.1])']\n",
      "Depuración: ['by', 'paploo.uhi.ac.uk', '(Postfix)', 'with', 'ESMTP', 'id', '2D1B9BB492;']\n",
      "Depuración: ['Fri,', '4', 'Jan', '2008', '19:47:10', '+0000', '(GMT)']\n",
      "Depuración: ['Message-ID:', '<200801041948.m04JmdwO007705@nakamura.uits.iupui.edu>']\n",
      "Depuración: ['Mime-Version:', '1.0']\n",
      "Depuración: ['Content-Transfer-Encoding:', '7bit']\n",
      "Depuración: ['Received:', 'from', 'prod.collab.uhi.ac.uk', '([194.35.219.182])']\n",
      "Depuración: ['by', 'paploo.uhi.ac.uk', '(JAMES', 'SMTP', 'Server', '2.1.3)', 'with', 'SMTP', 'ID', '960']\n",
      "Depuración: ['for', '<source@collab.sakaiproject.org>;']\n",
      "Depuración: ['Fri,', '4', 'Jan', '2008', '19:46:50', '+0000', '(GMT)']\n",
      "Depuración: ['Received:', 'from', 'nakamura.uits.iupui.edu', '(nakamura.uits.iupui.edu', '[134.68.220.122])']\n",
      "Depuración: ['by', 'shmi.uhi.ac.uk', '(Postfix)', 'with', 'ESMTP', 'id', 'B3E6742F4A']\n",
      "Depuración: ['for', '<source@collab.sakaiproject.org>;', 'Fri,', '4', 'Jan', '2008', '19:49:51', '+0000', '(GMT)']\n",
      "Depuración: ['Received:', 'from', 'nakamura.uits.iupui.edu', '(localhost', '[127.0.0.1])']\n",
      "Depuración: ['by', 'nakamura.uits.iupui.edu', '(8.12.11.20060308/8.12.11)', 'with', 'ESMTP', 'id', 'm04JmeV9007707']\n",
      "Depuración: ['for', '<source@collab.sakaiproject.org>;', 'Fri,', '4', 'Jan', '2008', '14:48:40', '-0500']\n",
      "Depuración: ['Received:', '(from', 'apache@localhost)']\n",
      "Depuración: ['by', 'nakamura.uits.iupui.edu', '(8.12.11.20060308/8.12.11/Submit)', 'id', 'm04JmdwO007705']\n",
      "Depuración: ['for', 'source@collab.sakaiproject.org;', 'Fri,', '4', 'Jan', '2008', '14:48:39', '-0500']\n",
      "Depuración: ['Date:', 'Fri,', '4', 'Jan', '2008', '14:48:39', '-0500']\n",
      "Depuración: ['X-Authentication-Warning:', 'nakamura.uits.iupui.edu:', 'apache', 'set', 'sender', 'to', 'rjlowe@iupui.edu', 'using', '-f']\n",
      "Depuración: ['To:', 'source@collab.sakaiproject.org']\n",
      "Depuración: ['From:', 'rjlowe@iupui.edu']\n",
      "Depuración: ['Subject:', '[sakai]', 'svn', 'commit:', 'r39765', '-', 'in', 'gradebook/trunk/app:', 'business/src/java/org/sakaiproject/tool/gradebook/business', 'business/src/java/org/sakaiproject/tool/gradebook/business/impl', 'ui', 'ui/src/java/org/sakaiproject/tool/gradebook/ui/helpers/beans', 'ui/src/java/org/sakaiproject/tool/gradebook/ui/helpers/entity', 'ui/src/java/org/sakaiproject/tool/gradebook/ui/helpers/params', 'ui/src/java/org/sakaiproject/tool/gradebook/ui/helpers/producers', 'ui/src/webapp/WEB-INF', 'ui/src/webapp/WEB-INF/bundle', 'ui/src/webapp/content/templates']\n",
      "Depuración: ['X-Content-Type-Outer-Envelope:', 'text/plain;', 'charset=UTF-8']\n",
      "Depuración: ['X-Content-Type-Message-Body:', 'text/plain;', 'charset=UTF-8']\n",
      "Depuración: ['Content-Type:', 'text/plain;', 'charset=UTF-8']\n",
      "Depuración: ['X-DSPAM-Result:', 'Innocent']\n",
      "Depuración: ['X-DSPAM-Processed:', 'Fri', 'Jan', '4', '14:50:18', '2008']\n",
      "Depuración: ['X-DSPAM-Confidence:', '0.7556']\n",
      "Depuración: ['X-DSPAM-Probability:', '0.0000']\n",
      "Depuración: []\n",
      "Depuración: ['Details:', 'http://source.sakaiproject.org/viewsvn/?view=rev&rev=39765']\n",
      "Depuración: []\n",
      "Depuración: ['Author:', 'rjlowe@iupui.edu']\n",
      "Depuración: ['Date:', '2008-01-04', '14:48:37', '-0500', '(Fri,', '04', 'Jan', '2008)']\n",
      "Depuración: ['New', 'Revision:', '39765']\n",
      "Depuración: []\n",
      "Depuración: ['Added:']\n",
      "Depuración: ['gradebook/trunk/app/ui/src/java/org/sakaiproject/tool/gradebook/ui/helpers/beans/AssignmentGradeRecordBean.java']\n",
      "Depuración: ['gradebook/trunk/app/ui/src/java/org/sakaiproject/tool/gradebook/ui/helpers/beans/AssignmentGradeRecordCreator.java']\n",
      "Depuración: ['gradebook/trunk/app/ui/src/java/org/sakaiproject/tool/gradebook/ui/helpers/entity/GradebookEntryGradeEntityProvider.java']\n",
      "Depuración: ['gradebook/trunk/app/ui/src/java/org/sakaiproject/tool/gradebook/ui/helpers/params/GradeGradebookItemViewParams.java']\n",
      "Depuración: ['gradebook/trunk/app/ui/src/java/org/sakaiproject/tool/gradebook/ui/helpers/producers/GradeGradebookItemProducer.java']\n",
      "Depuración: ['gradebook/trunk/app/ui/src/webapp/content/templates/grade-gradebook-item.html']\n",
      "Depuración: ['Modified:']\n",
      "Depuración: ['gradebook/trunk/app/business/src/java/org/sakaiproject/tool/gradebook/business/GradebookManager.java']\n",
      "Depuración: ['gradebook/trunk/app/business/src/java/org/sakaiproject/tool/gradebook/business/impl/GradebookManagerHibernateImpl.java']\n",
      "Depuración: ['gradebook/trunk/app/ui/pom.xml']\n",
      "Depuración: ['gradebook/trunk/app/ui/src/java/org/sakaiproject/tool/gradebook/ui/helpers/beans/GradebookItemBean.java']\n",
      "Depuración: ['gradebook/trunk/app/ui/src/java/org/sakaiproject/tool/gradebook/ui/helpers/entity/GradebookEntryEntityProvider.java']\n",
      "Depuración: ['gradebook/trunk/app/ui/src/java/org/sakaiproject/tool/gradebook/ui/helpers/producers/AddGradebookItemProducer.java']\n",
      "Depuración: ['gradebook/trunk/app/ui/src/webapp/WEB-INF/applicationContext.xml']\n",
      "Depuración: ['gradebook/trunk/app/ui/src/webapp/WEB-INF/bundle/messages.properties']\n",
      "Depuración: ['gradebook/trunk/app/ui/src/webapp/WEB-INF/requestContext.xml']\n",
      "Depuración: ['Log:']\n",
      "Depuración: ['SAK-12180', '-', 'New', 'helper', 'tool', 'to', 'grade', 'an', 'assignment']\n",
      "Depuración: []\n",
      "Depuración: ['----------------------']\n",
      "Depuración: ['This', 'automatic', 'notification', 'message', 'was', 'sent', 'by', 'Sakai', 'Collab', '(https://collab.sakaiproject.org/portal)', 'from', 'the', 'Source', 'site.']\n",
      "Depuración: ['You', 'can', 'modify', 'how', 'you', 'receive', 'notifications', 'at', 'My', 'Workspace', '>', 'Preferences.']\n",
      "Depuración: []\n",
      "Depuración: []\n",
      "Depuración: []\n",
      "Depuración: ['From', 'cwen@iupui.edu', 'Fri', 'Jan', '4', '11:37:30', '2008']\n",
      "Fri\n",
      "Depuración: ['Return-Path:', '<postmaster@collab.sakaiproject.org>']\n",
      "Depuración: ['Received:', 'from', 'murder', '(mail.umich.edu', '[141.211.14.46])']\n",
      "Depuración: ['by', 'frankenstein.mail.umich.edu', '(Cyrus', 'v2.3.8)', 'with', 'LMTPA;']\n",
      "Depuración: ['Fri,', '04', 'Jan', '2008', '11:37:30', '-0500']\n",
      "Depuración: ['X-Sieve:', 'CMU', 'Sieve', '2.3']\n",
      "Depuración: ['Received:', 'from', 'murder', '([unix', 'socket])']\n",
      "Depuración: ['by', 'mail.umich.edu', '(Cyrus', 'v2.2.12)', 'with', 'LMTPA;']\n",
      "Depuración: ['Fri,', '04', 'Jan', '2008', '11:37:30', '-0500']\n",
      "Depuración: ['Received:', 'from', 'tadpole.mr.itd.umich.edu', '(tadpole.mr.itd.umich.edu', '[141.211.14.72])']\n",
      "Depuración: ['by', 'fan.mail.umich.edu', '()', 'with', 'ESMTP', 'id', 'm04GbT9x022078;']\n",
      "Depuración: ['Fri,', '4', 'Jan', '2008', '11:37:29', '-0500']\n",
      "Depuración: ['Received:', 'FROM', 'paploo.uhi.ac.uk', '(app1.prod.collab.uhi.ac.uk', '[194.35.219.184])']\n",
      "Depuración: ['BY', 'tadpole.mr.itd.umich.edu', 'ID', '477E60B2.82756.9904', ';']\n",
      "Depuración: ['4', 'Jan', '2008', '11:37:09', '-0500']\n",
      "Depuración: ['Received:', 'from', 'paploo.uhi.ac.uk', '(localhost', '[127.0.0.1])']\n",
      "Depuración: ['by', 'paploo.uhi.ac.uk', '(Postfix)', 'with', 'ESMTP', 'id', '8D13DBB001;']\n",
      "Depuración: ['Fri,', '4', 'Jan', '2008', '16:37:07', '+0000', '(GMT)']\n",
      "Depuración: ['Message-ID:', '<200801041635.m04GZQGZ007313@nakamura.uits.iupui.edu>']\n",
      "Depuración: ['Mime-Version:', '1.0']\n",
      "Depuración: ['Content-Transfer-Encoding:', '7bit']\n",
      "Depuración: ['Received:', 'from', 'prod.collab.uhi.ac.uk', '([194.35.219.182])']\n",
      "Depuración: ['by', 'paploo.uhi.ac.uk', '(JAMES', 'SMTP', 'Server', '2.1.3)', 'with', 'SMTP', 'ID', '120']\n",
      "Depuración: ['for', '<source@collab.sakaiproject.org>;']\n",
      "Depuración: ['Fri,', '4', 'Jan', '2008', '16:36:40', '+0000', '(GMT)']\n",
      "Depuración: ['Received:', 'from', 'nakamura.uits.iupui.edu', '(nakamura.uits.iupui.edu', '[134.68.220.122])']\n",
      "Depuración: ['by', 'shmi.uhi.ac.uk', '(Postfix)', 'with', 'ESMTP', 'id', 'D430B42E42']\n",
      "Depuración: ['for', '<source@collab.sakaiproject.org>;', 'Fri,', '4', 'Jan', '2008', '16:36:37', '+0000', '(GMT)']\n",
      "Depuración: ['Received:', 'from', 'nakamura.uits.iupui.edu', '(localhost', '[127.0.0.1])']\n",
      "Depuración: ['by', 'nakamura.uits.iupui.edu', '(8.12.11.20060308/8.12.11)', 'with', 'ESMTP', 'id', 'm04GZQ7W007315']\n",
      "Depuración: ['for', '<source@collab.sakaiproject.org>;', 'Fri,', '4', 'Jan', '2008', '11:35:26', '-0500']\n",
      "Depuración: ['Received:', '(from', 'apache@localhost)']\n",
      "Depuración: ['by', 'nakamura.uits.iupui.edu', '(8.12.11.20060308/8.12.11/Submit)', 'id', 'm04GZQGZ007313']\n",
      "Depuración: ['for', 'source@collab.sakaiproject.org;', 'Fri,', '4', 'Jan', '2008', '11:35:26', '-0500']\n",
      "Depuración: ['Date:', 'Fri,', '4', 'Jan', '2008', '11:35:26', '-0500']\n",
      "Depuración: ['X-Authentication-Warning:', 'nakamura.uits.iupui.edu:', 'apache', 'set', 'sender', 'to', 'cwen@iupui.edu', 'using', '-f']\n",
      "Depuración: ['To:', 'source@collab.sakaiproject.org']\n",
      "Depuración: ['From:', 'cwen@iupui.edu']\n",
      "Depuración: ['Subject:', '[sakai]', 'svn', 'commit:', 'r39764', '-', 'in', 'msgcntr/trunk/messageforums-app/src/java/org/sakaiproject/tool/messageforums:', '.', 'ui']\n",
      "Depuración: ['X-Content-Type-Outer-Envelope:', 'text/plain;', 'charset=UTF-8']\n",
      "Depuración: ['X-Content-Type-Message-Body:', 'text/plain;', 'charset=UTF-8']\n",
      "Depuración: ['Content-Type:', 'text/plain;', 'charset=UTF-8']\n",
      "Depuración: ['X-DSPAM-Result:', 'Innocent']\n",
      "Depuración: ['X-DSPAM-Processed:', 'Fri', 'Jan', '4', '11:37:30', '2008']\n",
      "Depuración: ['X-DSPAM-Confidence:', '0.7002']\n",
      "Depuración: ['X-DSPAM-Probability:', '0.0000']\n",
      "Depuración: []\n",
      "Depuración: ['Details:', 'http://source.sakaiproject.org/viewsvn/?view=rev&rev=39764']\n",
      "Depuración: []\n",
      "Depuración: ['Author:', 'cwen@iupui.edu']\n",
      "Depuración: ['Date:', '2008-01-04', '11:35:25', '-0500', '(Fri,', '04', 'Jan', '2008)']\n",
      "Depuración: ['New', 'Revision:', '39764']\n",
      "Depuración: []\n",
      "Depuración: ['Modified:']\n",
      "Depuración: ['msgcntr/trunk/messageforums-app/src/java/org/sakaiproject/tool/messageforums/PrivateMessagesTool.java']\n",
      "Depuración: ['msgcntr/trunk/messageforums-app/src/java/org/sakaiproject/tool/messageforums/ui/PrivateMessageDecoratedBean.java']\n",
      "Depuración: ['Log:']\n",
      "Depuración: ['unmerge', \"Xingtang's\", 'checkin', 'for', 'SAK-12488.']\n",
      "Depuración: []\n",
      "Depuración: ['svn', 'merge', '-r39558:39557', 'https://source.sakaiproject.org/svn/msgcntr/trunk']\n",
      "Depuración: ['U', 'messageforums-app/src/java/org/sakaiproject/tool/messageforums/PrivateMessagesTool.java']\n",
      "Depuración: ['U', 'messageforums-app/src/java/org/sakaiproject/tool/messageforums/ui/PrivateMessageDecoratedBean.java']\n",
      "Depuración: []\n",
      "Depuración: ['svn', 'log', '-r', '39558']\n",
      "Depuración: ['------------------------------------------------------------------------']\n",
      "Depuración: ['r39558', '|', 'hu2@iupui.edu', '|', '2007-12-20', '15:25:38', '-0500', '(Thu,', '20', 'Dec', '2007)', '|', '3', 'lines']\n",
      "Depuración: []\n",
      "Depuración: ['SAK-12488']\n",
      "Depuración: ['when', 'send', 'a', 'message', 'to', 'yourself.', 'click', 'reply', 'to', 'all,', 'cc', 'row', 'should', 'be', 'null.']\n",
      "Depuración: ['http://jira.sakaiproject.org/jira/browse/SAK-12488']\n",
      "Depuración: ['------------------------------------------------------------------------']\n",
      "Depuración: []\n",
      "Depuración: []\n",
      "Depuración: ['----------------------']\n",
      "Depuración: ['This', 'automatic', 'notification', 'message', 'was', 'sent', 'by', 'Sakai', 'Collab', '(https://collab.sakaiproject.org/portal)', 'from', 'the', 'Source', 'site.']\n",
      "Depuración: ['You', 'can', 'modify', 'how', 'you', 'receive', 'notifications', 'at', 'My', 'Workspace', '>', 'Preferences.']\n",
      "Depuración: []\n",
      "Depuración: []\n",
      "Depuración: []\n",
      "Depuración: ['From', 'cwen@iupui.edu', 'Fri', 'Jan', '4', '11:35:08', '2008']\n",
      "Fri\n",
      "Depuración: ['Return-Path:', '<postmaster@collab.sakaiproject.org>']\n",
      "Depuración: ['Received:', 'from', 'murder', '(mail.umich.edu', '[141.211.14.46])']\n",
      "Depuración: ['by', 'frankenstein.mail.umich.edu', '(Cyrus', 'v2.3.8)', 'with', 'LMTPA;']\n",
      "Depuración: ['Fri,', '04', 'Jan', '2008', '11:35:08', '-0500']\n",
      "Depuración: ['X-Sieve:', 'CMU', 'Sieve', '2.3']\n",
      "Depuración: ['Received:', 'from', 'murder', '([unix', 'socket])']\n",
      "Depuración: ['by', 'mail.umich.edu', '(Cyrus', 'v2.2.12)', 'with', 'LMTPA;']\n",
      "Depuración: ['Fri,', '04', 'Jan', '2008', '11:35:08', '-0500']\n",
      "Depuración: ['Received:', 'from', 'it.mr.itd.umich.edu', '(it.mr.itd.umich.edu', '[141.211.93.151])']\n",
      "Depuración: ['by', 'fan.mail.umich.edu', '()', 'with', 'ESMTP', 'id', 'm04GZ6lt020480;']\n",
      "Depuración: ['Fri,', '4', 'Jan', '2008', '11:35:06', '-0500']\n",
      "Depuración: ['Received:', 'FROM', 'paploo.uhi.ac.uk', '(app1.prod.collab.uhi.ac.uk', '[194.35.219.184])']\n",
      "Depuración: ['BY', 'it.mr.itd.umich.edu', 'ID', '477E6033.6469D.21870', ';']\n",
      "Depuración: ['4', 'Jan', '2008', '11:35:02', '-0500']\n",
      "Depuración: ['Received:', 'from', 'paploo.uhi.ac.uk', '(localhost', '[127.0.0.1])']\n",
      "Depuración: ['by', 'paploo.uhi.ac.uk', '(Postfix)', 'with', 'ESMTP', 'id', 'E40FABAE5B;']\n",
      "Depuración: ['Fri,', '4', 'Jan', '2008', '16:34:38', '+0000', '(GMT)']\n",
      "Depuración: ['Message-ID:', '<200801041633.m04GX6eG007292@nakamura.uits.iupui.edu>']\n",
      "Depuración: ['Mime-Version:', '1.0']\n",
      "Depuración: ['Content-Transfer-Encoding:', '7bit']\n",
      "Depuración: ['Received:', 'from', 'prod.collab.uhi.ac.uk', '([194.35.219.182])']\n",
      "Depuración: ['by', 'paploo.uhi.ac.uk', '(JAMES', 'SMTP', 'Server', '2.1.3)', 'with', 'SMTP', 'ID', '697']\n",
      "Depuración: ['for', '<source@collab.sakaiproject.org>;']\n",
      "Depuración: ['Fri,', '4', 'Jan', '2008', '16:34:01', '+0000', '(GMT)']\n",
      "Depuración: ['Received:', 'from', 'nakamura.uits.iupui.edu', '(nakamura.uits.iupui.edu', '[134.68.220.122])']\n",
      "Depuración: ['by', 'shmi.uhi.ac.uk', '(Postfix)', 'with', 'ESMTP', 'id', '1CD0C42E42']\n",
      "Depuración: ['for', '<source@collab.sakaiproject.org>;', 'Fri,', '4', 'Jan', '2008', '16:34:17', '+0000', '(GMT)']\n",
      "Depuración: ['Received:', 'from', 'nakamura.uits.iupui.edu', '(localhost', '[127.0.0.1])']\n",
      "Depuración: ['by', 'nakamura.uits.iupui.edu', '(8.12.11.20060308/8.12.11)', 'with', 'ESMTP', 'id', 'm04GX6Y3007294']\n",
      "Depuración: ['for', '<source@collab.sakaiproject.org>;', 'Fri,', '4', 'Jan', '2008', '11:33:06', '-0500']\n",
      "Depuración: ['Received:', '(from', 'apache@localhost)']\n",
      "Depuración: ['by', 'nakamura.uits.iupui.edu', '(8.12.11.20060308/8.12.11/Submit)', 'id', 'm04GX6eG007292']\n",
      "Depuración: ['for', 'source@collab.sakaiproject.org;', 'Fri,', '4', 'Jan', '2008', '11:33:06', '-0500']\n",
      "Depuración: ['Date:', 'Fri,', '4', 'Jan', '2008', '11:33:06', '-0500']\n",
      "Depuración: ['X-Authentication-Warning:', 'nakamura.uits.iupui.edu:', 'apache', 'set', 'sender', 'to', 'cwen@iupui.edu', 'using', '-f']\n",
      "Depuración: ['To:', 'source@collab.sakaiproject.org']\n",
      "Depuración: ['From:', 'cwen@iupui.edu']\n",
      "Depuración: ['Subject:', '[sakai]', 'svn', 'commit:', 'r39763', '-', 'in', 'msgcntr/trunk:', 'messageforums-api/src/bundle/org/sakaiproject/api/app/messagecenter/bundle', 'messageforums-app/src/java/org/sakaiproject/tool/messageforums']\n",
      "Depuración: ['X-Content-Type-Outer-Envelope:', 'text/plain;', 'charset=UTF-8']\n",
      "Depuración: ['X-Content-Type-Message-Body:', 'text/plain;', 'charset=UTF-8']\n",
      "Depuración: ['Content-Type:', 'text/plain;', 'charset=UTF-8']\n",
      "Depuración: ['X-DSPAM-Result:', 'Innocent']\n",
      "Depuración: ['X-DSPAM-Processed:', 'Fri', 'Jan', '4', '11:35:08', '2008']\n",
      "Depuración: ['X-DSPAM-Confidence:', '0.7615']\n",
      "Depuración: ['X-DSPAM-Probability:', '0.0000']\n",
      "Depuración: []\n",
      "Depuración: ['Details:', 'http://source.sakaiproject.org/viewsvn/?view=rev&rev=39763']\n",
      "Depuración: []\n",
      "Depuración: ['Author:', 'cwen@iupui.edu']\n",
      "Depuración: ['Date:', '2008-01-04', '11:33:05', '-0500', '(Fri,', '04', 'Jan', '2008)']\n",
      "Depuración: ['New', 'Revision:', '39763']\n",
      "Depuración: []\n",
      "Depuración: ['Modified:']\n",
      "Depuración: ['msgcntr/trunk/messageforums-api/src/bundle/org/sakaiproject/api/app/messagecenter/bundle/Messages.properties']\n",
      "Depuración: ['msgcntr/trunk/messageforums-app/src/java/org/sakaiproject/tool/messageforums/PrivateMessagesTool.java']\n",
      "Depuración: ['Log:']\n",
      "Depuración: ['unmerge', \"Xingtang's\", 'check', 'in', 'for', 'SAK-12484.']\n",
      "Depuración: []\n",
      "Depuración: ['svn', 'merge', '-r39571:39570', 'https://source.sakaiproject.org/svn/msgcntr/trunk']\n",
      "Depuración: ['U', 'messageforums-api/src/bundle/org/sakaiproject/api/app/messagecenter/bundle/Messages.properties']\n",
      "Depuración: ['U', 'messageforums-app/src/java/org/sakaiproject/tool/messageforums/PrivateMessagesTool.java']\n",
      "Depuración: []\n",
      "Depuración: ['svn', 'log', '-r', '39571']\n",
      "Depuración: ['------------------------------------------------------------------------']\n",
      "Depuración: ['r39571', '|', 'hu2@iupui.edu', '|', '2007-12-20', '21:26:28', '-0500', '(Thu,', '20', 'Dec', '2007)', '|', '3', 'lines']\n",
      "Depuración: []\n",
      "Depuración: ['SAK-12484']\n",
      "Depuración: ['reply', 'all', 'cc', 'list', 'should', 'not', 'include', 'the', 'current', 'user', 'name.']\n",
      "Depuración: ['http://jira.sakaiproject.org/jira/browse/SAK-12484']\n",
      "Depuración: ['------------------------------------------------------------------------']\n",
      "Depuración: []\n",
      "Depuración: []\n",
      "Depuración: ['----------------------']\n",
      "Depuración: ['This', 'automatic', 'notification', 'message', 'was', 'sent', 'by', 'Sakai', 'Collab', '(https://collab.sakaiproject.org/portal)', 'from', 'the', 'Source', 'site.']\n",
      "Depuración: ['You', 'can', 'modify', 'how', 'you', 'receive', 'notifications', 'at', 'My', 'Workspace', '>', 'Preferences.']\n",
      "Depuración: []\n",
      "Depuración: []\n",
      "Depuración: []\n",
      "Depuración: ['From', 'gsilver@umich.edu', 'Fri', 'Jan', '4', '11:12:37', '2008']\n",
      "Fri\n",
      "Depuración: ['Return-Path:', '<postmaster@collab.sakaiproject.org>']\n",
      "Depuración: ['Received:', 'from', 'murder', '(mail.umich.edu', '[141.211.14.25])']\n",
      "Depuración: ['by', 'frankenstein.mail.umich.edu', '(Cyrus', 'v2.3.8)', 'with', 'LMTPA;']\n",
      "Depuración: ['Fri,', '04', 'Jan', '2008', '11:12:37', '-0500']\n",
      "Depuración: ['X-Sieve:', 'CMU', 'Sieve', '2.3']\n",
      "Depuración: ['Received:', 'from', 'murder', '([unix', 'socket])']\n",
      "Depuración: ['by', 'mail.umich.edu', '(Cyrus', 'v2.2.12)', 'with', 'LMTPA;']\n",
      "Depuración: ['Fri,', '04', 'Jan', '2008', '11:12:37', '-0500']\n",
      "Depuración: ['Received:', 'from', 'holes.mr.itd.umich.edu', '(holes.mr.itd.umich.edu', '[141.211.14.79])']\n",
      "Depuración: ['by', 'panther.mail.umich.edu', '()', 'with', 'ESMTP', 'id', 'm04GCaHB030887;']\n",
      "Depuración: ['Fri,', '4', 'Jan', '2008', '11:12:36', '-0500']\n",
      "Depuración: ['Received:', 'FROM', 'paploo.uhi.ac.uk', '(app1.prod.collab.uhi.ac.uk', '[194.35.219.184])']\n",
      "Depuración: ['BY', 'holes.mr.itd.umich.edu', 'ID', '477E5AEB.E670B.28397', ';']\n",
      "Depuración: ['4', 'Jan', '2008', '11:12:30', '-0500']\n",
      "Depuración: ['Received:', 'from', 'paploo.uhi.ac.uk', '(localhost', '[127.0.0.1])']\n",
      "Depuración: ['by', 'paploo.uhi.ac.uk', '(Postfix)', 'with', 'ESMTP', 'id', '99715BAE7D;']\n",
      "Depuración: ['Fri,', '4', 'Jan', '2008', '16:12:27', '+0000', '(GMT)']\n",
      "Depuración: ['Message-ID:', '<200801041611.m04GB1Lb007221@nakamura.uits.iupui.edu>']\n",
      "Depuración: ['Mime-Version:', '1.0']\n",
      "Depuración: ['Content-Transfer-Encoding:', '7bit']\n",
      "Depuración: ['Received:', 'from', 'prod.collab.uhi.ac.uk', '([194.35.219.182])']\n",
      "Depuración: ['by', 'paploo.uhi.ac.uk', '(JAMES', 'SMTP', 'Server', '2.1.3)', 'with', 'SMTP', 'ID', '272']\n",
      "Depuración: ['for', '<source@collab.sakaiproject.org>;']\n",
      "Depuración: ['Fri,', '4', 'Jan', '2008', '16:12:14', '+0000', '(GMT)']\n",
      "Depuración: ['Received:', 'from', 'nakamura.uits.iupui.edu', '(nakamura.uits.iupui.edu', '[134.68.220.122])']\n",
      "Depuración: ['by', 'shmi.uhi.ac.uk', '(Postfix)', 'with', 'ESMTP', 'id', '0A6ED42DFC']\n",
      "Depuración: ['for', '<source@collab.sakaiproject.org>;', 'Fri,', '4', 'Jan', '2008', '16:12:12', '+0000', '(GMT)']\n",
      "Depuración: ['Received:', 'from', 'nakamura.uits.iupui.edu', '(localhost', '[127.0.0.1])']\n",
      "Depuración: ['by', 'nakamura.uits.iupui.edu', '(8.12.11.20060308/8.12.11)', 'with', 'ESMTP', 'id', 'm04GB1Wt007223']\n",
      "Depuración: ['for', '<source@collab.sakaiproject.org>;', 'Fri,', '4', 'Jan', '2008', '11:11:01', '-0500']\n",
      "Depuración: ['Received:', '(from', 'apache@localhost)']\n",
      "Depuración: ['by', 'nakamura.uits.iupui.edu', '(8.12.11.20060308/8.12.11/Submit)', 'id', 'm04GB1Lb007221']\n",
      "Depuración: ['for', 'source@collab.sakaiproject.org;', 'Fri,', '4', 'Jan', '2008', '11:11:01', '-0500']\n",
      "Depuración: ['Date:', 'Fri,', '4', 'Jan', '2008', '11:11:01', '-0500']\n",
      "Depuración: ['X-Authentication-Warning:', 'nakamura.uits.iupui.edu:', 'apache', 'set', 'sender', 'to', 'gsilver@umich.edu', 'using', '-f']\n",
      "Depuración: ['To:', 'source@collab.sakaiproject.org']\n",
      "Depuración: ['From:', 'gsilver@umich.edu']\n",
      "Depuración: ['Subject:', '[sakai]', 'svn', 'commit:', 'r39762', '-', 'web/trunk/web-tool/tool/src/bundle']\n",
      "Depuración: ['X-Content-Type-Outer-Envelope:', 'text/plain;', 'charset=UTF-8']\n",
      "Depuración: ['X-Content-Type-Message-Body:', 'text/plain;', 'charset=UTF-8']\n",
      "Depuración: ['Content-Type:', 'text/plain;', 'charset=UTF-8']\n",
      "Depuración: ['X-DSPAM-Result:', 'Innocent']\n",
      "Depuración: ['X-DSPAM-Processed:', 'Fri', 'Jan', '4', '11:12:37', '2008']\n",
      "Depuración: ['X-DSPAM-Confidence:', '0.7601']\n",
      "Depuración: ['X-DSPAM-Probability:', '0.0000']\n",
      "Depuración: []\n",
      "Depuración: ['Details:', 'http://source.sakaiproject.org/viewsvn/?view=rev&rev=39762']\n",
      "Depuración: []\n",
      "Depuración: ['Author:', 'gsilver@umich.edu']\n",
      "Depuración: ['Date:', '2008-01-04', '11:11:00', '-0500', '(Fri,', '04', 'Jan', '2008)']\n",
      "Depuración: ['New', 'Revision:', '39762']\n",
      "Depuración: []\n",
      "Depuración: ['Modified:']\n",
      "Depuración: ['web/trunk/web-tool/tool/src/bundle/iframe.properties']\n",
      "Depuración: ['Log:']\n",
      "Depuración: ['SAK-12596']\n",
      "Depuración: ['http://bugs.sakaiproject.org/jira/browse/SAK-12596']\n",
      "Depuración: ['-', 'left', 'moot', '(unused)', 'entries', 'commented', 'for', 'now']\n",
      "Depuración: []\n",
      "Depuración: ['----------------------']\n",
      "Depuración: ['This', 'automatic', 'notification', 'message', 'was', 'sent', 'by', 'Sakai', 'Collab', '(https://collab.sakaiproject.org/portal)', 'from', 'the', 'Source', 'site.']\n",
      "Depuración: ['You', 'can', 'modify', 'how', 'you', 'receive', 'notifications', 'at', 'My', 'Workspace', '>', 'Preferences.']\n",
      "Depuración: []\n",
      "Depuración: []\n",
      "Depuración: []\n",
      "Depuración: ['From', 'gsilver@umich.edu', 'Fri', 'Jan', '4', '11:11:52', '2008']\n",
      "Fri\n",
      "Depuración: ['Return-Path:', '<postmaster@collab.sakaiproject.org>']\n",
      "Depuración: ['Received:', 'from', 'murder', '(mail.umich.edu', '[141.211.14.36])']\n",
      "Depuración: ['by', 'frankenstein.mail.umich.edu', '(Cyrus', 'v2.3.8)', 'with', 'LMTPA;']\n",
      "Depuración: ['Fri,', '04', 'Jan', '2008', '11:11:52', '-0500']\n",
      "Depuración: ['X-Sieve:', 'CMU', 'Sieve', '2.3']\n",
      "Depuración: ['Received:', 'from', 'murder', '([unix', 'socket])']\n",
      "Depuración: ['by', 'mail.umich.edu', '(Cyrus', 'v2.2.12)', 'with', 'LMTPA;']\n",
      "Depuración: ['Fri,', '04', 'Jan', '2008', '11:11:52', '-0500']\n",
      "Depuración: ['Received:', 'from', 'creepshow.mr.itd.umich.edu', '(creepshow.mr.itd.umich.edu', '[141.211.14.84])']\n",
      "Depuración: ['by', 'godsend.mail.umich.edu', '()', 'with', 'ESMTP', 'id', 'm04GBqqv025330;']\n",
      "Depuración: ['Fri,', '4', 'Jan', '2008', '11:11:52', '-0500']\n",
      "Depuración: ['Received:', 'FROM', 'paploo.uhi.ac.uk', '(app1.prod.collab.uhi.ac.uk', '[194.35.219.184])']\n",
      "Depuración: ['BY', 'creepshow.mr.itd.umich.edu', 'ID', '477E5AB3.5CC32.30840', ';']\n",
      "Depuración: ['4', 'Jan', '2008', '11:11:34', '-0500']\n",
      "Depuración: ['Received:', 'from', 'paploo.uhi.ac.uk', '(localhost', '[127.0.0.1])']\n",
      "Depuración: ['by', 'paploo.uhi.ac.uk', '(Postfix)', 'with', 'ESMTP', 'id', '62AA4BAE46;']\n",
      "Depuración: ['Fri,', '4', 'Jan', '2008', '16:11:31', '+0000', '(GMT)']\n",
      "Depuración: ['Message-ID:', '<200801041610.m04GA5KP007209@nakamura.uits.iupui.edu>']\n",
      "Depuración: ['Mime-Version:', '1.0']\n",
      "Depuración: ['Content-Transfer-Encoding:', '7bit']\n",
      "Depuración: ['Received:', 'from', 'prod.collab.uhi.ac.uk', '([194.35.219.182])']\n",
      "Depuración: ['by', 'paploo.uhi.ac.uk', '(JAMES', 'SMTP', 'Server', '2.1.3)', 'with', 'SMTP', 'ID', '1006']\n",
      "Depuración: ['for', '<source@collab.sakaiproject.org>;']\n",
      "Depuración: ['Fri,', '4', 'Jan', '2008', '16:11:18', '+0000', '(GMT)']\n",
      "Depuración: ['Received:', 'from', 'nakamura.uits.iupui.edu', '(nakamura.uits.iupui.edu', '[134.68.220.122])']\n",
      "Depuración: ['by', 'shmi.uhi.ac.uk', '(Postfix)', 'with', 'ESMTP', 'id', 'C596A3DFA2']\n",
      "Depuración: ['for', '<source@collab.sakaiproject.org>;', 'Fri,', '4', 'Jan', '2008', '16:11:16', '+0000', '(GMT)']\n",
      "Depuración: ['Received:', 'from', 'nakamura.uits.iupui.edu', '(localhost', '[127.0.0.1])']\n",
      "Depuración: ['by', 'nakamura.uits.iupui.edu', '(8.12.11.20060308/8.12.11)', 'with', 'ESMTP', 'id', 'm04GA5LR007211']\n",
      "Depuración: ['for', '<source@collab.sakaiproject.org>;', 'Fri,', '4', 'Jan', '2008', '11:10:05', '-0500']\n",
      "Depuración: ['Received:', '(from', 'apache@localhost)']\n",
      "Depuración: ['by', 'nakamura.uits.iupui.edu', '(8.12.11.20060308/8.12.11/Submit)', 'id', 'm04GA5KP007209']\n",
      "Depuración: ['for', 'source@collab.sakaiproject.org;', 'Fri,', '4', 'Jan', '2008', '11:10:05', '-0500']\n",
      "Depuración: ['Date:', 'Fri,', '4', 'Jan', '2008', '11:10:05', '-0500']\n",
      "Depuración: ['X-Authentication-Warning:', 'nakamura.uits.iupui.edu:', 'apache', 'set', 'sender', 'to', 'gsilver@umich.edu', 'using', '-f']\n",
      "Depuración: ['To:', 'source@collab.sakaiproject.org']\n",
      "Depuración: ['From:', 'gsilver@umich.edu']\n",
      "Depuración: ['Subject:', '[sakai]', 'svn', 'commit:', 'r39761', '-', 'site/trunk/site-tool/tool/src/bundle']\n",
      "Depuración: ['X-Content-Type-Outer-Envelope:', 'text/plain;', 'charset=UTF-8']\n",
      "Depuración: ['X-Content-Type-Message-Body:', 'text/plain;', 'charset=UTF-8']\n",
      "Depuración: ['Content-Type:', 'text/plain;', 'charset=UTF-8']\n",
      "Depuración: ['X-DSPAM-Result:', 'Innocent']\n",
      "Depuración: ['X-DSPAM-Processed:', 'Fri', 'Jan', '4', '11:11:52', '2008']\n",
      "Depuración: ['X-DSPAM-Confidence:', '0.7605']\n",
      "Depuración: ['X-DSPAM-Probability:', '0.0000']\n",
      "Depuración: []\n",
      "Depuración: ['Details:', 'http://source.sakaiproject.org/viewsvn/?view=rev&rev=39761']\n",
      "Depuración: []\n",
      "Depuración: ['Author:', 'gsilver@umich.edu']\n",
      "Depuración: ['Date:', '2008-01-04', '11:10:04', '-0500', '(Fri,', '04', 'Jan', '2008)']\n",
      "Depuración: ['New', 'Revision:', '39761']\n",
      "Depuración: []\n",
      "Depuración: ['Modified:']\n",
      "Depuración: ['site/trunk/site-tool/tool/src/bundle/admin.properties']\n",
      "Depuración: ['Log:']\n",
      "Depuración: ['SAK-12595']\n",
      "Depuración: ['http://bugs.sakaiproject.org/jira/browse/SAK-12595']\n",
      "Depuración: ['-', 'left', 'moot', '(unused)', 'entries', 'commented', 'for', 'now']\n",
      "Depuración: []\n",
      "Depuración: ['----------------------']\n",
      "Depuración: ['This', 'automatic', 'notification', 'message', 'was', 'sent', 'by', 'Sakai', 'Collab', '(https://collab.sakaiproject.org/portal)', 'from', 'the', 'Source', 'site.']\n",
      "Depuración: ['You', 'can', 'modify', 'how', 'you', 'receive', 'notifications', 'at', 'My', 'Workspace', '>', 'Preferences.']\n",
      "Depuración: []\n",
      "Depuración: []\n",
      "Depuración: []\n",
      "Depuración: ['From', 'zqian@umich.edu', 'Fri', 'Jan', '4', '11:11:03', '2008']\n",
      "Fri\n",
      "Depuración: ['Return-Path:', '<postmaster@collab.sakaiproject.org>']\n",
      "Depuración: ['Received:', 'from', 'murder', '(mail.umich.edu', '[141.211.14.97])']\n",
      "Depuración: ['by', 'frankenstein.mail.umich.edu', '(Cyrus', 'v2.3.8)', 'with', 'LMTPA;']\n",
      "Depuración: ['Fri,', '04', 'Jan', '2008', '11:11:03', '-0500']\n",
      "Depuración: ['X-Sieve:', 'CMU', 'Sieve', '2.3']\n",
      "Depuración: ['Received:', 'from', 'murder', '([unix', 'socket])']\n",
      "Depuración: ['by', 'mail.umich.edu', '(Cyrus', 'v2.2.12)', 'with', 'LMTPA;']\n",
      "Depuración: ['Fri,', '04', 'Jan', '2008', '11:11:03', '-0500']\n",
      "Depuración: ['Received:', 'from', 'carrie.mr.itd.umich.edu', '(carrie.mr.itd.umich.edu', '[141.211.93.152])']\n",
      "Depuración: ['by', 'sleepers.mail.umich.edu', '()', 'with', 'ESMTP', 'id', 'm04GB3Vg011502;']\n",
      "Depuración: ['Fri,', '4', 'Jan', '2008', '11:11:03', '-0500']\n",
      "Depuración: ['Received:', 'FROM', 'paploo.uhi.ac.uk', '(app1.prod.collab.uhi.ac.uk', '[194.35.219.184])']\n",
      "Depuración: ['BY', 'carrie.mr.itd.umich.edu', 'ID', '477E5A8D.B378F.24200', ';']\n",
      "Depuración: ['4', 'Jan', '2008', '11:10:56', '-0500']\n",
      "Depuración: ['Received:', 'from', 'paploo.uhi.ac.uk', '(localhost', '[127.0.0.1])']\n",
      "Depuración: ['by', 'paploo.uhi.ac.uk', '(Postfix)', 'with', 'ESMTP', 'id', 'C7251BAD44;']\n",
      "Depuración: ['Fri,', '4', 'Jan', '2008', '16:10:53', '+0000', '(GMT)']\n",
      "Depuración: ['Message-ID:', '<200801041609.m04G9EuX007197@nakamura.uits.iupui.edu>']\n",
      "Depuración: ['Mime-Version:', '1.0']\n",
      "Depuración: ['Content-Transfer-Encoding:', '7bit']\n",
      "Depuración: ['Received:', 'from', 'prod.collab.uhi.ac.uk', '([194.35.219.182])']\n",
      "Depuración: ['by', 'paploo.uhi.ac.uk', '(JAMES', 'SMTP', 'Server', '2.1.3)', 'with', 'SMTP', 'ID', '483']\n",
      "Depuración: ['for', '<source@collab.sakaiproject.org>;']\n",
      "Depuración: ['Fri,', '4', 'Jan', '2008', '16:10:27', '+0000', '(GMT)']\n",
      "Depuración: ['Received:', 'from', 'nakamura.uits.iupui.edu', '(nakamura.uits.iupui.edu', '[134.68.220.122])']\n",
      "Depuración: ['by', 'shmi.uhi.ac.uk', '(Postfix)', 'with', 'ESMTP', 'id', '2E7043DFA2']\n",
      "Depuración: ['for', '<source@collab.sakaiproject.org>;', 'Fri,', '4', 'Jan', '2008', '16:10:26', '+0000', '(GMT)']\n",
      "Depuración: ['Received:', 'from', 'nakamura.uits.iupui.edu', '(localhost', '[127.0.0.1])']\n",
      "Depuración: ['by', 'nakamura.uits.iupui.edu', '(8.12.11.20060308/8.12.11)', 'with', 'ESMTP', 'id', 'm04G9Eqg007199']\n",
      "Depuración: ['for', '<source@collab.sakaiproject.org>;', 'Fri,', '4', 'Jan', '2008', '11:09:15', '-0500']\n",
      "Depuración: ['Received:', '(from', 'apache@localhost)']\n",
      "Depuración: ['by', 'nakamura.uits.iupui.edu', '(8.12.11.20060308/8.12.11/Submit)', 'id', 'm04G9EuX007197']\n",
      "Depuración: ['for', 'source@collab.sakaiproject.org;', 'Fri,', '4', 'Jan', '2008', '11:09:14', '-0500']\n",
      "Depuración: ['Date:', 'Fri,', '4', 'Jan', '2008', '11:09:14', '-0500']\n",
      "Depuración: ['X-Authentication-Warning:', 'nakamura.uits.iupui.edu:', 'apache', 'set', 'sender', 'to', 'zqian@umich.edu', 'using', '-f']\n",
      "Depuración: ['To:', 'source@collab.sakaiproject.org']\n",
      "Depuración: ['From:', 'zqian@umich.edu']\n",
      "Depuración: ['Subject:', '[sakai]', 'svn', 'commit:', 'r39760', '-', 'in', 'site-manage/trunk/site-manage-tool/tool/src:', 'java/org/sakaiproject/site/tool', 'webapp/vm/sitesetup']\n",
      "Depuración: ['X-Content-Type-Outer-Envelope:', 'text/plain;', 'charset=UTF-8']\n",
      "Depuración: ['X-Content-Type-Message-Body:', 'text/plain;', 'charset=UTF-8']\n",
      "Depuración: ['Content-Type:', 'text/plain;', 'charset=UTF-8']\n",
      "Depuración: ['X-DSPAM-Result:', 'Innocent']\n",
      "Depuración: ['X-DSPAM-Processed:', 'Fri', 'Jan', '4', '11:11:03', '2008']\n",
      "Depuración: ['X-DSPAM-Confidence:', '0.6959']\n",
      "Depuración: ['X-DSPAM-Probability:', '0.0000']\n",
      "Depuración: []\n",
      "Depuración: ['Details:', 'http://source.sakaiproject.org/viewsvn/?view=rev&rev=39760']\n",
      "Depuración: []\n",
      "Depuración: ['Author:', 'zqian@umich.edu']\n",
      "Depuración: ['Date:', '2008-01-04', '11:09:12', '-0500', '(Fri,', '04', 'Jan', '2008)']\n",
      "Depuración: ['New', 'Revision:', '39760']\n",
      "Depuración: []\n",
      "Depuración: ['Modified:']\n",
      "Depuración: ['site-manage/trunk/site-manage-tool/tool/src/java/org/sakaiproject/site/tool/SiteAction.java']\n",
      "Depuración: ['site-manage/trunk/site-manage-tool/tool/src/webapp/vm/sitesetup/chef_site-siteInfo-list.vm']\n",
      "Depuración: ['Log:']\n",
      "Depuración: ['fix', 'to', 'SAK-10911:', 'Refactor', 'use', 'of', 'site.upd,', 'site.upd.site.mbrship', 'and', 'site.upd.grp.mbrship', 'permissions']\n",
      "Depuración: []\n",
      "Depuración: ['----------------------']\n",
      "Depuración: ['This', 'automatic', 'notification', 'message', 'was', 'sent', 'by', 'Sakai', 'Collab', '(https://collab.sakaiproject.org/portal)', 'from', 'the', 'Source', 'site.']\n",
      "Depuración: ['You', 'can', 'modify', 'how', 'you', 'receive', 'notifications', 'at', 'My', 'Workspace', '>', 'Preferences.']\n",
      "Depuración: []\n",
      "Depuración: []\n",
      "Depuración: []\n",
      "Depuración: ['From', 'gsilver@umich.edu', 'Fri', 'Jan', '4', '11:10:22', '2008']\n",
      "Fri\n",
      "Depuración: ['Return-Path:', '<postmaster@collab.sakaiproject.org>']\n",
      "Depuración: ['Received:', 'from', 'murder', '(mail.umich.edu', '[141.211.14.39])']\n",
      "Depuración: ['by', 'frankenstein.mail.umich.edu', '(Cyrus', 'v2.3.8)', 'with', 'LMTPA;']\n",
      "Depuración: ['Fri,', '04', 'Jan', '2008', '11:10:22', '-0500']\n",
      "Depuración: ['X-Sieve:', 'CMU', 'Sieve', '2.3']\n",
      "Depuración: ['Received:', 'from', 'murder', '([unix', 'socket])']\n",
      "Depuración: ['by', 'mail.umich.edu', '(Cyrus', 'v2.2.12)', 'with', 'LMTPA;']\n",
      "Depuración: ['Fri,', '04', 'Jan', '2008', '11:10:22', '-0500']\n",
      "Depuración: ['Received:', 'from', 'holes.mr.itd.umich.edu', '(holes.mr.itd.umich.edu', '[141.211.14.79])']\n",
      "Depuración: ['by', 'faithful.mail.umich.edu', '()', 'with', 'ESMTP', 'id', 'm04GAL9k010604;']\n",
      "Depuración: ['Fri,', '4', 'Jan', '2008', '11:10:21', '-0500']\n",
      "Depuración: ['Received:', 'FROM', 'paploo.uhi.ac.uk', '(app1.prod.collab.uhi.ac.uk', '[194.35.219.184])']\n",
      "Depuración: ['BY', 'holes.mr.itd.umich.edu', 'ID', '477E5A67.34350.23015', ';']\n",
      "Depuración: ['4', 'Jan', '2008', '11:10:18', '-0500']\n",
      "Depuración: ['Received:', 'from', 'paploo.uhi.ac.uk', '(localhost', '[127.0.0.1])']\n",
      "Depuración: ['by', 'paploo.uhi.ac.uk', '(Postfix)', 'with', 'ESMTP', 'id', '98D04BAD43;']\n",
      "Depuración: ['Fri,', '4', 'Jan', '2008', '16:10:11', '+0000', '(GMT)']\n",
      "Depuración: ['Message-ID:', '<200801041608.m04G8d7w007184@nakamura.uits.iupui.edu>']\n",
      "Depuración: ['Mime-Version:', '1.0']\n",
      "Depuración: ['Content-Transfer-Encoding:', '7bit']\n",
      "Depuración: ['Received:', 'from', 'prod.collab.uhi.ac.uk', '([194.35.219.182])']\n",
      "Depuración: ['by', 'paploo.uhi.ac.uk', '(JAMES', 'SMTP', 'Server', '2.1.3)', 'with', 'SMTP', 'ID', '966']\n",
      "Depuración: ['for', '<source@collab.sakaiproject.org>;']\n",
      "Depuración: ['Fri,', '4', 'Jan', '2008', '16:09:51', '+0000', '(GMT)']\n",
      "Depuración: ['Received:', 'from', 'nakamura.uits.iupui.edu', '(nakamura.uits.iupui.edu', '[134.68.220.122])']\n",
      "Depuración: ['by', 'shmi.uhi.ac.uk', '(Postfix)', 'with', 'ESMTP', 'id', '9F89542DD0']\n",
      "Depuración: ['for', '<source@collab.sakaiproject.org>;', 'Fri,', '4', 'Jan', '2008', '16:09:50', '+0000', '(GMT)']\n",
      "Depuración: ['Received:', 'from', 'nakamura.uits.iupui.edu', '(localhost', '[127.0.0.1])']\n",
      "Depuración: ['by', 'nakamura.uits.iupui.edu', '(8.12.11.20060308/8.12.11)', 'with', 'ESMTP', 'id', 'm04G8dXN007186']\n",
      "Depuración: ['for', '<source@collab.sakaiproject.org>;', 'Fri,', '4', 'Jan', '2008', '11:08:39', '-0500']\n",
      "Depuración: ['Received:', '(from', 'apache@localhost)']\n",
      "Depuración: ['by', 'nakamura.uits.iupui.edu', '(8.12.11.20060308/8.12.11/Submit)', 'id', 'm04G8d7w007184']\n",
      "Depuración: ['for', 'source@collab.sakaiproject.org;', 'Fri,', '4', 'Jan', '2008', '11:08:39', '-0500']\n",
      "Depuración: ['Date:', 'Fri,', '4', 'Jan', '2008', '11:08:39', '-0500']\n",
      "Depuración: ['X-Authentication-Warning:', 'nakamura.uits.iupui.edu:', 'apache', 'set', 'sender', 'to', 'gsilver@umich.edu', 'using', '-f']\n",
      "Depuración: ['To:', 'source@collab.sakaiproject.org']\n",
      "Depuración: ['From:', 'gsilver@umich.edu']\n",
      "Depuración: ['Subject:', '[sakai]', 'svn', 'commit:', 'r39759', '-', 'mailarchive/trunk/mailarchive-tool/tool/src/bundle']\n",
      "Depuración: ['X-Content-Type-Outer-Envelope:', 'text/plain;', 'charset=UTF-8']\n",
      "Depuración: ['X-Content-Type-Message-Body:', 'text/plain;', 'charset=UTF-8']\n",
      "Depuración: ['Content-Type:', 'text/plain;', 'charset=UTF-8']\n",
      "Depuración: ['X-DSPAM-Result:', 'Innocent']\n",
      "Depuración: ['X-DSPAM-Processed:', 'Fri', 'Jan', '4', '11:10:22', '2008']\n",
      "Depuración: ['X-DSPAM-Confidence:', '0.7606']\n",
      "Depuración: ['X-DSPAM-Probability:', '0.0000']\n",
      "Depuración: []\n",
      "Depuración: ['Details:', 'http://source.sakaiproject.org/viewsvn/?view=rev&rev=39759']\n",
      "Depuración: []\n",
      "Depuración: ['Author:', 'gsilver@umich.edu']\n",
      "Depuración: ['Date:', '2008-01-04', '11:08:38', '-0500', '(Fri,', '04', 'Jan', '2008)']\n",
      "Depuración: ['New', 'Revision:', '39759']\n",
      "Depuración: []\n",
      "Depuración: ['Modified:']\n",
      "Depuración: ['mailarchive/trunk/mailarchive-tool/tool/src/bundle/email.properties']\n",
      "Depuración: ['Log:']\n",
      "Depuración: ['SAK-12592']\n",
      "Depuración: ['http://bugs.sakaiproject.org/jira/browse/SAK-12592']\n",
      "Depuración: ['-', 'left', 'moot', '(unused)', 'entries', 'commented', 'for', 'now']\n",
      "Depuración: []\n",
      "Depuración: ['----------------------']\n",
      "Depuración: ['This', 'automatic', 'notification', 'message', 'was', 'sent', 'by', 'Sakai', 'Collab', '(https://collab.sakaiproject.org/portal)', 'from', 'the', 'Source', 'site.']\n",
      "Depuración: ['You', 'can', 'modify', 'how', 'you', 'receive', 'notifications', 'at', 'My', 'Workspace', '>', 'Preferences.']\n",
      "Depuración: []\n",
      "Depuración: []\n",
      "Depuración: []\n",
      "Depuración: ['From', 'wagnermr@iupui.edu', 'Fri', 'Jan', '4', '10:38:42', '2008']\n",
      "Fri\n",
      "Depuración: ['Return-Path:', '<postmaster@collab.sakaiproject.org>']\n",
      "Depuración: ['Received:', 'from', 'murder', '(mail.umich.edu', '[141.211.14.90])']\n",
      "Depuración: ['by', 'frankenstein.mail.umich.edu', '(Cyrus', 'v2.3.8)', 'with', 'LMTPA;']\n",
      "Depuración: ['Fri,', '04', 'Jan', '2008', '10:38:42', '-0500']\n",
      "Depuración: ['X-Sieve:', 'CMU', 'Sieve', '2.3']\n",
      "Depuración: ['Received:', 'from', 'murder', '([unix', 'socket])']\n",
      "Depuración: ['by', 'mail.umich.edu', '(Cyrus', 'v2.2.12)', 'with', 'LMTPA;']\n",
      "Depuración: ['Fri,', '04', 'Jan', '2008', '10:38:42', '-0500']\n",
      "Depuración: ['Received:', 'from', 'shining.mr.itd.umich.edu', '(shining.mr.itd.umich.edu', '[141.211.93.153])']\n",
      "Depuración: ['by', 'flawless.mail.umich.edu', '()', 'with', 'ESMTP', 'id', 'm04Fcfjm012313;']\n",
      "Depuración: ['Fri,', '4', 'Jan', '2008', '10:38:41', '-0500']\n",
      "Depuración: ['Received:', 'FROM', 'paploo.uhi.ac.uk', '(app1.prod.collab.uhi.ac.uk', '[194.35.219.184])']\n",
      "Depuración: ['BY', 'shining.mr.itd.umich.edu', 'ID', '477E52FA.E6C6E.24093', ';']\n",
      "Depuración: ['4', 'Jan', '2008', '10:38:37', '-0500']\n",
      "Depuración: ['Received:', 'from', 'paploo.uhi.ac.uk', '(localhost', '[127.0.0.1])']\n",
      "Depuración: ['by', 'paploo.uhi.ac.uk', '(Postfix)', 'with', 'ESMTP', 'id', '6A39594CD2;']\n",
      "Depuración: ['Fri,', '4', 'Jan', '2008', '15:37:36', '+0000', '(GMT)']\n",
      "Depuración: ['Message-ID:', '<200801041537.m04Fb6Ci007092@nakamura.uits.iupui.edu>']\n",
      "Depuración: ['Mime-Version:', '1.0']\n",
      "Depuración: ['Content-Transfer-Encoding:', '7bit']\n",
      "Depuración: ['Received:', 'from', 'prod.collab.uhi.ac.uk', '([194.35.219.182])']\n",
      "Depuración: ['by', 'paploo.uhi.ac.uk', '(JAMES', 'SMTP', 'Server', '2.1.3)', 'with', 'SMTP', 'ID', '690']\n",
      "Depuración: ['for', '<source@collab.sakaiproject.org>;']\n",
      "Depuración: ['Fri,', '4', 'Jan', '2008', '15:37:21', '+0000', '(GMT)']\n",
      "Depuración: ['Received:', 'from', 'nakamura.uits.iupui.edu', '(nakamura.uits.iupui.edu', '[134.68.220.122])']\n",
      "Depuración: ['by', 'shmi.uhi.ac.uk', '(Postfix)', 'with', 'ESMTP', 'id', 'CEFA037ACE']\n",
      "Depuración: ['for', '<source@collab.sakaiproject.org>;', 'Fri,', '4', 'Jan', '2008', '15:38:17', '+0000', '(GMT)']\n",
      "Depuración: ['Received:', 'from', 'nakamura.uits.iupui.edu', '(localhost', '[127.0.0.1])']\n",
      "Depuración: ['by', 'nakamura.uits.iupui.edu', '(8.12.11.20060308/8.12.11)', 'with', 'ESMTP', 'id', 'm04Fb6nh007094']\n",
      "Depuración: ['for', '<source@collab.sakaiproject.org>;', 'Fri,', '4', 'Jan', '2008', '10:37:06', '-0500']\n",
      "Depuración: ['Received:', '(from', 'apache@localhost)']\n",
      "Depuración: ['by', 'nakamura.uits.iupui.edu', '(8.12.11.20060308/8.12.11/Submit)', 'id', 'm04Fb6Ci007092']\n",
      "Depuración: ['for', 'source@collab.sakaiproject.org;', 'Fri,', '4', 'Jan', '2008', '10:37:06', '-0500']\n",
      "Depuración: ['Date:', 'Fri,', '4', 'Jan', '2008', '10:37:06', '-0500']\n",
      "Depuración: ['X-Authentication-Warning:', 'nakamura.uits.iupui.edu:', 'apache', 'set', 'sender', 'to', 'wagnermr@iupui.edu', 'using', '-f']\n",
      "Depuración: ['To:', 'source@collab.sakaiproject.org']\n",
      "Depuración: ['From:', 'wagnermr@iupui.edu']\n",
      "Depuración: ['Subject:', '[sakai]', 'svn', 'commit:', 'r39758', '-', 'in', 'gradebook/trunk:', 'app/business/src/java/org/sakaiproject/tool/gradebook/business/impl', 'service/api/src/java/org/sakaiproject/service/gradebook/shared', 'service/impl/src/java/org/sakaiproject/component/gradebook']\n",
      "Depuración: ['X-Content-Type-Outer-Envelope:', 'text/plain;', 'charset=UTF-8']\n",
      "Depuración: ['X-Content-Type-Message-Body:', 'text/plain;', 'charset=UTF-8']\n",
      "Depuración: ['Content-Type:', 'text/plain;', 'charset=UTF-8']\n",
      "Depuración: ['X-DSPAM-Result:', 'Innocent']\n",
      "Depuración: ['X-DSPAM-Processed:', 'Fri', 'Jan', '4', '10:38:42', '2008']\n",
      "Depuración: ['X-DSPAM-Confidence:', '0.7559']\n",
      "Depuración: ['X-DSPAM-Probability:', '0.0000']\n",
      "Depuración: []\n",
      "Depuración: ['Details:', 'http://source.sakaiproject.org/viewsvn/?view=rev&rev=39758']\n",
      "Depuración: []\n",
      "Depuración: ['Author:', 'wagnermr@iupui.edu']\n",
      "Depuración: ['Date:', '2008-01-04', '10:37:04', '-0500', '(Fri,', '04', 'Jan', '2008)']\n",
      "Depuración: ['New', 'Revision:', '39758']\n",
      "Depuración: []\n",
      "Depuración: ['Modified:']\n",
      "Depuración: ['gradebook/trunk/app/business/src/java/org/sakaiproject/tool/gradebook/business/impl/GradebookManagerHibernateImpl.java']\n",
      "Depuración: ['gradebook/trunk/service/api/src/java/org/sakaiproject/service/gradebook/shared/GradebookService.java']\n",
      "Depuración: ['gradebook/trunk/service/impl/src/java/org/sakaiproject/component/gradebook/GradebookServiceHibernateImpl.java']\n",
      "Depuración: ['Log:']\n",
      "Depuración: ['SAK-12175']\n",
      "Depuración: ['http://bugs.sakaiproject.org/jira/browse/SAK-12175']\n",
      "Depuración: ['Create', 'methods', 'required', 'for', 'gb', 'integration', 'with', 'the', 'Assignment2', 'tool']\n",
      "Depuración: ['getGradeDefinitionForStudentForItem']\n",
      "Depuración: []\n",
      "Depuración: ['----------------------']\n",
      "Depuración: ['This', 'automatic', 'notification', 'message', 'was', 'sent', 'by', 'Sakai', 'Collab', '(https://collab.sakaiproject.org/portal)', 'from', 'the', 'Source', 'site.']\n",
      "Depuración: ['You', 'can', 'modify', 'how', 'you', 'receive', 'notifications', 'at', 'My', 'Workspace', '>', 'Preferences.']\n",
      "Depuración: []\n",
      "Depuración: []\n",
      "Depuración: []\n",
      "Depuración: ['From', 'zqian@umich.edu', 'Fri', 'Jan', '4', '10:17:43', '2008']\n",
      "Fri\n",
      "Depuración: ['Return-Path:', '<postmaster@collab.sakaiproject.org>']\n",
      "Depuración: ['Received:', 'from', 'murder', '(mail.umich.edu', '[141.211.14.97])']\n",
      "Depuración: ['by', 'frankenstein.mail.umich.edu', '(Cyrus', 'v2.3.8)', 'with', 'LMTPA;']\n",
      "Depuración: ['Fri,', '04', 'Jan', '2008', '10:17:43', '-0500']\n",
      "Depuración: ['X-Sieve:', 'CMU', 'Sieve', '2.3']\n",
      "Depuración: ['Received:', 'from', 'murder', '([unix', 'socket])']\n",
      "Depuración: ['by', 'mail.umich.edu', '(Cyrus', 'v2.2.12)', 'with', 'LMTPA;']\n",
      "Depuración: ['Fri,', '04', 'Jan', '2008', '10:17:42', '-0500']\n",
      "Depuración: ['Received:', 'from', 'creepshow.mr.itd.umich.edu', '(creepshow.mr.itd.umich.edu', '[141.211.14.84])']\n",
      "Depuración: ['by', 'sleepers.mail.umich.edu', '()', 'with', 'ESMTP', 'id', 'm04FHgfs011536;']\n",
      "Depuración: ['Fri,', '4', 'Jan', '2008', '10:17:42', '-0500']\n",
      "Depuración: ['Received:', 'FROM', 'paploo.uhi.ac.uk', '(app1.prod.collab.uhi.ac.uk', '[194.35.219.184])']\n",
      "Depuración: ['BY', 'creepshow.mr.itd.umich.edu', 'ID', '477E4E0F.CCA4B.926', ';']\n",
      "Depuración: ['4', 'Jan', '2008', '10:17:38', '-0500']\n",
      "Depuración: ['Received:', 'from', 'paploo.uhi.ac.uk', '(localhost', '[127.0.0.1])']\n",
      "Depuración: ['by', 'paploo.uhi.ac.uk', '(Postfix)', 'with', 'ESMTP', 'id', 'BD02DBAC64;']\n",
      "Depuración: ['Fri,', '4', 'Jan', '2008', '15:17:34', '+0000', '(GMT)']\n",
      "Depuración: ['Message-ID:', '<200801041515.m04FFv42007050@nakamura.uits.iupui.edu>']\n",
      "Depuración: ['Mime-Version:', '1.0']\n",
      "Depuración: ['Content-Transfer-Encoding:', '7bit']\n",
      "Depuración: ['Received:', 'from', 'prod.collab.uhi.ac.uk', '([194.35.219.182])']\n",
      "Depuración: ['by', 'paploo.uhi.ac.uk', '(JAMES', 'SMTP', 'Server', '2.1.3)', 'with', 'SMTP', 'ID', '25']\n",
      "Depuración: ['for', '<source@collab.sakaiproject.org>;']\n",
      "Depuración: ['Fri,', '4', 'Jan', '2008', '15:17:11', '+0000', '(GMT)']\n",
      "Depuración: ['Received:', 'from', 'nakamura.uits.iupui.edu', '(nakamura.uits.iupui.edu', '[134.68.220.122])']\n",
      "Depuración: ['by', 'shmi.uhi.ac.uk', '(Postfix)', 'with', 'ESMTP', 'id', '5B396236B9']\n",
      "Depuración: ['for', '<source@collab.sakaiproject.org>;', 'Fri,', '4', 'Jan', '2008', '15:17:08', '+0000', '(GMT)']\n",
      "Depuración: ['Received:', 'from', 'nakamura.uits.iupui.edu', '(localhost', '[127.0.0.1])']\n",
      "Depuración: ['by', 'nakamura.uits.iupui.edu', '(8.12.11.20060308/8.12.11)', 'with', 'ESMTP', 'id', 'm04FFv85007052']\n",
      "Depuración: ['for', '<source@collab.sakaiproject.org>;', 'Fri,', '4', 'Jan', '2008', '10:15:57', '-0500']\n",
      "Depuración: ['Received:', '(from', 'apache@localhost)']\n",
      "Depuración: ['by', 'nakamura.uits.iupui.edu', '(8.12.11.20060308/8.12.11/Submit)', 'id', 'm04FFv42007050']\n",
      "Depuración: ['for', 'source@collab.sakaiproject.org;', 'Fri,', '4', 'Jan', '2008', '10:15:57', '-0500']\n",
      "Depuración: ['Date:', 'Fri,', '4', 'Jan', '2008', '10:15:57', '-0500']\n",
      "Depuración: ['X-Authentication-Warning:', 'nakamura.uits.iupui.edu:', 'apache', 'set', 'sender', 'to', 'zqian@umich.edu', 'using', '-f']\n",
      "Depuración: ['To:', 'source@collab.sakaiproject.org']\n",
      "Depuración: ['From:', 'zqian@umich.edu']\n",
      "Depuración: ['Subject:', '[sakai]', 'svn', 'commit:', 'r39757', '-', 'in', 'assignment/trunk:', 'assignment-impl/impl/src/java/org/sakaiproject/assignment/impl', 'assignment-tool/tool/src/webapp/vm/assignment']\n",
      "Depuración: ['X-Content-Type-Outer-Envelope:', 'text/plain;', 'charset=UTF-8']\n",
      "Depuración: ['X-Content-Type-Message-Body:', 'text/plain;', 'charset=UTF-8']\n",
      "Depuración: ['Content-Type:', 'text/plain;', 'charset=UTF-8']\n",
      "Depuración: ['X-DSPAM-Result:', 'Innocent']\n",
      "Depuración: ['X-DSPAM-Processed:', 'Fri', 'Jan', '4', '10:17:42', '2008']\n",
      "Depuración: ['X-DSPAM-Confidence:', '0.7605']\n",
      "Depuración: ['X-DSPAM-Probability:', '0.0000']\n",
      "Depuración: []\n",
      "Depuración: ['Details:', 'http://source.sakaiproject.org/viewsvn/?view=rev&rev=39757']\n",
      "Depuración: []\n",
      "Depuración: ['Author:', 'zqian@umich.edu']\n",
      "Depuración: ['Date:', '2008-01-04', '10:15:54', '-0500', '(Fri,', '04', 'Jan', '2008)']\n",
      "Depuración: ['New', 'Revision:', '39757']\n",
      "Depuración: []\n",
      "Depuración: ['Modified:']\n",
      "Depuración: ['assignment/trunk/assignment-impl/impl/src/java/org/sakaiproject/assignment/impl/BaseAssignmentService.java']\n",
      "Depuración: ['assignment/trunk/assignment-tool/tool/src/webapp/vm/assignment/chef_assignments_instructor_list_submissions.vm']\n",
      "Depuración: ['Log:']\n",
      "Depuración: ['fix', 'to', \"SAK-12604:Don't\", 'show', 'groups/sections', 'filter', 'if', 'the', 'site', \"doesn't\", 'have', 'any']\n",
      "Depuración: []\n",
      "Depuración: ['----------------------']\n",
      "Depuración: ['This', 'automatic', 'notification', 'message', 'was', 'sent', 'by', 'Sakai', 'Collab', '(https://collab.sakaiproject.org/portal)', 'from', 'the', 'Source', 'site.']\n",
      "Depuración: ['You', 'can', 'modify', 'how', 'you', 'receive', 'notifications', 'at', 'My', 'Workspace', '>', 'Preferences.']\n",
      "Depuración: []\n",
      "Depuración: []\n",
      "Depuración: []\n",
      "Depuración: ['From', 'antranig@caret.cam.ac.uk', 'Fri', 'Jan', '4', '10:04:14', '2008']\n",
      "Fri\n",
      "Depuración: ['Return-Path:', '<postmaster@collab.sakaiproject.org>']\n",
      "Depuración: ['Received:', 'from', 'murder', '(mail.umich.edu', '[141.211.14.25])']\n",
      "Depuración: ['by', 'frankenstein.mail.umich.edu', '(Cyrus', 'v2.3.8)', 'with', 'LMTPA;']\n",
      "Depuración: ['Fri,', '04', 'Jan', '2008', '10:04:14', '-0500']\n",
      "Depuración: ['X-Sieve:', 'CMU', 'Sieve', '2.3']\n",
      "Depuración: ['Received:', 'from', 'murder', '([unix', 'socket])']\n",
      "Depuración: ['by', 'mail.umich.edu', '(Cyrus', 'v2.2.12)', 'with', 'LMTPA;']\n",
      "Depuración: ['Fri,', '04', 'Jan', '2008', '10:04:14', '-0500']\n",
      "Depuración: ['Received:', 'from', 'holes.mr.itd.umich.edu', '(holes.mr.itd.umich.edu', '[141.211.14.79])']\n",
      "Depuración: ['by', 'panther.mail.umich.edu', '()', 'with', 'ESMTP', 'id', 'm04F4Dci015108;']\n",
      "Depuración: ['Fri,', '4', 'Jan', '2008', '10:04:13', '-0500']\n",
      "Depuración: ['Received:', 'FROM', 'paploo.uhi.ac.uk', '(app1.prod.collab.uhi.ac.uk', '[194.35.219.184])']\n",
      "Depuración: ['BY', 'holes.mr.itd.umich.edu', 'ID', '477E4AE3.D7AF.31669', ';']\n",
      "Depuración: ['4', 'Jan', '2008', '10:04:05', '-0500']\n",
      "Depuración: ['Received:', 'from', 'paploo.uhi.ac.uk', '(localhost', '[127.0.0.1])']\n",
      "Depuración: ['by', 'paploo.uhi.ac.uk', '(Postfix)', 'with', 'ESMTP', 'id', '933E3BAC17;']\n",
      "Depuración: ['Fri,', '4', 'Jan', '2008', '15:04:00', '+0000', '(GMT)']\n",
      "Depuración: ['Message-ID:', '<200801041502.m04F21Jo007031@nakamura.uits.iupui.edu>']\n",
      "Depuración: ['Mime-Version:', '1.0']\n",
      "Depuración: ['Content-Transfer-Encoding:', '7bit']\n",
      "Depuración: ['Received:', 'from', 'prod.collab.uhi.ac.uk', '([194.35.219.182])']\n",
      "Depuración: ['by', 'paploo.uhi.ac.uk', '(JAMES', 'SMTP', 'Server', '2.1.3)', 'with', 'SMTP', 'ID', '32']\n",
      "Depuración: ['for', '<source@collab.sakaiproject.org>;']\n",
      "Depuración: ['Fri,', '4', 'Jan', '2008', '15:03:15', '+0000', '(GMT)']\n",
      "Depuración: ['Received:', 'from', 'nakamura.uits.iupui.edu', '(nakamura.uits.iupui.edu', '[134.68.220.122])']\n",
      "Depuración: ['by', 'shmi.uhi.ac.uk', '(Postfix)', 'with', 'ESMTP', 'id', 'AC2F6236B9']\n",
      "Depuración: ['for', '<source@collab.sakaiproject.org>;', 'Fri,', '4', 'Jan', '2008', '15:03:12', '+0000', '(GMT)']\n",
      "Depuración: ['Received:', 'from', 'nakamura.uits.iupui.edu', '(localhost', '[127.0.0.1])']\n",
      "Depuración: ['by', 'nakamura.uits.iupui.edu', '(8.12.11.20060308/8.12.11)', 'with', 'ESMTP', 'id', 'm04F21hn007033']\n",
      "Depuración: ['for', '<source@collab.sakaiproject.org>;', 'Fri,', '4', 'Jan', '2008', '10:02:01', '-0500']\n",
      "Depuración: ['Received:', '(from', 'apache@localhost)']\n",
      "Depuración: ['by', 'nakamura.uits.iupui.edu', '(8.12.11.20060308/8.12.11/Submit)', 'id', 'm04F21Jo007031']\n",
      "Depuración: ['for', 'source@collab.sakaiproject.org;', 'Fri,', '4', 'Jan', '2008', '10:02:01', '-0500']\n",
      "Depuración: ['Date:', 'Fri,', '4', 'Jan', '2008', '10:02:01', '-0500']\n",
      "Depuración: ['X-Authentication-Warning:', 'nakamura.uits.iupui.edu:', 'apache', 'set', 'sender', 'to', 'antranig@caret.cam.ac.uk', 'using', '-f']\n",
      "Depuración: ['To:', 'source@collab.sakaiproject.org']\n",
      "Depuración: ['From:', 'antranig@caret.cam.ac.uk']\n",
      "Depuración: ['Subject:', '[sakai]', 'svn', 'commit:', 'r39756', '-', 'in', 'component/branches/SAK-12166/component-api/component/src/java/org/sakaiproject/component:', 'impl', 'impl/spring/support', 'impl/spring/support/dynamic', 'impl/support', 'util']\n",
      "Depuración: ['X-Content-Type-Outer-Envelope:', 'text/plain;', 'charset=UTF-8']\n",
      "Depuración: ['X-Content-Type-Message-Body:', 'text/plain;', 'charset=UTF-8']\n",
      "Depuración: ['Content-Type:', 'text/plain;', 'charset=UTF-8']\n",
      "Depuración: ['X-DSPAM-Result:', 'Innocent']\n",
      "Depuración: ['X-DSPAM-Processed:', 'Fri', 'Jan', '4', '10:04:14', '2008']\n",
      "Depuración: ['X-DSPAM-Confidence:', '0.6932']\n",
      "Depuración: ['X-DSPAM-Probability:', '0.0000']\n",
      "Depuración: []\n",
      "Depuración: ['Details:', 'http://source.sakaiproject.org/viewsvn/?view=rev&rev=39756']\n",
      "Depuración: []\n",
      "Depuración: ['Author:', 'antranig@caret.cam.ac.uk']\n",
      "Depuración: ['Date:', '2008-01-04', '10:01:40', '-0500', '(Fri,', '04', 'Jan', '2008)']\n",
      "Depuración: ['New', 'Revision:', '39756']\n",
      "Depuración: []\n",
      "Depuración: ['Added:']\n",
      "Depuración: ['component/branches/SAK-12166/component-api/component/src/java/org/sakaiproject/component/impl/spring/support/dynamic/']\n",
      "Depuración: ['component/branches/SAK-12166/component-api/component/src/java/org/sakaiproject/component/impl/spring/support/dynamic/DynamicComponentManager.java']\n",
      "Depuración: ['component/branches/SAK-12166/component-api/component/src/java/org/sakaiproject/component/impl/support/']\n",
      "Depuración: ['component/branches/SAK-12166/component-api/component/src/java/org/sakaiproject/component/impl/support/DynamicComponentRecord.java']\n",
      "Depuración: ['component/branches/SAK-12166/component-api/component/src/java/org/sakaiproject/component/impl/support/DynamicJARManager.java']\n",
      "Depuración: ['component/branches/SAK-12166/component-api/component/src/java/org/sakaiproject/component/impl/support/JARRecord.java']\n",
      "Depuración: ['component/branches/SAK-12166/component-api/component/src/java/org/sakaiproject/component/util/ByteToCharBase64.java']\n",
      "Depuración: ['component/branches/SAK-12166/component-api/component/src/java/org/sakaiproject/component/util/FileUtil.java']\n",
      "Depuración: ['component/branches/SAK-12166/component-api/component/src/java/org/sakaiproject/component/util/RecordFileIO.java']\n",
      "Depuración: ['component/branches/SAK-12166/component-api/component/src/java/org/sakaiproject/component/util/RecordReader.java']\n",
      "Depuración: ['component/branches/SAK-12166/component-api/component/src/java/org/sakaiproject/component/util/RecordWriter.java']\n",
      "Depuración: ['component/branches/SAK-12166/component-api/component/src/java/org/sakaiproject/component/util/StreamDigestor.java']\n",
      "Depuración: ['Modified:']\n",
      "Depuración: ['component/branches/SAK-12166/component-api/component/src/java/org/sakaiproject/component/impl/spring/support/ComponentsLoaderImpl.java']\n",
      "Depuración: ['Log:']\n",
      "Depuración: ['Temporary', 'commit', 'of', 'incomplete', 'work', 'on', 'JAR', 'caching']\n",
      "Depuración: []\n",
      "Depuración: ['----------------------']\n",
      "Depuración: ['This', 'automatic', 'notification', 'message', 'was', 'sent', 'by', 'Sakai', 'Collab', '(https://collab.sakaiproject.org/portal)', 'from', 'the', 'Source', 'site.']\n",
      "Depuración: ['You', 'can', 'modify', 'how', 'you', 'receive', 'notifications', 'at', 'My', 'Workspace', '>', 'Preferences.']\n",
      "Depuración: []\n",
      "Depuración: []\n",
      "Depuración: []\n",
      "Depuración: ['From', 'gopal.ramasammycook@gmail.com', 'Fri', 'Jan', '4', '09:05:31', '2008']\n",
      "Fri\n",
      "Depuración: ['Return-Path:', '<postmaster@collab.sakaiproject.org>']\n",
      "Depuración: ['Received:', 'from', 'murder', '(mail.umich.edu', '[141.211.14.90])']\n",
      "Depuración: ['by', 'frankenstein.mail.umich.edu', '(Cyrus', 'v2.3.8)', 'with', 'LMTPA;']\n",
      "Depuración: ['Fri,', '04', 'Jan', '2008', '09:05:31', '-0500']\n",
      "Depuración: ['X-Sieve:', 'CMU', 'Sieve', '2.3']\n",
      "Depuración: ['Received:', 'from', 'murder', '([unix', 'socket])']\n",
      "Depuración: ['by', 'mail.umich.edu', '(Cyrus', 'v2.2.12)', 'with', 'LMTPA;']\n",
      "Depuración: ['Fri,', '04', 'Jan', '2008', '09:05:31', '-0500']\n",
      "Depuración: ['Received:', 'from', 'guys.mr.itd.umich.edu', '(guys.mr.itd.umich.edu', '[141.211.14.76])']\n",
      "Depuración: ['by', 'flawless.mail.umich.edu', '()', 'with', 'ESMTP', 'id', 'm04E5U3C029277;']\n",
      "Depuración: ['Fri,', '4', 'Jan', '2008', '09:05:30', '-0500']\n",
      "Depuración: ['Received:', 'FROM', 'paploo.uhi.ac.uk', '(app1.prod.collab.uhi.ac.uk', '[194.35.219.184])']\n",
      "Depuración: ['BY', 'guys.mr.itd.umich.edu', 'ID', '477E3D23.EE2E7.5237', ';']\n",
      "Depuración: ['4', 'Jan', '2008', '09:05:26', '-0500']\n",
      "Depuración: ['Received:', 'from', 'paploo.uhi.ac.uk', '(localhost', '[127.0.0.1])']\n",
      "Depuración: ['by', 'paploo.uhi.ac.uk', '(Postfix)', 'with', 'ESMTP', 'id', '33C7856DC0;']\n",
      "Depuración: ['Fri,', '4', 'Jan', '2008', '14:05:26', '+0000', '(GMT)']\n",
      "Depuración: ['Message-ID:', '<200801041403.m04E3psW006926@nakamura.uits.iupui.edu>']\n",
      "Depuración: ['Mime-Version:', '1.0']\n",
      "Depuración: ['Content-Transfer-Encoding:', '7bit']\n",
      "Depuración: ['Received:', 'from', 'prod.collab.uhi.ac.uk', '([194.35.219.182])']\n",
      "Depuración: ['by', 'paploo.uhi.ac.uk', '(JAMES', 'SMTP', 'Server', '2.1.3)', 'with', 'SMTP', 'ID', '575']\n",
      "Depuración: ['for', '<source@collab.sakaiproject.org>;']\n",
      "Depuración: ['Fri,', '4', 'Jan', '2008', '14:05:04', '+0000', '(GMT)']\n",
      "Depuración: ['Received:', 'from', 'nakamura.uits.iupui.edu', '(nakamura.uits.iupui.edu', '[134.68.220.122])']\n",
      "Depuración: ['by', 'shmi.uhi.ac.uk', '(Postfix)', 'with', 'ESMTP', 'id', '3C0261D617']\n",
      "Depuración: ['for', '<source@collab.sakaiproject.org>;', 'Fri,', '4', 'Jan', '2008', '14:05:03', '+0000', '(GMT)']\n",
      "Depuración: ['Received:', 'from', 'nakamura.uits.iupui.edu', '(localhost', '[127.0.0.1])']\n",
      "Depuración: ['by', 'nakamura.uits.iupui.edu', '(8.12.11.20060308/8.12.11)', 'with', 'ESMTP', 'id', 'm04E3pQS006928']\n",
      "Depuración: ['for', '<source@collab.sakaiproject.org>;', 'Fri,', '4', 'Jan', '2008', '09:03:52', '-0500']\n",
      "Depuración: ['Received:', '(from', 'apache@localhost)']\n",
      "Depuración: ['by', 'nakamura.uits.iupui.edu', '(8.12.11.20060308/8.12.11/Submit)', 'id', 'm04E3psW006926']\n",
      "Depuración: ['for', 'source@collab.sakaiproject.org;', 'Fri,', '4', 'Jan', '2008', '09:03:51', '-0500']\n",
      "Depuración: ['Date:', 'Fri,', '4', 'Jan', '2008', '09:03:51', '-0500']\n",
      "Depuración: ['X-Authentication-Warning:', 'nakamura.uits.iupui.edu:', 'apache', 'set', 'sender', 'to', 'gopal.ramasammycook@gmail.com', 'using', '-f']\n",
      "Depuración: ['To:', 'source@collab.sakaiproject.org']\n",
      "Depuración: ['From:', 'gopal.ramasammycook@gmail.com']\n",
      "Depuración: ['Subject:', '[sakai]', 'svn', 'commit:', 'r39755', '-', 'in', 'sam/branches/SAK-12065:', 'samigo-api/src/java/org/sakaiproject/tool/assessment/shared/api/grading', 'samigo-app/src/java/org/sakaiproject/tool/assessment/ui/bean/evaluation', 'samigo-app/src/java/org/sakaiproject/tool/assessment/ui/listener/evaluation', 'samigo-services/src/java/org/sakaiproject/tool/assessment/facade', 'samigo-services/src/java/org/sakaiproject/tool/assessment/integration/helper/ifc', 'samigo-services/src/java/org/sakaiproject/tool/assessment/integration/helper/integrated', 'samigo-services/src/java/org/sakaiproject/tool/assessment/integration/helper/standalone', 'samigo-services/src/java/org/sakaiproject/tool/assessment/shared/impl/grading']\n",
      "Depuración: ['X-Content-Type-Outer-Envelope:', 'text/plain;', 'charset=UTF-8']\n",
      "Depuración: ['X-Content-Type-Message-Body:', 'text/plain;', 'charset=UTF-8']\n",
      "Depuración: ['Content-Type:', 'text/plain;', 'charset=UTF-8']\n",
      "Depuración: ['X-DSPAM-Result:', 'Innocent']\n",
      "Depuración: ['X-DSPAM-Processed:', 'Fri', 'Jan', '4', '09:05:31', '2008']\n",
      "Depuración: ['X-DSPAM-Confidence:', '0.7558']\n",
      "Depuración: ['X-DSPAM-Probability:', '0.0000']\n",
      "Depuración: []\n",
      "Depuración: ['Details:', 'http://source.sakaiproject.org/viewsvn/?view=rev&rev=39755']\n",
      "Depuración: []\n",
      "Depuración: ['Author:', 'gopal.ramasammycook@gmail.com']\n",
      "Depuración: ['Date:', '2008-01-04', '09:02:54', '-0500', '(Fri,', '04', 'Jan', '2008)']\n",
      "Depuración: ['New', 'Revision:', '39755']\n",
      "Depuración: []\n",
      "Depuración: ['Modified:']\n",
      "Depuración: ['sam/branches/SAK-12065/samigo-api/src/java/org/sakaiproject/tool/assessment/shared/api/grading/GradingSectionAwareServiceAPI.java']\n",
      "Depuración: ['sam/branches/SAK-12065/samigo-app/src/java/org/sakaiproject/tool/assessment/ui/bean/evaluation/QuestionScoresBean.java']\n",
      "Depuración: ['sam/branches/SAK-12065/samigo-app/src/java/org/sakaiproject/tool/assessment/ui/bean/evaluation/SubmissionStatusBean.java']\n",
      "Depuración: ['sam/branches/SAK-12065/samigo-app/src/java/org/sakaiproject/tool/assessment/ui/bean/evaluation/TotalScoresBean.java']\n",
      "Depuración: ['sam/branches/SAK-12065/samigo-app/src/java/org/sakaiproject/tool/assessment/ui/listener/evaluation/SubmissionStatusListener.java']\n",
      "Depuración: ['sam/branches/SAK-12065/samigo-services/src/java/org/sakaiproject/tool/assessment/facade/PublishedAssessmentFacadeQueries.java']\n",
      "Depuración: ['sam/branches/SAK-12065/samigo-services/src/java/org/sakaiproject/tool/assessment/facade/PublishedAssessmentFacadeQueriesAPI.java']\n",
      "Depuración: ['sam/branches/SAK-12065/samigo-services/src/java/org/sakaiproject/tool/assessment/integration/helper/ifc/SectionAwareServiceHelper.java']\n",
      "Depuración: ['sam/branches/SAK-12065/samigo-services/src/java/org/sakaiproject/tool/assessment/integration/helper/integrated/SectionAwareServiceHelperImpl.java']\n",
      "Depuración: ['sam/branches/SAK-12065/samigo-services/src/java/org/sakaiproject/tool/assessment/integration/helper/standalone/SectionAwareServiceHelperImpl.java']\n",
      "Depuración: ['sam/branches/SAK-12065/samigo-services/src/java/org/sakaiproject/tool/assessment/shared/impl/grading/GradingSectionAwareServiceImpl.java']\n",
      "Depuración: ['Log:']\n",
      "Depuración: ['SAK-12065', 'Gopal', '-', 'Samigo', 'Group', 'Release.', 'SubmissionStatus/TotalScores/Questions', 'View', 'filter.']\n",
      "Depuración: []\n",
      "Depuración: ['----------------------']\n",
      "Depuración: ['This', 'automatic', 'notification', 'message', 'was', 'sent', 'by', 'Sakai', 'Collab', '(https://collab.sakaiproject.org/portal)', 'from', 'the', 'Source', 'site.']\n",
      "Depuración: ['You', 'can', 'modify', 'how', 'you', 'receive', 'notifications', 'at', 'My', 'Workspace', '>', 'Preferences.']\n",
      "Depuración: []\n",
      "Depuración: []\n",
      "Depuración: []\n",
      "Depuración: ['From', 'david.horwitz@uct.ac.za', 'Fri', 'Jan', '4', '07:02:32', '2008']\n",
      "Fri\n",
      "Depuración: ['Return-Path:', '<postmaster@collab.sakaiproject.org>']\n",
      "Depuración: ['Received:', 'from', 'murder', '(mail.umich.edu', '[141.211.14.39])']\n",
      "Depuración: ['by', 'frankenstein.mail.umich.edu', '(Cyrus', 'v2.3.8)', 'with', 'LMTPA;']\n",
      "Depuración: ['Fri,', '04', 'Jan', '2008', '07:02:32', '-0500']\n",
      "Depuración: ['X-Sieve:', 'CMU', 'Sieve', '2.3']\n",
      "Depuración: ['Received:', 'from', 'murder', '([unix', 'socket])']\n",
      "Depuración: ['by', 'mail.umich.edu', '(Cyrus', 'v2.2.12)', 'with', 'LMTPA;']\n",
      "Depuración: ['Fri,', '04', 'Jan', '2008', '07:02:32', '-0500']\n",
      "Depuración: ['Received:', 'from', 'guys.mr.itd.umich.edu', '(guys.mr.itd.umich.edu', '[141.211.14.76])']\n",
      "Depuración: ['by', 'faithful.mail.umich.edu', '()', 'with', 'ESMTP', 'id', 'm04C2VN7026678;']\n",
      "Depuración: ['Fri,', '4', 'Jan', '2008', '07:02:31', '-0500']\n",
      "Depuración: ['Received:', 'FROM', 'paploo.uhi.ac.uk', '(app1.prod.collab.uhi.ac.uk', '[194.35.219.184])']\n",
      "Depuración: ['BY', 'guys.mr.itd.umich.edu', 'ID', '477E2050.C2599.3263', ';']\n",
      "Depuración: ['4', 'Jan', '2008', '07:02:27', '-0500']\n",
      "Depuración: ['Received:', 'from', 'paploo.uhi.ac.uk', '(localhost', '[127.0.0.1])']\n",
      "Depuración: ['by', 'paploo.uhi.ac.uk', '(Postfix)', 'with', 'ESMTP', 'id', '6497FBA906;']\n",
      "Depuración: ['Fri,', '4', 'Jan', '2008', '12:02:11', '+0000', '(GMT)']\n",
      "Depuración: ['Message-ID:', '<200801041200.m04C0gfK006793@nakamura.uits.iupui.edu>']\n",
      "Depuración: ['Mime-Version:', '1.0']\n",
      "Depuración: ['Content-Transfer-Encoding:', '7bit']\n",
      "Depuración: ['Received:', 'from', 'prod.collab.uhi.ac.uk', '([194.35.219.182])']\n",
      "Depuración: ['by', 'paploo.uhi.ac.uk', '(JAMES', 'SMTP', 'Server', '2.1.3)', 'with', 'SMTP', 'ID', '611']\n",
      "Depuración: ['for', '<source@collab.sakaiproject.org>;']\n",
      "Depuración: ['Fri,', '4', 'Jan', '2008', '12:01:53', '+0000', '(GMT)']\n",
      "Depuración: ['Received:', 'from', 'nakamura.uits.iupui.edu', '(nakamura.uits.iupui.edu', '[134.68.220.122])']\n",
      "Depuración: ['by', 'shmi.uhi.ac.uk', '(Postfix)', 'with', 'ESMTP', 'id', '5296342D3C']\n",
      "Depuración: ['for', '<source@collab.sakaiproject.org>;', 'Fri,', '4', 'Jan', '2008', '12:01:53', '+0000', '(GMT)']\n",
      "Depuración: ['Received:', 'from', 'nakamura.uits.iupui.edu', '(localhost', '[127.0.0.1])']\n",
      "Depuración: ['by', 'nakamura.uits.iupui.edu', '(8.12.11.20060308/8.12.11)', 'with', 'ESMTP', 'id', 'm04C0gnm006795']\n",
      "Depuración: ['for', '<source@collab.sakaiproject.org>;', 'Fri,', '4', 'Jan', '2008', '07:00:42', '-0500']\n",
      "Depuración: ['Received:', '(from', 'apache@localhost)']\n",
      "Depuración: ['by', 'nakamura.uits.iupui.edu', '(8.12.11.20060308/8.12.11/Submit)', 'id', 'm04C0gfK006793']\n",
      "Depuración: ['for', 'source@collab.sakaiproject.org;', 'Fri,', '4', 'Jan', '2008', '07:00:42', '-0500']\n",
      "Depuración: ['Date:', 'Fri,', '4', 'Jan', '2008', '07:00:42', '-0500']\n",
      "Depuración: ['X-Authentication-Warning:', 'nakamura.uits.iupui.edu:', 'apache', 'set', 'sender', 'to', 'david.horwitz@uct.ac.za', 'using', '-f']\n",
      "Depuración: ['To:', 'source@collab.sakaiproject.org']\n",
      "Depuración: ['From:', 'david.horwitz@uct.ac.za']\n",
      "Depuración: ['Subject:', '[sakai]', 'svn', 'commit:', 'r39754', '-', 'in', 'polls/branches/sakai_2-5-x:', '.', 'tool', 'tool/src/java/org/sakaiproject/poll/tool', 'tool/src/java/org/sakaiproject/poll/tool/evolvers', 'tool/src/webapp/WEB-INF']\n",
      "Depuración: ['X-Content-Type-Outer-Envelope:', 'text/plain;', 'charset=UTF-8']\n",
      "Depuración: ['X-Content-Type-Message-Body:', 'text/plain;', 'charset=UTF-8']\n",
      "Depuración: ['Content-Type:', 'text/plain;', 'charset=UTF-8']\n",
      "Depuración: ['X-DSPAM-Result:', 'Innocent']\n",
      "Depuración: ['X-DSPAM-Processed:', 'Fri', 'Jan', '4', '07:02:32', '2008']\n",
      "Depuración: ['X-DSPAM-Confidence:', '0.6526']\n",
      "Depuración: ['X-DSPAM-Probability:', '0.0000']\n",
      "Depuración: []\n",
      "Depuración: ['Details:', 'http://source.sakaiproject.org/viewsvn/?view=rev&rev=39754']\n",
      "Depuración: []\n",
      "Depuración: ['Author:', 'david.horwitz@uct.ac.za']\n",
      "Depuración: ['Date:', '2008-01-04', '07:00:10', '-0500', '(Fri,', '04', 'Jan', '2008)']\n",
      "Depuración: ['New', 'Revision:', '39754']\n",
      "Depuración: []\n",
      "Depuración: ['Added:']\n",
      "Depuración: ['polls/branches/sakai_2-5-x/tool/src/java/org/sakaiproject/poll/tool/evolvers/']\n",
      "Depuración: ['polls/branches/sakai_2-5-x/tool/src/java/org/sakaiproject/poll/tool/evolvers/SakaiFCKTextEvolver.java']\n",
      "Depuración: ['Removed:']\n",
      "Depuración: ['polls/branches/sakai_2-5-x/tool/src/java/org/sakaiproject/poll/tool/evolvers/SakaiFCKTextEvolver.java']\n",
      "Depuración: ['Modified:']\n",
      "Depuración: ['polls/branches/sakai_2-5-x/.classpath']\n",
      "Depuración: ['polls/branches/sakai_2-5-x/tool/pom.xml']\n",
      "Depuración: ['polls/branches/sakai_2-5-x/tool/src/webapp/WEB-INF/requestContext.xml']\n",
      "Depuración: ['Log:']\n",
      "Depuración: ['svn', 'log', '-r39753', 'https://source.sakaiproject.org/svn/polls/trunk']\n",
      "Depuración: ['------------------------------------------------------------------------']\n",
      "Depuración: ['r39753', '|', 'david.horwitz@uct.ac.za', '|', '2008-01-04', '13:05:51', '+0200', '(Fri,', '04', 'Jan', '2008)', '|', '1', 'line']\n",
      "Depuración: []\n",
      "Depuración: ['SAK-12228', 'implmented', 'workaround', 'sugested', 'by', 'AB', '-', 'needs', 'to', 'be', 'tested', 'against', 'a', 'trunk', 'build']\n",
      "Depuración: ['------------------------------------------------------------------------']\n",
      "Depuración: ['dhorwitz@david-horwitz-6:~/branchManagemnt/sakai_2-5-x>', 'svn', 'merge', '-c39753', 'https://source.sakaiproject.org/svn/polls/trunk', 'polls/']\n",
      "Depuración: ['U', 'polls/.classpath']\n",
      "Depuración: ['A', 'polls/tool/src/java/org/sakaiproject/poll/tool/evolvers']\n",
      "Depuración: ['A', 'polls/tool/src/java/org/sakaiproject/poll/tool/evolvers/SakaiFCKTextEvolver.java']\n",
      "Depuración: ['C', 'polls/tool/src/webapp/WEB-INF/requestContext.xml']\n",
      "Depuración: ['U', 'polls/tool/pom.xml']\n",
      "Depuración: []\n",
      "Depuración: ['dhorwitz@david-horwitz-6:~/branchManagemnt/sakai_2-5-x>', 'svn', 'resolved', 'polls/tool/src/webapp/WEB-INF/requestContext.xml']\n",
      "Depuración: ['Resolved', 'conflicted', 'state', 'of', \"'polls/tool/src/webapp/WEB-INF/requestContext.xml\"]\n",
      "Depuración: []\n",
      "Depuración: []\n",
      "Depuración: ['----------------------']\n",
      "Depuración: ['This', 'automatic', 'notification', 'message', 'was', 'sent', 'by', 'Sakai', 'Collab', '(https://collab.sakaiproject.org/portal)', 'from', 'the', 'Source', 'site.']\n",
      "Depuración: ['You', 'can', 'modify', 'how', 'you', 'receive', 'notifications', 'at', 'My', 'Workspace', '>', 'Preferences.']\n",
      "Depuración: []\n",
      "Depuración: []\n",
      "Depuración: []\n",
      "Depuración: ['From', 'david.horwitz@uct.ac.za', 'Fri', 'Jan', '4', '06:08:27', '2008']\n",
      "Fri\n",
      "Depuración: ['Return-Path:', '<postmaster@collab.sakaiproject.org>']\n",
      "Depuración: ['Received:', 'from', 'murder', '(mail.umich.edu', '[141.211.14.98])']\n",
      "Depuración: ['by', 'frankenstein.mail.umich.edu', '(Cyrus', 'v2.3.8)', 'with', 'LMTPA;']\n",
      "Depuración: ['Fri,', '04', 'Jan', '2008', '06:08:27', '-0500']\n",
      "Depuración: ['X-Sieve:', 'CMU', 'Sieve', '2.3']\n",
      "Depuración: ['Received:', 'from', 'murder', '([unix', 'socket])']\n",
      "Depuración: ['by', 'mail.umich.edu', '(Cyrus', 'v2.2.12)', 'with', 'LMTPA;']\n",
      "Depuración: ['Fri,', '04', 'Jan', '2008', '06:08:27', '-0500']\n",
      "Depuración: ['Received:', 'from', 'firestarter.mr.itd.umich.edu', '(firestarter.mr.itd.umich.edu', '[141.211.14.83])']\n",
      "Depuración: ['by', 'casino.mail.umich.edu', '()', 'with', 'ESMTP', 'id', 'm04B8Qw9001368;']\n",
      "Depuración: ['Fri,', '4', 'Jan', '2008', '06:08:26', '-0500']\n",
      "Depuración: ['Received:', 'FROM', 'paploo.uhi.ac.uk', '(app1.prod.collab.uhi.ac.uk', '[194.35.219.184])']\n",
      "Depuración: ['BY', 'firestarter.mr.itd.umich.edu', 'ID', '477E13A5.30FC0.24054', ';']\n",
      "Depuración: ['4', 'Jan', '2008', '06:08:23', '-0500']\n",
      "Depuración: ['Received:', 'from', 'paploo.uhi.ac.uk', '(localhost', '[127.0.0.1])']\n",
      "Depuración: ['by', 'paploo.uhi.ac.uk', '(Postfix)', 'with', 'ESMTP', 'id', '784A476D7B;']\n",
      "Depuración: ['Fri,', '4', 'Jan', '2008', '11:08:12', '+0000', '(GMT)']\n",
      "Depuración: ['Message-ID:', '<200801041106.m04B6lK3006677@nakamura.uits.iupui.edu>']\n",
      "Depuración: ['Mime-Version:', '1.0']\n",
      "Depuración: ['Content-Transfer-Encoding:', '7bit']\n",
      "Depuración: ['Received:', 'from', 'prod.collab.uhi.ac.uk', '([194.35.219.182])']\n",
      "Depuración: ['by', 'paploo.uhi.ac.uk', '(JAMES', 'SMTP', 'Server', '2.1.3)', 'with', 'SMTP', 'ID', '585']\n",
      "Depuración: ['for', '<source@collab.sakaiproject.org>;']\n",
      "Depuración: ['Fri,', '4', 'Jan', '2008', '11:07:56', '+0000', '(GMT)']\n",
      "Depuración: ['Received:', 'from', 'nakamura.uits.iupui.edu', '(nakamura.uits.iupui.edu', '[134.68.220.122])']\n",
      "Depuración: ['by', 'shmi.uhi.ac.uk', '(Postfix)', 'with', 'ESMTP', 'id', '1CACC42D0C']\n",
      "Depuración: ['for', '<source@collab.sakaiproject.org>;', 'Fri,', '4', 'Jan', '2008', '11:07:58', '+0000', '(GMT)']\n",
      "Depuración: ['Received:', 'from', 'nakamura.uits.iupui.edu', '(localhost', '[127.0.0.1])']\n",
      "Depuración: ['by', 'nakamura.uits.iupui.edu', '(8.12.11.20060308/8.12.11)', 'with', 'ESMTP', 'id', 'm04B6lWM006679']\n",
      "Depuración: ['for', '<source@collab.sakaiproject.org>;', 'Fri,', '4', 'Jan', '2008', '06:06:47', '-0500']\n",
      "Depuración: ['Received:', '(from', 'apache@localhost)']\n",
      "Depuración: ['by', 'nakamura.uits.iupui.edu', '(8.12.11.20060308/8.12.11/Submit)', 'id', 'm04B6lK3006677']\n",
      "Depuración: ['for', 'source@collab.sakaiproject.org;', 'Fri,', '4', 'Jan', '2008', '06:06:47', '-0500']\n",
      "Depuración: ['Date:', 'Fri,', '4', 'Jan', '2008', '06:06:47', '-0500']\n",
      "Depuración: ['X-Authentication-Warning:', 'nakamura.uits.iupui.edu:', 'apache', 'set', 'sender', 'to', 'david.horwitz@uct.ac.za', 'using', '-f']\n",
      "Depuración: ['To:', 'source@collab.sakaiproject.org']\n",
      "Depuración: ['From:', 'david.horwitz@uct.ac.za']\n",
      "Depuración: ['Subject:', '[sakai]', 'svn', 'commit:', 'r39753', '-', 'in', 'polls/trunk:', '.', 'tool', 'tool/src/java/org/sakaiproject/poll/tool', 'tool/src/java/org/sakaiproject/poll/tool/evolvers', 'tool/src/webapp/WEB-INF']\n",
      "Depuración: ['X-Content-Type-Outer-Envelope:', 'text/plain;', 'charset=UTF-8']\n",
      "Depuración: ['X-Content-Type-Message-Body:', 'text/plain;', 'charset=UTF-8']\n",
      "Depuración: ['Content-Type:', 'text/plain;', 'charset=UTF-8']\n",
      "Depuración: ['X-DSPAM-Result:', 'Innocent']\n",
      "Depuración: ['X-DSPAM-Processed:', 'Fri', 'Jan', '4', '06:08:27', '2008']\n",
      "Depuración: ['X-DSPAM-Confidence:', '0.6948']\n",
      "Depuración: ['X-DSPAM-Probability:', '0.0000']\n",
      "Depuración: []\n",
      "Depuración: ['Details:', 'http://source.sakaiproject.org/viewsvn/?view=rev&rev=39753']\n",
      "Depuración: []\n",
      "Depuración: ['Author:', 'david.horwitz@uct.ac.za']\n",
      "Depuración: ['Date:', '2008-01-04', '06:05:51', '-0500', '(Fri,', '04', 'Jan', '2008)']\n",
      "Depuración: ['New', 'Revision:', '39753']\n",
      "Depuración: []\n",
      "Depuración: ['Added:']\n",
      "Depuración: ['polls/trunk/tool/src/java/org/sakaiproject/poll/tool/evolvers/']\n",
      "Depuración: ['polls/trunk/tool/src/java/org/sakaiproject/poll/tool/evolvers/SakaiFCKTextEvolver.java']\n",
      "Depuración: ['Modified:']\n",
      "Depuración: ['polls/trunk/.classpath']\n",
      "Depuración: ['polls/trunk/tool/pom.xml']\n",
      "Depuración: ['polls/trunk/tool/src/webapp/WEB-INF/requestContext.xml']\n",
      "Depuración: ['Log:']\n",
      "Depuración: ['SAK-12228', 'implmented', 'workaround', 'sugested', 'by', 'AB', '-', 'needs', 'to', 'be', 'tested', 'against', 'a', 'trunk', 'build']\n",
      "Depuración: []\n",
      "Depuración: ['----------------------']\n",
      "Depuración: ['This', 'automatic', 'notification', 'message', 'was', 'sent', 'by', 'Sakai', 'Collab', '(https://collab.sakaiproject.org/portal)', 'from', 'the', 'Source', 'site.']\n",
      "Depuración: ['You', 'can', 'modify', 'how', 'you', 'receive', 'notifications', 'at', 'My', 'Workspace', '>', 'Preferences.']\n",
      "Depuración: []\n",
      "Depuración: []\n",
      "Depuración: []\n",
      "Depuración: ['From', 'david.horwitz@uct.ac.za', 'Fri', 'Jan', '4', '04:49:08', '2008']\n",
      "Fri\n",
      "Depuración: ['Return-Path:', '<postmaster@collab.sakaiproject.org>']\n",
      "Depuración: ['Received:', 'from', 'murder', '(mail.umich.edu', '[141.211.14.92])']\n",
      "Depuración: ['by', 'frankenstein.mail.umich.edu', '(Cyrus', 'v2.3.8)', 'with', 'LMTPA;']\n",
      "Depuración: ['Fri,', '04', 'Jan', '2008', '04:49:08', '-0500']\n",
      "Depuración: ['X-Sieve:', 'CMU', 'Sieve', '2.3']\n",
      "Depuración: ['Received:', 'from', 'murder', '([unix', 'socket])']\n",
      "Depuración: ['by', 'mail.umich.edu', '(Cyrus', 'v2.2.12)', 'with', 'LMTPA;']\n",
      "Depuración: ['Fri,', '04', 'Jan', '2008', '04:49:08', '-0500']\n",
      "Depuración: ['Received:', 'from', 'galaxyquest.mr.itd.umich.edu', '(galaxyquest.mr.itd.umich.edu', '[141.211.93.145])']\n",
      "Depuración: ['by', 'score.mail.umich.edu', '()', 'with', 'ESMTP', 'id', 'm049n60G017588;']\n",
      "Depuración: ['Fri,', '4', 'Jan', '2008', '04:49:06', '-0500']\n",
      "Depuración: ['Received:', 'FROM', 'paploo.uhi.ac.uk', '(app1.prod.collab.uhi.ac.uk', '[194.35.219.184])']\n",
      "Depuración: ['BY', 'galaxyquest.mr.itd.umich.edu', 'ID', '477E010C.48C2.10259', ';']\n",
      "Depuración: ['4', 'Jan', '2008', '04:49:03', '-0500']\n",
      "Depuración: ['Received:', 'from', 'paploo.uhi.ac.uk', '(localhost', '[127.0.0.1])']\n",
      "Depuración: ['by', 'paploo.uhi.ac.uk', '(Postfix)', 'with', 'ESMTP', 'id', '254CC8CDEE;']\n",
      "Depuración: ['Fri,', '4', 'Jan', '2008', '09:48:55', '+0000', '(GMT)']\n",
      "Depuración: ['Message-ID:', '<200801040947.m049lUxo006517@nakamura.uits.iupui.edu>']\n",
      "Depuración: ['Mime-Version:', '1.0']\n",
      "Depuración: ['Content-Transfer-Encoding:', '7bit']\n",
      "Depuración: ['Received:', 'from', 'prod.collab.uhi.ac.uk', '([194.35.219.182])']\n",
      "Depuración: ['by', 'paploo.uhi.ac.uk', '(JAMES', 'SMTP', 'Server', '2.1.3)', 'with', 'SMTP', 'ID', '246']\n",
      "Depuración: ['for', '<source@collab.sakaiproject.org>;']\n",
      "Depuración: ['Fri,', '4', 'Jan', '2008', '09:48:36', '+0000', '(GMT)']\n",
      "Depuración: ['Received:', 'from', 'nakamura.uits.iupui.edu', '(nakamura.uits.iupui.edu', '[134.68.220.122])']\n",
      "Depuración: ['by', 'shmi.uhi.ac.uk', '(Postfix)', 'with', 'ESMTP', 'id', '8C13342C92']\n",
      "Depuración: ['for', '<source@collab.sakaiproject.org>;', 'Fri,', '4', 'Jan', '2008', '09:48:40', '+0000', '(GMT)']\n",
      "Depuración: ['Received:', 'from', 'nakamura.uits.iupui.edu', '(localhost', '[127.0.0.1])']\n",
      "Depuración: ['by', 'nakamura.uits.iupui.edu', '(8.12.11.20060308/8.12.11)', 'with', 'ESMTP', 'id', 'm049lU3P006519']\n",
      "Depuración: ['for', '<source@collab.sakaiproject.org>;', 'Fri,', '4', 'Jan', '2008', '04:47:30', '-0500']\n",
      "Depuración: ['Received:', '(from', 'apache@localhost)']\n",
      "Depuración: ['by', 'nakamura.uits.iupui.edu', '(8.12.11.20060308/8.12.11/Submit)', 'id', 'm049lUxo006517']\n",
      "Depuración: ['for', 'source@collab.sakaiproject.org;', 'Fri,', '4', 'Jan', '2008', '04:47:30', '-0500']\n",
      "Depuración: ['Date:', 'Fri,', '4', 'Jan', '2008', '04:47:30', '-0500']\n",
      "Depuración: ['X-Authentication-Warning:', 'nakamura.uits.iupui.edu:', 'apache', 'set', 'sender', 'to', 'david.horwitz@uct.ac.za', 'using', '-f']\n",
      "Depuración: ['To:', 'source@collab.sakaiproject.org']\n",
      "Depuración: ['From:', 'david.horwitz@uct.ac.za']\n",
      "Depuración: ['Subject:', '[sakai]', 'svn', 'commit:', 'r39752', '-', 'in', 'podcasts/branches/sakai_2-5-x/podcasts-app/src/webapp:', 'css', 'podcasts']\n",
      "Depuración: ['X-Content-Type-Outer-Envelope:', 'text/plain;', 'charset=UTF-8']\n",
      "Depuración: ['X-Content-Type-Message-Body:', 'text/plain;', 'charset=UTF-8']\n",
      "Depuración: ['Content-Type:', 'text/plain;', 'charset=UTF-8']\n",
      "Depuración: ['X-DSPAM-Result:', 'Innocent']\n",
      "Depuración: ['X-DSPAM-Processed:', 'Fri', 'Jan', '4', '04:49:08', '2008']\n",
      "Depuración: ['X-DSPAM-Confidence:', '0.6528']\n",
      "Depuración: ['X-DSPAM-Probability:', '0.0000']\n",
      "Depuración: []\n",
      "Depuración: ['Details:', 'http://source.sakaiproject.org/viewsvn/?view=rev&rev=39752']\n",
      "Depuración: []\n",
      "Depuración: ['Author:', 'david.horwitz@uct.ac.za']\n",
      "Depuración: ['Date:', '2008-01-04', '04:47:16', '-0500', '(Fri,', '04', 'Jan', '2008)']\n",
      "Depuración: ['New', 'Revision:', '39752']\n",
      "Depuración: []\n",
      "Depuración: ['Modified:']\n",
      "Depuración: ['podcasts/branches/sakai_2-5-x/podcasts-app/src/webapp/css/podcaster.css']\n",
      "Depuración: ['podcasts/branches/sakai_2-5-x/podcasts-app/src/webapp/podcasts/podMain.jsp']\n",
      "Depuración: ['Log:']\n",
      "Depuración: ['svn', 'log', '-r39641', 'https://source.sakaiproject.org/svn/podcasts/trunk']\n",
      "Depuración: ['------------------------------------------------------------------------']\n",
      "Depuración: ['r39641', '|', 'josrodri@iupui.edu', '|', '2007-12-28', '23:44:24', '+0200', '(Fri,', '28', 'Dec', '2007)', '|', '1', 'line']\n",
      "Depuración: []\n",
      "Depuración: ['SAK-9882:', 'refactored', 'podMain.jsp', 'the', 'right', 'way', '(at', 'least', 'much', 'closer', 'to)']\n",
      "Depuración: ['------------------------------------------------------------------------']\n",
      "Depuración: []\n",
      "Depuración: ['dhorwitz@david-horwitz-6:~/branchManagemnt/sakai_2-5-x>', 'svn', 'merge', '-c39641', 'https://source.sakaiproject.org/svn/podcasts/trunk', 'podcasts/']\n",
      "Depuración: ['C', 'podcasts/podcasts-app/src/webapp/podcasts/podMain.jsp']\n",
      "Depuración: ['U', 'podcasts/podcasts-app/src/webapp/css/podcaster.css']\n",
      "Depuración: []\n",
      "Depuración: ['conflict', 'merged', 'manualy']\n",
      "Depuración: []\n",
      "Depuración: []\n",
      "Depuración: []\n",
      "Depuración: ['----------------------']\n",
      "Depuración: ['This', 'automatic', 'notification', 'message', 'was', 'sent', 'by', 'Sakai', 'Collab', '(https://collab.sakaiproject.org/portal)', 'from', 'the', 'Source', 'site.']\n",
      "Depuración: ['You', 'can', 'modify', 'how', 'you', 'receive', 'notifications', 'at', 'My', 'Workspace', '>', 'Preferences.']\n",
      "Depuración: []\n",
      "Depuración: []\n",
      "Depuración: []\n",
      "Depuración: ['From', 'david.horwitz@uct.ac.za', 'Fri', 'Jan', '4', '04:33:44', '2008']\n",
      "Fri\n",
      "Depuración: ['Return-Path:', '<postmaster@collab.sakaiproject.org>']\n",
      "Depuración: ['Received:', 'from', 'murder', '(mail.umich.edu', '[141.211.14.46])']\n",
      "Depuración: ['by', 'frankenstein.mail.umich.edu', '(Cyrus', 'v2.3.8)', 'with', 'LMTPA;']\n",
      "Depuración: ['Fri,', '04', 'Jan', '2008', '04:33:44', '-0500']\n",
      "Depuración: ['X-Sieve:', 'CMU', 'Sieve', '2.3']\n",
      "Depuración: ['Received:', 'from', 'murder', '([unix', 'socket])']\n",
      "Depuración: ['by', 'mail.umich.edu', '(Cyrus', 'v2.2.12)', 'with', 'LMTPA;']\n",
      "Depuración: ['Fri,', '04', 'Jan', '2008', '04:33:44', '-0500']\n",
      "Depuración: ['Received:', 'from', 'workinggirl.mr.itd.umich.edu', '(workinggirl.mr.itd.umich.edu', '[141.211.93.143])']\n",
      "Depuración: ['by', 'fan.mail.umich.edu', '()', 'with', 'ESMTP', 'id', 'm049Xge3031803;']\n",
      "Depuración: ['Fri,', '4', 'Jan', '2008', '04:33:42', '-0500']\n",
      "Depuración: ['Received:', 'FROM', 'paploo.uhi.ac.uk', '(app1.prod.collab.uhi.ac.uk', '[194.35.219.184])']\n",
      "Depuración: ['BY', 'workinggirl.mr.itd.umich.edu', 'ID', '477DFD6C.75DBE.26054', ';']\n",
      "Depuración: ['4', 'Jan', '2008', '04:33:35', '-0500']\n",
      "Depuración: ['Received:', 'from', 'paploo.uhi.ac.uk', '(localhost', '[127.0.0.1])']\n",
      "Depuración: ['by', 'paploo.uhi.ac.uk', '(Postfix)', 'with', 'ESMTP', 'id', '6C929BA656;']\n",
      "Depuración: ['Fri,', '4', 'Jan', '2008', '09:33:27', '+0000', '(GMT)']\n",
      "Depuración: ['Message-ID:', '<200801040932.m049W2i5006493@nakamura.uits.iupui.edu>']\n",
      "Depuración: ['Mime-Version:', '1.0']\n",
      "Depuración: ['Content-Transfer-Encoding:', '7bit']\n",
      "Depuración: ['Received:', 'from', 'prod.collab.uhi.ac.uk', '([194.35.219.182])']\n",
      "Depuración: ['by', 'paploo.uhi.ac.uk', '(JAMES', 'SMTP', 'Server', '2.1.3)', 'with', 'SMTP', 'ID', '153']\n",
      "Depuración: ['for', '<source@collab.sakaiproject.org>;']\n",
      "Depuración: ['Fri,', '4', 'Jan', '2008', '09:33:10', '+0000', '(GMT)']\n",
      "Depuración: ['Received:', 'from', 'nakamura.uits.iupui.edu', '(nakamura.uits.iupui.edu', '[134.68.220.122])']\n",
      "Depuración: ['by', 'shmi.uhi.ac.uk', '(Postfix)', 'with', 'ESMTP', 'id', '6C69423767']\n",
      "Depuración: ['for', '<source@collab.sakaiproject.org>;', 'Fri,', '4', 'Jan', '2008', '09:33:13', '+0000', '(GMT)']\n",
      "Depuración: ['Received:', 'from', 'nakamura.uits.iupui.edu', '(localhost', '[127.0.0.1])']\n",
      "Depuración: ['by', 'nakamura.uits.iupui.edu', '(8.12.11.20060308/8.12.11)', 'with', 'ESMTP', 'id', 'm049W3fl006495']\n",
      "Depuración: ['for', '<source@collab.sakaiproject.org>;', 'Fri,', '4', 'Jan', '2008', '04:32:03', '-0500']\n",
      "Depuración: ['Received:', '(from', 'apache@localhost)']\n",
      "Depuración: ['by', 'nakamura.uits.iupui.edu', '(8.12.11.20060308/8.12.11/Submit)', 'id', 'm049W2i5006493']\n",
      "Depuración: ['for', 'source@collab.sakaiproject.org;', 'Fri,', '4', 'Jan', '2008', '04:32:02', '-0500']\n",
      "Depuración: ['Date:', 'Fri,', '4', 'Jan', '2008', '04:32:02', '-0500']\n",
      "Depuración: ['X-Authentication-Warning:', 'nakamura.uits.iupui.edu:', 'apache', 'set', 'sender', 'to', 'david.horwitz@uct.ac.za', 'using', '-f']\n",
      "Depuración: ['To:', 'source@collab.sakaiproject.org']\n",
      "Depuración: ['From:', 'david.horwitz@uct.ac.za']\n",
      "Depuración: ['Subject:', '[sakai]', 'svn', 'commit:', 'r39751', '-', 'in', 'podcasts/branches/sakai_2-5-x/podcasts-app/src/webapp:', 'css', 'images', 'podcasts']\n",
      "Depuración: ['X-Content-Type-Outer-Envelope:', 'text/plain;', 'charset=UTF-8']\n",
      "Depuración: ['X-Content-Type-Message-Body:', 'text/plain;', 'charset=UTF-8']\n",
      "Depuración: ['Content-Type:', 'text/plain;', 'charset=UTF-8']\n",
      "Depuración: ['X-DSPAM-Result:', 'Innocent']\n",
      "Depuración: ['X-DSPAM-Processed:', 'Fri', 'Jan', '4', '04:33:44', '2008']\n",
      "Depuración: ['X-DSPAM-Confidence:', '0.7002']\n",
      "Depuración: ['X-DSPAM-Probability:', '0.0000']\n",
      "Depuración: []\n",
      "Depuración: ['Details:', 'http://source.sakaiproject.org/viewsvn/?view=rev&rev=39751']\n",
      "Depuración: []\n",
      "Depuración: ['Author:', 'david.horwitz@uct.ac.za']\n",
      "Depuración: ['Date:', '2008-01-04', '04:31:35', '-0500', '(Fri,', '04', 'Jan', '2008)']\n",
      "Depuración: ['New', 'Revision:', '39751']\n",
      "Depuración: []\n",
      "Depuración: ['Removed:']\n",
      "Depuración: ['podcasts/branches/sakai_2-5-x/podcasts-app/src/webapp/images/rss-feed-icon.png']\n",
      "Depuración: ['podcasts/branches/sakai_2-5-x/podcasts-app/src/webapp/podcasts/podPermissions.jsp']\n",
      "Depuración: ['Modified:']\n",
      "Depuración: ['podcasts/branches/sakai_2-5-x/podcasts-app/src/webapp/css/podcaster.css']\n",
      "Depuración: ['podcasts/branches/sakai_2-5-x/podcasts-app/src/webapp/podcasts/podDelete.jsp']\n",
      "Depuración: ['podcasts/branches/sakai_2-5-x/podcasts-app/src/webapp/podcasts/podMain.jsp']\n",
      "Depuración: ['podcasts/branches/sakai_2-5-x/podcasts-app/src/webapp/podcasts/podNoResource.jsp']\n",
      "Depuración: ['podcasts/branches/sakai_2-5-x/podcasts-app/src/webapp/podcasts/podOptions.jsp']\n",
      "Depuración: ['Log:']\n",
      "Depuración: ['svn', 'log', '-r39146', 'https://source.sakaiproject.org/svn/podcasts/trunk']\n",
      "Depuración: ['------------------------------------------------------------------------']\n",
      "Depuración: ['r39146', '|', 'josrodri@iupui.edu', '|', '2007-12-12', '21:40:33', '+0200', '(Wed,', '12', 'Dec', '2007)', '|', '1', 'line']\n",
      "Depuración: []\n",
      "Depuración: ['SAK-9882:', 'refactored', 'the', 'other', 'pages', 'as', 'well', 'to', 'take', 'advantage', 'of', 'proper', 'jsp', 'components', 'as', 'well', 'as', 'validation', 'cleanup.']\n",
      "Depuración: ['------------------------------------------------------------------------']\n",
      "Depuración: ['dhorwitz@david-horwitz-6:~/branchManagemnt/sakai_2-5-x>', 'svn', 'merge', '-c39146', 'https://source.sakaiproject.org/svn/podcasts/trunk', 'podcasts/']\n",
      "Depuración: ['D', 'podcasts/podcasts-app/src/webapp/podcasts/podPermissions.jsp']\n",
      "Depuración: ['U', 'podcasts/podcasts-app/src/webapp/podcasts/podDelete.jsp']\n",
      "Depuración: ['U', 'podcasts/podcasts-app/src/webapp/podcasts/podMain.jsp']\n",
      "Depuración: ['U', 'podcasts/podcasts-app/src/webapp/podcasts/podNoResource.jsp']\n",
      "Depuración: ['U', 'podcasts/podcasts-app/src/webapp/podcasts/podOptions.jsp']\n",
      "Depuración: ['D', 'podcasts/podcasts-app/src/webapp/images/rss-feed-icon.png']\n",
      "Depuración: ['U', 'podcasts/podcasts-app/src/webapp/css/podcaster.css']\n",
      "Depuración: []\n",
      "Depuración: []\n",
      "Depuración: []\n",
      "Depuración: ['----------------------']\n",
      "Depuración: ['This', 'automatic', 'notification', 'message', 'was', 'sent', 'by', 'Sakai', 'Collab', '(https://collab.sakaiproject.org/portal)', 'from', 'the', 'Source', 'site.']\n",
      "Depuración: ['You', 'can', 'modify', 'how', 'you', 'receive', 'notifications', 'at', 'My', 'Workspace', '>', 'Preferences.']\n",
      "Depuración: []\n",
      "Depuración: []\n",
      "Depuración: []\n",
      "Depuración: ['From', 'stephen.marquard@uct.ac.za', 'Fri', 'Jan', '4', '04:07:34', '2008']\n",
      "Fri\n",
      "Depuración: ['Return-Path:', '<postmaster@collab.sakaiproject.org>']\n",
      "Depuración: ['Received:', 'from', 'murder', '(mail.umich.edu', '[141.211.14.25])']\n",
      "Depuración: ['by', 'frankenstein.mail.umich.edu', '(Cyrus', 'v2.3.8)', 'with', 'LMTPA;']\n",
      "Depuración: ['Fri,', '04', 'Jan', '2008', '04:07:34', '-0500']\n",
      "Depuración: ['X-Sieve:', 'CMU', 'Sieve', '2.3']\n",
      "Depuración: ['Received:', 'from', 'murder', '([unix', 'socket])']\n",
      "Depuración: ['by', 'mail.umich.edu', '(Cyrus', 'v2.2.12)', 'with', 'LMTPA;']\n",
      "Depuración: ['Fri,', '04', 'Jan', '2008', '04:07:34', '-0500']\n",
      "Depuración: ['Received:', 'from', 'salemslot.mr.itd.umich.edu', '(salemslot.mr.itd.umich.edu', '[141.211.14.58])']\n",
      "Depuración: ['by', 'panther.mail.umich.edu', '()', 'with', 'ESMTP', 'id', 'm0497WAN027902;']\n",
      "Depuración: ['Fri,', '4', 'Jan', '2008', '04:07:32', '-0500']\n",
      "Depuración: ['Received:', 'FROM', 'paploo.uhi.ac.uk', '(app1.prod.collab.uhi.ac.uk', '[194.35.219.184])']\n",
      "Depuración: ['BY', 'salemslot.mr.itd.umich.edu', 'ID', '477DF74E.49493.30415', ';']\n",
      "Depuración: ['4', 'Jan', '2008', '04:07:29', '-0500']\n",
      "Depuración: ['Received:', 'from', 'paploo.uhi.ac.uk', '(localhost', '[127.0.0.1])']\n",
      "Depuración: ['by', 'paploo.uhi.ac.uk', '(Postfix)', 'with', 'ESMTP', 'id', '88598BA5B6;']\n",
      "Depuración: ['Fri,', '4', 'Jan', '2008', '09:07:19', '+0000', '(GMT)']\n",
      "Depuración: ['Message-ID:', '<200801040905.m0495rWB006420@nakamura.uits.iupui.edu>']\n",
      "Depuración: ['Mime-Version:', '1.0']\n",
      "Depuración: ['Content-Transfer-Encoding:', '7bit']\n",
      "Depuración: ['Received:', 'from', 'prod.collab.uhi.ac.uk', '([194.35.219.182])']\n",
      "Depuración: ['by', 'paploo.uhi.ac.uk', '(JAMES', 'SMTP', 'Server', '2.1.3)', 'with', 'SMTP', 'ID', '385']\n",
      "Depuración: ['for', '<source@collab.sakaiproject.org>;']\n",
      "Depuración: ['Fri,', '4', 'Jan', '2008', '09:07:04', '+0000', '(GMT)']\n",
      "Depuración: ['Received:', 'from', 'nakamura.uits.iupui.edu', '(nakamura.uits.iupui.edu', '[134.68.220.122])']\n",
      "Depuración: ['by', 'shmi.uhi.ac.uk', '(Postfix)', 'with', 'ESMTP', 'id', '90636418A8']\n"
     ]
    },
    {
     "name": "stdout",
     "output_type": "stream",
     "text": [
      "Depuración: ['for', '<source@collab.sakaiproject.org>;', 'Fri,', '4', 'Jan', '2008', '09:07:04', '+0000', '(GMT)']\n",
      "Depuración: ['Received:', 'from', 'nakamura.uits.iupui.edu', '(localhost', '[127.0.0.1])']\n",
      "Depuración: ['by', 'nakamura.uits.iupui.edu', '(8.12.11.20060308/8.12.11)', 'with', 'ESMTP', 'id', 'm0495sZs006422']\n",
      "Depuración: ['for', '<source@collab.sakaiproject.org>;', 'Fri,', '4', 'Jan', '2008', '04:05:54', '-0500']\n",
      "Depuración: ['Received:', '(from', 'apache@localhost)']\n",
      "Depuración: ['by', 'nakamura.uits.iupui.edu', '(8.12.11.20060308/8.12.11/Submit)', 'id', 'm0495rWB006420']\n",
      "Depuración: ['for', 'source@collab.sakaiproject.org;', 'Fri,', '4', 'Jan', '2008', '04:05:53', '-0500']\n",
      "Depuración: ['Date:', 'Fri,', '4', 'Jan', '2008', '04:05:53', '-0500']\n",
      "Depuración: ['X-Authentication-Warning:', 'nakamura.uits.iupui.edu:', 'apache', 'set', 'sender', 'to', 'stephen.marquard@uct.ac.za', 'using', '-f']\n",
      "Depuración: ['To:', 'source@collab.sakaiproject.org']\n",
      "Depuración: ['From:', 'stephen.marquard@uct.ac.za']\n",
      "Depuración: ['Subject:', '[sakai]', 'svn', 'commit:', 'r39750', '-', 'event/branches/SAK-6216/event-util/util/src/java/org/sakaiproject/util']\n",
      "Depuración: ['X-Content-Type-Outer-Envelope:', 'text/plain;', 'charset=UTF-8']\n",
      "Depuración: ['X-Content-Type-Message-Body:', 'text/plain;', 'charset=UTF-8']\n",
      "Depuración: ['Content-Type:', 'text/plain;', 'charset=UTF-8']\n",
      "Depuración: ['X-DSPAM-Result:', 'Innocent']\n",
      "Depuración: ['X-DSPAM-Processed:', 'Fri', 'Jan', '4', '04:07:34', '2008']\n",
      "Depuración: ['X-DSPAM-Confidence:', '0.7554']\n",
      "Depuración: ['X-DSPAM-Probability:', '0.0000']\n",
      "Depuración: []\n",
      "Depuración: ['Details:', 'http://source.sakaiproject.org/viewsvn/?view=rev&rev=39750']\n",
      "Depuración: []\n",
      "Depuración: ['Author:', 'stephen.marquard@uct.ac.za']\n",
      "Depuración: ['Date:', '2008-01-04', '04:05:43', '-0500', '(Fri,', '04', 'Jan', '2008)']\n",
      "Depuración: ['New', 'Revision:', '39750']\n",
      "Depuración: []\n",
      "Depuración: ['Modified:']\n",
      "Depuración: ['event/branches/SAK-6216/event-util/util/src/java/org/sakaiproject/util/EmailNotification.java']\n",
      "Depuración: ['Log:']\n",
      "Depuración: ['SAK-6216', 'merge', 'event', 'change', 'from', 'SAK-11169', '(r39033)', 'to', 'synchronize', 'branch', 'with', '2-5-x', '(for', 'convenience', 'for', 'UCT', 'local', 'build)']\n",
      "Depuración: []\n",
      "Depuración: ['----------------------']\n",
      "Depuración: ['This', 'automatic', 'notification', 'message', 'was', 'sent', 'by', 'Sakai', 'Collab', '(https://collab.sakaiproject.org/portal)', 'from', 'the', 'Source', 'site.']\n",
      "Depuración: ['You', 'can', 'modify', 'how', 'you', 'receive', 'notifications', 'at', 'My', 'Workspace', '>', 'Preferences.']\n",
      "Depuración: []\n",
      "Depuración: []\n",
      "Depuración: []\n",
      "Depuración: ['From', 'louis@media.berkeley.edu', 'Thu', 'Jan', '3', '19:51:21', '2008']\n",
      "Thu\n",
      "Depuración: ['Return-Path:', '<postmaster@collab.sakaiproject.org>']\n",
      "Depuración: ['Received:', 'from', 'murder', '(mail.umich.edu', '[141.211.14.91])']\n",
      "Depuración: ['by', 'frankenstein.mail.umich.edu', '(Cyrus', 'v2.3.8)', 'with', 'LMTPA;']\n",
      "Depuración: ['Thu,', '03', 'Jan', '2008', '19:51:21', '-0500']\n",
      "Depuración: ['X-Sieve:', 'CMU', 'Sieve', '2.3']\n",
      "Depuración: ['Received:', 'from', 'murder', '([unix', 'socket])']\n",
      "Depuración: ['by', 'mail.umich.edu', '(Cyrus', 'v2.2.12)', 'with', 'LMTPA;']\n",
      "Depuración: ['Thu,', '03', 'Jan', '2008', '19:51:21', '-0500']\n",
      "Depuración: ['Received:', 'from', 'eyewitness.mr.itd.umich.edu', '(eyewitness.mr.itd.umich.edu', '[141.211.93.142])']\n",
      "Depuración: ['by', 'jacknife.mail.umich.edu', '()', 'with', 'ESMTP', 'id', 'm040pJHB027171;']\n",
      "Depuración: ['Thu,', '3', 'Jan', '2008', '19:51:19', '-0500']\n",
      "Depuración: ['Received:', 'FROM', 'paploo.uhi.ac.uk', '(app1.prod.collab.uhi.ac.uk', '[194.35.219.184])']\n",
      "Depuración: ['BY', 'eyewitness.mr.itd.umich.edu', 'ID', '477D8300.AC098.32562', ';']\n",
      "Depuración: ['3', 'Jan', '2008', '19:51:15', '-0500']\n",
      "Depuración: ['Received:', 'from', 'paploo.uhi.ac.uk', '(localhost', '[127.0.0.1])']\n",
      "Depuración: ['by', 'paploo.uhi.ac.uk', '(Postfix)', 'with', 'ESMTP', 'id', 'E6CC4B9F8A;']\n",
      "Depuración: ['Fri,', '4', 'Jan', '2008', '00:36:06', '+0000', '(GMT)']\n",
      "Depuración: ['Message-ID:', '<200801040023.m040NpCc005473@nakamura.uits.iupui.edu>']\n",
      "Depuración: ['Mime-Version:', '1.0']\n",
      "Depuración: ['Content-Transfer-Encoding:', '7bit']\n",
      "Depuración: ['Received:', 'from', 'prod.collab.uhi.ac.uk', '([194.35.219.182])']\n",
      "Depuración: ['by', 'paploo.uhi.ac.uk', '(JAMES', 'SMTP', 'Server', '2.1.3)', 'with', 'SMTP', 'ID', '754']\n",
      "Depuración: ['for', '<source@collab.sakaiproject.org>;']\n",
      "Depuración: ['Fri,', '4', 'Jan', '2008', '00:35:43', '+0000', '(GMT)']\n",
      "Depuración: ['Received:', 'from', 'nakamura.uits.iupui.edu', '(nakamura.uits.iupui.edu', '[134.68.220.122])']\n",
      "Depuración: ['by', 'shmi.uhi.ac.uk', '(Postfix)', 'with', 'ESMTP', 'id', '8889842C49']\n",
      "Depuración: ['for', '<source@collab.sakaiproject.org>;', 'Fri,', '4', 'Jan', '2008', '00:25:00', '+0000', '(GMT)']\n",
      "Depuración: ['Received:', 'from', 'nakamura.uits.iupui.edu', '(localhost', '[127.0.0.1])']\n",
      "Depuración: ['by', 'nakamura.uits.iupui.edu', '(8.12.11.20060308/8.12.11)', 'with', 'ESMTP', 'id', 'm040NpgM005475']\n",
      "Depuración: ['for', '<source@collab.sakaiproject.org>;', 'Thu,', '3', 'Jan', '2008', '19:23:51', '-0500']\n",
      "Depuración: ['Received:', '(from', 'apache@localhost)']\n",
      "Depuración: ['by', 'nakamura.uits.iupui.edu', '(8.12.11.20060308/8.12.11/Submit)', 'id', 'm040NpCc005473']\n",
      "Depuración: ['for', 'source@collab.sakaiproject.org;', 'Thu,', '3', 'Jan', '2008', '19:23:51', '-0500']\n",
      "Depuración: ['Date:', 'Thu,', '3', 'Jan', '2008', '19:23:51', '-0500']\n",
      "Depuración: ['X-Authentication-Warning:', 'nakamura.uits.iupui.edu:', 'apache', 'set', 'sender', 'to', 'louis@media.berkeley.edu', 'using', '-f']\n",
      "Depuración: ['To:', 'source@collab.sakaiproject.org']\n",
      "Depuración: ['From:', 'louis@media.berkeley.edu']\n",
      "Depuración: ['Subject:', '[sakai]', 'svn', 'commit:', 'r39749', '-', 'in', 'bspace/site-manage/sakai_2-4-x/site-manage-tool/tool/src:', 'bundle', 'webapp/vm/sitesetup']\n",
      "Depuración: ['X-Content-Type-Outer-Envelope:', 'text/plain;', 'charset=UTF-8']\n",
      "Depuración: ['X-Content-Type-Message-Body:', 'text/plain;', 'charset=UTF-8']\n",
      "Depuración: ['Content-Type:', 'text/plain;', 'charset=UTF-8']\n",
      "Depuración: ['X-DSPAM-Result:', 'Innocent']\n",
      "Depuración: ['X-DSPAM-Processed:', 'Thu', 'Jan', '3', '19:51:20', '2008']\n",
      "Depuración: ['X-DSPAM-Confidence:', '0.6956']\n",
      "Depuración: ['X-DSPAM-Probability:', '0.0000']\n",
      "Depuración: []\n",
      "Depuración: ['Details:', 'http://source.sakaiproject.org/viewsvn/?view=rev&rev=39749']\n",
      "Depuración: []\n",
      "Depuración: ['Author:', 'louis@media.berkeley.edu']\n",
      "Depuración: ['Date:', '2008-01-03', '19:23:46', '-0500', '(Thu,', '03', 'Jan', '2008)']\n",
      "Depuración: ['New', 'Revision:', '39749']\n",
      "Depuración: []\n",
      "Depuración: ['Modified:']\n",
      "Depuración: ['bspace/site-manage/sakai_2-4-x/site-manage-tool/tool/src/bundle/sitesetupgeneric.properties']\n",
      "Depuración: ['bspace/site-manage/sakai_2-4-x/site-manage-tool/tool/src/webapp/vm/sitesetup/chef_site-importSites.vm']\n",
      "Depuración: ['Log:']\n",
      "Depuración: ['BSP-1420', 'Update', 'text', 'to', 'clarify', '\"Re-Use', 'Materials...\"', 'option', 'in', 'WS', 'Setup']\n",
      "Depuración: []\n",
      "Depuración: ['----------------------']\n",
      "Depuración: ['This', 'automatic', 'notification', 'message', 'was', 'sent', 'by', 'Sakai', 'Collab', '(https://collab.sakaiproject.org/portal)', 'from', 'the', 'Source', 'site.']\n",
      "Depuración: ['You', 'can', 'modify', 'how', 'you', 'receive', 'notifications', 'at', 'My', 'Workspace', '>', 'Preferences.']\n",
      "Depuración: []\n",
      "Depuración: []\n",
      "Depuración: []\n",
      "Depuración: ['From', 'louis@media.berkeley.edu', 'Thu', 'Jan', '3', '17:18:23', '2008']\n",
      "Thu\n",
      "Depuración: ['Return-Path:', '<postmaster@collab.sakaiproject.org>']\n",
      "Depuración: ['Received:', 'from', 'murder', '(mail.umich.edu', '[141.211.14.91])']\n",
      "Depuración: ['by', 'frankenstein.mail.umich.edu', '(Cyrus', 'v2.3.8)', 'with', 'LMTPA;']\n",
      "Depuración: ['Thu,', '03', 'Jan', '2008', '17:18:23', '-0500']\n",
      "Depuración: ['X-Sieve:', 'CMU', 'Sieve', '2.3']\n",
      "Depuración: ['Received:', 'from', 'murder', '([unix', 'socket])']\n",
      "Depuración: ['by', 'mail.umich.edu', '(Cyrus', 'v2.2.12)', 'with', 'LMTPA;']\n",
      "Depuración: ['Thu,', '03', 'Jan', '2008', '17:18:23', '-0500']\n",
      "Depuración: ['Received:', 'from', 'salemslot.mr.itd.umich.edu', '(salemslot.mr.itd.umich.edu', '[141.211.14.58])']\n",
      "Depuración: ['by', 'jacknife.mail.umich.edu', '()', 'with', 'ESMTP', 'id', 'm03MIMXY027729;']\n",
      "Depuración: ['Thu,', '3', 'Jan', '2008', '17:18:22', '-0500']\n",
      "Depuración: ['Received:', 'FROM', 'paploo.uhi.ac.uk', '(app1.prod.collab.uhi.ac.uk', '[194.35.219.184])']\n",
      "Depuración: ['BY', 'salemslot.mr.itd.umich.edu', 'ID', '477D5F23.797F6.16348', ';']\n",
      "Depuración: ['3', 'Jan', '2008', '17:18:14', '-0500']\n",
      "Depuración: ['Received:', 'from', 'paploo.uhi.ac.uk', '(localhost', '[127.0.0.1])']\n",
      "Depuración: ['by', 'paploo.uhi.ac.uk', '(Postfix)', 'with', 'ESMTP', 'id', 'EF439B98CE;']\n",
      "Depuración: ['Thu,', '3', 'Jan', '2008', '22:18:19', '+0000', '(GMT)']\n",
      "Depuración: ['Message-ID:', '<200801032216.m03MGhDa005292@nakamura.uits.iupui.edu>']\n",
      "Depuración: ['Mime-Version:', '1.0']\n",
      "Depuración: ['Content-Transfer-Encoding:', '7bit']\n",
      "Depuración: ['Received:', 'from', 'prod.collab.uhi.ac.uk', '([194.35.219.182])']\n",
      "Depuración: ['by', 'paploo.uhi.ac.uk', '(JAMES', 'SMTP', 'Server', '2.1.3)', 'with', 'SMTP', 'ID', '236']\n",
      "Depuración: ['for', '<source@collab.sakaiproject.org>;']\n",
      "Depuración: ['Thu,', '3', 'Jan', '2008', '22:18:04', '+0000', '(GMT)']\n",
      "Depuración: ['Received:', 'from', 'nakamura.uits.iupui.edu', '(nakamura.uits.iupui.edu', '[134.68.220.122])']\n",
      "Depuración: ['by', 'shmi.uhi.ac.uk', '(Postfix)', 'with', 'ESMTP', 'id', '905D53C2FD']\n",
      "Depuración: ['for', '<source@collab.sakaiproject.org>;', 'Thu,', '3', 'Jan', '2008', '22:17:52', '+0000', '(GMT)']\n",
      "Depuración: ['Received:', 'from', 'nakamura.uits.iupui.edu', '(localhost', '[127.0.0.1])']\n",
      "Depuración: ['by', 'nakamura.uits.iupui.edu', '(8.12.11.20060308/8.12.11)', 'with', 'ESMTP', 'id', 'm03MGhrs005294']\n",
      "Depuración: ['for', '<source@collab.sakaiproject.org>;', 'Thu,', '3', 'Jan', '2008', '17:16:43', '-0500']\n",
      "Depuración: ['Received:', '(from', 'apache@localhost)']\n",
      "Depuración: ['by', 'nakamura.uits.iupui.edu', '(8.12.11.20060308/8.12.11/Submit)', 'id', 'm03MGhDa005292']\n",
      "Depuración: ['for', 'source@collab.sakaiproject.org;', 'Thu,', '3', 'Jan', '2008', '17:16:43', '-0500']\n",
      "Depuración: ['Date:', 'Thu,', '3', 'Jan', '2008', '17:16:43', '-0500']\n",
      "Depuración: ['X-Authentication-Warning:', 'nakamura.uits.iupui.edu:', 'apache', 'set', 'sender', 'to', 'louis@media.berkeley.edu', 'using', '-f']\n",
      "Depuración: ['To:', 'source@collab.sakaiproject.org']\n",
      "Depuración: ['From:', 'louis@media.berkeley.edu']\n",
      "Depuración: ['Subject:', '[sakai]', 'svn', 'commit:', 'r39746', '-', 'in', 'bspace/site-manage/sakai_2-4-x/site-manage-tool/tool/src:', 'bundle', 'webapp/vm/sitesetup']\n",
      "Depuración: ['X-Content-Type-Outer-Envelope:', 'text/plain;', 'charset=UTF-8']\n",
      "Depuración: ['X-Content-Type-Message-Body:', 'text/plain;', 'charset=UTF-8']\n",
      "Depuración: ['Content-Type:', 'text/plain;', 'charset=UTF-8']\n",
      "Depuración: ['X-DSPAM-Result:', 'Innocent']\n",
      "Depuración: ['X-DSPAM-Processed:', 'Thu', 'Jan', '3', '17:18:23', '2008']\n",
      "Depuración: ['X-DSPAM-Confidence:', '0.6959']\n",
      "Depuración: ['X-DSPAM-Probability:', '0.0000']\n",
      "Depuración: []\n",
      "Depuración: ['Details:', 'http://source.sakaiproject.org/viewsvn/?view=rev&rev=39746']\n",
      "Depuración: []\n",
      "Depuración: ['Author:', 'louis@media.berkeley.edu']\n",
      "Depuración: ['Date:', '2008-01-03', '17:16:39', '-0500', '(Thu,', '03', 'Jan', '2008)']\n",
      "Depuración: ['New', 'Revision:', '39746']\n",
      "Depuración: []\n",
      "Depuración: ['Modified:']\n",
      "Depuración: ['bspace/site-manage/sakai_2-4-x/site-manage-tool/tool/src/bundle/sitesetupgeneric.properties']\n",
      "Depuración: ['bspace/site-manage/sakai_2-4-x/site-manage-tool/tool/src/webapp/vm/sitesetup/chef_site-siteInfo-duplicate.vm']\n",
      "Depuración: ['Log:']\n",
      "Depuración: ['BSP-1421', 'Add', 'text', 'to', 'clarify', '\"Duplicate', 'Site\"', 'option', 'in', 'Site', 'Info']\n",
      "Depuración: []\n",
      "Depuración: ['----------------------']\n",
      "Depuración: ['This', 'automatic', 'notification', 'message', 'was', 'sent', 'by', 'Sakai', 'Collab', '(https://collab.sakaiproject.org/portal)', 'from', 'the', 'Source', 'site.']\n",
      "Depuración: ['You', 'can', 'modify', 'how', 'you', 'receive', 'notifications', 'at', 'My', 'Workspace', '>', 'Preferences.']\n",
      "Depuración: []\n",
      "Depuración: []\n",
      "Depuración: []\n",
      "Depuración: ['From', 'ray@media.berkeley.edu', 'Thu', 'Jan', '3', '17:07:00', '2008']\n",
      "Thu\n",
      "Depuración: ['Return-Path:', '<postmaster@collab.sakaiproject.org>']\n",
      "Depuración: ['Received:', 'from', 'murder', '(mail.umich.edu', '[141.211.14.39])']\n",
      "Depuración: ['by', 'frankenstein.mail.umich.edu', '(Cyrus', 'v2.3.8)', 'with', 'LMTPA;']\n",
      "Depuración: ['Thu,', '03', 'Jan', '2008', '17:07:00', '-0500']\n",
      "Depuración: ['X-Sieve:', 'CMU', 'Sieve', '2.3']\n",
      "Depuración: ['Received:', 'from', 'murder', '([unix', 'socket])']\n",
      "Depuración: ['by', 'mail.umich.edu', '(Cyrus', 'v2.2.12)', 'with', 'LMTPA;']\n",
      "Depuración: ['Thu,', '03', 'Jan', '2008', '17:07:00', '-0500']\n",
      "Depuración: ['Received:', 'from', 'anniehall.mr.itd.umich.edu', '(anniehall.mr.itd.umich.edu', '[141.211.93.141])']\n",
      "Depuración: ['by', 'faithful.mail.umich.edu', '()', 'with', 'ESMTP', 'id', 'm03M6xaq014868;']\n",
      "Depuración: ['Thu,', '3', 'Jan', '2008', '17:06:59', '-0500']\n",
      "Depuración: ['Received:', 'FROM', 'paploo.uhi.ac.uk', '(app1.prod.collab.uhi.ac.uk', '[194.35.219.184])']\n",
      "Depuración: ['BY', 'anniehall.mr.itd.umich.edu', 'ID', '477D5C7A.4FE1F.22211', ';']\n",
      "Depuración: ['3', 'Jan', '2008', '17:06:53', '-0500']\n",
      "Depuración: ['Received:', 'from', 'paploo.uhi.ac.uk', '(localhost', '[127.0.0.1])']\n",
      "Depuración: ['by', 'paploo.uhi.ac.uk', '(Postfix)', 'with', 'ESMTP', 'id', '0BC8D7225E;']\n",
      "Depuración: ['Thu,', '3', 'Jan', '2008', '22:06:57', '+0000', '(GMT)']\n",
      "Depuración: ['Message-ID:', '<200801032205.m03M5Ea7005273@nakamura.uits.iupui.edu>']\n",
      "Depuración: ['Mime-Version:', '1.0']\n",
      "Depuración: ['Content-Transfer-Encoding:', '7bit']\n",
      "Depuración: ['Received:', 'from', 'prod.collab.uhi.ac.uk', '([194.35.219.182])']\n",
      "Depuración: ['by', 'paploo.uhi.ac.uk', '(JAMES', 'SMTP', 'Server', '2.1.3)', 'with', 'SMTP', 'ID', '554']\n",
      "Depuración: ['for', '<source@collab.sakaiproject.org>;']\n",
      "Depuración: ['Thu,', '3', 'Jan', '2008', '22:06:34', '+0000', '(GMT)']\n",
      "Depuración: ['Received:', 'from', 'nakamura.uits.iupui.edu', '(nakamura.uits.iupui.edu', '[134.68.220.122])']\n",
      "Depuración: ['by', 'shmi.uhi.ac.uk', '(Postfix)', 'with', 'ESMTP', 'id', '2AB513C2FD']\n",
      "Depuración: ['for', '<source@collab.sakaiproject.org>;', 'Thu,', '3', 'Jan', '2008', '22:06:23', '+0000', '(GMT)']\n",
      "Depuración: ['Received:', 'from', 'nakamura.uits.iupui.edu', '(localhost', '[127.0.0.1])']\n",
      "Depuración: ['by', 'nakamura.uits.iupui.edu', '(8.12.11.20060308/8.12.11)', 'with', 'ESMTP', 'id', 'm03M5EQa005275']\n",
      "Depuración: ['for', '<source@collab.sakaiproject.org>;', 'Thu,', '3', 'Jan', '2008', '17:05:14', '-0500']\n",
      "Depuración: ['Received:', '(from', 'apache@localhost)']\n",
      "Depuración: ['by', 'nakamura.uits.iupui.edu', '(8.12.11.20060308/8.12.11/Submit)', 'id', 'm03M5Ea7005273']\n",
      "Depuración: ['for', 'source@collab.sakaiproject.org;', 'Thu,', '3', 'Jan', '2008', '17:05:14', '-0500']\n",
      "Depuración: ['Date:', 'Thu,', '3', 'Jan', '2008', '17:05:14', '-0500']\n",
      "Depuración: ['X-Authentication-Warning:', 'nakamura.uits.iupui.edu:', 'apache', 'set', 'sender', 'to', 'ray@media.berkeley.edu', 'using', '-f']\n",
      "Depuración: ['To:', 'source@collab.sakaiproject.org']\n",
      "Depuración: ['From:', 'ray@media.berkeley.edu']\n",
      "Depuración: ['Subject:', '[sakai]', 'svn', 'commit:', 'r39745', '-', 'providers/trunk/cm/cm-authz-provider/src/java/org/sakaiproject/coursemanagement/impl/provider']\n",
      "Depuración: ['X-Content-Type-Outer-Envelope:', 'text/plain;', 'charset=UTF-8']\n",
      "Depuración: ['X-Content-Type-Message-Body:', 'text/plain;', 'charset=UTF-8']\n",
      "Depuración: ['Content-Type:', 'text/plain;', 'charset=UTF-8']\n",
      "Depuración: ['X-DSPAM-Result:', 'Innocent']\n",
      "Depuración: ['X-DSPAM-Processed:', 'Thu', 'Jan', '3', '17:07:00', '2008']\n",
      "Depuración: ['X-DSPAM-Confidence:', '0.7556']\n",
      "Depuración: ['X-DSPAM-Probability:', '0.0000']\n",
      "Depuración: []\n",
      "Depuración: ['Details:', 'http://source.sakaiproject.org/viewsvn/?view=rev&rev=39745']\n",
      "Depuración: []\n",
      "Depuración: ['Author:', 'ray@media.berkeley.edu']\n",
      "Depuración: ['Date:', '2008-01-03', '17:05:11', '-0500', '(Thu,', '03', 'Jan', '2008)']\n",
      "Depuración: ['New', 'Revision:', '39745']\n",
      "Depuración: []\n",
      "Depuración: ['Modified:']\n",
      "Depuración: ['providers/trunk/cm/cm-authz-provider/src/java/org/sakaiproject/coursemanagement/impl/provider/CourseManagementGroupProvider.java']\n",
      "Depuración: ['Log:']\n",
      "Depuración: ['SAK-12602', 'Fix', 'logic', 'when', 'a', 'user', 'has', 'multiple', 'roles', 'in', 'a', 'section']\n",
      "Depuración: []\n",
      "Depuración: ['----------------------']\n",
      "Depuración: ['This', 'automatic', 'notification', 'message', 'was', 'sent', 'by', 'Sakai', 'Collab', '(https://collab.sakaiproject.org/portal)', 'from', 'the', 'Source', 'site.']\n",
      "Depuración: ['You', 'can', 'modify', 'how', 'you', 'receive', 'notifications', 'at', 'My', 'Workspace', '>', 'Preferences.']\n",
      "Depuración: []\n",
      "Depuración: []\n",
      "Depuración: []\n",
      "Depuración: ['From', 'cwen@iupui.edu', 'Thu', 'Jan', '3', '16:34:40', '2008']\n",
      "Thu\n",
      "Depuración: ['Return-Path:', '<postmaster@collab.sakaiproject.org>']\n",
      "Depuración: ['Received:', 'from', 'murder', '(mail.umich.edu', '[141.211.14.34])']\n",
      "Depuración: ['by', 'frankenstein.mail.umich.edu', '(Cyrus', 'v2.3.8)', 'with', 'LMTPA;']\n",
      "Depuración: ['Thu,', '03', 'Jan', '2008', '16:34:40', '-0500']\n",
      "Depuración: ['X-Sieve:', 'CMU', 'Sieve', '2.3']\n",
      "Depuración: ['Received:', 'from', 'murder', '([unix', 'socket])']\n",
      "Depuración: ['by', 'mail.umich.edu', '(Cyrus', 'v2.2.12)', 'with', 'LMTPA;']\n",
      "Depuración: ['Thu,', '03', 'Jan', '2008', '16:34:40', '-0500']\n",
      "Depuración: ['Received:', 'from', 'icestorm.mr.itd.umich.edu', '(icestorm.mr.itd.umich.edu', '[141.211.93.149])']\n",
      "Depuración: ['by', 'chaos.mail.umich.edu', '()', 'with', 'ESMTP', 'id', 'm03LYdY1029538;']\n",
      "Depuración: ['Thu,', '3', 'Jan', '2008', '16:34:39', '-0500']\n",
      "Depuración: ['Received:', 'FROM', 'paploo.uhi.ac.uk', '(app1.prod.collab.uhi.ac.uk', '[194.35.219.184])']\n",
      "Depuración: ['BY', 'icestorm.mr.itd.umich.edu', 'ID', '477D54EA.13F34.26602', ';']\n",
      "Depuración: ['3', 'Jan', '2008', '16:34:36', '-0500']\n",
      "Depuración: ['Received:', 'from', 'paploo.uhi.ac.uk', '(localhost', '[127.0.0.1])']\n",
      "Depuración: ['by', 'paploo.uhi.ac.uk', '(Postfix)', 'with', 'ESMTP', 'id', 'CC710ADC79;']\n",
      "Depuración: ['Thu,', '3', 'Jan', '2008', '21:34:29', '+0000', '(GMT)']\n",
      "Depuración: ['Message-ID:', '<200801032133.m03LX3gG005191@nakamura.uits.iupui.edu>']\n",
      "Depuración: ['Mime-Version:', '1.0']\n",
      "Depuración: ['Content-Transfer-Encoding:', '7bit']\n",
      "Depuración: ['Received:', 'from', 'prod.collab.uhi.ac.uk', '([194.35.219.182])']\n",
      "Depuración: ['by', 'paploo.uhi.ac.uk', '(JAMES', 'SMTP', 'Server', '2.1.3)', 'with', 'SMTP', 'ID', '611']\n",
      "Depuración: ['for', '<source@collab.sakaiproject.org>;']\n",
      "Depuración: ['Thu,', '3', 'Jan', '2008', '21:34:08', '+0000', '(GMT)']\n",
      "Depuración: ['Received:', 'from', 'nakamura.uits.iupui.edu', '(nakamura.uits.iupui.edu', '[134.68.220.122])']\n",
      "Depuración: ['by', 'shmi.uhi.ac.uk', '(Postfix)', 'with', 'ESMTP', 'id', '43C4242B55']\n",
      "Depuración: ['for', '<source@collab.sakaiproject.org>;', 'Thu,', '3', 'Jan', '2008', '21:34:12', '+0000', '(GMT)']\n",
      "Depuración: ['Received:', 'from', 'nakamura.uits.iupui.edu', '(localhost', '[127.0.0.1])']\n",
      "Depuración: ['by', 'nakamura.uits.iupui.edu', '(8.12.11.20060308/8.12.11)', 'with', 'ESMTP', 'id', 'm03LX3Vb005193']\n",
      "Depuración: ['for', '<source@collab.sakaiproject.org>;', 'Thu,', '3', 'Jan', '2008', '16:33:03', '-0500']\n",
      "Depuración: ['Received:', '(from', 'apache@localhost)']\n",
      "Depuración: ['by', 'nakamura.uits.iupui.edu', '(8.12.11.20060308/8.12.11/Submit)', 'id', 'm03LX3gG005191']\n",
      "Depuración: ['for', 'source@collab.sakaiproject.org;', 'Thu,', '3', 'Jan', '2008', '16:33:03', '-0500']\n",
      "Depuración: ['Date:', 'Thu,', '3', 'Jan', '2008', '16:33:03', '-0500']\n",
      "Depuración: ['X-Authentication-Warning:', 'nakamura.uits.iupui.edu:', 'apache', 'set', 'sender', 'to', 'cwen@iupui.edu', 'using', '-f']\n",
      "Depuración: ['To:', 'source@collab.sakaiproject.org']\n",
      "Depuración: ['From:', 'cwen@iupui.edu']\n",
      "Depuración: ['Subject:', '[sakai]', 'svn', 'commit:', 'r39744', '-', 'oncourse/branches/oncourse_OPC_122007']\n",
      "Depuración: ['X-Content-Type-Outer-Envelope:', 'text/plain;', 'charset=UTF-8']\n",
      "Depuración: ['X-Content-Type-Message-Body:', 'text/plain;', 'charset=UTF-8']\n",
      "Depuración: ['Content-Type:', 'text/plain;', 'charset=UTF-8']\n",
      "Depuración: ['X-DSPAM-Result:', 'Innocent']\n",
      "Depuración: ['X-DSPAM-Processed:', 'Thu', 'Jan', '3', '16:34:40', '2008']\n",
      "Depuración: ['X-DSPAM-Confidence:', '0.9846']\n",
      "Depuración: ['X-DSPAM-Probability:', '0.0000']\n",
      "Depuración: []\n",
      "Depuración: ['Details:', 'http://source.sakaiproject.org/viewsvn/?view=rev&rev=39744']\n",
      "Depuración: []\n",
      "Depuración: ['Author:', 'cwen@iupui.edu']\n",
      "Depuración: ['Date:', '2008-01-03', '16:33:02', '-0500', '(Thu,', '03', 'Jan', '2008)']\n",
      "Depuración: ['New', 'Revision:', '39744']\n",
      "Depuración: []\n",
      "Depuración: ['Modified:']\n",
      "Depuración: ['oncourse/branches/oncourse_OPC_122007/']\n",
      "Depuración: ['oncourse/branches/oncourse_OPC_122007/.externals']\n",
      "Depuración: ['Log:']\n",
      "Depuración: ['update', 'external', 'for', 'GB.']\n",
      "Depuración: []\n",
      "Depuración: ['----------------------']\n",
      "Depuración: ['This', 'automatic', 'notification', 'message', 'was', 'sent', 'by', 'Sakai', 'Collab', '(https://collab.sakaiproject.org/portal)', 'from', 'the', 'Source', 'site.']\n",
      "Depuración: ['You', 'can', 'modify', 'how', 'you', 'receive', 'notifications', 'at', 'My', 'Workspace', '>', 'Preferences.']\n",
      "Depuración: []\n",
      "Depuración: []\n",
      "Depuración: []\n",
      "Depuración: ['From', 'cwen@iupui.edu', 'Thu', 'Jan', '3', '16:29:07', '2008']\n",
      "Thu\n",
      "Depuración: ['Return-Path:', '<postmaster@collab.sakaiproject.org>']\n",
      "Depuración: ['Received:', 'from', 'murder', '(mail.umich.edu', '[141.211.14.46])']\n",
      "Depuración: ['by', 'frankenstein.mail.umich.edu', '(Cyrus', 'v2.3.8)', 'with', 'LMTPA;']\n",
      "Depuración: ['Thu,', '03', 'Jan', '2008', '16:29:07', '-0500']\n",
      "Depuración: ['X-Sieve:', 'CMU', 'Sieve', '2.3']\n",
      "Depuración: ['Received:', 'from', 'murder', '([unix', 'socket])']\n",
      "Depuración: ['by', 'mail.umich.edu', '(Cyrus', 'v2.2.12)', 'with', 'LMTPA;']\n",
      "Depuración: ['Thu,', '03', 'Jan', '2008', '16:29:07', '-0500']\n",
      "Depuración: ['Received:', 'from', 'galaxyquest.mr.itd.umich.edu', '(galaxyquest.mr.itd.umich.edu', '[141.211.93.145])']\n",
      "Depuración: ['by', 'fan.mail.umich.edu', '()', 'with', 'ESMTP', 'id', 'm03LT6uw027749;']\n",
      "Depuración: ['Thu,', '3', 'Jan', '2008', '16:29:06', '-0500']\n",
      "Depuración: ['Received:', 'FROM', 'paploo.uhi.ac.uk', '(app1.prod.collab.uhi.ac.uk', '[194.35.219.184])']\n",
      "Depuración: ['BY', 'galaxyquest.mr.itd.umich.edu', 'ID', '477D5397.E161D.20326', ';']\n",
      "Depuración: ['3', 'Jan', '2008', '16:28:58', '-0500']\n",
      "Depuración: ['Received:', 'from', 'paploo.uhi.ac.uk', '(localhost', '[127.0.0.1])']\n",
      "Depuración: ['by', 'paploo.uhi.ac.uk', '(Postfix)', 'with', 'ESMTP', 'id', 'DEC65ADC79;']\n",
      "Depuración: ['Thu,', '3', 'Jan', '2008', '21:28:52', '+0000', '(GMT)']\n",
      "Depuración: ['Message-ID:', '<200801032127.m03LRUqH005177@nakamura.uits.iupui.edu>']\n",
      "Depuración: ['Mime-Version:', '1.0']\n",
      "Depuración: ['Content-Transfer-Encoding:', '7bit']\n",
      "Depuración: ['Received:', 'from', 'prod.collab.uhi.ac.uk', '([194.35.219.182])']\n",
      "Depuración: ['by', 'paploo.uhi.ac.uk', '(JAMES', 'SMTP', 'Server', '2.1.3)', 'with', 'SMTP', 'ID', '917']\n",
      "Depuración: ['for', '<source@collab.sakaiproject.org>;']\n",
      "Depuración: ['Thu,', '3', 'Jan', '2008', '21:28:39', '+0000', '(GMT)']\n",
      "Depuración: ['Received:', 'from', 'nakamura.uits.iupui.edu', '(nakamura.uits.iupui.edu', '[134.68.220.122])']\n",
      "Depuración: ['by', 'shmi.uhi.ac.uk', '(Postfix)', 'with', 'ESMTP', 'id', '1FBB042B30']\n",
      "Depuración: ['for', '<source@collab.sakaiproject.org>;', 'Thu,', '3', 'Jan', '2008', '21:28:38', '+0000', '(GMT)']\n",
      "Depuración: ['Received:', 'from', 'nakamura.uits.iupui.edu', '(localhost', '[127.0.0.1])']\n",
      "Depuración: ['by', 'nakamura.uits.iupui.edu', '(8.12.11.20060308/8.12.11)', 'with', 'ESMTP', 'id', 'm03LRUk4005179']\n",
      "Depuración: ['for', '<source@collab.sakaiproject.org>;', 'Thu,', '3', 'Jan', '2008', '16:27:30', '-0500']\n",
      "Depuración: ['Received:', '(from', 'apache@localhost)']\n",
      "Depuración: ['by', 'nakamura.uits.iupui.edu', '(8.12.11.20060308/8.12.11/Submit)', 'id', 'm03LRUqH005177']\n",
      "Depuración: ['for', 'source@collab.sakaiproject.org;', 'Thu,', '3', 'Jan', '2008', '16:27:30', '-0500']\n",
      "Depuración: ['Date:', 'Thu,', '3', 'Jan', '2008', '16:27:30', '-0500']\n",
      "Depuración: ['X-Authentication-Warning:', 'nakamura.uits.iupui.edu:', 'apache', 'set', 'sender', 'to', 'cwen@iupui.edu', 'using', '-f']\n",
      "Depuración: ['To:', 'source@collab.sakaiproject.org']\n",
      "Depuración: ['From:', 'cwen@iupui.edu']\n",
      "Depuración: ['Subject:', '[sakai]', 'svn', 'commit:', 'r39743', '-', 'gradebook/branches/oncourse_2-4-2/app/ui/src/java/org/sakaiproject/tool/gradebook/ui']\n",
      "Depuración: ['X-Content-Type-Outer-Envelope:', 'text/plain;', 'charset=UTF-8']\n",
      "Depuración: ['X-Content-Type-Message-Body:', 'text/plain;', 'charset=UTF-8']\n",
      "Depuración: ['Content-Type:', 'text/plain;', 'charset=UTF-8']\n",
      "Depuración: ['X-DSPAM-Result:', 'Innocent']\n",
      "Depuración: ['X-DSPAM-Processed:', 'Thu', 'Jan', '3', '16:29:07', '2008']\n",
      "Depuración: ['X-DSPAM-Confidence:', '0.8509']\n",
      "Depuración: ['X-DSPAM-Probability:', '0.0000']\n",
      "Depuración: []\n",
      "Depuración: ['Details:', 'http://source.sakaiproject.org/viewsvn/?view=rev&rev=39743']\n",
      "Depuración: []\n",
      "Depuración: ['Author:', 'cwen@iupui.edu']\n",
      "Depuración: ['Date:', '2008-01-03', '16:27:29', '-0500', '(Thu,', '03', 'Jan', '2008)']\n",
      "Depuración: ['New', 'Revision:', '39743']\n",
      "Depuración: []\n",
      "Depuración: ['Modified:']\n",
      "Depuración: ['gradebook/branches/oncourse_2-4-2/app/ui/src/java/org/sakaiproject/tool/gradebook/ui/RosterBean.java']\n",
      "Depuración: ['Log:']\n",
      "Depuración: ['svn', 'merge', '-c', '39403', 'https://source.sakaiproject.org/svn/gradebook/trunk']\n",
      "Depuración: ['U', 'app/ui/src/java/org/sakaiproject/tool/gradebook/ui/RosterBean.java']\n",
      "Depuración: []\n",
      "Depuración: ['svn', 'log', '-r', '39403', 'https://source.sakaiproject.org/svn/gradebook/trunk']\n",
      "Depuración: ['------------------------------------------------------------------------']\n",
      "Depuración: ['r39403', '|', 'wagnermr@iupui.edu', '|', '2007-12-17', '17:11:08', '-0500', '(Mon,', '17', 'Dec', '2007)', '|', '3', 'lines']\n",
      "Depuración: []\n",
      "Depuración: ['SAK-12504']\n",
      "Depuración: ['http://jira.sakaiproject.org/jira/browse/SAK-12504']\n",
      "Depuración: ['Viewing', '\"All', 'Grades\"', 'page', 'as', 'a', 'TA', 'with', 'grader', 'permissions', 'causes', 'stack', 'trace']\n",
      "Depuración: ['------------------------------------------------------------------------']\n",
      "Depuración: []\n",
      "Depuración: []\n",
      "Depuración: ['----------------------']\n",
      "Depuración: ['This', 'automatic', 'notification', 'message', 'was', 'sent', 'by', 'Sakai', 'Collab', '(https://collab.sakaiproject.org/portal)', 'from', 'the', 'Source', 'site.']\n",
      "Depuración: ['You', 'can', 'modify', 'how', 'you', 'receive', 'notifications', 'at', 'My', 'Workspace', '>', 'Preferences.']\n",
      "Depuración: []\n",
      "Depuración: []\n",
      "Depuración: []\n",
      "Depuración: ['From', 'cwen@iupui.edu', 'Thu', 'Jan', '3', '16:23:48', '2008']\n",
      "Thu\n",
      "Depuración: ['Return-Path:', '<postmaster@collab.sakaiproject.org>']\n",
      "Depuración: ['Received:', 'from', 'murder', '(mail.umich.edu', '[141.211.14.91])']\n",
      "Depuración: ['by', 'frankenstein.mail.umich.edu', '(Cyrus', 'v2.3.8)', 'with', 'LMTPA;']\n",
      "Depuración: ['Thu,', '03', 'Jan', '2008', '16:23:48', '-0500']\n",
      "Depuración: ['X-Sieve:', 'CMU', 'Sieve', '2.3']\n",
      "Depuración: ['Received:', 'from', 'murder', '([unix', 'socket])']\n",
      "Depuración: ['by', 'mail.umich.edu', '(Cyrus', 'v2.2.12)', 'with', 'LMTPA;']\n",
      "Depuración: ['Thu,', '03', 'Jan', '2008', '16:23:48', '-0500']\n",
      "Depuración: ['Received:', 'from', 'salemslot.mr.itd.umich.edu', '(salemslot.mr.itd.umich.edu', '[141.211.14.58])']\n",
      "Depuración: ['by', 'jacknife.mail.umich.edu', '()', 'with', 'ESMTP', 'id', 'm03LNlf0002115;']\n",
      "Depuración: ['Thu,', '3', 'Jan', '2008', '16:23:47', '-0500']\n",
      "Depuración: ['Received:', 'FROM', 'paploo.uhi.ac.uk', '(app1.prod.collab.uhi.ac.uk', '[194.35.219.184])']\n",
      "Depuración: ['BY', 'salemslot.mr.itd.umich.edu', 'ID', '477D525E.1448.30389', ';']\n",
      "Depuración: ['3', 'Jan', '2008', '16:23:44', '-0500']\n",
      "Depuración: ['Received:', 'from', 'paploo.uhi.ac.uk', '(localhost', '[127.0.0.1])']\n",
      "Depuración: ['by', 'paploo.uhi.ac.uk', '(Postfix)', 'with', 'ESMTP', 'id', '9D005B9D06;']\n",
      "Depuración: ['Thu,', '3', 'Jan', '2008', '21:23:38', '+0000', '(GMT)']\n",
      "Depuración: ['Message-ID:', '<200801032122.m03LMFo4005148@nakamura.uits.iupui.edu>']\n",
      "Depuración: ['Mime-Version:', '1.0']\n",
      "Depuración: ['Content-Transfer-Encoding:', '7bit']\n",
      "Depuración: ['Received:', 'from', 'prod.collab.uhi.ac.uk', '([194.35.219.182])']\n",
      "Depuración: ['by', 'paploo.uhi.ac.uk', '(JAMES', 'SMTP', 'Server', '2.1.3)', 'with', 'SMTP', 'ID', '6']\n",
      "Depuración: ['for', '<source@collab.sakaiproject.org>;']\n",
      "Depuración: ['Thu,', '3', 'Jan', '2008', '21:23:24', '+0000', '(GMT)']\n",
      "Depuración: ['Received:', 'from', 'nakamura.uits.iupui.edu', '(nakamura.uits.iupui.edu', '[134.68.220.122])']\n",
      "Depuración: ['by', 'shmi.uhi.ac.uk', '(Postfix)', 'with', 'ESMTP', 'id', '3535542B69']\n",
      "Depuración: ['for', '<source@collab.sakaiproject.org>;', 'Thu,', '3', 'Jan', '2008', '21:23:24', '+0000', '(GMT)']\n",
      "Depuración: ['Received:', 'from', 'nakamura.uits.iupui.edu', '(localhost', '[127.0.0.1])']\n",
      "Depuración: ['by', 'nakamura.uits.iupui.edu', '(8.12.11.20060308/8.12.11)', 'with', 'ESMTP', 'id', 'm03LMFtT005150']\n",
      "Depuración: ['for', '<source@collab.sakaiproject.org>;', 'Thu,', '3', 'Jan', '2008', '16:22:15', '-0500']\n",
      "Depuración: ['Received:', '(from', 'apache@localhost)']\n",
      "Depuración: ['by', 'nakamura.uits.iupui.edu', '(8.12.11.20060308/8.12.11/Submit)', 'id', 'm03LMFo4005148']\n",
      "Depuración: ['for', 'source@collab.sakaiproject.org;', 'Thu,', '3', 'Jan', '2008', '16:22:15', '-0500']\n",
      "Depuración: ['Date:', 'Thu,', '3', 'Jan', '2008', '16:22:15', '-0500']\n",
      "Depuración: ['X-Authentication-Warning:', 'nakamura.uits.iupui.edu:', 'apache', 'set', 'sender', 'to', 'cwen@iupui.edu', 'using', '-f']\n",
      "Depuración: ['To:', 'source@collab.sakaiproject.org']\n",
      "Depuración: ['From:', 'cwen@iupui.edu']\n",
      "Depuración: ['Subject:', '[sakai]', 'svn', 'commit:', 'r39742', '-', 'gradebook/branches/oncourse_2-4-2/app/ui/src/java/org/sakaiproject/tool/gradebook/ui']\n",
      "Depuración: ['X-Content-Type-Outer-Envelope:', 'text/plain;', 'charset=UTF-8']\n",
      "Depuración: ['X-Content-Type-Message-Body:', 'text/plain;', 'charset=UTF-8']\n",
      "Depuración: ['Content-Type:', 'text/plain;', 'charset=UTF-8']\n",
      "Depuración: ['X-DSPAM-Result:', 'Innocent']\n",
      "Depuración: ['X-DSPAM-Processed:', 'Thu', 'Jan', '3', '16:23:48', '2008']\n",
      "Depuración: ['X-DSPAM-Confidence:', '0.9907']\n",
      "Depuración: ['X-DSPAM-Probability:', '0.0000']\n",
      "Depuración: []\n",
      "Depuración: ['Details:', 'http://source.sakaiproject.org/viewsvn/?view=rev&rev=39742']\n",
      "Depuración: []\n",
      "Depuración: ['Author:', 'cwen@iupui.edu']\n",
      "Depuración: ['Date:', '2008-01-03', '16:22:14', '-0500', '(Thu,', '03', 'Jan', '2008)']\n",
      "Depuración: ['New', 'Revision:', '39742']\n",
      "Depuración: []\n",
      "Depuración: ['Modified:']\n",
      "Depuración: ['gradebook/branches/oncourse_2-4-2/app/ui/src/java/org/sakaiproject/tool/gradebook/ui/RosterBean.java']\n",
      "Depuración: ['Log:']\n",
      "Depuración: ['svn', 'merge', '-c', '35014', 'https://source.sakaiproject.org/svn/gradebook/trunk']\n",
      "Depuración: ['U', 'app/ui/src/java/org/sakaiproject/tool/gradebook/ui/RosterBean.java']\n",
      "Depuración: []\n",
      "Depuración: ['svn', 'log', '-r', '35014', 'https://source.sakaiproject.org/svn/gradebook/trunk']\n",
      "Depuración: ['------------------------------------------------------------------------']\n",
      "Depuración: ['r35014', '|', 'wagnermr@iupui.edu', '|', '2007-09-12', '16:17:59', '-0400', '(Wed,', '12', 'Sep', '2007)', '|', '3', 'lines']\n",
      "Depuración: []\n",
      "Depuración: ['SAK-11458']\n",
      "Depuración: ['http://bugs.sakaiproject.org/jira/browse/SAK-11458']\n",
      "Depuración: ['Course', 'grade', 'does', 'not', 'appear', 'on', '\"All', 'Grades\"', 'page', 'if', 'no', 'categories', 'in', 'gb']\n",
      "Depuración: ['------------------------------------------------------------------------']\n",
      "Depuración: []\n",
      "Depuración: []\n",
      "Depuración: ['----------------------']\n",
      "Depuración: ['This', 'automatic', 'notification', 'message', 'was', 'sent', 'by', 'Sakai', 'Collab', '(https://collab.sakaiproject.org/portal)', 'from', 'the', 'Source', 'site.']\n",
      "Depuración: ['You', 'can', 'modify', 'how', 'you', 'receive', 'notifications', 'at', 'My', 'Workspace', '>', 'Preferences.']\n",
      "Depuración: []\n"
     ]
    }
   ],
   "source": [
    "nombre_archivo = 'mbox-short.txt'\n",
    "ruta = fr'Datos\\\\Python para todos\\\\' + nombre_archivo\n",
    "manejador_archivos = open(ruta)\n",
    "\n",
    "contador = 0\n",
    "\n",
    "for linea in manejador_archivos:\n",
    "    palabras = linea.split()\n",
    "    print('Depuración:', palabras)\n",
    "    if len(palabras) > 0:\n",
    "        if palabras[0] != 'From':\n",
    "            continue\n",
    "        print(palabras[2])"
   ]
  },
  {
   "cell_type": "code",
   "execution_count": 82,
   "id": "abe82334",
   "metadata": {},
   "outputs": [
    {
     "name": "stdout",
     "output_type": "stream",
     "text": [
      "Ingrese el nombre del archivo:mbox-short.txt\n",
      "Sat\n",
      "Fri\n",
      "Fri\n",
      "Fri\n",
      "Fri\n",
      "Fri\n",
      "Fri\n",
      "Fri\n",
      "Fri\n",
      "Fri\n",
      "Fri\n",
      "Fri\n",
      "Fri\n",
      "Fri\n",
      "Fri\n",
      "Fri\n",
      "Fri\n",
      "Fri\n",
      "Fri\n",
      "Fri\n",
      "Fri\n",
      "Thu\n",
      "Thu\n",
      "Thu\n",
      "Thu\n",
      "Thu\n",
      "Thu\n"
     ]
    }
   ],
   "source": [
    "nombre_archivo = input('Ingrese el nombre del archivo:')\n",
    "ruta = fr'Datos\\\\Python para todos\\\\' + nombre_archivo\n",
    "manejador_archivos = open(ruta)\n",
    "\n",
    "contador = 0\n",
    "\n",
    "for linea in manejador_archivos:\n",
    "    palabras = linea.split()\n",
    "    if len(palabras) < 3 or palabras[0] != 'From':\n",
    "        continue\n",
    "    print(palabras[2])"
   ]
  },
  {
   "cell_type": "markdown",
   "id": "1d2c2e9a",
   "metadata": {},
   "source": [
    "# 15. Glosario"
   ]
  },
  {
   "cell_type": "markdown",
   "id": "65573294",
   "metadata": {},
   "source": [
    "Alias: una circunstancia donde 2 o más variables apuntan al mismo objeto.\n",
    "\n",
    "Delimitador: un caracter o cadena utilizado para indicar dónde una cadena debe ser dividida.\n",
    "\n",
    "Elemento: uno de los valores en una lista (u otra secuencia); también llamados ítems.\n",
    "\n",
    "Equivalente: que tiene el mismo valor.\n",
    "\n",
    "Ídéntico: ser el mismo objeto (lo cual implica equivalencia).\n",
    "\n",
    "Índice: un valor entero que indica un elemento en una lista.\n",
    "\n",
    "Lista: una secuencia de valores.\n",
    "\n",
    "Lista anidada: una lista que es uno de los elementos de otra lista.\n",
    "\n",
    "Objeto: algo a lo que una variable puede referirse. Un objeto tiene un tipo y un valor.\n",
    "\n",
    "Recorrido de lista: acceso secuencial a cada elemento de una lista.\n",
    "\n",
    "Referencia: la asociación entre una variable y su valor."
   ]
  },
  {
   "cell_type": "markdown",
   "id": "3045e757",
   "metadata": {},
   "source": [
    "# 16. Ejercicios"
   ]
  },
  {
   "cell_type": "markdown",
   "id": "f70fd11b",
   "metadata": {},
   "source": [
    "1. Escribe una función llamada recortar que toma una lista y la modifica, removiendo el primer y último elemento, y regresa None. Después escribe una función llamada medio que toma una lista y regresa una nueva lista que contiene todo excepto el primero y último elementos."
   ]
  },
  {
   "cell_type": "code",
   "execution_count": 83,
   "id": "57524498",
   "metadata": {},
   "outputs": [
    {
     "ename": "KeyboardInterrupt",
     "evalue": "Interrupted by user",
     "output_type": "error",
     "traceback": [
      "\u001b[1;31m---------------------------------------------------------------------------\u001b[0m",
      "\u001b[1;31mKeyboardInterrupt\u001b[0m                         Traceback (most recent call last)",
      "Cell \u001b[1;32mIn[83], line 9\u001b[0m\n\u001b[0;32m      6\u001b[0m \u001b[38;5;28;01mdef\u001b[39;00m \u001b[38;5;21mmedio\u001b[39m(lista2):\n\u001b[0;32m      7\u001b[0m     \u001b[38;5;28;01mreturn\u001b[39;00m lista2[\u001b[38;5;241m1\u001b[39m:\u001b[38;5;28mlen\u001b[39m(lista2)\u001b[38;5;241m-\u001b[39m\u001b[38;5;241m1\u001b[39m]\n\u001b[1;32m----> 9\u001b[0m lista1 \u001b[38;5;241m=\u001b[39m \u001b[38;5;28mlist\u001b[39m(\u001b[38;5;28;43minput\u001b[39;49m\u001b[43m(\u001b[49m\u001b[38;5;124;43m'\u001b[39;49m\u001b[38;5;124;43mIngrese una lista:\u001b[39;49m\u001b[38;5;124;43m'\u001b[39;49m\u001b[43m)\u001b[49m)\n\u001b[0;32m     10\u001b[0m recortar(lista1)\n\u001b[0;32m     11\u001b[0m \u001b[38;5;28mprint\u001b[39m(\u001b[38;5;124m'\u001b[39m\u001b[38;5;124mRecorté\u001b[39m\u001b[38;5;124m'\u001b[39m,lista1)\n",
      "File \u001b[1;32mC:\\ProgramData\\anaconda3\\lib\\site-packages\\ipykernel\\kernelbase.py:1175\u001b[0m, in \u001b[0;36mKernel.raw_input\u001b[1;34m(self, prompt)\u001b[0m\n\u001b[0;32m   1171\u001b[0m \u001b[38;5;28;01mif\u001b[39;00m \u001b[38;5;129;01mnot\u001b[39;00m \u001b[38;5;28mself\u001b[39m\u001b[38;5;241m.\u001b[39m_allow_stdin:\n\u001b[0;32m   1172\u001b[0m     \u001b[38;5;28;01mraise\u001b[39;00m StdinNotImplementedError(\n\u001b[0;32m   1173\u001b[0m         \u001b[38;5;124m\"\u001b[39m\u001b[38;5;124mraw_input was called, but this frontend does not support input requests.\u001b[39m\u001b[38;5;124m\"\u001b[39m\n\u001b[0;32m   1174\u001b[0m     )\n\u001b[1;32m-> 1175\u001b[0m \u001b[38;5;28;01mreturn\u001b[39;00m \u001b[38;5;28;43mself\u001b[39;49m\u001b[38;5;241;43m.\u001b[39;49m\u001b[43m_input_request\u001b[49m\u001b[43m(\u001b[49m\n\u001b[0;32m   1176\u001b[0m \u001b[43m    \u001b[49m\u001b[38;5;28;43mstr\u001b[39;49m\u001b[43m(\u001b[49m\u001b[43mprompt\u001b[49m\u001b[43m)\u001b[49m\u001b[43m,\u001b[49m\n\u001b[0;32m   1177\u001b[0m \u001b[43m    \u001b[49m\u001b[38;5;28;43mself\u001b[39;49m\u001b[38;5;241;43m.\u001b[39;49m\u001b[43m_parent_ident\u001b[49m\u001b[43m[\u001b[49m\u001b[38;5;124;43m\"\u001b[39;49m\u001b[38;5;124;43mshell\u001b[39;49m\u001b[38;5;124;43m\"\u001b[39;49m\u001b[43m]\u001b[49m\u001b[43m,\u001b[49m\n\u001b[0;32m   1178\u001b[0m \u001b[43m    \u001b[49m\u001b[38;5;28;43mself\u001b[39;49m\u001b[38;5;241;43m.\u001b[39;49m\u001b[43mget_parent\u001b[49m\u001b[43m(\u001b[49m\u001b[38;5;124;43m\"\u001b[39;49m\u001b[38;5;124;43mshell\u001b[39;49m\u001b[38;5;124;43m\"\u001b[39;49m\u001b[43m)\u001b[49m\u001b[43m,\u001b[49m\n\u001b[0;32m   1179\u001b[0m \u001b[43m    \u001b[49m\u001b[43mpassword\u001b[49m\u001b[38;5;241;43m=\u001b[39;49m\u001b[38;5;28;43;01mFalse\u001b[39;49;00m\u001b[43m,\u001b[49m\n\u001b[0;32m   1180\u001b[0m \u001b[43m\u001b[49m\u001b[43m)\u001b[49m\n",
      "File \u001b[1;32mC:\\ProgramData\\anaconda3\\lib\\site-packages\\ipykernel\\kernelbase.py:1217\u001b[0m, in \u001b[0;36mKernel._input_request\u001b[1;34m(self, prompt, ident, parent, password)\u001b[0m\n\u001b[0;32m   1214\u001b[0m             \u001b[38;5;28;01mbreak\u001b[39;00m\n\u001b[0;32m   1215\u001b[0m \u001b[38;5;28;01mexcept\u001b[39;00m \u001b[38;5;167;01mKeyboardInterrupt\u001b[39;00m:\n\u001b[0;32m   1216\u001b[0m     \u001b[38;5;66;03m# re-raise KeyboardInterrupt, to truncate traceback\u001b[39;00m\n\u001b[1;32m-> 1217\u001b[0m     \u001b[38;5;28;01mraise\u001b[39;00m \u001b[38;5;167;01mKeyboardInterrupt\u001b[39;00m(\u001b[38;5;124m\"\u001b[39m\u001b[38;5;124mInterrupted by user\u001b[39m\u001b[38;5;124m\"\u001b[39m) \u001b[38;5;28;01mfrom\u001b[39;00m \u001b[38;5;28mNone\u001b[39m\n\u001b[0;32m   1218\u001b[0m \u001b[38;5;28;01mexcept\u001b[39;00m \u001b[38;5;167;01mException\u001b[39;00m:\n\u001b[0;32m   1219\u001b[0m     \u001b[38;5;28mself\u001b[39m\u001b[38;5;241m.\u001b[39mlog\u001b[38;5;241m.\u001b[39mwarning(\u001b[38;5;124m\"\u001b[39m\u001b[38;5;124mInvalid Message:\u001b[39m\u001b[38;5;124m\"\u001b[39m, exc_info\u001b[38;5;241m=\u001b[39m\u001b[38;5;28;01mTrue\u001b[39;00m)\n",
      "\u001b[1;31mKeyboardInterrupt\u001b[0m: Interrupted by user"
     ]
    }
   ],
   "source": [
    "def recortar(lista1):\n",
    "    del lista1[0]\n",
    "    del lista1[-1]\n",
    "    return None\n",
    "\n",
    "def medio(lista2):\n",
    "    return lista2[1:len(lista2)-1]\n",
    "\n",
    "lista1 = list(input('Ingrese una lista:'))\n",
    "recortar(lista1)\n",
    "print('Recorté',lista1)\n",
    "\n",
    "lista2 = list(input('Ingrese una lista:'))\n",
    "nueva_lista = medio(lista2)\n",
    "print('Medio:',nueva_lista)"
   ]
  },
  {
   "cell_type": "markdown",
   "id": "9b783239",
   "metadata": {},
   "source": [
    "2. Encontrar que línea del programa de arriba no está protegida (método guardián) propiamente. Trata de construir un archivo de texto que cause que el programa falle y después modifica el programa de modo que la línea es propiamente protegida y pruébalo para asegurarte que el programa es capaz de manejar tu nuevo archivo de texto."
   ]
  },
  {
   "cell_type": "code",
   "execution_count": null,
   "id": "4bdb914a",
   "metadata": {},
   "outputs": [],
   "source": [
    "nombre_archivo = input('Ingrese el nombre del archivo:')\n",
    "ruta = fr'Datos\\\\Python para todos\\\\' + nombre_archivo\n",
    "manejador_archivos = open(ruta)\n",
    "\n",
    "contador = 0\n",
    "\n",
    "for linea in manejador_archivos:\n",
    "    palabras = linea.split()\n",
    "    \n",
    "    if len(palabras) < 3: \n",
    "        continue\n",
    "    if palabras[0] != 'From' : \n",
    "        continue\n",
    "\n",
    "    print(palabras[2])"
   ]
  },
  {
   "cell_type": "markdown",
   "id": "b9d09cca",
   "metadata": {},
   "source": [
    "3. Reescribe el código guardián en el ejemplo de arriba sin las dos sentencias if. En vez de eso, utiliza una expresión lógica compuesta utilizando el operador lógico or con una sola sentencia if"
   ]
  },
  {
   "cell_type": "code",
   "execution_count": null,
   "id": "0f9a0471",
   "metadata": {},
   "outputs": [],
   "source": [
    "try:\n",
    "    nombre_archivo = input('Ingrese el nombre del archivo.')\n",
    "    ruta = fr'Datos\\\\Python para todos\\\\' + nombre_archivo\n",
    "    manejador_archivos = open(ruta)\n",
    "except:\n",
    "    print('El archivo no abre.')\n",
    "    # exit()\n",
    "\n",
    "contador = 0\n",
    "for linea in manejador_archivos:\n",
    "    linea = linea.split()\n",
    "    if len(linea) > 2 and linea[0] == 'From':\n",
    "        print(linea[1])\n",
    "        contador += 1\n",
    "        \n",
    "print('Habían',contador,'líneas en el archivo con From como la primera palabra.')"
   ]
  },
  {
   "cell_type": "markdown",
   "id": "c7ce1e0a",
   "metadata": {},
   "source": [
    "4. Descargar una copia de un archivo www.py4e.com/code3/romeo.txt. Escribir un programa para abrir el archivo romeo.txt y leerlo línea por línea. Para cada línea, dividir la línea en una lista de palabras utilizando la función split. Para cada palabra, revisar si la palabra ya se encuentra previamente en la lista. Si la palabra no está en la lista, agregarla a la lista. Cuando el programa termine, ordenar e imprimir las palabras resultantes en orden alfabético. Ingresar nombre de archivo: romeo.txt\n",
    "\n",
    "['Arise', 'But', 'It', 'Juliet', 'Who', 'already',\n",
    "'and', 'breaks', 'east', 'envious', 'fair', 'grief',\n",
    "'is', 'kill', 'light', 'moon', 'pale', 'sick', 'soft',\n",
    "'sun', 'the', 'through', 'what', 'window',\n",
    "'with', 'yonder']"
   ]
  },
  {
   "cell_type": "code",
   "execution_count": null,
   "id": "e730d3ec",
   "metadata": {},
   "outputs": [],
   "source": [
    "nombre_archivo = input('Ingrese el nombre del archivo:')\n",
    "ruta = fr'Datos\\\\Python para todos\\\\' + nombre_archivo\n",
    "\n",
    "try:\n",
    "    manejador_archivos = open(ruta)\n",
    "\n",
    "except:\n",
    "    print('El archivo no abre.')\n",
    "    # exit()\n",
    "\n",
    "palabras = list()\n",
    "for linea in manejador_archivos:\n",
    "    linea = linea.split()\n",
    "    for palabra in linea:\n",
    "        if palabra not in palabras:\n",
    "            palabras.append(palabra)\n",
    "\n",
    "palabras.sort()\n",
    "print(palabras)"
   ]
  },
  {
   "cell_type": "markdown",
   "id": "288435a1",
   "metadata": {},
   "source": [
    "5. Escribir un programa para leer a través de datos de una bandeja de entrada de correo y cuando encuentres una línea que comience con “From”, dividir la línea en palabras utilizando la función split. Estamos interesados en quién envió el mensaje, lo cual es la segunda palabra en las líneas que comienzan con From.\n",
    "\n",
    "From stephen.marquard@uct.ac.za Sat Jan 5 09:14:16 2008\n",
    "\n",
    "Tendrás que analizar la línea From e imprimir la segunda palabra de cada línea From, después tendrás que contar el número de líneas From (no incluir From:) e imprimir el total al final. Este es un buen ejemplo de salida con algunas líneas de salida removidas:\n",
    "\n",
    "python fromcuenta.py\n",
    "\n",
    "Ingresa un nombre de archivo: mbox-short.txt\n",
    "\n",
    "stephen.marquard@uct.ac.za\n",
    "\n",
    "louis@media.berkeley.edu\n",
    "\n",
    "zqian@umich.edu\n",
    "\n",
    "[...líneas de salida removidas...]\n",
    "\n",
    "ray@media.berkeley.edu\n",
    "\n",
    "cwen@iupui.edu\n",
    "\n",
    "cwen@iupui.edu\n",
    "\n",
    "cwen@iupui.edu\n",
    "\n",
    "Hay 27 lineas en el archivo con la palabra From al inicio"
   ]
  },
  {
   "cell_type": "code",
   "execution_count": null,
   "id": "d734b76c",
   "metadata": {},
   "outputs": [],
   "source": [
    "try:\n",
    "    nombre_archivo = input('Ingrese el nombre del archivo.')\n",
    "    ruta = fr'Datos\\\\Python para todos\\\\' + nombre_archivo\n",
    "    manejador_archivos = open(ruta)\n",
    "except:\n",
    "    print('El archivo no abre.')\n",
    "    # exit()\n",
    "\n",
    "contador = 0\n",
    "for linea in manejador_archivos:\n",
    "    linea = linea.split()\n",
    "    if len(linea) > 2 and linea[0] == 'From':\n",
    "        print(linea[1])\n",
    "        contador += 1\n",
    "\n",
    "print('Habían',contador,'líneas en el archivo con From como la primera palabra.')"
   ]
  },
  {
   "cell_type": "markdown",
   "id": "3e8640bd",
   "metadata": {},
   "source": [
    "6. Reescribe el programa que pide al usuario una lista de números e imprime el máximo y el mínimo de los números al final cuando el usuario ingresa “hecho”. Escribe el programa para almacenar los números que el usuario ingrese en una lista, y utiliza las funciones max() y min() para calcular el máximo y el mínimo después de que el bucle termine.\n",
    "\n",
    "Ingresa un número: 6\n",
    "\n",
    "Ingresa un número: 2\n",
    "\n",
    "Ingresa un número: 9\n",
    "\n",
    "Ingresa un número: 3\n",
    "\n",
    "Ingresa un número: 5\n",
    "\n",
    "Ingresa un número: hecho\n",
    "\n",
    "Máximo: 9.0\n",
    "\n",
    "Minimo: 2.0"
   ]
  },
  {
   "cell_type": "code",
   "execution_count": null,
   "id": "21a77d1e",
   "metadata": {},
   "outputs": [],
   "source": [
    "numeros = None\n",
    "lista_numeros = list()\n",
    "\n",
    "while True:\n",
    "    numeros = input('Ingrese un número:')\n",
    "    if(numeros == 'hecho'):\n",
    "        break\n",
    "    try:\n",
    "        float(numeros)\n",
    "    except:\n",
    "        print('Error en el ingreso')\n",
    "        # quit()\n",
    "        \n",
    "    lista_numeros.append(numeros)\n",
    "\n",
    "print('Mínimo:',min(lista_numeros))\n",
    "print('Máximo:',max(lista_numeros))"
   ]
  }
 ],
 "metadata": {
  "kernelspec": {
   "display_name": "Python 3 (ipykernel)",
   "language": "python",
   "name": "python3"
  },
  "language_info": {
   "codemirror_mode": {
    "name": "ipython",
    "version": 3
   },
   "file_extension": ".py",
   "mimetype": "text/x-python",
   "name": "python",
   "nbconvert_exporter": "python",
   "pygments_lexer": "ipython3",
   "version": "3.10.9"
  }
 },
 "nbformat": 4,
 "nbformat_minor": 5
}
