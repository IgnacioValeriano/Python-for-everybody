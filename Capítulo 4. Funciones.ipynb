{
 "cells": [
  {
   "cell_type": "markdown",
   "id": "a6f4d7f0",
   "metadata": {},
   "source": [
    "ÍNDICE:\n",
    "\n",
    "1. Llamadas a funciones\n",
    "2. Funciones internas\n",
    "3. Funciones de conversión de tipos\n",
    "4. Funciones matemátcas\n",
    "5. Números aleatorios\n",
    "6. Añadiendo funciones nuevas\n",
    "7. Definición y usos\n",
    "8. Flujo de ejecución\n",
    "9. Parámetros y argumentos\n",
    "10. Funciones productivas y funciones estériles\n",
    "11. ¿Por qué funciones?\n",
    "12. Depuración\n",
    "13. Glosario\n",
    "14. Ejercicios"
   ]
  },
  {
   "cell_type": "code",
   "execution_count": 10,
   "id": "7c81a643",
   "metadata": {},
   "outputs": [],
   "source": [
    "import math\n",
    "import random"
   ]
  },
  {
   "cell_type": "markdown",
   "id": "c7b92f4d",
   "metadata": {},
   "source": [
    "# 1. Llamadas a funciones"
   ]
  },
  {
   "cell_type": "markdown",
   "id": "8e67c06e",
   "metadata": {},
   "source": [
    "Función: es una secuencia de sentencias que realizan una operación y que reciben un nombre."
   ]
  },
  {
   "cell_type": "code",
   "execution_count": 1,
   "id": "1fe807fa",
   "metadata": {},
   "outputs": [
    {
     "data": {
      "text/plain": [
       "int"
      ]
     },
     "execution_count": 1,
     "metadata": {},
     "output_type": "execute_result"
    }
   ],
   "source": [
    "type(32)"
   ]
  },
  {
   "cell_type": "markdown",
   "id": "ab6ec305",
   "metadata": {},
   "source": [
    "# 2. Funciones internas"
   ]
  },
  {
   "cell_type": "code",
   "execution_count": 2,
   "id": "82782b57",
   "metadata": {},
   "outputs": [
    {
     "name": "stdout",
     "output_type": "stream",
     "text": [
      "¡\n",
      " \n",
      "13\n"
     ]
    }
   ],
   "source": [
    "print(max('¡Hola, mundo!'))\n",
    "print(min('¡Hola, mundo!'))\n",
    "print(len('¡Hola, mundo!'))"
   ]
  },
  {
   "cell_type": "markdown",
   "id": "761a5aed",
   "metadata": {},
   "source": [
    "# 3. Funciones de conversión de tipos"
   ]
  },
  {
   "cell_type": "code",
   "execution_count": 3,
   "id": "ccac8f7c",
   "metadata": {},
   "outputs": [
    {
     "name": "stdout",
     "output_type": "stream",
     "text": [
      "3\n",
      "-2\n",
      "32.0\n",
      "3.14159\n",
      "32\n",
      "3.14159\n"
     ]
    }
   ],
   "source": [
    "print(int(3.99999))\n",
    "print(int(-2.3333))\n",
    "print(float(32))\n",
    "print(float('3.14159'))\n",
    "print(str(32))\n",
    "print(str(3.14159))"
   ]
  },
  {
   "cell_type": "markdown",
   "id": "5435d97c",
   "metadata": {},
   "source": [
    "# 4. Funciones matemátcas"
   ]
  },
  {
   "cell_type": "code",
   "execution_count": 5,
   "id": "1dcf1a9b",
   "metadata": {},
   "outputs": [
    {
     "name": "stdout",
     "output_type": "stream",
     "text": [
      "<module 'math' (built-in)>\n"
     ]
    }
   ],
   "source": [
    "print(math)"
   ]
  },
  {
   "cell_type": "code",
   "execution_count": 6,
   "id": "ca58737d",
   "metadata": {},
   "outputs": [
    {
     "name": "stdout",
     "output_type": "stream",
     "text": [
      "-0.4575749056067512\n"
     ]
    }
   ],
   "source": [
    "int_senal = 9\n",
    "int_ruido = 10\n",
    "\n",
    "relacion = int_senal / int_ruido\n",
    "decibelios = 10 * math.log10(relacion)\n",
    "\n",
    "print(decibelios)"
   ]
  },
  {
   "cell_type": "code",
   "execution_count": 7,
   "id": "a8e44334",
   "metadata": {},
   "outputs": [
    {
     "data": {
      "text/plain": [
       "0.644217687237691"
      ]
     },
     "execution_count": 7,
     "metadata": {},
     "output_type": "execute_result"
    }
   ],
   "source": [
    "radianes = 0.7\n",
    "\n",
    "altura = math.sin(radianes)\n",
    "altura"
   ]
  },
  {
   "cell_type": "code",
   "execution_count": 8,
   "id": "3a9c6f2b",
   "metadata": {},
   "outputs": [
    {
     "data": {
      "text/plain": [
       "0.7071067811865476"
      ]
     },
     "execution_count": 8,
     "metadata": {},
     "output_type": "execute_result"
    }
   ],
   "source": [
    "grados = 45\n",
    "\n",
    "radianes = grados / 360.0 * 2 * math.pi\n",
    "\n",
    "math.sin(radianes)"
   ]
  },
  {
   "cell_type": "code",
   "execution_count": 9,
   "id": "6aa54cb3",
   "metadata": {},
   "outputs": [
    {
     "data": {
      "text/plain": [
       "0.7071067811865476"
      ]
     },
     "execution_count": 9,
     "metadata": {},
     "output_type": "execute_result"
    }
   ],
   "source": [
    "math.sqrt(2)/2.0"
   ]
  },
  {
   "cell_type": "markdown",
   "id": "fb206754",
   "metadata": {},
   "source": [
    "# 5. Números aleatorios"
   ]
  },
  {
   "cell_type": "code",
   "execution_count": 11,
   "id": "259bf899",
   "metadata": {},
   "outputs": [
    {
     "name": "stdout",
     "output_type": "stream",
     "text": [
      "0.45765867048361364\n",
      "0.4317227824420199\n",
      "0.2078968824149845\n",
      "0.9211881677061045\n",
      "0.004984911665046221\n",
      "0.13062443676072177\n",
      "0.5493059210119166\n",
      "0.5661319721706743\n",
      "0.10964569189710782\n",
      "0.5307160030633141\n"
     ]
    }
   ],
   "source": [
    "for i in range(10):\n",
    "    x = random.random()\n",
    "    print(x)"
   ]
  },
  {
   "cell_type": "markdown",
   "id": "59bcce7a",
   "metadata": {},
   "source": [
    "# 6. Añadiendo funciones nuevas"
   ]
  },
  {
   "cell_type": "markdown",
   "id": "1ad830ee",
   "metadata": {},
   "source": [
    "Defincición de función: especifica el nombre de una función nueva y la secuencia de sentencias que se ejecutan cuando esa función es llamada."
   ]
  },
  {
   "cell_type": "code",
   "execution_count": 12,
   "id": "27436084",
   "metadata": {},
   "outputs": [
    {
     "name": "stdout",
     "output_type": "stream",
     "text": [
      "Soy un leñador, qué alegría.\n",
      "Duermo toda la noche y trabajo todo el día.\n"
     ]
    }
   ],
   "source": [
    "def muestra_estribillo():\n",
    "    print('Soy un leñador, qué alegría.')\n",
    "    print('Duermo toda la noche y trabajo todo el día.')\n",
    "    \n",
    "muestra_estribillo()"
   ]
  },
  {
   "cell_type": "code",
   "execution_count": 13,
   "id": "ea478136",
   "metadata": {},
   "outputs": [
    {
     "name": "stdout",
     "output_type": "stream",
     "text": [
      "<function muestra_estribillo at 0x0000014F852D6290>\n",
      "<class 'function'>\n"
     ]
    }
   ],
   "source": [
    "print(muestra_estribillo)\n",
    "print(type(muestra_estribillo))"
   ]
  },
  {
   "cell_type": "code",
   "execution_count": 14,
   "id": "13afd920",
   "metadata": {},
   "outputs": [
    {
     "name": "stdout",
     "output_type": "stream",
     "text": [
      "Soy un leñador, qué alegría.\n",
      "Duermo toda la noche y trabajo todo el día.\n",
      "Soy un leñador, qué alegría.\n",
      "Duermo toda la noche y trabajo todo el día.\n"
     ]
    }
   ],
   "source": [
    "def repite_estribillo():\n",
    "    muestra_estribillo()\n",
    "    muestra_estribillo()\n",
    "    \n",
    "repite_estribillo()"
   ]
  },
  {
   "cell_type": "markdown",
   "id": "5a7fb346",
   "metadata": {},
   "source": [
    "# 7. Definición y usos"
   ]
  },
  {
   "cell_type": "markdown",
   "id": "044fe193",
   "metadata": {},
   "source": [
    "# 8. Flujo de ejecución"
   ]
  },
  {
   "cell_type": "markdown",
   "id": "a3ba75f5",
   "metadata": {},
   "source": [
    "# 9. Parámetros y argumentos"
   ]
  },
  {
   "cell_type": "code",
   "execution_count": 16,
   "id": "7e1d41c1",
   "metadata": {},
   "outputs": [],
   "source": [
    "def muestra_dos_veces(bruce):\n",
    "    print(bruce)\n",
    "    print(bruce)"
   ]
  },
  {
   "cell_type": "code",
   "execution_count": 17,
   "id": "05a08219",
   "metadata": {},
   "outputs": [
    {
     "name": "stdout",
     "output_type": "stream",
     "text": [
      "Spam\n",
      "Spam\n"
     ]
    }
   ],
   "source": [
    "muestra_dos_veces('Spam')"
   ]
  },
  {
   "cell_type": "code",
   "execution_count": 18,
   "id": "cec266d1",
   "metadata": {},
   "outputs": [
    {
     "name": "stdout",
     "output_type": "stream",
     "text": [
      "17\n",
      "17\n"
     ]
    }
   ],
   "source": [
    "muestra_dos_veces(17)"
   ]
  },
  {
   "cell_type": "code",
   "execution_count": 19,
   "id": "081de9f8",
   "metadata": {},
   "outputs": [
    {
     "name": "stdout",
     "output_type": "stream",
     "text": [
      "3.141592653589793\n",
      "3.141592653589793\n"
     ]
    }
   ],
   "source": [
    "muestra_dos_veces(math.pi)"
   ]
  },
  {
   "cell_type": "code",
   "execution_count": 20,
   "id": "a106a90a",
   "metadata": {},
   "outputs": [
    {
     "name": "stdout",
     "output_type": "stream",
     "text": [
      "SpamSpamSpamSpam\n",
      "SpamSpamSpamSpam\n"
     ]
    }
   ],
   "source": [
    "muestra_dos_veces('Spam'*4)"
   ]
  },
  {
   "cell_type": "code",
   "execution_count": 21,
   "id": "680e4a90",
   "metadata": {},
   "outputs": [
    {
     "name": "stdout",
     "output_type": "stream",
     "text": [
      "-1.0\n",
      "-1.0\n"
     ]
    }
   ],
   "source": [
    "muestra_dos_veces(math.cos(math.pi))"
   ]
  },
  {
   "cell_type": "code",
   "execution_count": 22,
   "id": "2d18e74d",
   "metadata": {},
   "outputs": [
    {
     "name": "stdout",
     "output_type": "stream",
     "text": [
      "Eric, la medio-abeja.\n",
      "Eric, la medio-abeja.\n"
     ]
    }
   ],
   "source": [
    "michael = 'Eric, la medio-abeja.'\n",
    "muestra_dos_veces(michael)"
   ]
  },
  {
   "cell_type": "markdown",
   "id": "6a46bf39",
   "metadata": {},
   "source": [
    "# 10. Funciones productivas y funciones estériles"
   ]
  },
  {
   "cell_type": "code",
   "execution_count": 25,
   "id": "8d669713",
   "metadata": {},
   "outputs": [
    {
     "name": "stdout",
     "output_type": "stream",
     "text": [
      "0.7648421872844885\n",
      "1.618033988749895\n"
     ]
    }
   ],
   "source": [
    "radianes = 0.7\n",
    "\n",
    "x = math.cos(radianes)\n",
    "print(x)\n",
    "\n",
    "aurea = (math.sqrt(5)+1)/2\n",
    "print(aurea)"
   ]
  },
  {
   "cell_type": "code",
   "execution_count": 26,
   "id": "1b3d6d42",
   "metadata": {},
   "outputs": [
    {
     "data": {
      "text/plain": [
       "2.23606797749979"
      ]
     },
     "execution_count": 26,
     "metadata": {},
     "output_type": "execute_result"
    }
   ],
   "source": [
    "math.sqrt(5)"
   ]
  },
  {
   "cell_type": "code",
   "execution_count": 27,
   "id": "9d2a7402",
   "metadata": {},
   "outputs": [
    {
     "name": "stdout",
     "output_type": "stream",
     "text": [
      "Bing\n",
      "Bing\n",
      "None\n"
     ]
    }
   ],
   "source": [
    "resultado = muestra_dos_veces('Bing')\n",
    "print(resultado)"
   ]
  },
  {
   "cell_type": "code",
   "execution_count": 28,
   "id": "8e26c562",
   "metadata": {},
   "outputs": [
    {
     "name": "stdout",
     "output_type": "stream",
     "text": [
      "<class 'NoneType'>\n"
     ]
    }
   ],
   "source": [
    "print(type(None))"
   ]
  },
  {
   "cell_type": "code",
   "execution_count": 29,
   "id": "4d88997e",
   "metadata": {},
   "outputs": [],
   "source": [
    "def sumados(a,b):\n",
    "    suma = a+b\n",
    "    return suma"
   ]
  },
  {
   "cell_type": "code",
   "execution_count": 30,
   "id": "1326e08a",
   "metadata": {},
   "outputs": [
    {
     "name": "stdout",
     "output_type": "stream",
     "text": [
      "8\n"
     ]
    }
   ],
   "source": [
    "x = sumados(3,5)\n",
    "print(x)"
   ]
  },
  {
   "cell_type": "markdown",
   "id": "c3392ff4",
   "metadata": {},
   "source": [
    "# 11. ¿Por qué funciones?"
   ]
  },
  {
   "cell_type": "markdown",
   "id": "bad36d07",
   "metadata": {},
   "source": [
    "# 12. Depuración"
   ]
  },
  {
   "cell_type": "markdown",
   "id": "0e9bb0dc",
   "metadata": {},
   "source": [
    "# 13. Glosario"
   ]
  },
  {
   "cell_type": "markdown",
   "id": "1b94a03a",
   "metadata": {},
   "source": [
    "Algoritmo: un proceso general para resolver una categoría de problemas.\n",
    "\n",
    "Argumento: un valor proporcionado a una función cuando ésta es llamada. Ese valor se asigna al parámetro correspondiente en la función.\n",
    "\n",
    "Cabecera: la primera línea de una definición de función.\n",
    "\n",
    "Cuerpo: la secuencia de sentencias dentro de la definición de una función.\n",
    "\n",
    "Composición: uso de una expresión o sentencia como parte de otra más larga.\n",
    "\n",
    "Definición de función: una sentencia que crea una función nueva, especificando su nombre, parámetros, y las sentencias que ejecuta.\n",
    "\n",
    "Determinístico: perteneciente a un programa que hace lo mismo cada vez que se ejecuta, a partir de las mismas entradas.\n",
    "\n",
    "Función: una secuencia de sentencias con un nombre que realizan alguna operación útil. Las funciones pueden tomar argumentos o no, y pueden producir un resultado o no.\n",
    "\n",
    "Función productiva (fruitful function): una función que devuelve un valor.\n",
    "\n",
    "Función estéril (void function): una función que no devuelve ningún valor.\n",
    "\n",
    "Función de ejecución: el orden en el cual se ejecutan las sentencias durante el funcionamiento de un programa.\n",
    "\n",
    "Llamada a función: una sentencia que ejecuta una función. Consiste en el nombre de la función seguido por una lista de argumentos.\n",
    "\n",
    "Notación punto: La sintaxis para llamar a una función de otro módulo, especificando el nombre del módulo seguido por un punto y el nombre de una función.\n",
    "\n",
    "Objeto función: un valor creado por una definición de función. El nombre de la función es una variable que se refiere al objeto función.\n",
    "\n",
    "Objeto módulo: un valor creado por una sentencia import, que proporciona acceso a los datos y código definidos en un módulo.\n",
    "\n",
    "Parámetro: un nombre usado dentro de una función para referirse al valor pasado como argumento.\n",
    "\n",
    "Pseudoaleatorio: perteneciente a una secuecia de números que parecen ser aleatorios, pero son generados por un programa determinista.\n",
    "\n",
    "Sentencia import: una sentencia que lee un archivo módulo y crea un objeto módulo.\n",
    "\n",
    "Valor de retorno: el resultado de una función. Si una llamada a una función es usada como una expresión, el valor de retorno es el valor de la expresión."
   ]
  },
  {
   "cell_type": "markdown",
   "id": "51113cac",
   "metadata": {},
   "source": [
    "# 14. Ejercicios"
   ]
  },
  {
   "cell_type": "markdown",
   "id": "1438d514",
   "metadata": {},
   "source": [
    "1. Ejecuta la librería random en tu sistema y observa qué números obtienes."
   ]
  },
  {
   "cell_type": "code",
   "execution_count": 31,
   "id": "fbec24dd",
   "metadata": {},
   "outputs": [
    {
     "name": "stdout",
     "output_type": "stream",
     "text": [
      "10\n",
      "7\n"
     ]
    }
   ],
   "source": [
    "print(random.randint(5,10))\n",
    "print(random.randint(5,10))"
   ]
  },
  {
   "cell_type": "code",
   "execution_count": 32,
   "id": "20bd1f97",
   "metadata": {},
   "outputs": [
    {
     "name": "stdout",
     "output_type": "stream",
     "text": [
      "3\n",
      "1\n"
     ]
    }
   ],
   "source": [
    "t = [1,2,3]\n",
    "print(random.choice(t))\n",
    "print(random.choice(t))"
   ]
  },
  {
   "cell_type": "markdown",
   "id": "c8b6b8e8",
   "metadata": {},
   "source": [
    "2. Desplaza la última línea del programa 4.7 hacia arriba, de modo que la llamada a la función aparezca antes que las definiciones. Ejecuta el programa y observa qué mensaje de error obtienes."
   ]
  },
  {
   "cell_type": "code",
   "execution_count": 1,
   "id": "3d81ce86",
   "metadata": {},
   "outputs": [
    {
     "ename": "NameError",
     "evalue": "name 'repite_estribillo' is not defined",
     "output_type": "error",
     "traceback": [
      "\u001b[1;31m---------------------------------------------------------------------------\u001b[0m",
      "\u001b[1;31mNameError\u001b[0m                                 Traceback (most recent call last)",
      "Cell \u001b[1;32mIn[1], line 2\u001b[0m\n\u001b[0;32m      1\u001b[0m \u001b[38;5;66;03m# Para verificar debo reiniciar el programa\u001b[39;00m\n\u001b[1;32m----> 2\u001b[0m \u001b[43mrepite_estribillo\u001b[49m()\n\u001b[0;32m      4\u001b[0m \u001b[38;5;28;01mdef\u001b[39;00m \u001b[38;5;21mmuestra_estribillo\u001b[39m():\n\u001b[0;32m      5\u001b[0m     \u001b[38;5;28mprint\u001b[39m(\u001b[38;5;124m'\u001b[39m\u001b[38;5;124mSoy un leñador, qué alegría.\u001b[39m\u001b[38;5;124m'\u001b[39m)\n",
      "\u001b[1;31mNameError\u001b[0m: name 'repite_estribillo' is not defined"
     ]
    }
   ],
   "source": [
    "# Para verificar debo reiniciar el programa\n",
    "repite_estribillo()\n",
    "\n",
    "def muestra_estribillo():\n",
    "    print('Soy un leñador, qué alegría.')\n",
    "    print('Duermo toda la noche y trabajo todo el día.')\n",
    "    \n",
    "def repite_estribillo():\n",
    "    muestra_estribillo()\n",
    "    muestra_estribillo()"
   ]
  },
  {
   "cell_type": "markdown",
   "id": "6c88c9ce",
   "metadata": {},
   "source": [
    "3. Desplaza la llamada de la función de nuevo hacia el final, y coloca la definición de muestra_estribillo después de la definición de repite_estribillo. ¿Qué ocurre cuando haces funcionar ese programa?"
   ]
  },
  {
   "cell_type": "code",
   "execution_count": 2,
   "id": "88b70e01",
   "metadata": {},
   "outputs": [
    {
     "name": "stdout",
     "output_type": "stream",
     "text": [
      "Soy un leñador, qué alegría.\n",
      "Duermo toda la noche y trabajo todo el día.\n",
      "Soy un leñador, qué alegría.\n",
      "Duermo toda la noche y trabajo todo el día.\n"
     ]
    }
   ],
   "source": [
    "def repite_estribillo():\n",
    "    muestra_estribillo()\n",
    "    muestra_estribillo()\n",
    "    \n",
    "def muestra_estribillo():\n",
    "    print('Soy un leñador, qué alegría.')\n",
    "    print('Duermo toda la noche y trabajo todo el día.')\n",
    "    \n",
    "repite_estribillo()"
   ]
  },
  {
   "cell_type": "markdown",
   "id": "b60d1f4f",
   "metadata": {},
   "source": [
    "4. ¿Cuál es la utilidad de la palabra clave “def” en Python?\n",
    "\n",
    "a) Es una jerga que significa “este código es realmente estupendo”.\n",
    "\n",
    "b) Indica el comienzo de una función.\n",
    "\n",
    "c) Indica que la siguiente sección de código indentado debe ser almacenada para\n",
    "usarla más tarde.\n",
    "\n",
    "$\\textbf{d) b y c son correctas ambas.}$\n",
    "\n",
    "e) Ninguna de las anteriores."
   ]
  },
  {
   "cell_type": "markdown",
   "id": "915bfc17",
   "metadata": {},
   "source": [
    "5. ¿Qué mostrará en pantalla el siguiente programa Python?"
   ]
  },
  {
   "cell_type": "code",
   "execution_count": 3,
   "id": "b9409d65",
   "metadata": {},
   "outputs": [],
   "source": [
    "def fred():\n",
    "    print(\"Zap\")\n",
    "def jane():\n",
    "    print(\"ABC\")"
   ]
  },
  {
   "cell_type": "markdown",
   "id": "2e20c3fe",
   "metadata": {},
   "source": [
    "a) Zap ABC jane fred jane\n",
    "\n",
    "b) Zap ABC Zap\n",
    "\n",
    "c) ABC Zap jane\n",
    "\n",
    "$\\textbf{d) ABC Zap ABC}$\n",
    "\n",
    "e) Zap Zap Zap"
   ]
  },
  {
   "cell_type": "code",
   "execution_count": 4,
   "id": "407e10bd",
   "metadata": {},
   "outputs": [
    {
     "name": "stdout",
     "output_type": "stream",
     "text": [
      "ABC\n",
      "Zap\n",
      "ABC\n"
     ]
    }
   ],
   "source": [
    "jane()\n",
    "fred()\n",
    "jane()"
   ]
  },
  {
   "cell_type": "markdown",
   "id": "db39be01",
   "metadata": {},
   "source": [
    "6. Reescribe el programa de cálculo del salario, con tarifa-y-media para las horas extras, y crea una función llamada calculo_salario que reciba dos parámetros (horas y tarifa).\n",
    "\n",
    "Introduzca Horas: 45\n",
    "\n",
    "Introduzca Tarifa: 10\n",
    "\n",
    "Salario: 475.0"
   ]
  },
  {
   "cell_type": "code",
   "execution_count": 5,
   "id": "1fb1aeff",
   "metadata": {},
   "outputs": [
    {
     "name": "stdout",
     "output_type": "stream",
     "text": [
      "Ingrese las horas: 45\n",
      "Ingrese la tarifa: 10\n",
      "Pago:  475.0\n"
     ]
    }
   ],
   "source": [
    "def calculo_salario(horas,tarifa):\n",
    "    if horas <= 40.0:\n",
    "        return tarifa * horas       # Sin cálculo de horas extras\n",
    "    \n",
    "   # Dado que el valor se devuelve si las horas <= 40, ya no necesitamos la declaración else aquí\n",
    "    horas_extras = horas - 40.0              # Cuántas horas extra quedan\n",
    "    return (tarifa * 40.0) + (1.5 * tarifa * horas_extras)\n",
    "\n",
    "\n",
    "def comprobar_para_flotantes(input1):\n",
    "    try:\n",
    "        val = float(input1)                # Solo permite entradas flotantes\n",
    "        return val\n",
    "    except ValueError:\n",
    "        print('Error, por favor ingrese la entrada numérica')\n",
    "        # quit()\n",
    "\n",
    "\n",
    "input_horas = input('Ingrese las horas: ')\n",
    "horas = comprobar_para_flotantes(input_horas)\n",
    "\n",
    "input_tarifa = input('Ingrese la tarifa: ')\n",
    "tarifa = comprobar_para_flotantes(input_tarifa)\n",
    "\n",
    "pago = calculo_salario(horas, tarifa)\n",
    "print('Pago: ', pago)"
   ]
  },
  {
   "cell_type": "markdown",
   "id": "92ad6b7b",
   "metadata": {},
   "source": [
    "7. Reescribe el programa de calificaciones del capítulo anterior usando una función llamada calcula_calificacion, que reciba una puntuación como parámetro y devuelva una calificación como cadena.\n",
    "\n",
    "Puntuación Calificación\n",
    "$> 0.9$ Sobresaliente\n",
    "$> 0.8$ Notable\n",
    "$> 0.7$ Bien\n",
    "$> 0.6$ Suficiente\n",
    "$<= 0.6$ Insuficiente\n",
    "\n",
    "Introduzca puntuación: 0.95\n",
    "Sobresaliente\n",
    "\n",
    "Introduzca puntuación: perfecto\n",
    "Puntuación incorrecta\n",
    "\n",
    "Introduzca puntuación: 10.0\n",
    "Puntuación incorrecta\n",
    "\n",
    "Introduzca puntuación: 0.75\n",
    "Bien\n",
    "\n",
    "Introduzca puntuación: 0.5\n",
    "Insuficiente\n",
    "\n",
    "Ejecuta el programa repetidamente para probar con varios valores de entrada diferentes."
   ]
  },
  {
   "cell_type": "code",
   "execution_count": 6,
   "id": "29b30234",
   "metadata": {},
   "outputs": [
    {
     "name": "stdout",
     "output_type": "stream",
     "text": [
      "Ingrese el puntaje: 0.82\n",
      "Notable\n"
     ]
    }
   ],
   "source": [
    "def calcula_calificacion(calificacion):\n",
    "   \n",
    "    if 0.0 <= calificacion <= 1.0:\n",
    "        if calificacion >= 0.9:\n",
    "            return 'Sobresaliente'\n",
    "        if calificacion >= 0.8:\n",
    "            return 'Notable'\n",
    "        if calificacion >= 0.7:\n",
    "            return 'Bien'\n",
    "        if calificacion >= 0.6:\n",
    "            return 'Suficiente'\n",
    "        return 'Insuficiente'\n",
    "    # El 'puntaje' del caso no está en el intervalo\n",
    "    return 'Error, ingrese otra vez la calificación.'\n",
    "\n",
    "\n",
    "input_puntaje = input('Ingrese el puntaje: ')\n",
    "puntaje = 0.0\n",
    "\n",
    "try:\n",
    "    puntaje = float(input_puntaje)             # Only allows input floats\n",
    "except ValueError:\n",
    "    print('Error, ingrese otra vez la calificación.')\n",
    "    # quit()\n",
    "\n",
    "puntuacion = calcula_calificacion(puntaje)\n",
    "print(puntuacion)"
   ]
  }
 ],
 "metadata": {
  "kernelspec": {
   "display_name": "Python 3 (ipykernel)",
   "language": "python",
   "name": "python3"
  },
  "language_info": {
   "codemirror_mode": {
    "name": "ipython",
    "version": 3
   },
   "file_extension": ".py",
   "mimetype": "text/x-python",
   "name": "python",
   "nbconvert_exporter": "python",
   "pygments_lexer": "ipython3",
   "version": "3.10.9"
  }
 },
 "nbformat": 4,
 "nbformat_minor": 5
}
