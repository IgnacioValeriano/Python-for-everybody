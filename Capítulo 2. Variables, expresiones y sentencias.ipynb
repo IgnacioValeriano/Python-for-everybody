{
 "cells": [
  {
   "cell_type": "markdown",
   "id": "ce7ba625",
   "metadata": {},
   "source": [
    "# ÍNDICE:\n",
    "\n",
    "1. Valores y tipos\n",
    "2. Variables\n",
    "3. Nombre de variables y palabras claves\n",
    "4. Sentencias\n",
    "5. Operadores y operandos\n",
    "6. Expresiones\n",
    "7. Orden de las operaciones\n",
    "8. Operador módulo\n",
    "9. Operadores con cadenas\n",
    "10. Petición de información al usuario\n",
    "11. Comentarios\n",
    "12. Elección de nombres de variables mnemónicos\n",
    "13. Depuración\n",
    "14. Glosario\n",
    "15. Ejercicios"
   ]
  },
  {
   "cell_type": "markdown",
   "id": "5469ff42",
   "metadata": {},
   "source": [
    "# 1. Valores y tipos"
   ]
  },
  {
   "cell_type": "code",
   "execution_count": 1,
   "id": "9c3d284a",
   "metadata": {},
   "outputs": [
    {
     "name": "stdout",
     "output_type": "stream",
     "text": [
      "4\n",
      "<class 'str'>\n",
      "<class 'int'>\n",
      "<class 'float'>\n",
      "<class 'str'>\n",
      "<class 'str'>\n",
      "1 0 0\n"
     ]
    }
   ],
   "source": [
    "print(4)\n",
    "print(type('¡Hola, mundo!'))\n",
    "print(type(17))\n",
    "print(type(3.2))\n",
    "print(type('17'))\n",
    "print(type('3.2'))\n",
    "print(1,000,000)"
   ]
  },
  {
   "cell_type": "markdown",
   "id": "642090d3",
   "metadata": {},
   "source": [
    "# 2. Variables"
   ]
  },
  {
   "cell_type": "markdown",
   "id": "def4c468",
   "metadata": {},
   "source": [
    "Una variable es un nombre que se refiere a un valor.\n",
    "\n",
    "Una sentencia de asignación crea variables nuevas y les da valores."
   ]
  },
  {
   "cell_type": "code",
   "execution_count": 2,
   "id": "a60f9a4b",
   "metadata": {},
   "outputs": [],
   "source": [
    "mensaje = 'Y ahora algo completamente diferente'\n",
    "n = 17\n",
    "pi = 3.1415926535897931"
   ]
  },
  {
   "cell_type": "code",
   "execution_count": 3,
   "id": "20f78642",
   "metadata": {},
   "outputs": [
    {
     "name": "stdout",
     "output_type": "stream",
     "text": [
      "Y ahora algo completamente diferente\n",
      "<class 'str'>\n"
     ]
    }
   ],
   "source": [
    "print(mensaje)\n",
    "print(type(mensaje))"
   ]
  },
  {
   "cell_type": "code",
   "execution_count": 4,
   "id": "9c75156f",
   "metadata": {},
   "outputs": [
    {
     "name": "stdout",
     "output_type": "stream",
     "text": [
      "17\n",
      "<class 'int'>\n"
     ]
    }
   ],
   "source": [
    "print(n)\n",
    "print(type(n))"
   ]
  },
  {
   "cell_type": "code",
   "execution_count": 5,
   "id": "dc2744de",
   "metadata": {},
   "outputs": [
    {
     "name": "stdout",
     "output_type": "stream",
     "text": [
      "3.141592653589793\n",
      "<class 'float'>\n"
     ]
    }
   ],
   "source": [
    "print(pi)\n",
    "print(type(pi))"
   ]
  },
  {
   "cell_type": "markdown",
   "id": "b47dd748",
   "metadata": {},
   "source": [
    "# 3. Nombre de variables y palabras claves"
   ]
  },
  {
   "cell_type": "markdown",
   "id": "af91af87",
   "metadata": {},
   "source": [
    "# 4. Sentencias"
   ]
  },
  {
   "cell_type": "markdown",
   "id": "1fcef821",
   "metadata": {},
   "source": [
    "Una sentencia es una unidad de código que el intérprete de Python puede ejecutar."
   ]
  },
  {
   "cell_type": "code",
   "execution_count": 6,
   "id": "1e079db8",
   "metadata": {},
   "outputs": [
    {
     "name": "stdout",
     "output_type": "stream",
     "text": [
      "1\n",
      "2\n"
     ]
    }
   ],
   "source": [
    "print(1)\n",
    "x = 2\n",
    "print(x)"
   ]
  },
  {
   "cell_type": "markdown",
   "id": "00993e32",
   "metadata": {},
   "source": [
    "# 5. Operadores y operandos "
   ]
  },
  {
   "cell_type": "markdown",
   "id": "f45cfcf2",
   "metadata": {},
   "source": [
    "Los operadores son símbolos especiales que representan cálculos.\n",
    "\n",
    "Los valores a los cuales se aplican esos operadores reciben el nombre de operandos."
   ]
  },
  {
   "cell_type": "code",
   "execution_count": 7,
   "id": "f978fc21",
   "metadata": {},
   "outputs": [],
   "source": [
    "minutos = 59"
   ]
  },
  {
   "cell_type": "code",
   "execution_count": 8,
   "id": "725a2baa",
   "metadata": {},
   "outputs": [
    {
     "data": {
      "text/plain": [
       "0.9833333333333333"
      ]
     },
     "execution_count": 8,
     "metadata": {},
     "output_type": "execute_result"
    }
   ],
   "source": [
    "minutos/60"
   ]
  },
  {
   "cell_type": "markdown",
   "id": "1cfd263b",
   "metadata": {},
   "source": [
    "# 6. Expresiones"
   ]
  },
  {
   "cell_type": "markdown",
   "id": "0cffc1b1",
   "metadata": {},
   "source": [
    "Una expresión es una combinación de valores, variables y operadores."
   ]
  },
  {
   "cell_type": "code",
   "execution_count": 9,
   "id": "10713fcd",
   "metadata": {},
   "outputs": [
    {
     "data": {
      "text/plain": [
       "2"
      ]
     },
     "execution_count": 9,
     "metadata": {},
     "output_type": "execute_result"
    }
   ],
   "source": [
    "1 + 1"
   ]
  },
  {
   "cell_type": "markdown",
   "id": "f03f513d",
   "metadata": {},
   "source": [
    "# 7. Orden de las operaciones "
   ]
  },
  {
   "cell_type": "markdown",
   "id": "296f199c",
   "metadata": {},
   "source": [
    "Los paréntesis tienen el nivel superior de precedencia, y pueden usarse para forzar a que una expresión sea evaluada en el orden que se quiera.\n",
    "\n",
    "La exponenciación tiene el siguiente nivel más alto de precedencia.\n",
    "\n",
    "La multiplicación y división tienen la misma precedencia, que es superior a la de la suma y resta, que también tienen entre si el mismo nivel de precedencia.\n",
    "\n",
    "Los operadores con igual precedencia son evaluados de izquierda a derecha."
   ]
  },
  {
   "cell_type": "code",
   "execution_count": 10,
   "id": "37a0899a",
   "metadata": {},
   "outputs": [
    {
     "name": "stdout",
     "output_type": "stream",
     "text": [
      "4\n"
     ]
    }
   ],
   "source": [
    "print(2*(3-1))"
   ]
  },
  {
   "cell_type": "code",
   "execution_count": 11,
   "id": "af56ea1a",
   "metadata": {},
   "outputs": [
    {
     "name": "stdout",
     "output_type": "stream",
     "text": [
      "8\n"
     ]
    }
   ],
   "source": [
    "print((1+1)**(5-2))"
   ]
  },
  {
   "cell_type": "code",
   "execution_count": 12,
   "id": "4f6c0fd6",
   "metadata": {},
   "outputs": [
    {
     "name": "stdout",
     "output_type": "stream",
     "text": [
      "3\n"
     ]
    }
   ],
   "source": [
    "print(2**1+1)"
   ]
  },
  {
   "cell_type": "code",
   "execution_count": 13,
   "id": "cc354414",
   "metadata": {},
   "outputs": [
    {
     "name": "stdout",
     "output_type": "stream",
     "text": [
      "3\n"
     ]
    }
   ],
   "source": [
    "print(3*1**3)"
   ]
  },
  {
   "cell_type": "code",
   "execution_count": 14,
   "id": "fb36ace7",
   "metadata": {},
   "outputs": [
    {
     "name": "stdout",
     "output_type": "stream",
     "text": [
      "5\n"
     ]
    }
   ],
   "source": [
    "print(2*3-1)"
   ]
  },
  {
   "cell_type": "code",
   "execution_count": 15,
   "id": "e6adb7db",
   "metadata": {},
   "outputs": [
    {
     "name": "stdout",
     "output_type": "stream",
     "text": [
      "8.0\n"
     ]
    }
   ],
   "source": [
    "print(6+4/2)"
   ]
  },
  {
   "cell_type": "code",
   "execution_count": 16,
   "id": "f5a7ec07",
   "metadata": {},
   "outputs": [
    {
     "name": "stdout",
     "output_type": "stream",
     "text": [
      "1\n"
     ]
    }
   ],
   "source": [
    "print(5-3-1)"
   ]
  },
  {
   "cell_type": "markdown",
   "id": "67ee53b4",
   "metadata": {},
   "source": [
    "# 8. Operador módulo"
   ]
  },
  {
   "cell_type": "markdown",
   "id": "5799496f",
   "metadata": {},
   "source": [
    "El operador módulo trabaja con enteros y obtiene el resto de la operación consistente en dividir el primer operando por el segundo."
   ]
  },
  {
   "cell_type": "code",
   "execution_count": 17,
   "id": "b1a3b357",
   "metadata": {},
   "outputs": [
    {
     "name": "stdout",
     "output_type": "stream",
     "text": [
      "2\n"
     ]
    }
   ],
   "source": [
    "div_entera = 7//3\n",
    "print(div_entera)"
   ]
  },
  {
   "cell_type": "code",
   "execution_count": 18,
   "id": "f5debecf",
   "metadata": {},
   "outputs": [
    {
     "name": "stdout",
     "output_type": "stream",
     "text": [
      "1\n"
     ]
    }
   ],
   "source": [
    "reamanente = 7%3\n",
    "print(reamanente)"
   ]
  },
  {
   "cell_type": "markdown",
   "id": "d4106900",
   "metadata": {},
   "source": [
    "# 9. Operadores con cadenas"
   ]
  },
  {
   "cell_type": "code",
   "execution_count": 19,
   "id": "a5d28aa5",
   "metadata": {},
   "outputs": [
    {
     "name": "stdout",
     "output_type": "stream",
     "text": [
      "25\n"
     ]
    }
   ],
   "source": [
    "primero = 10\n",
    "segundo = 15\n",
    "print(primero + segundo)"
   ]
  },
  {
   "cell_type": "code",
   "execution_count": 20,
   "id": "659e63da",
   "metadata": {},
   "outputs": [
    {
     "name": "stdout",
     "output_type": "stream",
     "text": [
      "100150\n"
     ]
    }
   ],
   "source": [
    "primero = '100'\n",
    "segundo = '150'\n",
    "print(primero + segundo)"
   ]
  },
  {
   "cell_type": "code",
   "execution_count": 21,
   "id": "e90304b1",
   "metadata": {},
   "outputs": [
    {
     "name": "stdout",
     "output_type": "stream",
     "text": [
      "TestTestTest\n"
     ]
    }
   ],
   "source": [
    "primero = 'Test'\n",
    "segundo = 3\n",
    "print(primero * segundo)"
   ]
  },
  {
   "cell_type": "markdown",
   "id": "cbb49a0f",
   "metadata": {},
   "source": [
    "# 10. Petición de información al usuario"
   ]
  },
  {
   "cell_type": "code",
   "execution_count": 23,
   "id": "406cabd6",
   "metadata": {},
   "outputs": [
    {
     "name": "stdout",
     "output_type": "stream",
     "text": [
      "Aprendo python\n",
      "Aprendo python\n"
     ]
    }
   ],
   "source": [
    "entrada = input()\n",
    "print(entrada)"
   ]
  },
  {
   "cell_type": "code",
   "execution_count": 24,
   "id": "300af0fa",
   "metadata": {},
   "outputs": [
    {
     "name": "stdout",
     "output_type": "stream",
     "text": [
      "¿Cómo te llamas?: Ignacio\n",
      "Ignacio\n"
     ]
    }
   ],
   "source": [
    "nombre = input('¿Cómo te llamas?: ')\n",
    "print(nombre)"
   ]
  },
  {
   "cell_type": "code",
   "execution_count": 25,
   "id": "0022dedb",
   "metadata": {},
   "outputs": [
    {
     "name": "stdout",
     "output_type": "stream",
     "text": [
      "¿Cuál es la velocidad de vuelo de una golondrina sin carga?\n",
      "180\n",
      "180\n"
     ]
    }
   ],
   "source": [
    "pregunta = '¿Cuál es la velocidad de vuelo de una golondrina sin carga?\\n'\n",
    "velocidad = input(pregunta)\n",
    "print(int(velocidad))"
   ]
  },
  {
   "cell_type": "code",
   "execution_count": 26,
   "id": "5a81c418",
   "metadata": {},
   "outputs": [
    {
     "name": "stdout",
     "output_type": "stream",
     "text": [
      "185\n"
     ]
    }
   ],
   "source": [
    "print(int(velocidad) + 5)"
   ]
  },
  {
   "cell_type": "markdown",
   "id": "2be76236",
   "metadata": {},
   "source": [
    "# 11. Comentarios"
   ]
  },
  {
   "cell_type": "code",
   "execution_count": 27,
   "id": "ae6589ab",
   "metadata": {},
   "outputs": [],
   "source": [
    "v = 5 # velocidad en metros/segundo"
   ]
  },
  {
   "cell_type": "code",
   "execution_count": null,
   "id": "74ffe7e0",
   "metadata": {},
   "outputs": [],
   "source": [
    "# Esta línea se encuentra comentada.\n",
    "print('Hola mundo')\n",
    "\n",
    "\"\"\"\n",
    "Este es un comentario\n",
    "que posee saltos\n",
    "de línea\n",
    "\"\"\""
   ]
  },
  {
   "cell_type": "markdown",
   "id": "81c9d03d",
   "metadata": {},
   "source": [
    "# 12. Elección de nombres de variables mnemónicos"
   ]
  },
  {
   "cell_type": "code",
   "execution_count": 28,
   "id": "df0f21d3",
   "metadata": {},
   "outputs": [
    {
     "name": "stdout",
     "output_type": "stream",
     "text": [
      "437.5\n"
     ]
    }
   ],
   "source": [
    "a = 35.0\n",
    "b = 12.5\n",
    "c = a * b\n",
    "print(c)"
   ]
  },
  {
   "cell_type": "code",
   "execution_count": 29,
   "id": "bfa73156",
   "metadata": {},
   "outputs": [
    {
     "name": "stdout",
     "output_type": "stream",
     "text": [
      "437.5\n"
     ]
    }
   ],
   "source": [
    "horas = 35.0\n",
    "tarifa = 12.5\n",
    "salario = horas * tarifa\n",
    "print(salario)"
   ]
  },
  {
   "cell_type": "markdown",
   "id": "2ade6e4c",
   "metadata": {},
   "source": [
    "# 13. Depuración"
   ]
  },
  {
   "cell_type": "markdown",
   "id": "0010e3ef",
   "metadata": {},
   "source": [
    "# 14. Glosario"
   ]
  },
  {
   "cell_type": "markdown",
   "id": "bc68ec48",
   "metadata": {},
   "source": [
    "Asignación: una sentencia que asigna un valor a una variable.\n",
    "\n",
    "Cadena: un tipo que representa secuencias de caracteres.\n",
    "\n",
    "Concatenar: unir dos operandos, uno a continuación del otro.\n",
    "\n",
    "Comentario: información en un programa que se pone para otros programadores (o para cualquiera que lea el código fuente), y no tiene efecto alguno en la ejecución del programa.\n",
    "\n",
    "División entera: la operación que divide 2 números y trunca la parte fraccionaria.\n",
    "\n",
    "Entero: un tipo que representa números enteros.\n",
    "\n",
    "Evaluar: simplificar una expresión realizando las operaciones en orden para obtener un único valor.\n",
    "\n",
    "Expresión: una combinación de variables, operadores y valores que representan un único valor resultante.\n",
    "\n",
    "Mnemónico: una ayuda para memorizar. A menudo damos nombres mnemónicos a las variables para ayudarnos a recordar qué está almacenado en ellas.\n",
    "\n",
    "Palabra clave: una palabra reservada que es usada por el compilador para analizar un programa; no se pueden usar como nombres de variables.\n",
    "\n",
    "Punto flotante: un tipo que representa números con parte decimal.\n",
    "\n",
    "Operador: un símbolo especial que representa un cálculo simple.\n",
    "\n",
    "Operador módulo: un operador, representado por un signo de porcentaje (%), que funciona con enteros y obtiene el resto cuando un número es dividido por otro.\n",
    "\n",
    "Operando: uno de los valores con los cuales un operador opera.\n",
    "\n",
    "Reglas de precedencia: el conjunto de reglas que gobierna el orden en el cual son evaluadas las expresiones que involucran a múltiples operadores.\n",
    "\n",
    "Sentencia: una sección del código que representa un comando o acción.\n",
    "\n",
    "Tipo: una categoría de valores.\n",
    "\n",
    "Valor: una de las unidades básicas de datos, como un número o una cadena, que un programa manipula.\n",
    "\n",
    "Variable: un nombre que hace referencia a un valor."
   ]
  },
  {
   "cell_type": "markdown",
   "id": "c9cc9d49",
   "metadata": {},
   "source": [
    "# 15. Ejercicios"
   ]
  },
  {
   "cell_type": "markdown",
   "id": "f2d7375a",
   "metadata": {},
   "source": [
    "1. Escribe las siguientes sentencias en el intérprete de Python para comprobar qué hacen:"
   ]
  },
  {
   "cell_type": "code",
   "execution_count": 31,
   "id": "8a70c4fc",
   "metadata": {},
   "outputs": [
    {
     "data": {
      "text/plain": [
       "5"
      ]
     },
     "execution_count": 31,
     "metadata": {},
     "output_type": "execute_result"
    }
   ],
   "source": [
    "5"
   ]
  },
  {
   "cell_type": "code",
   "execution_count": 32,
   "id": "a7490206",
   "metadata": {},
   "outputs": [
    {
     "data": {
      "text/plain": [
       "6"
      ]
     },
     "execution_count": 32,
     "metadata": {},
     "output_type": "execute_result"
    }
   ],
   "source": [
    "x = 5\n",
    "x + 1"
   ]
  },
  {
   "cell_type": "markdown",
   "id": "fe6bc0eb",
   "metadata": {},
   "source": [
    "2. Escribe un programa que use input para pedirle al usuario su nombre y luego darle la bienvenida.\n",
    "\n",
    "Introduzca tu nombre: Chuck\n",
    "\n",
    "Hola, Chuck"
   ]
  },
  {
   "cell_type": "code",
   "execution_count": 33,
   "id": "23710f83",
   "metadata": {},
   "outputs": [
    {
     "name": "stdout",
     "output_type": "stream",
     "text": [
      "Introduzca tu nombre: Ignacio\n",
      "Hola, Ignacio\n"
     ]
    }
   ],
   "source": [
    "nombre = input('Introduzca tu nombre: ')\n",
    "print('Hola,', nombre)"
   ]
  },
  {
   "cell_type": "markdown",
   "id": "de99e23f",
   "metadata": {},
   "source": [
    "3. Escribe un programa para pedirle al usuario el número de horas y la tarifa por hora para calcular el salario bruto.\n",
    "\n",
    "Introduzca Horas: 35\n",
    "\n",
    "Introduzca Tarifa: 2.75\n",
    "\n",
    "Salario: 96.25\n",
    "\n",
    "Por ahora no es necesario preocuparse de que nuestro salario tenga exactamente\n",
    "2 dígitos después del punto decimal. Si quieres, puedes probar la función interna de Python round para redondear de forma adecuada el salario resultante a dos dígitos decimales."
   ]
  },
  {
   "cell_type": "code",
   "execution_count": 34,
   "id": "6916cb64",
   "metadata": {},
   "outputs": [
    {
     "name": "stdout",
     "output_type": "stream",
     "text": [
      "Introduzca Horas:35\n",
      "Introduzca Tarifa:2.75\n",
      "Salario: 96.25\n"
     ]
    }
   ],
   "source": [
    "horas = input('Introduzca Horas:')\n",
    "tarifa = input('Introduzca Tarifa:')\n",
    "salario = float(horas) * float(tarifa)\n",
    "print('Salario:',salario)"
   ]
  },
  {
   "cell_type": "markdown",
   "id": "15ed6efe",
   "metadata": {},
   "source": [
    "4. Asume que ejecutamos las siguientes sentencias de asignación:\n",
    "\n",
    "ancho = 17\n",
    "\n",
    "alto = 12.0\n",
    "\n",
    "Para cada una de las expresiones siguientes, escribe el valor de la expresión y el tipo (del valor de la expresión).\n",
    "\n",
    "1) ancho/2\n",
    "\n",
    "2) ancho/2.0\n",
    "\n",
    "3) alto/3\n",
    "\n",
    "4) 1 + 2 * 5\n",
    "\n",
    "Usa el intérprete de Python para comprobar tus respuestas."
   ]
  },
  {
   "cell_type": "code",
   "execution_count": 35,
   "id": "f5269b78",
   "metadata": {},
   "outputs": [],
   "source": [
    "ancho = 17\n",
    "alto = 12.0"
   ]
  },
  {
   "cell_type": "code",
   "execution_count": 36,
   "id": "08f93d1a",
   "metadata": {},
   "outputs": [
    {
     "name": "stdout",
     "output_type": "stream",
     "text": [
      "8.5\n",
      "8.5\n",
      "4.0\n",
      "11\n"
     ]
    }
   ],
   "source": [
    "print(ancho/2)\n",
    "print(ancho/2.0)\n",
    "print(alto/3)\n",
    "print(1+2*5)"
   ]
  },
  {
   "cell_type": "markdown",
   "id": "4bbbfa53",
   "metadata": {},
   "source": [
    "5. Escribe un programa que le pida al usuario una temperatura en grados Celsius, la convierta a grados Fahrenheit e imprima por pantalla la temperatura convertida."
   ]
  },
  {
   "cell_type": "code",
   "execution_count": 37,
   "id": "cb57ce99",
   "metadata": {},
   "outputs": [
    {
     "name": "stdout",
     "output_type": "stream",
     "text": [
      "Ingrese la temperatura en grados Celsius:38\n",
      "La temperatura en grados Fahrenheit es:  100.4\n"
     ]
    }
   ],
   "source": [
    "celsius = float(input('Ingrese la temperatura en grados Celsius:'))\n",
    "fahrenheit = ((celsius * 9)/5) + 32\n",
    "print('La temperatura en grados Fahrenheit es: ',fahrenheit)"
   ]
  }
 ],
 "metadata": {
  "kernelspec": {
   "display_name": "Python 3 (ipykernel)",
   "language": "python",
   "name": "python3"
  },
  "language_info": {
   "codemirror_mode": {
    "name": "ipython",
    "version": 3
   },
   "file_extension": ".py",
   "mimetype": "text/x-python",
   "name": "python",
   "nbconvert_exporter": "python",
   "pygments_lexer": "ipython3",
   "version": "3.10.9"
  }
 },
 "nbformat": 4,
 "nbformat_minor": 5
}
