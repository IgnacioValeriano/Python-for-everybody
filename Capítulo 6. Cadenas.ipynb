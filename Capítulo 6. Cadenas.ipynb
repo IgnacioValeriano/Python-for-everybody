{
 "cells": [
  {
   "cell_type": "markdown",
   "id": "2376f88a",
   "metadata": {},
   "source": [
    "ÍNDICE:\n",
    "\n",
    "1. Una cadea es una secuencia\n",
    "2. Obtener el tamaño de una cadena usando len\n",
    "3. Recorriendo una cadena mediante un bucle\n",
    "4. Rebanado de una cadena\n",
    "5. Las cadenas son inmutables\n",
    "6. Iterando y contando\n",
    "7. El operador in\n",
    "8. Comparación de cadenas\n",
    "9. Métodos de cadenas\n",
    "10. Analizando cadenas\n",
    "11. El operador de formato\n",
    "12. Depuración\n",
    "13. Glosario\n",
    "14. Ejercicios"
   ]
  },
  {
   "cell_type": "markdown",
   "id": "c18f5805",
   "metadata": {},
   "source": [
    "# 1. Una cadea es una secuencia"
   ]
  },
  {
   "cell_type": "code",
   "execution_count": 1,
   "id": "a5bcf3ac",
   "metadata": {},
   "outputs": [
    {
     "data": {
      "text/plain": [
       "'a'"
      ]
     },
     "execution_count": 1,
     "metadata": {},
     "output_type": "execute_result"
    }
   ],
   "source": [
    "fruta = 'banana'\n",
    "\n",
    "letra = fruta[1]\n",
    "letra"
   ]
  },
  {
   "cell_type": "code",
   "execution_count": 2,
   "id": "2dab85ad",
   "metadata": {},
   "outputs": [
    {
     "data": {
      "text/plain": [
       "'b'"
      ]
     },
     "execution_count": 2,
     "metadata": {},
     "output_type": "execute_result"
    }
   ],
   "source": [
    "fruta[0]"
   ]
  },
  {
   "cell_type": "markdown",
   "id": "6c5b6a8a",
   "metadata": {},
   "source": [
    "# 2. Obtener el tamaño de una cadena usando len"
   ]
  },
  {
   "cell_type": "code",
   "execution_count": 3,
   "id": "fdcdb59a",
   "metadata": {},
   "outputs": [
    {
     "data": {
      "text/plain": [
       "6"
      ]
     },
     "execution_count": 3,
     "metadata": {},
     "output_type": "execute_result"
    }
   ],
   "source": [
    "fruta = 'banana'\n",
    "\n",
    "len(fruta)"
   ]
  },
  {
   "cell_type": "code",
   "execution_count": 4,
   "id": "e10971b4",
   "metadata": {},
   "outputs": [
    {
     "data": {
      "text/plain": [
       "'a'"
      ]
     },
     "execution_count": 4,
     "metadata": {},
     "output_type": "execute_result"
    }
   ],
   "source": [
    "tamaño = len(fruta)\n",
    "\n",
    "ultima = fruta[tamaño-1]\n",
    "ultima"
   ]
  },
  {
   "cell_type": "code",
   "execution_count": 5,
   "id": "903d56cb",
   "metadata": {},
   "outputs": [
    {
     "data": {
      "text/plain": [
       "'a'"
      ]
     },
     "execution_count": 5,
     "metadata": {},
     "output_type": "execute_result"
    }
   ],
   "source": [
    "fruta[-1]"
   ]
  },
  {
   "cell_type": "markdown",
   "id": "8ed46350",
   "metadata": {},
   "source": [
    "# 3. Recorriendo una cadena mediante un bucle"
   ]
  },
  {
   "cell_type": "code",
   "execution_count": 6,
   "id": "1d1aaad3",
   "metadata": {},
   "outputs": [
    {
     "name": "stdout",
     "output_type": "stream",
     "text": [
      "b\n",
      "a\n",
      "n\n",
      "a\n",
      "n\n",
      "a\n"
     ]
    }
   ],
   "source": [
    "indice = 0\n",
    "\n",
    "while indice < len(fruta):\n",
    "    letra = fruta[indice]\n",
    "    print(letra)\n",
    "    indice += 1"
   ]
  },
  {
   "cell_type": "code",
   "execution_count": 7,
   "id": "b6179235",
   "metadata": {},
   "outputs": [
    {
     "name": "stdout",
     "output_type": "stream",
     "text": [
      "b\n",
      "a\n",
      "n\n",
      "a\n",
      "n\n",
      "a\n"
     ]
    }
   ],
   "source": [
    "for caracter in fruta:\n",
    "    print(caracter)"
   ]
  },
  {
   "cell_type": "markdown",
   "id": "f8b2030e",
   "metadata": {},
   "source": [
    "# 4. Rebanado de una cadena"
   ]
  },
  {
   "cell_type": "code",
   "execution_count": 8,
   "id": "057bd1bf",
   "metadata": {},
   "outputs": [],
   "source": [
    "s = 'Monty Python'"
   ]
  },
  {
   "cell_type": "code",
   "execution_count": 9,
   "id": "2d09aac5",
   "metadata": {},
   "outputs": [
    {
     "name": "stdout",
     "output_type": "stream",
     "text": [
      "Monty\n",
      "Python\n"
     ]
    }
   ],
   "source": [
    "print(s[0:5])\n",
    "print(s[6:12])"
   ]
  },
  {
   "cell_type": "code",
   "execution_count": 10,
   "id": "b9d56984",
   "metadata": {},
   "outputs": [
    {
     "name": "stdout",
     "output_type": "stream",
     "text": [
      "ban\n",
      "ana\n"
     ]
    }
   ],
   "source": [
    "fruta = 'banana'\n",
    "print(fruta[:3])\n",
    "print(fruta[3:])"
   ]
  },
  {
   "cell_type": "code",
   "execution_count": 11,
   "id": "d2654e3d",
   "metadata": {},
   "outputs": [
    {
     "data": {
      "text/plain": [
       "''"
      ]
     },
     "execution_count": 11,
     "metadata": {},
     "output_type": "execute_result"
    }
   ],
   "source": [
    "fruta[3:3]"
   ]
  },
  {
   "cell_type": "markdown",
   "id": "a5fae6b9",
   "metadata": {},
   "source": [
    "# 5. Las cadenas son inmutables"
   ]
  },
  {
   "cell_type": "code",
   "execution_count": 12,
   "id": "e14c00a6",
   "metadata": {},
   "outputs": [
    {
     "ename": "TypeError",
     "evalue": "'str' object does not support item assignment",
     "output_type": "error",
     "traceback": [
      "\u001b[1;31m---------------------------------------------------------------------------\u001b[0m",
      "\u001b[1;31mTypeError\u001b[0m                                 Traceback (most recent call last)",
      "Cell \u001b[1;32mIn[12], line 2\u001b[0m\n\u001b[0;32m      1\u001b[0m saludo \u001b[38;5;241m=\u001b[39m \u001b[38;5;124m'\u001b[39m\u001b[38;5;124mHola, mundo!\u001b[39m\u001b[38;5;124m'\u001b[39m\n\u001b[1;32m----> 2\u001b[0m saludo[\u001b[38;5;241m0\u001b[39m] \u001b[38;5;241m=\u001b[39m \u001b[38;5;124m'\u001b[39m\u001b[38;5;124mJ\u001b[39m\u001b[38;5;124m'\u001b[39m\n",
      "\u001b[1;31mTypeError\u001b[0m: 'str' object does not support item assignment"
     ]
    }
   ],
   "source": [
    "saludo = 'Hola, mundo!'\n",
    "saludo[0] = 'J'"
   ]
  },
  {
   "cell_type": "code",
   "execution_count": 13,
   "id": "9c900c3f",
   "metadata": {},
   "outputs": [
    {
     "data": {
      "text/plain": [
       "'Jola, mundo!'"
      ]
     },
     "execution_count": 13,
     "metadata": {},
     "output_type": "execute_result"
    }
   ],
   "source": [
    "nuevo_saludo = 'J' + saludo[1:]\n",
    "nuevo_saludo"
   ]
  },
  {
   "cell_type": "markdown",
   "id": "3d13c174",
   "metadata": {},
   "source": [
    "# 6. Iterando y contando"
   ]
  },
  {
   "cell_type": "code",
   "execution_count": 14,
   "id": "2773d9cb",
   "metadata": {},
   "outputs": [
    {
     "name": "stdout",
     "output_type": "stream",
     "text": [
      "La letra a se encuentra 3 veces.\n"
     ]
    }
   ],
   "source": [
    "palabra = 'banana'\n",
    "\n",
    "contador = 0\n",
    "\n",
    "for letra in palabra:\n",
    "    if letra == 'a':\n",
    "        contador += 1\n",
    "\n",
    "print(f'La letra a se encuentra {contador} veces.')"
   ]
  },
  {
   "cell_type": "markdown",
   "id": "7bd6dc4f",
   "metadata": {},
   "source": [
    "# 7. El operador in"
   ]
  },
  {
   "cell_type": "code",
   "execution_count": 15,
   "id": "b6c12358",
   "metadata": {},
   "outputs": [
    {
     "data": {
      "text/plain": [
       "True"
      ]
     },
     "execution_count": 15,
     "metadata": {},
     "output_type": "execute_result"
    }
   ],
   "source": [
    "'a' in 'banana'"
   ]
  },
  {
   "cell_type": "code",
   "execution_count": 16,
   "id": "d3f50a01",
   "metadata": {},
   "outputs": [
    {
     "data": {
      "text/plain": [
       "False"
      ]
     },
     "execution_count": 16,
     "metadata": {},
     "output_type": "execute_result"
    }
   ],
   "source": [
    "'semilla' in 'banana'"
   ]
  },
  {
   "cell_type": "code",
   "execution_count": 17,
   "id": "7bd750dd",
   "metadata": {},
   "outputs": [
    {
     "data": {
      "text/plain": [
       "True"
      ]
     },
     "execution_count": 17,
     "metadata": {},
     "output_type": "execute_result"
    }
   ],
   "source": [
    "'ana' in 'banana'"
   ]
  },
  {
   "cell_type": "markdown",
   "id": "0811da7f",
   "metadata": {},
   "source": [
    "# 8. Comparación de cadenas"
   ]
  },
  {
   "cell_type": "code",
   "execution_count": 18,
   "id": "d7676c77",
   "metadata": {},
   "outputs": [
    {
     "name": "stdout",
     "output_type": "stream",
     "text": [
      "Muy bien, bananas.\n"
     ]
    }
   ],
   "source": [
    "palabra = 'banana'\n",
    "\n",
    "if palabra == 'banana':\n",
    "    print('Muy bien, bananas.')"
   ]
  },
  {
   "cell_type": "code",
   "execution_count": 19,
   "id": "7f421702",
   "metadata": {},
   "outputs": [
    {
     "name": "stdout",
     "output_type": "stream",
     "text": [
      "Tu palabra, Piña, está antes de banana.\n"
     ]
    }
   ],
   "source": [
    "palabra = 'Piña'\n",
    "\n",
    "if palabra < 'banana':\n",
    "    print('Tu palabra, '+ palabra + ', está antes de banana.')\n",
    "elif palabra > 'banana':\n",
    "    print('Tu palabra, '+ palabra + ', está después de banana.')\n",
    "else:\n",
    "    print('Muy bien, bananas.')\n",
    "    \n",
    "# El resultado es correcto ya que las mayúsculas tienen un menor valor"
   ]
  },
  {
   "cell_type": "code",
   "execution_count": 20,
   "id": "7f411089",
   "metadata": {},
   "outputs": [
    {
     "data": {
      "text/plain": [
       "True"
      ]
     },
     "execution_count": 20,
     "metadata": {},
     "output_type": "execute_result"
    }
   ],
   "source": [
    "'Bananas'<'bananas'"
   ]
  },
  {
   "cell_type": "markdown",
   "id": "aa2b50d0",
   "metadata": {},
   "source": [
    "# 9. Métodos de cadenas"
   ]
  },
  {
   "cell_type": "code",
   "execution_count": 21,
   "id": "74884df3",
   "metadata": {},
   "outputs": [
    {
     "data": {
      "text/plain": [
       "str"
      ]
     },
     "execution_count": 21,
     "metadata": {},
     "output_type": "execute_result"
    }
   ],
   "source": [
    "cosa = 'Hola mundo'\n",
    "type(cosa)"
   ]
  },
  {
   "cell_type": "code",
   "execution_count": 22,
   "id": "8b9d1530",
   "metadata": {
    "scrolled": true
   },
   "outputs": [
    {
     "data": {
      "text/plain": [
       "['__add__',\n",
       " '__class__',\n",
       " '__contains__',\n",
       " '__delattr__',\n",
       " '__dir__',\n",
       " '__doc__',\n",
       " '__eq__',\n",
       " '__format__',\n",
       " '__ge__',\n",
       " '__getattribute__',\n",
       " '__getitem__',\n",
       " '__getnewargs__',\n",
       " '__gt__',\n",
       " '__hash__',\n",
       " '__init__',\n",
       " '__init_subclass__',\n",
       " '__iter__',\n",
       " '__le__',\n",
       " '__len__',\n",
       " '__lt__',\n",
       " '__mod__',\n",
       " '__mul__',\n",
       " '__ne__',\n",
       " '__new__',\n",
       " '__reduce__',\n",
       " '__reduce_ex__',\n",
       " '__repr__',\n",
       " '__rmod__',\n",
       " '__rmul__',\n",
       " '__setattr__',\n",
       " '__sizeof__',\n",
       " '__str__',\n",
       " '__subclasshook__',\n",
       " 'capitalize',\n",
       " 'casefold',\n",
       " 'center',\n",
       " 'count',\n",
       " 'encode',\n",
       " 'endswith',\n",
       " 'expandtabs',\n",
       " 'find',\n",
       " 'format',\n",
       " 'format_map',\n",
       " 'index',\n",
       " 'isalnum',\n",
       " 'isalpha',\n",
       " 'isascii',\n",
       " 'isdecimal',\n",
       " 'isdigit',\n",
       " 'isidentifier',\n",
       " 'islower',\n",
       " 'isnumeric',\n",
       " 'isprintable',\n",
       " 'isspace',\n",
       " 'istitle',\n",
       " 'isupper',\n",
       " 'join',\n",
       " 'ljust',\n",
       " 'lower',\n",
       " 'lstrip',\n",
       " 'maketrans',\n",
       " 'partition',\n",
       " 'removeprefix',\n",
       " 'removesuffix',\n",
       " 'replace',\n",
       " 'rfind',\n",
       " 'rindex',\n",
       " 'rjust',\n",
       " 'rpartition',\n",
       " 'rsplit',\n",
       " 'rstrip',\n",
       " 'split',\n",
       " 'splitlines',\n",
       " 'startswith',\n",
       " 'strip',\n",
       " 'swapcase',\n",
       " 'title',\n",
       " 'translate',\n",
       " 'upper',\n",
       " 'zfill']"
      ]
     },
     "execution_count": 22,
     "metadata": {},
     "output_type": "execute_result"
    }
   ],
   "source": [
    "dir(cosa)"
   ]
  },
  {
   "cell_type": "code",
   "execution_count": 23,
   "id": "498ca4a0",
   "metadata": {},
   "outputs": [
    {
     "name": "stdout",
     "output_type": "stream",
     "text": [
      "Help on method_descriptor:\n",
      "\n",
      "capitalize(self, /)\n",
      "    Return a capitalized version of the string.\n",
      "    \n",
      "    More specifically, make the first character have upper case and the rest lower\n",
      "    case.\n",
      "\n"
     ]
    }
   ],
   "source": [
    "help(str.capitalize)"
   ]
  },
  {
   "cell_type": "code",
   "execution_count": 24,
   "id": "e2cef27c",
   "metadata": {},
   "outputs": [
    {
     "data": {
      "text/plain": [
       "'BANANA'"
      ]
     },
     "execution_count": 24,
     "metadata": {},
     "output_type": "execute_result"
    }
   ],
   "source": [
    "palabra = 'banana'\n",
    "\n",
    "nueva_palabra = palabra.upper()\n",
    "nueva_palabra"
   ]
  },
  {
   "cell_type": "code",
   "execution_count": 25,
   "id": "9189228c",
   "metadata": {},
   "outputs": [
    {
     "data": {
      "text/plain": [
       "1"
      ]
     },
     "execution_count": 25,
     "metadata": {},
     "output_type": "execute_result"
    }
   ],
   "source": [
    "indice = palabra.find('a')\n",
    "indice"
   ]
  },
  {
   "cell_type": "code",
   "execution_count": 26,
   "id": "5563ffd9",
   "metadata": {},
   "outputs": [
    {
     "data": {
      "text/plain": [
       "2"
      ]
     },
     "execution_count": 26,
     "metadata": {},
     "output_type": "execute_result"
    }
   ],
   "source": [
    "palabra.find('na')"
   ]
  },
  {
   "cell_type": "code",
   "execution_count": 27,
   "id": "3fe98009",
   "metadata": {},
   "outputs": [
    {
     "data": {
      "text/plain": [
       "4"
      ]
     },
     "execution_count": 27,
     "metadata": {},
     "output_type": "execute_result"
    }
   ],
   "source": [
    "palabra.find('na',3)"
   ]
  },
  {
   "cell_type": "code",
   "execution_count": 28,
   "id": "9c19fa8f",
   "metadata": {},
   "outputs": [
    {
     "data": {
      "text/plain": [
       "'Aquí vamos'"
      ]
     },
     "execution_count": 28,
     "metadata": {},
     "output_type": "execute_result"
    }
   ],
   "source": [
    "linea = '    Aquí vamos    '\n",
    "linea.strip()"
   ]
  },
  {
   "cell_type": "code",
   "execution_count": 29,
   "id": "fbe10da9",
   "metadata": {},
   "outputs": [
    {
     "data": {
      "text/plain": [
       "True"
      ]
     },
     "execution_count": 29,
     "metadata": {},
     "output_type": "execute_result"
    }
   ],
   "source": [
    "linea = 'Que tengas un buen día'\n",
    "linea.startswith('Que')"
   ]
  },
  {
   "cell_type": "code",
   "execution_count": 30,
   "id": "f5b94380",
   "metadata": {},
   "outputs": [
    {
     "data": {
      "text/plain": [
       "False"
      ]
     },
     "execution_count": 30,
     "metadata": {},
     "output_type": "execute_result"
    }
   ],
   "source": [
    "linea.startswith('q')"
   ]
  },
  {
   "cell_type": "code",
   "execution_count": 31,
   "id": "f238eb3e",
   "metadata": {},
   "outputs": [
    {
     "data": {
      "text/plain": [
       "'que tengas un buen día'"
      ]
     },
     "execution_count": 31,
     "metadata": {},
     "output_type": "execute_result"
    }
   ],
   "source": [
    "linea.lower()"
   ]
  },
  {
   "cell_type": "code",
   "execution_count": 32,
   "id": "0255e9c6",
   "metadata": {},
   "outputs": [
    {
     "data": {
      "text/plain": [
       "True"
      ]
     },
     "execution_count": 32,
     "metadata": {},
     "output_type": "execute_result"
    }
   ],
   "source": [
    "linea.lower().startswith('q')"
   ]
  },
  {
   "cell_type": "markdown",
   "id": "8e4c366a",
   "metadata": {},
   "source": [
    "# 10. Analizando cadenas"
   ]
  },
  {
   "cell_type": "code",
   "execution_count": 33,
   "id": "714d1b73",
   "metadata": {},
   "outputs": [
    {
     "data": {
      "text/plain": [
       "21"
      ]
     },
     "execution_count": 33,
     "metadata": {},
     "output_type": "execute_result"
    }
   ],
   "source": [
    "dato = 'From stephen.marquard@uct.ac.za Sat Jan 5 09:14:16 2008'\n",
    "\n",
    "arrobapos = dato.find('@')\n",
    "arrobapos"
   ]
  },
  {
   "cell_type": "code",
   "execution_count": 34,
   "id": "19112f90",
   "metadata": {},
   "outputs": [
    {
     "data": {
      "text/plain": [
       "31"
      ]
     },
     "execution_count": 34,
     "metadata": {},
     "output_type": "execute_result"
    }
   ],
   "source": [
    "espos = dato.find(' ',arrobapos)\n",
    "espos"
   ]
  },
  {
   "cell_type": "code",
   "execution_count": 35,
   "id": "69b70be6",
   "metadata": {},
   "outputs": [
    {
     "data": {
      "text/plain": [
       "'uct.ac.za'"
      ]
     },
     "execution_count": 35,
     "metadata": {},
     "output_type": "execute_result"
    }
   ],
   "source": [
    "direccion = dato[arrobapos+1:espos]\n",
    "direccion"
   ]
  },
  {
   "cell_type": "markdown",
   "id": "986f28b6",
   "metadata": {},
   "source": [
    "# 11. El operador de formato"
   ]
  },
  {
   "cell_type": "code",
   "execution_count": 36,
   "id": "862dad49",
   "metadata": {},
   "outputs": [
    {
     "data": {
      "text/plain": [
       "'42'"
      ]
     },
     "execution_count": 36,
     "metadata": {},
     "output_type": "execute_result"
    }
   ],
   "source": [
    "camellos = 42\n",
    "'%d' % camellos"
   ]
  },
  {
   "cell_type": "code",
   "execution_count": 37,
   "id": "7c59ee8c",
   "metadata": {},
   "outputs": [
    {
     "data": {
      "text/plain": [
       "'Yo no he visto 42 camellos.'"
      ]
     },
     "execution_count": 37,
     "metadata": {},
     "output_type": "execute_result"
    }
   ],
   "source": [
    "'Yo no he visto %d camellos.' % camellos"
   ]
  },
  {
   "cell_type": "code",
   "execution_count": 38,
   "id": "b50fd941",
   "metadata": {},
   "outputs": [
    {
     "data": {
      "text/plain": [
       "'En 3 años yo he visto 0.1 camellos.'"
      ]
     },
     "execution_count": 38,
     "metadata": {},
     "output_type": "execute_result"
    }
   ],
   "source": [
    "'En %d años yo he visto %g %s.' % (3,0.1,'camellos')"
   ]
  },
  {
   "cell_type": "code",
   "execution_count": 39,
   "id": "d987cde4",
   "metadata": {},
   "outputs": [
    {
     "ename": "TypeError",
     "evalue": "not enough arguments for format string",
     "output_type": "error",
     "traceback": [
      "\u001b[1;31m---------------------------------------------------------------------------\u001b[0m",
      "\u001b[1;31mTypeError\u001b[0m                                 Traceback (most recent call last)",
      "Cell \u001b[1;32mIn[39], line 1\u001b[0m\n\u001b[1;32m----> 1\u001b[0m \u001b[38;5;124;43m'\u001b[39;49m\u001b[38;5;132;43;01m%d\u001b[39;49;00m\u001b[38;5;124;43m \u001b[39;49m\u001b[38;5;132;43;01m%d\u001b[39;49;00m\u001b[38;5;124;43m \u001b[39;49m\u001b[38;5;132;43;01m%d\u001b[39;49;00m\u001b[38;5;124;43m'\u001b[39;49m\u001b[43m \u001b[49m\u001b[38;5;241;43m%\u001b[39;49m\u001b[43m \u001b[49m\u001b[43m(\u001b[49m\u001b[38;5;241;43m1\u001b[39;49m\u001b[43m,\u001b[49m\u001b[38;5;241;43m2\u001b[39;49m\u001b[43m)\u001b[49m\n",
      "\u001b[1;31mTypeError\u001b[0m: not enough arguments for format string"
     ]
    }
   ],
   "source": [
    "'%d %d %d' % (1,2)"
   ]
  },
  {
   "cell_type": "code",
   "execution_count": 40,
   "id": "d12d8142",
   "metadata": {},
   "outputs": [
    {
     "ename": "TypeError",
     "evalue": "%d format: a real number is required, not str",
     "output_type": "error",
     "traceback": [
      "\u001b[1;31m---------------------------------------------------------------------------\u001b[0m",
      "\u001b[1;31mTypeError\u001b[0m                                 Traceback (most recent call last)",
      "Cell \u001b[1;32mIn[40], line 1\u001b[0m\n\u001b[1;32m----> 1\u001b[0m \u001b[38;5;124;43m'\u001b[39;49m\u001b[38;5;132;43;01m%d\u001b[39;49;00m\u001b[38;5;124;43m'\u001b[39;49m\u001b[43m \u001b[49m\u001b[38;5;241;43m%\u001b[39;49m\u001b[43m \u001b[49m\u001b[38;5;124;43m'\u001b[39;49m\u001b[38;5;124;43mdolares\u001b[39;49m\u001b[38;5;124;43m'\u001b[39;49m\n",
      "\u001b[1;31mTypeError\u001b[0m: %d format: a real number is required, not str"
     ]
    }
   ],
   "source": [
    "'%d' % 'dolares'"
   ]
  },
  {
   "cell_type": "markdown",
   "id": "8bf81a26",
   "metadata": {},
   "source": [
    "# 12. Depuración"
   ]
  },
  {
   "cell_type": "code",
   "execution_count": 41,
   "id": "f9469f77",
   "metadata": {},
   "outputs": [
    {
     "name": "stdout",
     "output_type": "stream",
     "text": [
      "> jksdfkjsd\n",
      "jksdfkjsd\n",
      "> dsjfksdfds\n",
      "dsjfksdfds\n",
      "> nkasndkas\n",
      "nkasndkas\n",
      "> #hsdkjfhksdjf\n",
      "> \n"
     ]
    },
    {
     "ename": "IndexError",
     "evalue": "string index out of range",
     "output_type": "error",
     "traceback": [
      "\u001b[1;31m---------------------------------------------------------------------------\u001b[0m",
      "\u001b[1;31mIndexError\u001b[0m                                Traceback (most recent call last)",
      "Cell \u001b[1;32mIn[41], line 3\u001b[0m\n\u001b[0;32m      1\u001b[0m \u001b[38;5;28;01mwhile\u001b[39;00m \u001b[38;5;28;01mTrue\u001b[39;00m:\n\u001b[0;32m      2\u001b[0m     linea \u001b[38;5;241m=\u001b[39m \u001b[38;5;28minput\u001b[39m(\u001b[38;5;124m'\u001b[39m\u001b[38;5;124m> \u001b[39m\u001b[38;5;124m'\u001b[39m)\n\u001b[1;32m----> 3\u001b[0m     \u001b[38;5;28;01mif\u001b[39;00m \u001b[43mlinea\u001b[49m\u001b[43m[\u001b[49m\u001b[38;5;241;43m0\u001b[39;49m\u001b[43m]\u001b[49m \u001b[38;5;241m==\u001b[39m \u001b[38;5;124m'\u001b[39m\u001b[38;5;124m#\u001b[39m\u001b[38;5;124m'\u001b[39m:\n\u001b[0;32m      4\u001b[0m         \u001b[38;5;28;01mcontinue\u001b[39;00m\n\u001b[0;32m      5\u001b[0m     \u001b[38;5;28;01mif\u001b[39;00m linea \u001b[38;5;241m==\u001b[39m \u001b[38;5;124m'\u001b[39m\u001b[38;5;124mfin\u001b[39m\u001b[38;5;124m'\u001b[39m:\n",
      "\u001b[1;31mIndexError\u001b[0m: string index out of range"
     ]
    }
   ],
   "source": [
    "while True:\n",
    "    linea = input('> ')\n",
    "    if linea[0] == '#':\n",
    "        continue\n",
    "    if linea == 'fin':\n",
    "        break\n",
    "    print(linea)\n",
    "print('¡Terminado!')"
   ]
  },
  {
   "cell_type": "code",
   "execution_count": 42,
   "id": "8094f5dc",
   "metadata": {},
   "outputs": [
    {
     "name": "stdout",
     "output_type": "stream",
     "text": [
      "> sdfsdhfsd\n",
      "sdfsdhfsd\n",
      "> sdhfksdjf\n",
      "sdhfksdjf\n",
      "> # fksjdflsd\n",
      "> \n",
      "\n",
      "> fin\n",
      "¡Terminado!\n"
     ]
    }
   ],
   "source": [
    "# Corrigiendo\n",
    "\n",
    "while True:\n",
    "    linea = input('> ')\n",
    "    if len(linea) > 0 and linea[0] == '#': # también se puede usar if linea.startswith('#'):\n",
    "        continue\n",
    "    if linea == 'fin':\n",
    "        break\n",
    "    print(linea)\n",
    "print('¡Terminado!')"
   ]
  },
  {
   "cell_type": "markdown",
   "id": "4af82817",
   "metadata": {},
   "source": [
    "# 13. Glosario"
   ]
  },
  {
   "cell_type": "markdown",
   "id": "6f2e0f6f",
   "metadata": {},
   "source": [
    "Bandera: una variable booleana utilizada para indicar si una condición es verdadera o falsa.\n",
    "\n",
    "Búsqueda: un patrón de recorrido que se detiene cuando encuentra lo que está buscando.\n",
    "\n",
    "Cadena a formatear: una cadena, usado con el operador de formato, que contiene secuencias de formato.\n",
    "\n",
    "Cadena vacía: una cadena sin caracteres y de tamaño 0, representada por dos comillas sencillas.\n",
    "\n",
    "Contador: una variable utilizada para contar algo, usualmente inicializada a cero y luego incrementada.\n",
    "\n",
    "Índice: un valor entero utilizado para seleccionar un ítem en una secuencia, tal como un carácter en una cadena.\n",
    "\n",
    "Inmutable: la propiedad de una secuencia cuyos elementos no pueden ser asignados.\n",
    "\n",
    "Invocación: una sentencia que llama un método.\n",
    "\n",
    "Ítem: uno de los valores en una secuencia.\n",
    "\n",
    "Método: una función que está asociada a un objeto y es llamada utilizando la notación de punto.\n",
    "\n",
    "Objeto: algo a lo que una variable puede referirse. Por ahora, puedes usar “objeto” y “valor” indistintamente.\n",
    "\n",
    "Operador de formato: un operador, %, que toma una cadena de formato y una tupla y genera una cadena que incluye los elementos de la tupla formateados como se especifica en la cadena de formato.\n",
    "\n",
    "Rebanado: una parte de una cadena especificado por un rango de índices.\n",
    "\n",
    "Recorrido: iterar a través de los ítems de una secuencia, ejecutando una operación similar en cada uno.\n",
    "\n",
    "Secuencia: un conjunto ordenado; esto es, un conjunto de valores donde cada valor es identificado por un índice entero.\n",
    "\n",
    "Secuencia de formato: una secuencia de caracteres en una cadena a formatear, como %d, que especifica cómo un valor debe ser formateado."
   ]
  },
  {
   "cell_type": "markdown",
   "id": "829bd194",
   "metadata": {},
   "source": [
    "# 14. Ejercicios"
   ]
  },
  {
   "cell_type": "markdown",
   "id": "c0962990",
   "metadata": {},
   "source": [
    "1. Escribe un bucle while que comience con el último carácter en la cadena y haga un recorrido hacia atrás hasta el primer carácter en la cadena, imprimiendo cada letra en una línea independiente."
   ]
  },
  {
   "cell_type": "code",
   "execution_count": 43,
   "id": "70bf5e9d",
   "metadata": {},
   "outputs": [
    {
     "name": "stdout",
     "output_type": "stream",
     "text": [
      "Ingrese una palabra:pato\n",
      "otap"
     ]
    }
   ],
   "source": [
    "def leerStringRev(str):\n",
    "    longitud = len(str)-1\n",
    "    while longitud >= 0:\n",
    "        print(str[longitud], end = '')\n",
    "        longitud -= 1\n",
    "\n",
    "palabra = input('Ingrese una palabra:')\n",
    "\n",
    "leerStringRev(palabra)"
   ]
  },
  {
   "cell_type": "markdown",
   "id": "35f3e6e2",
   "metadata": {},
   "source": [
    "2. Dado que fruta es una cadena, ¿que significa fruta[:]?"
   ]
  },
  {
   "cell_type": "code",
   "execution_count": 44,
   "id": "91e412ec",
   "metadata": {},
   "outputs": [
    {
     "data": {
      "text/plain": [
       "'banana'"
      ]
     },
     "execution_count": 44,
     "metadata": {},
     "output_type": "execute_result"
    }
   ],
   "source": [
    "fruta = 'banana'\n",
    "\n",
    "fruta[:]"
   ]
  },
  {
   "cell_type": "markdown",
   "id": "7a148dfa",
   "metadata": {},
   "source": [
    "3. Encapsula este código \n",
    "\n",
    "palabra = 'banana'\n",
    "\n",
    "contador = 0\n",
    "\n",
    "for letra in palabra:\n",
    "    if letra == 'a':\n",
    "        contador = contador + 1\n",
    "\n",
    "print(f'La letra a se encuentra {contador} veces.')\n",
    "\n",
    "en una función llamada cuenta, y hazla genérica de tal modo que pueda aceptar una cadena y una letra como argumentos."
   ]
  },
  {
   "cell_type": "code",
   "execution_count": 46,
   "id": "f8d0a562",
   "metadata": {},
   "outputs": [
    {
     "name": "stdout",
     "output_type": "stream",
     "text": [
      "Ingrese una palabra:ignacio\n",
      "Ingrese una letra:i\n",
      "Contador: 2\n"
     ]
    }
   ],
   "source": [
    "def cuentapalabras(string,letra):\n",
    "    contador = 0\n",
    "    for str in string:\n",
    "        if str == letra:\n",
    "            contador += 1\n",
    "    return contador\n",
    "\n",
    "palabras = input('Ingrese una palabra:')\n",
    "abecedario = input('Ingrese una letra:')\n",
    "print('Contador:',cuentapalabras(palabras,abecedario))"
   ]
  },
  {
   "cell_type": "markdown",
   "id": "2e993f50",
   "metadata": {},
   "source": [
    "4. Hay un método de cadenas llamado count que es similar a la función del ejercicio previo. Escribe una invocación que cuenta el número de veces que una letra aparece en “banana”."
   ]
  },
  {
   "cell_type": "code",
   "execution_count": 47,
   "id": "7ff81546",
   "metadata": {},
   "outputs": [
    {
     "data": {
      "text/plain": [
       "3"
      ]
     },
     "execution_count": 47,
     "metadata": {},
     "output_type": "execute_result"
    }
   ],
   "source": [
    "palabra = 'banana'\n",
    "\n",
    "palabra.count('a')"
   ]
  },
  {
   "cell_type": "markdown",
   "id": "db0fc7c6",
   "metadata": {},
   "source": [
    "5. Toma el siguiente código en Python que almacena una cadena:\n",
    "\n",
    "str = 'X-DSPAM-Confidence:0.8475'\n",
    "\n",
    "Utiliza find y una parte de la cadena para extraer la porción de la cadena\n",
    "después del carácter dos puntos y después utiliza la función float para\n",
    "convertir la cadena extraída en un número de punto flotante."
   ]
  },
  {
   "cell_type": "code",
   "execution_count": 48,
   "id": "47993442",
   "metadata": {},
   "outputs": [
    {
     "name": "stdout",
     "output_type": "stream",
     "text": [
      "0.8475\n",
      "<class 'float'>\n"
     ]
    }
   ],
   "source": [
    "str = 'X-DSPAM-Confidence:0.8475'\n",
    "\n",
    "doble_punto = str.find(':')\n",
    "\n",
    "numero = float(str[doble_punto+1:])\n",
    "\n",
    "print(numero)\n",
    "\n",
    "print(type(numero))"
   ]
  },
  {
   "cell_type": "markdown",
   "id": "43c8a693",
   "metadata": {},
   "source": [
    "6. Lee la documentación de los métodos de cadenas en https://docs.python.org/library/stdtypes.html#string-methods Quizá quieras experimentar con algunos de ellos para asegurarte de entender como funcionan. strip y replace son particularmente útiles.\n",
    "\n",
    "La documentación usa una sintaxis que puede ser confusa. Por ejemplo, en find(sub[, start[, end]]), los corchetes indican argumentos opcionales. De modo que sub es requerido, pero start es opcional, y si se incluye start, entonces end es opcional."
   ]
  },
  {
   "cell_type": "code",
   "execution_count": 49,
   "id": "c010d801",
   "metadata": {},
   "outputs": [
    {
     "name": "stdout",
     "output_type": "stream",
     "text": [
      "Encuentro m en la posición 5\n",
      "Encuentro una u después de la posición 5, en la posición 6\n"
     ]
    }
   ],
   "source": [
    "frase = 'Hola mundo'\n",
    "\n",
    "print('Encuentro m en la posición',frase.find('m'))\n",
    "print('Encuentro una u después de la posición 5, en la posición',frase.find('u',5))"
   ]
  }
 ],
 "metadata": {
  "kernelspec": {
   "display_name": "Python 3 (ipykernel)",
   "language": "python",
   "name": "python3"
  },
  "language_info": {
   "codemirror_mode": {
    "name": "ipython",
    "version": 3
   },
   "file_extension": ".py",
   "mimetype": "text/x-python",
   "name": "python",
   "nbconvert_exporter": "python",
   "pygments_lexer": "ipython3",
   "version": "3.10.9"
  }
 },
 "nbformat": 4,
 "nbformat_minor": 5
}
