{
 "cells": [
  {
   "cell_type": "markdown",
   "id": "6931b399",
   "metadata": {},
   "source": [
    "ÍNDICE\n",
    "\n",
    "1. Las tuplas son inmutables\n",
    "2. Comparación de tuplas\n",
    "3. Asignación de tuplas\n",
    "4. Diccionarios y tuplas\n",
    "5. Asignación múltiple con diccionarios\n",
    "6. Las palabras más comunes\n",
    "7. Uso de tuplas como claves en diccionarios\n",
    "8. Secuencias: cadenas, listas y tuplas - ¡Dios mío!\n",
    "9. Depuración\n",
    "10. Glosario\n",
    "11. Ejercicios"
   ]
  },
  {
   "cell_type": "code",
   "execution_count": 29,
   "id": "915d9b3b",
   "metadata": {},
   "outputs": [],
   "source": [
    "import string"
   ]
  },
  {
   "cell_type": "markdown",
   "id": "722c9375",
   "metadata": {},
   "source": [
    "# 1. Las tuplas son inmutables"
   ]
  },
  {
   "cell_type": "code",
   "execution_count": 2,
   "id": "e105bc52",
   "metadata": {},
   "outputs": [
    {
     "data": {
      "text/plain": [
       "('a', 'b', 'c', 'd', 'e')"
      ]
     },
     "execution_count": 2,
     "metadata": {},
     "output_type": "execute_result"
    }
   ],
   "source": [
    "t = 'a','b','c','d','e'\n",
    "t"
   ]
  },
  {
   "cell_type": "code",
   "execution_count": 3,
   "id": "cbcaf0b5",
   "metadata": {},
   "outputs": [
    {
     "data": {
      "text/plain": [
       "('a', 'b', 'c', 'd', 'e')"
      ]
     },
     "execution_count": 3,
     "metadata": {},
     "output_type": "execute_result"
    }
   ],
   "source": [
    "t = ('a','b','c','d','e')\n",
    "t"
   ]
  },
  {
   "cell_type": "code",
   "execution_count": 4,
   "id": "f18459c0",
   "metadata": {},
   "outputs": [
    {
     "name": "stdout",
     "output_type": "stream",
     "text": [
      "('a',)\n",
      "<class 'tuple'>\n"
     ]
    }
   ],
   "source": [
    "t1 = ('a',)\n",
    "print(t1)\n",
    "print(type(t1))"
   ]
  },
  {
   "cell_type": "code",
   "execution_count": 5,
   "id": "e670db9c",
   "metadata": {},
   "outputs": [
    {
     "name": "stdout",
     "output_type": "stream",
     "text": [
      "a\n",
      "<class 'str'>\n"
     ]
    }
   ],
   "source": [
    "t2 = ('a')\n",
    "print(t2)\n",
    "print(type(t2))"
   ]
  },
  {
   "cell_type": "code",
   "execution_count": 6,
   "id": "9a60c05f",
   "metadata": {},
   "outputs": [
    {
     "data": {
      "text/plain": [
       "()"
      ]
     },
     "execution_count": 6,
     "metadata": {},
     "output_type": "execute_result"
    }
   ],
   "source": [
    "t = tuple()\n",
    "t"
   ]
  },
  {
   "cell_type": "code",
   "execution_count": 7,
   "id": "4bedb4e2",
   "metadata": {},
   "outputs": [
    {
     "data": {
      "text/plain": [
       "('a', 'l', 't', 'r', 'a', 'm', 'u', 'c', 'e', 's')"
      ]
     },
     "execution_count": 7,
     "metadata": {},
     "output_type": "execute_result"
    }
   ],
   "source": [
    "t = tuple('altramuces')\n",
    "t"
   ]
  },
  {
   "cell_type": "code",
   "execution_count": 8,
   "id": "82d524a9",
   "metadata": {},
   "outputs": [
    {
     "data": {
      "text/plain": [
       "'a'"
      ]
     },
     "execution_count": 8,
     "metadata": {},
     "output_type": "execute_result"
    }
   ],
   "source": [
    "t = ('a','b','c','d','e')\n",
    "t[0]"
   ]
  },
  {
   "cell_type": "code",
   "execution_count": 9,
   "id": "946fd141",
   "metadata": {},
   "outputs": [
    {
     "data": {
      "text/plain": [
       "('b', 'c')"
      ]
     },
     "execution_count": 9,
     "metadata": {},
     "output_type": "execute_result"
    }
   ],
   "source": [
    "t[1:3]"
   ]
  },
  {
   "cell_type": "code",
   "execution_count": 10,
   "id": "89afac23",
   "metadata": {},
   "outputs": [
    {
     "ename": "TypeError",
     "evalue": "'tuple' object does not support item assignment",
     "output_type": "error",
     "traceback": [
      "\u001b[1;31m---------------------------------------------------------------------------\u001b[0m",
      "\u001b[1;31mTypeError\u001b[0m                                 Traceback (most recent call last)",
      "Cell \u001b[1;32mIn[10], line 1\u001b[0m\n\u001b[1;32m----> 1\u001b[0m t[\u001b[38;5;241m0\u001b[39m] \u001b[38;5;241m=\u001b[39m \u001b[38;5;124m'\u001b[39m\u001b[38;5;124mA\u001b[39m\u001b[38;5;124m'\u001b[39m\n",
      "\u001b[1;31mTypeError\u001b[0m: 'tuple' object does not support item assignment"
     ]
    }
   ],
   "source": [
    "t[0] = 'A' # Son inmutables"
   ]
  },
  {
   "cell_type": "code",
   "execution_count": 11,
   "id": "3933a108",
   "metadata": {},
   "outputs": [
    {
     "data": {
      "text/plain": [
       "('A', 'b', 'c', 'd', 'e')"
      ]
     },
     "execution_count": 11,
     "metadata": {},
     "output_type": "execute_result"
    }
   ],
   "source": [
    "# Si quiero cambiar, hago lo siguiente\n",
    "t = ('A',) + t[1:]\n",
    "t"
   ]
  },
  {
   "cell_type": "markdown",
   "id": "6a03b3a5",
   "metadata": {},
   "source": [
    "# 2. Comparación de tuplas"
   ]
  },
  {
   "cell_type": "code",
   "execution_count": 12,
   "id": "307dcfa9",
   "metadata": {},
   "outputs": [
    {
     "data": {
      "text/plain": [
       "True"
      ]
     },
     "execution_count": 12,
     "metadata": {},
     "output_type": "execute_result"
    }
   ],
   "source": [
    "(0,1,2) < (0,3,4)"
   ]
  },
  {
   "cell_type": "code",
   "execution_count": 13,
   "id": "2ced0a53",
   "metadata": {},
   "outputs": [
    {
     "data": {
      "text/plain": [
       "True"
      ]
     },
     "execution_count": 13,
     "metadata": {},
     "output_type": "execute_result"
    }
   ],
   "source": [
    "(0,1,20000000) < (0,3,4)"
   ]
  },
  {
   "cell_type": "markdown",
   "id": "24308094",
   "metadata": {},
   "source": [
    "Patrón de diseño DSU:\n",
    "- Decorate (Decora): una secuencia, construyendo una lista de tuplas con uno o más índices ordenados precediendo los elementos de la secuencia.\n",
    "- Sort (Ordena): la lista de tuplas utilizando la función interna sort.\n",
    "- Undecorate (Quita la decoración): extrayendo los elementos ordenados de la secuencia."
   ]
  },
  {
   "cell_type": "code",
   "execution_count": 14,
   "id": "bb5d92ae",
   "metadata": {},
   "outputs": [
    {
     "name": "stdout",
     "output_type": "stream",
     "text": [
      "[(4, 'deja'), (4, 'allí'), (4, 'Pero'), (3, 'ver'), (3, 'qué'), (3, 'luz'), (2, 'se')]\n",
      "['deja', 'allí', 'Pero', 'ver', 'qué', 'luz', 'se']\n"
     ]
    }
   ],
   "source": [
    "texto = 'Pero qué luz se deja ver allí'\n",
    "\n",
    "palabras = texto.split()\n",
    "\n",
    "t = list()\n",
    "for palabra in palabras:\n",
    "    t.append((len(palabra),palabra))\n",
    "    \n",
    "t.sort(reverse=True)\n",
    "print(t)\n",
    "\n",
    "res = list()\n",
    "for longitud, palabra in t:\n",
    "    res.append(palabra)\n",
    "    \n",
    "print(res)"
   ]
  },
  {
   "cell_type": "markdown",
   "id": "badf2ee0",
   "metadata": {},
   "source": [
    "# 3. Asignación de tuplas"
   ]
  },
  {
   "cell_type": "code",
   "execution_count": 15,
   "id": "86834f41",
   "metadata": {},
   "outputs": [
    {
     "name": "stdout",
     "output_type": "stream",
     "text": [
      "pásalo\n",
      "bien\n"
     ]
    }
   ],
   "source": [
    "m = ['pásalo','bien']\n",
    "\n",
    "x,y = m\n",
    "\n",
    "print(x)\n",
    "print(y)"
   ]
  },
  {
   "cell_type": "code",
   "execution_count": 17,
   "id": "0064f22e",
   "metadata": {},
   "outputs": [
    {
     "name": "stdout",
     "output_type": "stream",
     "text": [
      "pásalo\n",
      "bien\n"
     ]
    }
   ],
   "source": [
    "m = ['pásalo','bien']\n",
    "\n",
    "(x,y) = m\n",
    "\n",
    "print(x)\n",
    "print(y)"
   ]
  },
  {
   "cell_type": "code",
   "execution_count": 16,
   "id": "9739c713",
   "metadata": {},
   "outputs": [
    {
     "name": "stdout",
     "output_type": "stream",
     "text": [
      "pásalo\n",
      "bien\n"
     ]
    }
   ],
   "source": [
    "m = ['pásalo','bien']\n",
    "\n",
    "x = m[0]\n",
    "y = m[1]\n",
    "\n",
    "print(x)\n",
    "print(y)"
   ]
  },
  {
   "cell_type": "code",
   "execution_count": null,
   "id": "8188cbe7",
   "metadata": {},
   "outputs": [],
   "source": [
    "# a,b = b,a"
   ]
  },
  {
   "cell_type": "code",
   "execution_count": 19,
   "id": "f17f2cbb",
   "metadata": {},
   "outputs": [
    {
     "name": "stdout",
     "output_type": "stream",
     "text": [
      "2\n",
      "1\n"
     ]
    }
   ],
   "source": [
    "a = 1\n",
    "b = 2\n",
    "\n",
    "a,b = b,a\n",
    "\n",
    "print(a)\n",
    "print(b)"
   ]
  },
  {
   "cell_type": "code",
   "execution_count": 20,
   "id": "940b0b2f",
   "metadata": {},
   "outputs": [
    {
     "name": "stdout",
     "output_type": "stream",
     "text": [
      "2\n",
      "2\n"
     ]
    }
   ],
   "source": [
    "a = 1\n",
    "b = 2\n",
    "\n",
    "a = b\n",
    "b = a\n",
    "\n",
    "print(a)\n",
    "print(b)"
   ]
  },
  {
   "cell_type": "code",
   "execution_count": 18,
   "id": "c9bb7fff",
   "metadata": {},
   "outputs": [
    {
     "ename": "ValueError",
     "evalue": "too many values to unpack (expected 2)",
     "output_type": "error",
     "traceback": [
      "\u001b[1;31m---------------------------------------------------------------------------\u001b[0m",
      "\u001b[1;31mValueError\u001b[0m                                Traceback (most recent call last)",
      "Cell \u001b[1;32mIn[18], line 1\u001b[0m\n\u001b[1;32m----> 1\u001b[0m a,b \u001b[38;5;241m=\u001b[39m \u001b[38;5;241m1\u001b[39m,\u001b[38;5;241m2\u001b[39m,\u001b[38;5;241m3\u001b[39m\n",
      "\u001b[1;31mValueError\u001b[0m: too many values to unpack (expected 2)"
     ]
    }
   ],
   "source": [
    "a,b = 1,2,3"
   ]
  },
  {
   "cell_type": "code",
   "execution_count": 21,
   "id": "78c730ad",
   "metadata": {},
   "outputs": [
    {
     "name": "stdout",
     "output_type": "stream",
     "text": [
      "monty\n",
      "python.org\n"
     ]
    }
   ],
   "source": [
    "dit = 'monty@python.org'\n",
    "\n",
    "nombres, dominio = dit.split('@')\n",
    "\n",
    "print(nombres)\n",
    "print(dominio)"
   ]
  },
  {
   "cell_type": "markdown",
   "id": "d258fd6d",
   "metadata": {},
   "source": [
    "# 4. Diccionarios y tuplas"
   ]
  },
  {
   "cell_type": "code",
   "execution_count": 22,
   "id": "0c2dd671",
   "metadata": {},
   "outputs": [
    {
     "name": "stdout",
     "output_type": "stream",
     "text": [
      "[('a', 10), ('b', 1), ('c', 22)]\n"
     ]
    }
   ],
   "source": [
    "diccionario = {'a':10,\n",
    "               'b':1,\n",
    "               'c':22}\n",
    "\n",
    "tupla = list(diccionario.items())\n",
    "\n",
    "print(tupla)"
   ]
  },
  {
   "cell_type": "code",
   "execution_count": 24,
   "id": "df9d1ba4",
   "metadata": {},
   "outputs": [
    {
     "name": "stdout",
     "output_type": "stream",
     "text": [
      "[('c', 10), ('a', 1), ('b', 22)]\n"
     ]
    }
   ],
   "source": [
    "diccionario = {'c':10,\n",
    "               'a':1,\n",
    "               'b':22}\n",
    "\n",
    "tupla = list(diccionario.items())\n",
    "\n",
    "print(tupla)"
   ]
  },
  {
   "cell_type": "code",
   "execution_count": 25,
   "id": "e5872ac0",
   "metadata": {},
   "outputs": [
    {
     "data": {
      "text/plain": [
       "[('a', 1), ('b', 22), ('c', 10)]"
      ]
     },
     "execution_count": 25,
     "metadata": {},
     "output_type": "execute_result"
    }
   ],
   "source": [
    "tupla.sort()\n",
    "tupla"
   ]
  },
  {
   "cell_type": "markdown",
   "id": "ef6ee6f4",
   "metadata": {},
   "source": [
    "# 5. Asignación múltiple con diccionarios"
   ]
  },
  {
   "cell_type": "code",
   "execution_count": 26,
   "id": "41b024b0",
   "metadata": {},
   "outputs": [
    {
     "name": "stdout",
     "output_type": "stream",
     "text": [
      "10 a\n",
      "1 b\n",
      "22 c\n"
     ]
    }
   ],
   "source": [
    "diccionario = {'a':10,\n",
    "               'b':1,\n",
    "               'c':22}\n",
    "\n",
    "for clave, valor in list(diccionario.items()):\n",
    "    print(valor,clave)"
   ]
  },
  {
   "cell_type": "code",
   "execution_count": 27,
   "id": "ac040533",
   "metadata": {},
   "outputs": [
    {
     "name": "stdout",
     "output_type": "stream",
     "text": [
      "[(10, 'a'), (1, 'b'), (22, 'c')]\n"
     ]
    }
   ],
   "source": [
    "lista = list()\n",
    "for clave,valor in diccionario.items():\n",
    "    lista.append((valor,clave))\n",
    "    \n",
    "print(lista)"
   ]
  },
  {
   "cell_type": "code",
   "execution_count": 28,
   "id": "ac17718b",
   "metadata": {},
   "outputs": [
    {
     "data": {
      "text/plain": [
       "[(22, 'c'), (10, 'a'), (1, 'b')]"
      ]
     },
     "execution_count": 28,
     "metadata": {},
     "output_type": "execute_result"
    }
   ],
   "source": [
    "lista.sort(reverse=True)\n",
    "lista"
   ]
  },
  {
   "cell_type": "markdown",
   "id": "cbe6bbe2",
   "metadata": {},
   "source": [
    "# 6. Las palabras más comunes"
   ]
  },
  {
   "cell_type": "code",
   "execution_count": 33,
   "id": "340c1124",
   "metadata": {
    "scrolled": true
   },
   "outputs": [
    {
     "name": "stdout",
     "output_type": "stream",
     "text": [
      "{'romeo': 40, 'and': 42, 'juliet': 32, 'act': 1, '2': 2, 'scene': 2, 'ii': 1, 'capulets': 1, 'orchard': 2, 'enter': 1, 'he': 5, 'jests': 1, 'at': 9, 'scars': 1, 'that': 30, 'never': 2, 'felt': 1, 'a': 24, 'wound': 1, 'appears': 1, 'above': 6, 'window': 2, 'but': 18, 'soft': 1, 'what': 11, 'light': 5, 'through': 2, 'yonder': 2, 'breaks': 1, 'it': 22, 'is': 21, 'the': 34, 'east': 1, 'sun': 2, 'arise': 1, 'fair': 4, 'kill': 2, 'envious': 2, 'moon': 4, 'who': 5, 'already': 1, 'sick': 2, 'pale': 1, 'with': 8, 'grief': 2, 'thou': 32, 'her': 14, 'maid': 2, 'art': 7, 'far': 2, 'more': 9, 'than': 6, 'she': 9, 'be': 14, 'not': 18, 'since': 1, 'vestal': 1, 'livery': 1, 'green': 1, 'none': 1, 'fools': 1, 'do': 7, 'wear': 1, 'cast': 1, 'off': 1, 'my': 29, 'lady': 2, 'o': 11, 'love': 24, 'knew': 1, 'were': 9, 'speaks': 3, 'yet': 9, 'says': 1, 'nothing': 1, 'of': 20, 'eye': 2, 'discourses': 1, 'i': 61, 'will': 8, 'answer': 1, 'am': 7, 'too': 8, 'bold': 1, 'tis': 4, 'to': 34, 'me': 18, 'two': 1, 'fairest': 1, 'stars': 2, 'in': 13, 'all': 6, 'heaven': 3, 'having': 1, 'some': 3, 'business': 1, 'entreat': 1, 'eyes': 6, 'twinkle': 1, 'their': 6, 'spheres': 1, 'till': 4, 'they': 5, 'return': 1, 'if': 12, 'there': 3, 'head': 2, 'brightness': 1, 'cheek': 4, 'would': 16, 'shame': 1, 'those': 2, 'as': 12, 'daylight': 1, 'doth': 2, 'lamp': 1, 'airy': 2, 'region': 1, 'stream': 1, 'so': 10, 'bright': 2, 'birds': 1, 'sing': 1, 'think': 2, 'night': 16, 'see': 2, 'how': 5, 'leans': 1, 'upon': 5, 'hand': 4, 'glove': 1, 'might': 1, 'touch': 1, 'ay': 2, 'speak': 4, 'again': 6, 'angel': 1, 'for': 12, 'glorious': 1, 'this': 9, 'being': 2, 'oer': 1, 'winged': 1, 'messenger': 1, 'unto': 1, 'whiteupturned': 1, 'wondering': 1, 'mortals': 1, 'fall': 1, 'back': 4, 'gaze': 1, 'on': 4, 'him': 2, 'when': 2, 'bestrides': 1, 'lazypacing': 1, 'clouds': 1, 'sails': 1, 'bosom': 1, 'air': 1, 'wherefore': 2, 'deny': 2, 'thy': 20, 'father': 1, 'refuse': 1, 'name': 11, 'or': 4, 'wilt': 6, 'sworn': 1, 'ill': 8, 'no': 6, 'longer': 1, 'capulet': 1, 'aside': 1, 'shall': 6, 'hear': 2, 'enemy': 2, 'thyself': 1, 'though': 1, 'montague': 5, 'whats': 2, 'nor': 5, 'foot': 2, 'arm': 1, 'face': 2, 'any': 4, 'other': 4, 'part': 2, 'belonging': 1, 'man': 2, 'which': 7, 'we': 2, 'call': 3, 'rose': 1, 'by': 14, 'smell': 1, 'sweet': 8, 'calld': 1, 'retain': 1, 'dear': 7, 'perfection': 1, 'owes': 1, 'without': 1, 'title': 1, 'doff': 1, 'thee': 24, 'take': 3, 'myself': 2, 'word': 4, 'new': 1, 'baptized': 1, 'henceforth': 1, 'thus': 1, 'bescreend': 1, 'stumblest': 1, 'counsel': 2, 'know': 3, 'tell': 3, 'saint': 2, 'hateful': 1, 'because': 1, 'an': 2, 'had': 1, 'written': 1, 'tear': 2, 'ears': 2, 'have': 13, 'drunk': 1, 'hundred': 1, 'words': 2, 'tongues': 2, 'utterance': 1, 'sound': 2, 'neither': 1, 'either': 1, 'dislike': 1, 'camest': 1, 'hither': 1, 'walls': 2, 'are': 3, 'high': 1, 'hard': 1, 'climb': 1, 'place': 2, 'death': 2, 'considering': 1, 'kinsmen': 2, 'find': 2, 'here': 4, 'loves': 3, 'wings': 1, 'did': 3, 'oerperch': 1, 'these': 2, 'stony': 1, 'limits': 1, 'cannot': 1, 'hold': 1, 'out': 2, 'can': 2, 'dares': 1, 'attempt': 1, 'therefore': 3, 'let': 3, 'murder': 1, 'alack': 1, 'lies': 2, 'peril': 1, 'thine': 2, 'twenty': 2, 'swords': 1, 'look': 1, 'proof': 1, 'against': 1, 'enmity': 1, 'world': 3, 'saw': 1, 'nights': 1, 'cloak': 1, 'hide': 1, 'from': 4, 'sight': 1, 'them': 1, 'life': 1, 'better': 1, 'ended': 1, 'hate': 1, 'prorogued': 1, 'wanting': 1, 'whose': 1, 'direction': 1, 'foundst': 1, 'first': 1, 'prompt': 1, 'inquire': 1, 'lent': 2, 'pilot': 1, 'wert': 1, 'vast': 1, 'shore': 1, 'washd': 1, 'farthest': 1, 'sea': 2, 'adventure': 1, 'such': 2, 'merchandise': 1, 'knowst': 1, 'mask': 1, 'else': 3, 'maiden': 1, 'blush': 1, 'bepaint': 1, 'hast': 1, 'heard': 1, 'tonight': 3, 'fain': 3, 'dwell': 2, 'form': 1, 'spoke': 1, 'farewell': 1, 'compliment': 1, 'dost': 2, 'say': 5, 'swearst': 1, 'mayst': 2, 'prove': 4, 'false': 1, 'lovers': 2, 'perjuries': 1, 'then': 2, 'jove': 1, 'laughs': 1, 'gentle': 1, 'pronounce': 1, 'faithfully': 1, 'thinkst': 1, 'quickly': 1, 'won': 1, 'frown': 1, 'perverse': 1, 'nay': 1, 'woo': 1, 'truth': 1, 'fond': 1, 'havior': 1, 'trust': 1, 'gentleman': 1, 'true': 3, 'cunning': 1, 'strange': 2, 'should': 2, 'been': 1, 'must': 1, 'confess': 1, 'overheardst': 1, 'ere': 2, 'was': 1, 'ware': 1, 'passion': 1, 'pardon': 1, 'impute': 1, 'yielding': 1, 'dark': 1, 'hath': 1, 'discovered': 1, 'blessed': 3, 'swear': 6, 'tips': 1, 'silver': 1, 'fruittree': 1, 'tops': 1, 'inconstant': 1, 'monthly': 1, 'changes': 1, 'circled': 1, 'orb': 1, 'lest': 1, 'likewise': 1, 'variable': 1, 'gracious': 1, 'self': 1, 'god': 1, 'idolatry': 1, 'believe': 1, 'hearts': 1, 'well': 2, 'although': 1, 'joy': 2, 'contract': 1, 'rash': 1, 'unadvised': 1, 'sudden': 1, 'like': 3, 'lightning': 1, 'cease': 2, 'one': 2, 'lightens': 1, 'good': 9, 'bud': 1, 'summers': 1, 'ripening': 1, 'breath': 1, 'may': 2, 'beauteous': 1, 'flower': 1, 'next': 1, 'meet': 1, 'repose': 1, 'rest': 2, 'come': 5, 'heart': 1, 'within': 5, 'breast': 2, 'leave': 2, 'unsatisfied': 1, 'satisfaction': 1, 'canst': 1, 'exchange': 1, 'faithful': 1, 'vow': 1, 'mine': 3, 'gave': 1, 'before': 1, 'didst': 1, 'request': 1, 'give': 3, 'wouldst': 1, 'withdraw': 1, 'purpose': 2, 'frank': 1, 'wish': 1, 'thing': 1, 'bounty': 1, 'boundless': 1, 'deep': 1, 'both': 1, 'infinite': 1, 'nurse': 4, 'calls': 2, 'noise': 1, 'adieu': 1, 'anon': 1, 'stay': 2, 'little': 2, 'exit': 4, 'afeard': 1, 'dream': 1, 'flatteringsweet': 1, 'substantial': 1, 'reenter': 2, 'three': 1, 'indeed': 1, 'bent': 1, 'honourable': 1, 'marriage': 1, 'send': 3, 'tomorrow': 3, 'procure': 1, 'where': 2, 'time': 1, 'perform': 1, 'rite': 1, 'fortunes': 1, 'lay': 1, 'follow': 1, 'lord': 1, 'throughout': 1, 'madam': 2, 'anonbut': 1, 'meanst': 1, 'beseech': 1, 'suit': 1, 'thrive': 1, 'soul': 2, 'thousand': 2, 'times': 2, 'worse': 1, 'want': 1, 'goes': 1, 'toward': 2, 'schoolboys': 1, 'books': 1, 'school': 1, 'heavy': 1, 'looks': 1, 'retiring': 1, 'hist': 2, 'falconers': 1, 'voice': 1, 'lure': 1, 'tasselgentle': 1, 'bondage': 1, 'hoarse': 2, 'aloud': 1, 'cave': 1, 'echo': 1, 'make': 1, 'tongue': 1, 'repetition': 1, 'romeos': 1, 'silversweet': 1, 'softest': 1, 'music': 1, 'attending': 1, 'oclock': 1, 'hour': 1, 'nine': 1, 'fail': 1, 'years': 1, 'forgot': 1, 'why': 1, 'stand': 2, 'remember': 1, 'forget': 2, 'still': 3, 'remembering': 1, 'company': 1, 'forgetting': 1, 'home': 1, 'almost': 1, 'morning': 1, 'gone': 1, 'further': 1, 'wantons': 1, 'bird': 2, 'lets': 1, 'hop': 1, 'poor': 1, 'prisoner': 1, 'his': 3, 'twisted': 1, 'gyves': 1, 'silk': 1, 'thread': 1, 'plucks': 1, 'lovingjealous': 1, 'liberty': 1, 'much': 1, 'cherishing': 1, 'parting': 1, 'sorrow': 1, 'morrow': 1, 'sleep': 2, 'peace': 2, 'hence': 1, 'ghostly': 1, 'fathers': 1, 'cell': 1, 'help': 1, 'crave': 1, 'hap': 1}\n"
     ]
    }
   ],
   "source": [
    "ruta = fr'Datos\\\\Python para todos\\\\' + f'romeo-full.txt'\n",
    "manejador_archivos = open(ruta)\n",
    "\n",
    "contadores = dict()\n",
    "\n",
    "for linea in manejador_archivos:\n",
    "    linea = linea.translate(str.maketrans('','',string.punctuation))\n",
    "    linea = linea.lower()\n",
    "    palabras = linea.split()\n",
    "    for palabra in palabras:\n",
    "        if palabra not in contadores:\n",
    "            contadores[palabra] = 1\n",
    "        else:\n",
    "            contadores[palabra] += 1\n",
    "            \n",
    "print(contadores)"
   ]
  },
  {
   "cell_type": "code",
   "execution_count": 34,
   "id": "ec10b12a",
   "metadata": {},
   "outputs": [
    {
     "name": "stdout",
     "output_type": "stream",
     "text": [
      "61 i\n",
      "42 and\n",
      "40 romeo\n",
      "34 to\n",
      "34 the\n",
      "32 thou\n",
      "32 juliet\n",
      "30 that\n",
      "29 my\n",
      "24 thee\n"
     ]
    }
   ],
   "source": [
    "# Ordenar el diccionario por valor\n",
    "lista = list()\n",
    "\n",
    "for clave,valor in list(contadores.items()):\n",
    "    lista.append((valor,clave))\n",
    "    \n",
    "lista.sort(reverse=True)\n",
    "\n",
    "for clave,valor in lista[:10]:\n",
    "    print(clave,valor)"
   ]
  },
  {
   "cell_type": "markdown",
   "id": "e6fe053d",
   "metadata": {},
   "source": [
    "# 7. Uso de tuplas como claves en diccionarios"
   ]
  },
  {
   "cell_type": "code",
   "execution_count": null,
   "id": "cdcfa4d9",
   "metadata": {},
   "outputs": [],
   "source": [
    "# directorio[apellido,nombre] = numero\n",
    "# for apellido, nombre in directorio:\n",
    "#      print(nombre,apellido,directorio[apellido,nombre])"
   ]
  },
  {
   "cell_type": "markdown",
   "id": "51755cd2",
   "metadata": {},
   "source": [
    "# 8. Secuencias: cadenas, listas y tuplas - ¡Dios mío!"
   ]
  },
  {
   "cell_type": "markdown",
   "id": "86056e45",
   "metadata": {},
   "source": [
    "# 9. Depuración"
   ]
  },
  {
   "cell_type": "markdown",
   "id": "e27f2f37",
   "metadata": {},
   "source": [
    "# 10. Glosario"
   ]
  },
  {
   "cell_type": "markdown",
   "id": "da6fc9fe",
   "metadata": {},
   "source": [
    "Comparable: un tipo en el cual un valor puede ser revisado para ver si es mayor que, menor que, o igual a otro valor del mismo tipo. Los tipos que son comparables pueden ser puestos en una lista y ordenados.\n",
    "\n",
    "Estructura de datos: una colección de valores relacionados, normalmente organizados en listas, diccionarios, tuplas, etc.\n",
    "\n",
    "DSU: abreviatura de “decorate-sort-undecorate (decorar-ordenar-quitar la decoración)”, un patrón de diseño que implica construir una lista de tuplas, ordenarlas, y extraer parte del resultado.\n",
    "\n",
    "Reunir: la operación de tratar una secuencia como una lista de argumentos.\n",
    "\n",
    "Hashable (dispersable): un tipo que tiene una función de dispersión. Los tipos inmutables, como enteros, flotantes y cadenas son dispersables (hashables); los tipos mutables como listas y diccionarios no lo son.\n",
    "\n",
    "Dispersar: la operación de tratar una secuencia como una lista de argumentos.\n",
    "\n",
    "Modelado (de una estructura de datos): un resumen del tipo, tamaño, y composición de una estructura de datos.\n",
    "\n",
    "Singleton: una lista (u otra secuencia) con un único elemento.\n",
    "\n",
    "Tupla: una secuencia inmutable de elementos.\n",
    "\n",
    "Asignación por tuplas: una asignación con una secuencia en el lado derecho y una tupla de variables en el izquierdo. El lado derecho es evaluado y luego sus elementos son asignados a las variables en el lado izquierdo."
   ]
  },
  {
   "cell_type": "markdown",
   "id": "65a5b203",
   "metadata": {},
   "source": [
    "# 11. Ejercicios"
   ]
  },
  {
   "cell_type": "markdown",
   "id": "2f43be8c",
   "metadata": {},
   "source": [
    "1. Revisa el programa anterior de este modo: Lee y analiza las líneas “From” y extrae las direcciones de correo. Cuenta el número de mensajes de cada persona utilizando un diccionario.\n",
    "\n",
    "Después de que todos los datos hayan sido leídos, imprime la persona con más envíos, creando una lista de tuplas (contador, email) del diccionario. Después ordena la lista en orden inverso e imprime la persona que tiene más envíos.\n",
    "\n",
    "Línea de ejemplo:\n",
    "\n",
    "From stephen.marquard@uct.ac.za Sat Jan 5 09:14:16 2008\n",
    "\n",
    "Ingresa un nombre de archivo: mbox-short.txt\n",
    "\n",
    "cwen@iupui.edu 5\n",
    "\n",
    "Ingresa un nombre de archivo: mbox.txt\n",
    "\n",
    "zqian@umich.edu 195"
   ]
  },
  {
   "cell_type": "code",
   "execution_count": 35,
   "id": "139ebfc9",
   "metadata": {},
   "outputs": [
    {
     "name": "stdout",
     "output_type": "stream",
     "text": [
      "Ingrese el nombre del archivo:mbox-short.txt\n",
      "zqian@umich.edu 4\n",
      "Ingrese el nombre del archivo:mbox.txt\n",
      "zqian@umich.edu 195\n",
      "Ingrese el nombre del archivo:fin\n"
     ]
    }
   ],
   "source": [
    "while True:\n",
    "    nombre_archivo = input('Ingrese el nombre del archivo:')\n",
    "    ruta = fr'Datos\\\\Python para todos\\\\' + f'{nombre_archivo}'\n",
    "    \n",
    "    if nombre_archivo == 'fin':\n",
    "        break\n",
    "       \n",
    "    try:\n",
    "        manejador_archivos = open(ruta)\n",
    "    except:\n",
    "        print('El archivo no abre')\n",
    "    \n",
    "    diccionario_email = dict()\n",
    "    contador = 0\n",
    "    \n",
    "    for linea in manejador_archivos:\n",
    "        linea = linea.split()\n",
    "        \n",
    "        if len(linea) > 3 and linea[0] == 'From':\n",
    "            from_email = linea[1]\n",
    "            diccionario_email[from_email] = diccionario_email.get(from_email,0)+1\n",
    "        \n",
    "    contador_lista = list()\n",
    "    for contador, email in diccionario_email.items():\n",
    "        contador_lista.append((contador,email))\n",
    "    \n",
    "    contador_lista.sort(reverse=True)\n",
    "    max_email,max_contador = contador_lista[0]\n",
    "\n",
    "    print(max_email,max_contador)"
   ]
  },
  {
   "cell_type": "markdown",
   "id": "8ecc099d",
   "metadata": {},
   "source": [
    "2. Este programa cuenta la distribución de la hora del día para cada uno de los mensajes. Puedes extraer la hora de la línea “From” buscando la cadena horaria y luego dividiendo la cadena en partes utilizando el carácter colon. Una vez que hayas acumulado las cuentas para cada hora, imprime las cuentas, una por línea, ordenadas por hora tal como se muestra debajo.\n",
    "\n",
    "python timeofday.py\n",
    "\n",
    "Ingresa un nombre de archivo: mbox-short.txt\n",
    "\n",
    "04 3\n",
    "\n",
    "06 1\n",
    "\n",
    "07 1\n",
    "\n",
    "09 2\n",
    "\n",
    "10 3\n",
    "\n",
    "11 6\n",
    "\n",
    "14 1\n",
    "\n",
    "15 2\n",
    "\n",
    "16 4\n",
    "\n",
    "17 2\n",
    "\n",
    "18 1\n",
    "\n",
    "19 1"
   ]
  },
  {
   "cell_type": "code",
   "execution_count": 36,
   "id": "2e7823a1",
   "metadata": {},
   "outputs": [
    {
     "name": "stdout",
     "output_type": "stream",
     "text": [
      "Ingrese el nombre del archivo:mbox-short.txt\n",
      "4 3\n",
      "6 1\n",
      "7 1\n",
      "9 2\n",
      "10 3\n",
      "11 6\n",
      "14 1\n",
      "15 2\n",
      "16 4\n",
      "17 2\n",
      "18 1\n",
      "19 1\n"
     ]
    }
   ],
   "source": [
    "nombre_archivo = input('Ingrese el nombre del archivo:')\n",
    "ruta = fr'Datos\\\\Python para todos\\\\' + f'{nombre_archivo}'\n",
    "\n",
    "try:\n",
    "    manejador_archivos = open(ruta)\n",
    "except:\n",
    "    print('El archivo no abre')\n",
    "    \n",
    "contador_hora = dict()\n",
    "\n",
    "for linea in manejador_archivos:\n",
    "    linea = linea.split()\n",
    "    if len(linea) > 3 and linea[0] == 'From':\n",
    "        horas = int(linea[-2].split(':')[0])\n",
    "        contador_hora[horas] = contador_hora.get(horas,0)+1\n",
    "\n",
    "horas_lista = list(contador_hora.items())\n",
    "horas_lista.sort()\n",
    "\n",
    "for clave,valor in horas_lista:\n",
    "    print(clave,valor)"
   ]
  },
  {
   "cell_type": "markdown",
   "id": "4378d4f7",
   "metadata": {},
   "source": [
    "3. Escribe un programa que lee un archivo e imprime las letras en order decreciente de frecuencia. El programa debe convertir todas las entradas a minúsculas y contar solamente las letras a-z. El programa no debe contar espacios, dígitos, signos de puntuación, o cualquier cosa que no sean las letras a-z. Encuentra ejemplos de texto en idiomas diferentes, y observa cómo la frecuencia de letras es diferente en cada idioma. Compara tus resultados con las tablas en https://es.wikipedia.org/wiki/Frecuencia_de_aparici%C3%B3n_de_letras"
   ]
  },
  {
   "cell_type": "code",
   "execution_count": 39,
   "id": "5d62c361",
   "metadata": {},
   "outputs": [
    {
     "name": "stdout",
     "output_type": "stream",
     "text": [
      "a 11\n",
      "b 2\n",
      "c 1\n",
      "d 6\n",
      "e 12\n",
      "f 3\n",
      "g 3\n",
      "h 9\n",
      "i 14\n",
      "j 1\n",
      "k 3\n",
      "l 6\n",
      "m 1\n",
      "n 9\n",
      "o 8\n",
      "p 1\n",
      "r 7\n",
      "s 11\n",
      "t 12\n",
      "u 6\n",
      "v 1\n",
      "w 5\n",
      "y 2\n"
     ]
    }
   ],
   "source": [
    "try: \n",
    "    nombre_archivo = 'romeo.txt'\n",
    "    ruta = fr'Datos\\\\Python para todos\\\\' + f'{nombre_archivo}'\n",
    "    manejador_archivos = open(ruta)\n",
    "\n",
    "except:\n",
    "    print('El archivo no abre')\n",
    "    \n",
    "contador_letras = dict()\n",
    "for linea in manejador_archivos:\n",
    "    linea = linea.translate(linea.maketrans('','',string.punctuation))\n",
    "    linea = linea.translate(linea.maketrans('','',string.digits))\n",
    "    linea = linea.lower().split()\n",
    "    for palabra in linea:\n",
    "        for letra in palabra:\n",
    "            contador_letras[letra] = contador_letras.get(letra,0)+1\n",
    "            \n",
    "letra_list = list(contador_letras.items())\n",
    "letra_list.sort()\n",
    "\n",
    "for letra, contador in letra_list:\n",
    "    print(letra,contador)"
   ]
  }
 ],
 "metadata": {
  "kernelspec": {
   "display_name": "Python 3 (ipykernel)",
   "language": "python",
   "name": "python3"
  },
  "language_info": {
   "codemirror_mode": {
    "name": "ipython",
    "version": 3
   },
   "file_extension": ".py",
   "mimetype": "text/x-python",
   "name": "python",
   "nbconvert_exporter": "python",
   "pygments_lexer": "ipython3",
   "version": "3.10.9"
  }
 },
 "nbformat": 4,
 "nbformat_minor": 5
}
