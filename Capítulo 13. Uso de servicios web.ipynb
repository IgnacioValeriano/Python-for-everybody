{
 "cells": [
  {
   "cell_type": "markdown",
   "id": "912ab549",
   "metadata": {},
   "source": [
    "ÍNDICE:\n",
    "\n",
    "1. eXtensible Markup Language - XML\n",
    "2. Análisis de XML\n",
    "3. Desplazamiento a través de los nodos\n",
    "4. JavaScript Object Notation - JSON\n",
    "5. Análisis de JSON\n",
    "6. Interfaces de programación de aplicaciones\n",
    "7. Seguridad y uso de APIs\n",
    "8. Glosario"
   ]
  },
  {
   "cell_type": "code",
   "execution_count": 9,
   "id": "acfd216c",
   "metadata": {},
   "outputs": [],
   "source": [
    "import xml.etree.ElementTree as ET\n",
    "import urllib.request, urllib.parse, urllib.error\n",
    "import json\n",
    "import ssl"
   ]
  },
  {
   "cell_type": "markdown",
   "id": "6dbfda58",
   "metadata": {},
   "source": [
    "# 1. eXtensible Markup Language - XML"
   ]
  },
  {
   "cell_type": "markdown",
   "id": "f47b171a",
   "metadata": {},
   "source": [
    "# 2. Análisis de XML"
   ]
  },
  {
   "cell_type": "code",
   "execution_count": 2,
   "id": "3ba193bd",
   "metadata": {},
   "outputs": [
    {
     "name": "stdout",
     "output_type": "stream",
     "text": [
      "Nombre: Chuck\n",
      "Atributo: si\n"
     ]
    }
   ],
   "source": [
    "datos = '''\n",
    "<persona>\n",
    "    <nombre>Chuck</nombre>\n",
    "    <telefono type=\"intl\">\n",
    "        +1 734 303 4456\n",
    "    </telefono>\n",
    "    <email oculto=\"si\" />\n",
    "</persona>'''\n",
    "\n",
    "arbol = ET.fromstring(datos)\n",
    "\n",
    "print('Nombre:',arbol.find('nombre').text)\n",
    "print('Atributo:',arbol.find('email').get('oculto'))"
   ]
  },
  {
   "cell_type": "markdown",
   "id": "db2b9537",
   "metadata": {},
   "source": [
    "# 3. Desplazamiento a través de los nodos"
   ]
  },
  {
   "cell_type": "code",
   "execution_count": 3,
   "id": "914232e8",
   "metadata": {},
   "outputs": [
    {
     "name": "stdout",
     "output_type": "stream",
     "text": [
      "Total de usuarios: 2\n",
      "Nombre Chuck\n",
      "Id 001\n",
      "Atributo 2\n",
      "Nombre Brent\n",
      "Id 009\n",
      "Atributo 7\n"
     ]
    }
   ],
   "source": [
    "datos = '''\n",
    "<cosa>\n",
    "    <usuarios>\n",
    "        <usuario x=\"2\">\n",
    "            <id>001</id>\n",
    "            <nombre>Chuck</nombre>\n",
    "        </usuario>\n",
    "        <usuario x=\"7\">\n",
    "            <id>009</id>\n",
    "            <nombre>Brent</nombre>\n",
    "        </usuario>\n",
    "    </usuarios>\n",
    "</cosa>'''\n",
    "\n",
    "cosa = ET.fromstring(datos)\n",
    "lista = cosa.findall('usuarios/usuario')\n",
    "print('Total de usuarios:',len(lista))\n",
    "\n",
    "for item in lista:\n",
    "    print('Nombre',item.find('nombre').text)\n",
    "    print('Id',item.find('id').text)\n",
    "    print('Atributo',item.get('x'))"
   ]
  },
  {
   "cell_type": "code",
   "execution_count": 5,
   "id": "6e2be637",
   "metadata": {},
   "outputs": [
    {
     "name": "stdout",
     "output_type": "stream",
     "text": [
      "Cuenta de usuarios: 2\n",
      "Cuenta de usuarios: 0\n"
     ]
    }
   ],
   "source": [
    "datos = '''\n",
    "<cosa>\n",
    "    <usuarios>\n",
    "        <usuario x=\"2\">\n",
    "            <id>001</id>\n",
    "            <nombre>Chuck</nombre>\n",
    "        </usuario>\n",
    "        <usuario x=\"7\">\n",
    "            <id>009</id>\n",
    "            <nombre>Brent</nombre>\n",
    "        </usuario>\n",
    "    </usuarios>\n",
    "</cosa>'''\n",
    "\n",
    "cosa = ET.fromstring(input)\n",
    "lista1 = cosa.findall('usuarios/usuario')\n",
    "print('Cuenta de usuarios:', len(lista1))\n",
    "\n",
    "lista2 = cosa.findall('usuario')\n",
    "print('Cuenta de usuarios:', len(lista2))"
   ]
  },
  {
   "cell_type": "markdown",
   "id": "d6eaf8db",
   "metadata": {},
   "source": [
    "# 4. JavaScript Object Notation - JSON"
   ]
  },
  {
   "cell_type": "code",
   "execution_count": 6,
   "id": "e8696c84",
   "metadata": {},
   "outputs": [
    {
     "data": {
      "text/plain": [
       "{'name': 'Chuck',\n",
       " 'phone': {'type': 'intl', 'number': '+1 734 303 4456'},\n",
       " 'email': {'hide': 'yes'}}"
      ]
     },
     "execution_count": 6,
     "metadata": {},
     "output_type": "execute_result"
    }
   ],
   "source": [
    "{\n",
    "\"name\" : \"Chuck\",\n",
    "\"phone\" : {\n",
    "\"type\" : \"intl\",\n",
    "\"number\" : \"+1 734 303 4456\"\n",
    "},\n",
    "\"email\" : {\n",
    "\"hide\" : \"yes\"\n",
    "}\n",
    "}"
   ]
  },
  {
   "cell_type": "markdown",
   "id": "0481fd55",
   "metadata": {},
   "source": [
    "# 5. Análisis de JSON"
   ]
  },
  {
   "cell_type": "code",
   "execution_count": 8,
   "id": "79e9caaa",
   "metadata": {},
   "outputs": [
    {
     "name": "stdout",
     "output_type": "stream",
     "text": [
      "Total de usuarios: 2\n",
      "Nombre Chuck\n",
      "Id 001\n",
      "Atributo 2\n",
      "Nombre Brent\n",
      "Id 009\n",
      "Atributo 7\n"
     ]
    }
   ],
   "source": [
    "datos = '''\n",
    "[\n",
    "    { \"id\" : \"001\",\n",
    "        \"x\" : \"2\",\n",
    "        \"nombre\" : \"Chuck\"\n",
    "    } ,\n",
    "    { \"id\" : \"009\",\n",
    "        \"x\" : \"7\",\n",
    "        \"nombre\" : \"Brent\"\n",
    "    }\n",
    "]'''\n",
    "\n",
    "info = json.loads(datos)\n",
    "print('Total de usuarios:',len(info))\n",
    "\n",
    "for elemento in info:\n",
    "    print('Nombre',elemento['nombre'])\n",
    "    print('Id',elemento['id'])\n",
    "    print('Atributo',elemento['x'])"
   ]
  },
  {
   "cell_type": "markdown",
   "id": "9260b08c",
   "metadata": {},
   "source": [
    "# 6. Interfaces de programación de aplicaciones"
   ]
  },
  {
   "cell_type": "markdown",
   "id": "d4a7a878",
   "metadata": {},
   "source": [
    "# 7. Seguridad y uso de APIs"
   ]
  },
  {
   "cell_type": "markdown",
   "id": "e4425c4d",
   "metadata": {},
   "source": [
    "# 8. Glosario"
   ]
  },
  {
   "cell_type": "markdown",
   "id": "390e4d07",
   "metadata": {},
   "source": [
    "API: Application Programming Interface (Interfaz de Programación de Aplicaciones) - Un contrato entre aplicaciones que define las pautas de interacción entre los componentes de dos aplicaciones.\n",
    "\n",
    "ElementTree: una librería interna de Python que se utiliza para analizar datos XML.\n",
    "\n",
    "JSON: JavaScript Object Notation (Notación de Objetos JavaScript). Un formato que permite el envío de estructuras de datos basadas en la sintaxis de los Objetos JavaScript.\n",
    "\n",
    "SOA: Service-Oriented Architecture (Arquitectura Orientada a Servicios). Cuando una aplicación está formada por componentes conectados a través de una red.\n",
    "\n",
    "XML: eXtensible Markup Language (Lenguaje de Marcas eXtensible). Un formato que permite el envío de datos estructurados."
   ]
  }
 ],
 "metadata": {
  "kernelspec": {
   "display_name": "Python 3 (ipykernel)",
   "language": "python",
   "name": "python3"
  },
  "language_info": {
   "codemirror_mode": {
    "name": "ipython",
    "version": 3
   },
   "file_extension": ".py",
   "mimetype": "text/x-python",
   "name": "python",
   "nbconvert_exporter": "python",
   "pygments_lexer": "ipython3",
   "version": "3.10.9"
  }
 },
 "nbformat": 4,
 "nbformat_minor": 5
}
