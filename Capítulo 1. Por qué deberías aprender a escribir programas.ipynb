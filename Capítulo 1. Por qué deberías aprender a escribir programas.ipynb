{
 "cells": [
  {
   "cell_type": "markdown",
   "id": "d4b4961b",
   "metadata": {},
   "source": [
    "ÍNDICE:\n",
    "\n",
    "1. Creatividad y motivación\n",
    "\n",
    "2. Arquitectura hardware de las computadoras\n",
    "\n",
    "3. Comprendiendo la programación\n",
    "\n",
    "4. Palabras y frases\n",
    "\n",
    "5. Conversando con Python\n",
    "\n",
    "6. Terminología: intérprete y compilador \n",
    "\n",
    "7. Escribiendo un programa \n",
    "\n",
    "8. ¿Qué es un programa? \n",
    "\n",
    "9. Los bloques de construcción de los programas\n",
    "\n",
    "10. ¿Qué es posible que vaya mal?\n",
    "\n",
    "11. Depurando los programa\n",
    "\n",
    "12. El camino del aprendizaje\n",
    "\n",
    "13. Glosario\n",
    "\n",
    "14. Ejercicios "
   ]
  },
  {
   "cell_type": "markdown",
   "id": "b7b17735",
   "metadata": {},
   "source": [
    "# 1. Creatividad y motivación "
   ]
  },
  {
   "cell_type": "markdown",
   "id": "b3334199",
   "metadata": {},
   "source": [
    "# 2. Arquitectura hardware de las computadoras"
   ]
  },
  {
   "cell_type": "markdown",
   "id": "ae129567",
   "metadata": {},
   "source": [
    "Unidad Central de Procesamiento (CPU): \n",
    "- Es el componente de la computadora diseñado para estar obsesionado con el ¿qué hago ahora?\n",
    "\n",
    "Memoria Principal: \n",
    "- Se usa para almacenar la información que la CPU necesita de forma inmediata.\n",
    "- Es casi tan rápida como la CPU.\n",
    "- La información almacenada en la memoria principal desaparece cuando se apaga el equipo.\n",
    "\n",
    "Memoria Secundaria: \n",
    "- Se utiliza para almacenar información, pero es mucho más lenta que la memoria principal.\n",
    "- Puede almacenar la información incluso cuando el equipo está apagado.\n",
    "\n",
    "Dispositivos de Entrada y Salida:\n",
    "- Son la pantalla, teclado, micrófono, altavoz, etc.\n",
    "- Incluyen cualquier modo de interactuar con una computadora.\n",
    "\n",
    "Red:\n",
    "- Lugar donde almacenar y recuperar datos de forma muy lenta, que puede no estar siempre 'activo'.\n",
    "- Es como un tipo de Memoria Secundaria más lente y a veces poco fiable."
   ]
  },
  {
   "cell_type": "markdown",
   "id": "d81c82d8",
   "metadata": {},
   "source": [
    "# 3. Comprendiendo la programación "
   ]
  },
  {
   "cell_type": "markdown",
   "id": "721d1174",
   "metadata": {},
   "source": [
    "# 4. Palabras y frases"
   ]
  },
  {
   "cell_type": "code",
   "execution_count": 1,
   "id": "87986cb3",
   "metadata": {},
   "outputs": [
    {
     "name": "stdout",
     "output_type": "stream",
     "text": [
      "\n",
      "Welcome to Python 3.10's help utility!\n",
      "\n",
      "If this is your first time using Python, you should definitely check out\n",
      "the tutorial on the internet at https://docs.python.org/3.10/tutorial/.\n",
      "\n",
      "Enter the name of any module, keyword, or topic to get help on writing\n",
      "Python programs and using Python modules.  To quit this help utility and\n",
      "return to the interpreter, just type \"quit\".\n",
      "\n",
      "To get a list of available modules, keywords, symbols, or topics, type\n",
      "\"modules\", \"keywords\", \"symbols\", or \"topics\".  Each module also comes\n",
      "with a one-line summary of what it does; to list the modules whose name\n",
      "or summary contain a given string such as \"spam\", type \"modules spam\".\n",
      "\n",
      "help> symbols\n",
      "\n",
      "Here is a list of the punctuation symbols which Python assigns special meaning\n",
      "to. Enter any symbol to get more help.\n",
      "\n",
      "!=                  +                   <=                  __\n",
      "\"                   +=                  <>                  `\n",
      "\"\"\"                 ,                   ==                  b\"\n",
      "%                   -                   >                   b'\n",
      "%=                  -=                  >=                  f\"\n",
      "&                   .                   >>                  f'\n",
      "&=                  ...                 >>=                 j\n",
      "'                   /                   @                   r\"\n",
      "'''                 //                  J                   r'\n",
      "(                   //=                 [                   u\"\n",
      ")                   /=                  \\                   u'\n",
      "*                   :                   ]                   |\n",
      "**                  <                   ^                   |=\n",
      "**=                 <<                  ^=                  ~\n",
      "*=                  <<=                 _                   \n",
      "\n",
      "help> quit\n",
      "\n",
      "You are now leaving help and returning to the Python interpreter.\n",
      "If you want to ask for help on a particular object directly from the\n",
      "interpreter, you can type \"help(object)\".  Executing \"help('string')\"\n",
      "has the same effect as typing a particular string at the help> prompt.\n"
     ]
    }
   ],
   "source": [
    "help()"
   ]
  },
  {
   "cell_type": "code",
   "execution_count": 2,
   "id": "8082faf6",
   "metadata": {},
   "outputs": [
    {
     "name": "stdout",
     "output_type": "stream",
     "text": [
      "¡Hola, mundo!\n"
     ]
    }
   ],
   "source": [
    "print('¡Hola, mundo!')"
   ]
  },
  {
   "cell_type": "markdown",
   "id": "2571a15b",
   "metadata": {},
   "source": [
    "# 5. Conversando con Python "
   ]
  },
  {
   "cell_type": "code",
   "execution_count": 3,
   "id": "9ecc87c6",
   "metadata": {},
   "outputs": [
    {
     "name": "stdout",
     "output_type": "stream",
     "text": [
      "Usted debe ser el dios legendario que viene del cielo\n",
      "Hemos estado esperándole durante mucho tiempo\n",
      "La leyenda dice que debe estar usted muy rico con mostaza\n",
      "Tendremos un festín esta noche a menos que diga\n"
     ]
    }
   ],
   "source": [
    "print('Usted debe ser el dios legendario que viene del cielo')\n",
    "print('Hemos estado esperándole durante mucho tiempo')\n",
    "print('La leyenda dice que debe estar usted muy rico con mostaza')\n",
    "print('Tendremos un festín esta noche a menos que diga')"
   ]
  },
  {
   "cell_type": "markdown",
   "id": "a83488f4",
   "metadata": {},
   "source": [
    "# 6. Terminología: intérprete y compilador "
   ]
  },
  {
   "cell_type": "markdown",
   "id": "e242c274",
   "metadata": {},
   "source": [
    "El código máquina está ligada al hardware de la máquina que lo ejecuta, por lo que ese código no es portable entre equipos de diferente tipo.\n",
    "\n",
    "Los programas escritos en lenguajes de alto nivel pueden ser trasladados entre distintas máquinas usando un intérprete diferente en cada una de ellas, o recompilando el código para crear una visión diferente del código máquina del programa para cada uno de los tipos de equipo.\n",
    "\n",
    "Un intérprete lee el código fuente de los programas tal y como ha sido escrito por el programador, lo analiza, e interpreta sus instrucciones sobre la marcha."
   ]
  },
  {
   "cell_type": "code",
   "execution_count": 4,
   "id": "baf07fe3",
   "metadata": {},
   "outputs": [
    {
     "name": "stdout",
     "output_type": "stream",
     "text": [
      "6\n"
     ]
    }
   ],
   "source": [
    "x = 6\n",
    "print(x)"
   ]
  },
  {
   "cell_type": "code",
   "execution_count": 5,
   "id": "66bc511f",
   "metadata": {},
   "outputs": [
    {
     "name": "stdout",
     "output_type": "stream",
     "text": [
      "42\n"
     ]
    }
   ],
   "source": [
    "y = x*7\n",
    "print(y)"
   ]
  },
  {
   "cell_type": "markdown",
   "id": "3e898b09",
   "metadata": {},
   "source": [
    "Un compilador necesita que le entreguen el programa completo en un fichero, y luego ejecuta un proceso para traducir el código fuente de alto nivel a código máquina, tras lo cual coloca ese código máquina resultante dentro de otro fichero para su ejecución posterior."
   ]
  },
  {
   "cell_type": "markdown",
   "id": "c5d37747",
   "metadata": {},
   "source": [
    "# 7. Escribiendo un programa "
   ]
  },
  {
   "cell_type": "markdown",
   "id": "a5fe4f9e",
   "metadata": {},
   "source": [
    "# 8. ¿Qué es un programa? "
   ]
  },
  {
   "cell_type": "markdown",
   "id": "986fa067",
   "metadata": {},
   "source": [
    "Programa: secuencia de declaraciones o sentencias que han sido diseñadas para hacer algo."
   ]
  },
  {
   "cell_type": "code",
   "execution_count": 6,
   "id": "f10c0ae2",
   "metadata": {},
   "outputs": [
    {
     "name": "stdout",
     "output_type": "stream",
     "text": [
      "Ingrese el nombre de un archivo:clown.txt\n"
     ]
    }
   ],
   "source": [
    "nombre = input('Ingrese el nombre de un archivo:')\n",
    "ruta = fr'Datos\\\\Python para todos\\\\{nombre}'\n",
    "manejador_archivo = open(ruta,'r')\n",
    "contador = dict()"
   ]
  },
  {
   "cell_type": "code",
   "execution_count": 7,
   "id": "0a246613",
   "metadata": {},
   "outputs": [],
   "source": [
    "for linea in manejador_archivo:\n",
    "    palabras = linea.split()\n",
    "    for palabra in palabras:\n",
    "        contador[palabra] = contador.get(palabra,0) + 1"
   ]
  },
  {
   "cell_type": "code",
   "execution_count": 8,
   "id": "8fa3d8a4",
   "metadata": {},
   "outputs": [
    {
     "data": {
      "text/plain": [
       "{'the': 7,\n",
       " 'clown': 2,\n",
       " 'ran': 2,\n",
       " 'after': 1,\n",
       " 'car': 3,\n",
       " 'and': 3,\n",
       " 'into': 1,\n",
       " 'tent': 2,\n",
       " 'fell': 1,\n",
       " 'down': 1,\n",
       " 'on': 1}"
      ]
     },
     "execution_count": 8,
     "metadata": {},
     "output_type": "execute_result"
    }
   ],
   "source": [
    "contador"
   ]
  },
  {
   "cell_type": "code",
   "execution_count": 9,
   "id": "9c5920e7",
   "metadata": {},
   "outputs": [],
   "source": [
    "cantidad_utilizada = None\n",
    "palabra_mas_utilizada = None\n",
    "for palabra, veces in list(contador.items()):\n",
    "    if cantidad_utilizada is None or veces > cantidad_utilizada:\n",
    "        palabra_mas_utilizada = palabra\n",
    "        cantidad_utilizada = veces"
   ]
  },
  {
   "cell_type": "code",
   "execution_count": 10,
   "id": "2f12ff5c",
   "metadata": {},
   "outputs": [
    {
     "name": "stdout",
     "output_type": "stream",
     "text": [
      "La palabra más utilizada fue the con un total de 7.\n"
     ]
    }
   ],
   "source": [
    "print(f'La palabra más utilizada fue {palabra_mas_utilizada} con un total de {cantidad_utilizada}.')"
   ]
  },
  {
   "cell_type": "markdown",
   "id": "39bdd881",
   "metadata": {},
   "source": [
    "# 9. Los bloques de construcción de los programas "
   ]
  },
  {
   "cell_type": "markdown",
   "id": "dc6b93bd",
   "metadata": {},
   "source": [
    "Entrada:\n",
    "- Obtener datos de 'mundo exterior'.\n",
    "- Puede consistir en leer datos desde un fichero, o incluso desde algún tipo de sensor.\n",
    "\n",
    "Salida:\n",
    "- Mostrar los resultados del programa en una pantalla, almacenarlos en un fichero o incluso es posible enviarlos a un dispositivo.\n",
    "\n",
    "Ejecución secuencial:\n",
    "- Ejecutar una sentencia tras otra en el mismo orden en que se van encontrando en el script.\n",
    "\n",
    "Ejecución condicional:\n",
    "- Comprobar ciertas condiciones y luego ejecutar u omitir una secuencia de sentencias.\n",
    "\n",
    "Ejecución repetida:\n",
    "- Ejecutar un conjunto de sentencias varias veces, normalmente con algún tipo de variación.\n",
    "\n",
    "Reutilización:\n",
    "- Escribir un conjunto de instrucciones una vez, darles un nombre y así poder reutilizarlas luego cuando se necesiten en cualquier punto de tu programa."
   ]
  },
  {
   "cell_type": "markdown",
   "id": "89bdb893",
   "metadata": {},
   "source": [
    "# 10. ¿Qué es posible que vaya mal? "
   ]
  },
  {
   "cell_type": "markdown",
   "id": "26c10bed",
   "metadata": {},
   "source": [
    "Tipos de errores:\n",
    "\n",
    "- Errores de sintaxis (Syntax errors): \n",
    "    - Significa que has violado las reglas 'gramaticales' de Python.\n",
    "\n",
    "- Errores lógicos:\n",
    "    - Cuando un programa tiene una sintaxis correcta, pero existe un error en el orden de las sentencias o en la forma en que están relacionadas unas con otras.\n",
    "\n",
    "- Errores semánticos:\n",
    "    - Cuando la descripción que has brindado de los pasos a seguir es sintácticamente perfecta y está en el orden correcto, pero no hace lo que tú prentendías que hiciera."
   ]
  },
  {
   "cell_type": "markdown",
   "id": "f5a82e92",
   "metadata": {},
   "source": [
    "# 11. Depurando los programas "
   ]
  },
  {
   "cell_type": "markdown",
   "id": "b46235d6",
   "metadata": {},
   "source": [
    "Depurar es el proceso de encontrar la causa o el origen de un error en tu código.\n",
    "\n",
    "Pasos para depurar:\n",
    "\n",
    "- Leer: \n",
    "    - Revisar tu código, leerlo de nuevo, y asegurarte de que ahí está expresado de forma correcta lo que quieres decir.\n",
    "\n",
    "- Ejecutar:\n",
    "    - Prueba haciendo cambios y ejecutando diferentes versiones.\n",
    "    - Con frecuencia, si muestras en tu programa lo correcto en el lugar indicado, el problema se vuelve obvio, pero en ocasiones debes inverir algo de tiempo hasta conseguirlo.\n",
    "\n",
    "- Pensar detenidamente:\n",
    "    - ¡Toma tu tiempo para pensar!\n",
    "    - ¿A qué tipo de error corresponde: sintaxis, en tiempo de ejecución, semántico?\n",
    "    - ¿Qué información puedes obtener de los mensajes de error, o de la salida del programa?\n",
    "    - ¿Qué tipo de errores podría generar el problema que estás abordando?\n",
    "    - ¿Cuál fue el último cambio que hiciste, antes de que se presentara el problema?\n",
    "\n",
    "- Retroceder:\n",
    "    - En algún momento, lo mejor que podrás hacer es dar marcha atrás, deshacer los cambios recientes hasta obtener de nuevo un programa que funcione y puedas entender.\n",
    "    - Llegado a ese punto, podrás continuar con tu trabajo."
   ]
  },
  {
   "cell_type": "markdown",
   "id": "7c5f49f8",
   "metadata": {},
   "source": [
    "# 12. El camino del aprendizaje"
   ]
  },
  {
   "cell_type": "markdown",
   "id": "cf6ec1a4",
   "metadata": {},
   "source": [
    "# 13. Glosario "
   ]
  },
  {
   "cell_type": "markdown",
   "id": "5fb171c8",
   "metadata": {},
   "source": [
    "Bug: un error en un programa.\n",
    "\n",
    "Código fuente: un programa en un lenguaje de alto nivel.\n",
    "\n",
    "Código máquina: el lenguaje de más bajo nivel para el software, es decir, el lenguaje que es directamente ejecutado por la unidad central de procesamiento (CPU).\n",
    "\n",
    "Compilar: traducir un programa completo escrito en un lenguaje de alto nivel a un lenguaje de bajo nivel, para dejarlo listo para una ejecución posterior.\n",
    "\n",
    "Error semántico: un error dentro de un programa que provoca que haga algo diferente de lo que pretendía el programador.\n",
    "\n",
    "Función print: una instrucción que hace que el intérprete de Python muestre un valor en la pantalla.\n",
    "\n",
    "Indicador de línea de comandos (prompt): cuando un programa muestra un mensaje y se detiene para que el usuario teclee algún tipo de dato.\n",
    "\n",
    "Interpretar: ejecutar un programa escrito en un lenguaje de alto nivel traduciéndolo línea a línea.\n",
    "\n",
    "Lenguaje de alto nivel: un lenguaje de programación como Python, que ha sido diseñado para que sea fácil de leer y escribir por las personas.\n",
    "\n",
    "Lenguaje de bajo nivel: un lenguaje de programación que está diseñado para ser fácil de ejecutar para una computadora; también recibe el nombre de 'código máquina', 'lenguaje máquina' o 'lenguaje ensamblador'.\n",
    "\n",
    "Memoria principal: almacena los programas y datos. La memoria principal pierde su información cuando se desconecta la alimentación.\n",
    "\n",
    "Memoria secundaria: almacena los programas y datos y mantiene su información incluso cuando se interrumpe la alimentación. Es generalmente más lenta que la memoria principal. Algunos ejemplos de memoria secundaria son las unidades de disco y memorias flash que se encuentran dentro de los dispositivos USB.\n",
    "\n",
    "Modo interactivo: un modo de usar el intérprete de Python, escribiendo comandos y expresiones directamente en el indicador de la línea de comandos.\n",
    "\n",
    "Parsear: examinar un programa y analizar la estructura sintáctica.\n",
    "\n",
    "Portabilidad: es la propiedad que poseen los programas que pueden funcionar en más de un tipo de computadora.\n",
    "\n",
    "Programa: un conjunto de instrucciones que indican cómo realizar algún tipo de cálculo.\n",
    "\n",
    "Resolución de un problema: el proceso de formular un problema, encontrar una solución, y mostrar esa solución.\n",
    "\n",
    "Semántica: el significado de un programa.\n",
    "\n",
    "Unidad central de procesamiento: el corazón de cualquier computadora. Es lo que ejecuta el software que escribimos. "
   ]
  },
  {
   "cell_type": "markdown",
   "id": "eb643f43",
   "metadata": {},
   "source": [
    "# 14. Ejercicios "
   ]
  },
  {
   "cell_type": "markdown",
   "id": "ce032e87",
   "metadata": {},
   "source": [
    "1. ¿Cuál es la función de la memoria secundaria en una computadora?\n",
    "\n",
    "a) Ejecutar todos los cálculos y la lógica del programa.\n",
    "\n",
    "b) Descargar páginas web de Internet.\n",
    "\n",
    "$\\textbf{c) Almacenar información durante mucho tiempo, incluso después de ciclos de apagado y encendido.}$\n",
    "\n",
    "d) Recolectar la entrada del usuario."
   ]
  },
  {
   "cell_type": "markdown",
   "id": "627d683d",
   "metadata": {},
   "source": [
    "2. ¿Qué es un programa?\n",
    "\n",
    "Una secuencia de sentencias que han sido diseñadas para hacer algo."
   ]
  },
  {
   "cell_type": "markdown",
   "id": "c1a16598",
   "metadata": {},
   "source": [
    "3. ¿Cuál es la diferencia entre un compilador y un intérprete?\n",
    "\n",
    "Un intérprete lee el código fuente tal como lo escribió el programador, analiza el código fuente e interpreta las instrucciones sobre la marcha. \n",
    "\n",
    "Mientras que el compilador debe recibir el programa completo en un archivo, y luego ejecuta un proceso para traducir el código fuente de alto nivel al lenguaje máquina y luego el compilador coloca el lenguaje máquina resultante en un archivo para su ejecución posterior."
   ]
  },
  {
   "cell_type": "markdown",
   "id": "1d8ce5df",
   "metadata": {},
   "source": [
    "4. ¿Cuál de los siguientes contiene “código máquina”?\n",
    "\n",
    "$\\textbf{a) El intérprete de Python}.$\n",
    "\n",
    "b) El teclado.\n",
    "\n",
    "c) El código fuente de Python.\n",
    "\n",
    "d) Un documento de un procesador de texto."
   ]
  },
  {
   "cell_type": "markdown",
   "id": "f2b78e4d",
   "metadata": {},
   "source": [
    "5. ¿Qué está mal en el siguiente código?:"
   ]
  },
  {
   "cell_type": "code",
   "execution_count": 11,
   "id": "0087182b",
   "metadata": {},
   "outputs": [
    {
     "ename": "SyntaxError",
     "evalue": "invalid syntax (2753252815.py, line 1)",
     "output_type": "error",
     "traceback": [
      "\u001b[1;36m  Cell \u001b[1;32mIn[11], line 1\u001b[1;36m\u001b[0m\n\u001b[1;33m    primt '¡Hola, mundo!'\u001b[0m\n\u001b[1;37m          ^\u001b[0m\n\u001b[1;31mSyntaxError\u001b[0m\u001b[1;31m:\u001b[0m invalid syntax\n"
     ]
    }
   ],
   "source": [
    "primt '¡Hola, mundo!'"
   ]
  },
  {
   "cell_type": "markdown",
   "id": "c40e764d",
   "metadata": {},
   "source": [
    "Debería ser print no primt y estar entre paréntesis."
   ]
  },
  {
   "cell_type": "code",
   "execution_count": 12,
   "id": "5f12ab6e",
   "metadata": {},
   "outputs": [
    {
     "name": "stdout",
     "output_type": "stream",
     "text": [
      "Hola, mundo!\n"
     ]
    }
   ],
   "source": [
    "print('Hola, mundo!')"
   ]
  },
  {
   "cell_type": "markdown",
   "id": "51ff39af",
   "metadata": {},
   "source": [
    "6. ¿En qué lugar del computador queda almacenada una variable, como en este caso “X”, después de ejecutar la siguiente línea de Python?:\n",
    "\n",
    "x = 123\n",
    "\n",
    "a) Unidad central de procesamiento.\n",
    "\n",
    "$\\textbf{b) Memoria Principal.}$\n",
    "\n",
    "c) Memoria Secundaria.\n",
    "\n",
    "d) Dispositivos de Entrada.\n",
    "\n",
    "e) Dispositivos de Salida."
   ]
  },
  {
   "cell_type": "markdown",
   "id": "f16ed199",
   "metadata": {},
   "source": [
    "Ejercicio 7: ¿Qué mostrará en pantalla el siguiente programa?:\n",
    "\n",
    "x = 43\n",
    "\n",
    "x = x + 1\n",
    "\n",
    "print(x)\n",
    "\n",
    "a) 43\n",
    "\n",
    "$\\textbf{b) 44} $\n",
    "\n",
    "c) x + 1\n",
    "\n",
    "d) Error, porque x = x + 1 no es posible matemáticamente."
   ]
  },
  {
   "cell_type": "code",
   "execution_count": 13,
   "id": "f4282ce5",
   "metadata": {},
   "outputs": [
    {
     "name": "stdout",
     "output_type": "stream",
     "text": [
      "44\n"
     ]
    }
   ],
   "source": [
    "x = 43\n",
    "x = x + 1\n",
    "print(x)"
   ]
  },
  {
   "cell_type": "markdown",
   "id": "b308969a",
   "metadata": {},
   "source": [
    "8. Explica cada uno de los siguientes conceptos usando un ejemplo de una capacidad humana: \n",
    "\n",
    "1) Unidad central de procesamiento.\n",
    "\n",
    "2) Memoria principal.\n",
    "\n",
    "3) Memoria secundaria.\n",
    "\n",
    "4) Dispositivos de entrada.\n",
    "\n",
    "5) Dispositivos desalida. \n",
    "\n",
    "Por ejemplo, “¿Cuál sería el equivalente humano de la Unidad central deprocesamiento?”."
   ]
  },
  {
   "cell_type": "markdown",
   "id": "91af70a8",
   "metadata": {},
   "source": [
    "1) Corazón.\n",
    "\n",
    "2) Cerebro (subconsciente).\n",
    "\n",
    "3) Cerebro (pensamiento consciente).\n",
    "\n",
    "4) Oídos, manos.\n",
    "\n",
    "5) Boca."
   ]
  },
  {
   "cell_type": "markdown",
   "id": "66f6b645",
   "metadata": {},
   "source": [
    "9. ¿Cómo puedes corregir un “Error de sintaxis”?.\n",
    "\n",
    "Podría empezar por la línea y el carácter que indica Python en un error de sintaxis."
   ]
  }
 ],
 "metadata": {
  "kernelspec": {
   "display_name": "Python 3 (ipykernel)",
   "language": "python",
   "name": "python3"
  },
  "language_info": {
   "codemirror_mode": {
    "name": "ipython",
    "version": 3
   },
   "file_extension": ".py",
   "mimetype": "text/x-python",
   "name": "python",
   "nbconvert_exporter": "python",
   "pygments_lexer": "ipython3",
   "version": "3.10.9"
  }
 },
 "nbformat": 4,
 "nbformat_minor": 5
}
