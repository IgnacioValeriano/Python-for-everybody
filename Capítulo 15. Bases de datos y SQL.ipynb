{
 "cells": [
  {
   "cell_type": "markdown",
   "id": "8fab4417",
   "metadata": {},
   "source": [
    "ÍNDICE:\n",
    "\n",
    "1. ¿Qué es una base de datos?\n",
    "2. Conceptos sobre bases de datos\n",
    "3. Navegador de bases de datos para SQLite\n",
    "4. Creación de una tabla en una base de datos\n",
    "5. Resumen de Lenguaje de Consultas Estructurado\n",
    "6. Rastreo en Twitter usando una base de datos\n",
    "7. Modelado de datos básico\n",
    "8. Programación con múltiples tablas\n",
    "9. Tres tipos de claves\n",
    "10. Uso de JOIN para recuperar datos\n",
    "11. Resumen\n",
    "12. Depuración\n",
    "13. Glosario"
   ]
  },
  {
   "cell_type": "code",
   "execution_count": 1,
   "id": "1382d034",
   "metadata": {},
   "outputs": [],
   "source": [
    "import sqlite3"
   ]
  },
  {
   "cell_type": "markdown",
   "id": "c902289a",
   "metadata": {},
   "source": [
    "# 1. ¿Qué es una base de datos?"
   ]
  },
  {
   "cell_type": "markdown",
   "id": "cda305bb",
   "metadata": {},
   "source": [
    "# 2. Conceptos sobre bases de datos"
   ]
  },
  {
   "cell_type": "markdown",
   "id": "9a2008a1",
   "metadata": {},
   "source": [
    "# 3. Navegador de bases de datos para SQLite"
   ]
  },
  {
   "cell_type": "markdown",
   "id": "1db03478",
   "metadata": {},
   "source": [
    "# 4. Creación de una tabla en una base de datos"
   ]
  },
  {
   "cell_type": "code",
   "execution_count": 8,
   "id": "d23e668d",
   "metadata": {},
   "outputs": [],
   "source": [
    "conn = sqlite3.connect('musica.sqlite')\n",
    "cur = conn.cursor()\n",
    "\n",
    "cur.execute('DROP TABLE IF EXISTS Canciones')\n",
    "cur.execute('CREATE TABLE Canciones (titulo TEXT, reproducciones INTGER)')\n",
    "\n",
    "conn.close()"
   ]
  },
  {
   "cell_type": "code",
   "execution_count": 9,
   "id": "e5b46052",
   "metadata": {},
   "outputs": [
    {
     "name": "stdout",
     "output_type": "stream",
     "text": [
      "Canciones:\n",
      "('Thunderstruck', 20)\n",
      "('My Way', 15)\n"
     ]
    }
   ],
   "source": [
    "conn = sqlite3.connect('musica.sqlite')\n",
    "cur = conn.cursor()\n",
    "\n",
    "cur.execute('INSERT INTO Canciones (titulo, reproducciones) VALUES (?, ?)',('Thunderstruck', 20))\n",
    "cur.execute('INSERT INTO Canciones (titulo, reproducciones) VALUES (?, ?)',('My Way', 15))\n",
    "conn.commit()\n",
    "\n",
    "print('Canciones:')\n",
    "cur.execute('SELECT titulo, reproducciones FROM Canciones')\n",
    "for fila in cur:\n",
    "    print(fila)\n",
    "    \n",
    "cur.execute('DELETE FROM Canciones WHERE reproducciones < 100')\n",
    "conn.commit()\n",
    "\n",
    "cur.close()"
   ]
  },
  {
   "cell_type": "markdown",
   "id": "f6b9134f",
   "metadata": {},
   "source": [
    "# 5. Resumen de Lenguaje de Consultas Estructurado"
   ]
  },
  {
   "cell_type": "code",
   "execution_count": null,
   "id": "c42b6ac6",
   "metadata": {},
   "outputs": [],
   "source": [
    "# CREATE TABLE Canciones (titulo TEXT, reproducciones INTEGER)\n",
    "# INSERT INTO Canciones (titulo, reproducciones) VALUES ('My Way', 15)\n",
    "# SELECT * FROM Canciones WHERE titulo = 'My Way'\n",
    "# SELECT titulo,reproducciones FROM Canciones ORDER BY titulo\n",
    "# DELETE FROM Canciones WHERE titulo = 'My Way'\n",
    "# UPDATE Canciones SET reproducciones = 16 WHERE titulo = 'My Way'"
   ]
  },
  {
   "cell_type": "code",
   "execution_count": 14,
   "id": "d3434ae0",
   "metadata": {},
   "outputs": [
    {
     "name": "stdout",
     "output_type": "stream",
     "text": [
      "('My Way', 15)\n",
      "('My Way', 15)\n"
     ]
    }
   ],
   "source": [
    "conn = sqlite3.connect('musica2.sqlite')\n",
    "cur = conn.cursor()\n",
    "\n",
    "cur.execute('DROP TABLE IF EXISTS Canciones')\n",
    "\n",
    "# Crear la tabla\n",
    "cur.execute('CREATE TABLE Canciones (titulo TEXT, reproducciones INTEGER)')\n",
    "\n",
    "# Insertar datos\n",
    "cur.execute('INSERT INTO Canciones (titulo, reproducciones) VALUES (?, ?)', ('My Way', 15))\n",
    "\n",
    "# Seleccionar datos\n",
    "cur.execute('SELECT * FROM Canciones WHERE titulo = ?', ('My Way',))\n",
    "row = cur.fetchone()\n",
    "print(row)\n",
    "\n",
    "# Seleccionar y mostrar todos los datos\n",
    "cur.execute('SELECT titulo, reproducciones FROM Canciones ORDER BY titulo')\n",
    "rows = cur.fetchall()\n",
    "for row in rows:\n",
    "    print(row)\n",
    "\n",
    "# Eliminar datos\n",
    "cur.execute('DELETE FROM Canciones WHERE titulo = ?', ('My Way',))\n",
    "\n",
    "# Actualizar datos\n",
    "cur.execute('UPDATE Canciones SET reproducciones = 16 WHERE titulo = ?', ('My Way',))\n",
    "\n",
    "# Confirmar los cambios en la base de datos\n",
    "conn.commit()\n",
    "\n",
    "# Cerrar el cursor y la conexión\n",
    "cur.close()\n",
    "conn.close()"
   ]
  },
  {
   "cell_type": "markdown",
   "id": "e5281380",
   "metadata": {},
   "source": [
    "# 6. Rastreo en Twitter usando una base de datos"
   ]
  },
  {
   "cell_type": "markdown",
   "id": "31dda10f",
   "metadata": {},
   "source": [
    "# 7. Modelado de datos básico"
   ]
  },
  {
   "cell_type": "code",
   "execution_count": null,
   "id": "cf70ed2a",
   "metadata": {},
   "outputs": [],
   "source": [
    "# CREATE TABLE Colegas (desde_amigo TEXT, hacia_amigo TEXT)\n",
    "# INSERT INTO Colegas (desde_amigo,hacia_amigo) VALUES ('drchuck', 'lhawthorn')\n",
    "# CREATE TABLE Personas\n",
    "#    (id INTEGER PRIMARY KEY, nombre TEXT UNIQUE, recuperado INTEGER)\n",
    "# CREATE TABLE Seguimientos\n",
    "#    (desde_id INTEGER, hacia_id INTEGER, UNIQUE(desde_id, hacia_id) )"
   ]
  },
  {
   "cell_type": "code",
   "execution_count": 15,
   "id": "4fb84bfe",
   "metadata": {},
   "outputs": [],
   "source": [
    "conn = sqlite3.connect('amigos.sqlite')\n",
    "cur = conn.cursor()\n",
    "\n",
    "# Crear la tabla\n",
    "cur.execute('CREATE TABLE Colegas (desde_amigo TEXT, hacia_amigo TEXT)')\n",
    "\n",
    "# Insertar datos\n",
    "cur.execute('INSERT INTO Colegas (desde_amigo,hacia_amigo) VALUES (?, ?)', ('drchuck', 'lhawthorn'))\n",
    "\n",
    "# Crear la tabla\n",
    "cur.execute('CREATE TABLE Personas (id INTEGER PRIMARY KEY, nombre TEXT UNIQUE, recuperado INTEGER)')\n",
    "\n",
    "# Crear la tabla\n",
    "cur.execute('CREATE TABLE Seguimientos (desde_id INTEGER, hacia_id INTEGER, UNIQUE(desde_id, hacia_id))')\n",
    "\n",
    "# Confirmar los cambios en la base de datos\n",
    "conn.commit()\n",
    "\n",
    "# Cerrar el cursor y la conexión\n",
    "cur.close()\n",
    "conn.close()"
   ]
  },
  {
   "cell_type": "markdown",
   "id": "88e1a962",
   "metadata": {},
   "source": [
    "# 8. Programación con múltiples tablas"
   ]
  },
  {
   "cell_type": "markdown",
   "id": "3806dc49",
   "metadata": {},
   "source": [
    "# 9. Tres tipos de claves"
   ]
  },
  {
   "cell_type": "markdown",
   "id": "33b311ab",
   "metadata": {},
   "source": [
    "# 10. Uso de JOIN para recuperar datos"
   ]
  },
  {
   "cell_type": "code",
   "execution_count": null,
   "id": "17a20712",
   "metadata": {},
   "outputs": [],
   "source": [
    "# SELECT * FROM Seguimientos JOIN Personas\n",
    "#     ON Seguimientos.desde_id = Personas.id WHERE Personas.id = 1"
   ]
  },
  {
   "cell_type": "code",
   "execution_count": 18,
   "id": "d9828413",
   "metadata": {},
   "outputs": [
    {
     "name": "stdout",
     "output_type": "stream",
     "text": [
      "Personas:\n",
      "(1, 'Igna', 0)\n",
      "(2, 'Maxi', 1)\n",
      "(3, 'Vivi', 1)\n",
      "3 filas.\n",
      "Seguimientos:\n",
      "0 filas.\n",
      "Conexiones para id=2:\n",
      "0 filas.\n"
     ]
    }
   ],
   "source": [
    "conn = sqlite3.connect('amigos.sqlite')\n",
    "cur = conn.cursor()\n",
    "\n",
    "# Insertar datos\n",
    "cur.execute('INSERT INTO Personas (id,nombre,recuperado) VALUES (?, ?, ?)', ('1', 'Igna','0'))\n",
    "cur.execute('INSERT INTO Personas (id,nombre,recuperado) VALUES (?, ?, ?)', ('2', 'Maxi','1'))\n",
    "cur.execute('INSERT INTO Personas (id,nombre,recuperado) VALUES (?, ?, ?)', ('3', 'Vivi','1'))\n",
    "\n",
    "cur.execute('SELECT * FROM Personas')\n",
    "contador = 0\n",
    "print('Personas:')\n",
    "for fila in cur:\n",
    "    if contador < 5: print(fila)\n",
    "    contador += 1\n",
    "print(contador, 'filas.')\n",
    "\n",
    "cur.execute('SELECT * FROM Seguimientos')\n",
    "contador = 0\n",
    "print('Seguimientos:')\n",
    "for fila in cur:\n",
    "    if contador < 5: print(fila)\n",
    "    contador += 1\n",
    "print(contador, 'filas.')\n",
    "\n",
    "cur.execute('''SELECT * FROM Seguimientos JOIN Personas\n",
    "            ON Seguimientos.hacia_id = Personas.id\n",
    "            WHERE Seguimientos.desde_id = 2''')\n",
    "contador = 0\n",
    "print('Conexiones para id=2:')\n",
    "for fila in cur:\n",
    "    if contador < 5: print(fila)\n",
    "    contador += 1\n",
    "print(contador, 'filas.')\n",
    "\n",
    "cur.close()"
   ]
  },
  {
   "cell_type": "markdown",
   "id": "fabe3d23",
   "metadata": {},
   "source": [
    "# 11. Resumen"
   ]
  },
  {
   "cell_type": "markdown",
   "id": "aec1a6db",
   "metadata": {},
   "source": [
    "# 12. Depuración"
   ]
  },
  {
   "cell_type": "markdown",
   "id": "18759a32",
   "metadata": {},
   "source": [
    "# 13. Glosario"
   ]
  },
  {
   "cell_type": "markdown",
   "id": "4f9863d2",
   "metadata": {},
   "source": [
    "Atributo: uno de los valores dentro de una tupla. Más comúnmente llamada “columa” o “campo”.\n",
    "\n",
    "Cursor: un cursor permite ejecutar comandos SQL en una base de datos y recuperar los datos de ella. Un cursor es similar a un socket en conexiones de red o a un manejar de archivos.\n",
    "\n",
    "Clave foránea: una clave numérica que apunta a la clave primaria de una fila en otra tabla. Las claves foráneas establecen relaciones entre filas almacenadas en tablas diferentes.\n",
    "\n",
    "Clave lógica: una clave que el “mundo exterior” utiliza para localizar una fila concreta. Por ejemplo, en una tabla de cuentas de usuario, la dirección de e-mail de una persona sería un buen candidato a utilizar como clave lógica para los datos de ese usuario.\n",
    "\n",
    "Clave primaria: una clave numérica asignada a cada fila, que es utilizada para referirnos a esa fila concreta de esa tabla desde otra tabla distinta. A menudo la base de datos se configura para asignar las claves primarias de forma automática, según se van insertando filas.\n",
    "\n",
    "Índice: datos adicionales que el software de la base de datos mantiene como filas e inserta en una tabla para conseguir que las búsquedas sean muy rápidas.\n",
    "\n",
    "Navegador de base de datos: un programa que permite conectar directamente con una base de datos y manipularla, sin tener que escribir código para ello.\n",
    "\n",
    "Normalización: diseño de un modelado de datos de forma que no haya datos duplicados. Se almacena cada elemento de los datos en un lugar concreto de la base de datos y se referencia desde otros sitios usando una clave foránea.\n",
    "\n",
    "Relación: un área dentro de una base de datos que contiene tuplas y atributos. Se le conoce más habitualmente como “tabla”.\n",
    "\n",
    "Restricción: cuando le pedimos a una base de datos que imponga una regla a un campo de una fila en una tabla. Una restricción habitual consiste en especificar que no pueda haber valores repetidos en un campo concreto (es decir, que todos los valores deban ser únicos).\n",
    "\n",
    "Tupla: una entrada única en una base de datos, que es un conjunto de atributos. Se le conoce más habitualmente como “fila”"
   ]
  }
 ],
 "metadata": {
  "kernelspec": {
   "display_name": "Python 3 (ipykernel)",
   "language": "python",
   "name": "python3"
  },
  "language_info": {
   "codemirror_mode": {
    "name": "ipython",
    "version": 3
   },
   "file_extension": ".py",
   "mimetype": "text/x-python",
   "name": "python",
   "nbconvert_exporter": "python",
   "pygments_lexer": "ipython3",
   "version": "3.10.9"
  }
 },
 "nbformat": 4,
 "nbformat_minor": 5
}
