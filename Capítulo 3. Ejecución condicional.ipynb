{
 "cells": [
  {
   "cell_type": "markdown",
   "id": "a3b74262",
   "metadata": {},
   "source": [
    "ÍNDICE:\n",
    "\n",
    "Ejecución condicional\n",
    "\n",
    "1. Expresiones booleanas\n",
    "2. Operadores lógicos\n",
    "3. Ejecución condicional\n",
    "4. Ejecución alternativa\n",
    "5. Condicionales encadenados\n",
    "6. Condicionales anidados\n",
    "7. Captura de excepciones usando try y except\n",
    "8. Evaluación en cortocircuito de expresiones lógicas\n",
    "9. Depuración\n",
    "10. Glosario\n",
    "11. Ejercicios"
   ]
  },
  {
   "cell_type": "code",
   "execution_count": 30,
   "id": "c342a703",
   "metadata": {},
   "outputs": [],
   "source": [
    "import math"
   ]
  },
  {
   "cell_type": "markdown",
   "id": "5536c8d5",
   "metadata": {},
   "source": [
    "# 1. Expresiones booleanas"
   ]
  },
  {
   "cell_type": "markdown",
   "id": "21ba6019",
   "metadata": {},
   "source": [
    "Una expresión booleana es aquella que puede ser verdadera o falsa."
   ]
  },
  {
   "cell_type": "code",
   "execution_count": 1,
   "id": "96126e35",
   "metadata": {},
   "outputs": [
    {
     "data": {
      "text/plain": [
       "True"
      ]
     },
     "execution_count": 1,
     "metadata": {},
     "output_type": "execute_result"
    }
   ],
   "source": [
    "5==5"
   ]
  },
  {
   "cell_type": "code",
   "execution_count": 2,
   "id": "a6bab570",
   "metadata": {},
   "outputs": [
    {
     "data": {
      "text/plain": [
       "False"
      ]
     },
     "execution_count": 2,
     "metadata": {},
     "output_type": "execute_result"
    }
   ],
   "source": [
    "5==6"
   ]
  },
  {
   "cell_type": "code",
   "execution_count": 4,
   "id": "ec2d0915",
   "metadata": {},
   "outputs": [
    {
     "name": "stdout",
     "output_type": "stream",
     "text": [
      "<class 'bool'>\n",
      "<class 'bool'>\n"
     ]
    }
   ],
   "source": [
    "print(type(True))\n",
    "print(type(False))"
   ]
  },
  {
   "cell_type": "markdown",
   "id": "b9d2434d",
   "metadata": {},
   "source": [
    "x != y        # x es distinto de y\n",
    "\n",
    "x > y         # x es mayor que y\n",
    "\n",
    "x < y         # x es menor que y\n",
    "\n",
    "x >= y        # x es mayor o igual que y\n",
    "\n",
    "x <= y        # x es menor o igual que y\n",
    "\n",
    "x is not y    # x no es lo mismo que y"
   ]
  },
  {
   "cell_type": "markdown",
   "id": "9449310b",
   "metadata": {},
   "source": [
    "# 2. Operadores lógicos"
   ]
  },
  {
   "cell_type": "code",
   "execution_count": 7,
   "id": "84b577db",
   "metadata": {},
   "outputs": [
    {
     "name": "stdout",
     "output_type": "stream",
     "text": [
      "True\n"
     ]
    }
   ],
   "source": [
    "x = 5\n",
    "print(x>0 and x<10)"
   ]
  },
  {
   "cell_type": "code",
   "execution_count": 8,
   "id": "09f2db53",
   "metadata": {},
   "outputs": [
    {
     "name": "stdout",
     "output_type": "stream",
     "text": [
      "True\n"
     ]
    }
   ],
   "source": [
    "n = 27\n",
    "print(n%2==0 or n%3==0)"
   ]
  },
  {
   "cell_type": "code",
   "execution_count": 9,
   "id": "c72a98f4",
   "metadata": {},
   "outputs": [
    {
     "name": "stdout",
     "output_type": "stream",
     "text": [
      "True\n"
     ]
    }
   ],
   "source": [
    "x = 1\n",
    "y = 2\n",
    "print(not x>y)"
   ]
  },
  {
   "cell_type": "code",
   "execution_count": 10,
   "id": "84eac88c",
   "metadata": {},
   "outputs": [
    {
     "data": {
      "text/plain": [
       "True"
      ]
     },
     "execution_count": 10,
     "metadata": {},
     "output_type": "execute_result"
    }
   ],
   "source": [
    "17 and True"
   ]
  },
  {
   "cell_type": "markdown",
   "id": "2cbcc6b8",
   "metadata": {},
   "source": [
    "# 3. Ejecución condicional"
   ]
  },
  {
   "cell_type": "code",
   "execution_count": 11,
   "id": "635b882c",
   "metadata": {},
   "outputs": [
    {
     "name": "stdout",
     "output_type": "stream",
     "text": [
      "x es positivo\n"
     ]
    }
   ],
   "source": [
    "x = 1\n",
    "\n",
    "if x > 0:\n",
    "    print('x es positivo')"
   ]
  },
  {
   "cell_type": "code",
   "execution_count": 12,
   "id": "9fcf6a46",
   "metadata": {},
   "outputs": [],
   "source": [
    "x = -1\n",
    "\n",
    "if x < 0:\n",
    "    pass   # ¡necesito gestionar los valores negativos!"
   ]
  },
  {
   "cell_type": "code",
   "execution_count": 13,
   "id": "e646910a",
   "metadata": {},
   "outputs": [
    {
     "name": "stdout",
     "output_type": "stream",
     "text": [
      "Pequeño\n"
     ]
    }
   ],
   "source": [
    "x = 3\n",
    "\n",
    "if x < 10:\n",
    "    print('Pequeño')"
   ]
  },
  {
   "cell_type": "markdown",
   "id": "a20119bf",
   "metadata": {},
   "source": [
    "# 4. Ejecución alternativa"
   ]
  },
  {
   "cell_type": "code",
   "execution_count": 14,
   "id": "03f8d128",
   "metadata": {},
   "outputs": [
    {
     "name": "stdout",
     "output_type": "stream",
     "text": [
      "x es impar\n"
     ]
    }
   ],
   "source": [
    "x = 29\n",
    "\n",
    "if x%2 == 0:\n",
    "    print('x es par')\n",
    "else:\n",
    "    print('x es impar')"
   ]
  },
  {
   "cell_type": "markdown",
   "id": "cbfa0f54",
   "metadata": {},
   "source": [
    "# 5. Condicionales encadenados"
   ]
  },
  {
   "cell_type": "code",
   "execution_count": 15,
   "id": "33c19fc4",
   "metadata": {},
   "outputs": [
    {
     "name": "stdout",
     "output_type": "stream",
     "text": [
      "x es igual que y\n"
     ]
    }
   ],
   "source": [
    "x = 2\n",
    "y = 2\n",
    "\n",
    "if x < y:\n",
    "    print('x es menor que y')\n",
    "elif x > y:\n",
    "    print('x es mayor que y')\n",
    "else:\n",
    "    print('x es igual que y')"
   ]
  },
  {
   "cell_type": "code",
   "execution_count": 16,
   "id": "03d3c932",
   "metadata": {},
   "outputs": [
    {
     "name": "stdout",
     "output_type": "stream",
     "text": [
      "Respuesta correcta\n"
     ]
    }
   ],
   "source": [
    "choice = 'b'\n",
    "\n",
    "if choice == 'a':\n",
    "    print('Respuesta incorrecta')\n",
    "elif choice == 'b':\n",
    "    print('Respuesta correcta')\n",
    "else:\n",
    "    print('Casi, pero no es correcto')"
   ]
  },
  {
   "cell_type": "markdown",
   "id": "2ef070f5",
   "metadata": {},
   "source": [
    "# 6. Condicionales anidados"
   ]
  },
  {
   "cell_type": "code",
   "execution_count": 17,
   "id": "55787efc",
   "metadata": {},
   "outputs": [],
   "source": [
    "x = 1\n",
    "y = 2"
   ]
  },
  {
   "cell_type": "code",
   "execution_count": 18,
   "id": "f804d0e6",
   "metadata": {},
   "outputs": [
    {
     "name": "stdout",
     "output_type": "stream",
     "text": [
      "x es menor que y\n"
     ]
    }
   ],
   "source": [
    "if x == y:\n",
    "    print('x e y son iguales')\n",
    "else:\n",
    "    if x < y:\n",
    "        print('x es menor que y')\n",
    "    else:\n",
    "        print('x es mayor que y')"
   ]
  },
  {
   "cell_type": "code",
   "execution_count": 19,
   "id": "b6ae43db",
   "metadata": {},
   "outputs": [
    {
     "name": "stdout",
     "output_type": "stream",
     "text": [
      "x es un número positivo con un sólo dígito.\n"
     ]
    }
   ],
   "source": [
    "if 0 < x:\n",
    "    if x < 10:\n",
    "        print('x es un número positivo con un sólo dígito.')"
   ]
  },
  {
   "cell_type": "code",
   "execution_count": 20,
   "id": "d6a61115",
   "metadata": {},
   "outputs": [
    {
     "name": "stdout",
     "output_type": "stream",
     "text": [
      "x es un número positivo con un sólo dígito.\n"
     ]
    }
   ],
   "source": [
    "if 0 < x and x < 10:\n",
    "    print('x es un número positivo con un sólo dígito.')"
   ]
  },
  {
   "cell_type": "markdown",
   "id": "5d3e7404",
   "metadata": {},
   "source": [
    "# 7. Captura de excepciones usando try y except"
   ]
  },
  {
   "cell_type": "code",
   "execution_count": 21,
   "id": "e9dbee46",
   "metadata": {},
   "outputs": [
    {
     "name": "stdout",
     "output_type": "stream",
     "text": [
      "Introduzca la Temperatura Fahrenheit:80\n",
      "26.666666666666668\n"
     ]
    }
   ],
   "source": [
    "ent = input('Introduzca la Temperatura Fahrenheit:')\n",
    "fahr = float(ent)\n",
    "cel = (fahr - 32.0)*5.0/9.0\n",
    "print(cel)"
   ]
  },
  {
   "cell_type": "code",
   "execution_count": 22,
   "id": "9973f991",
   "metadata": {},
   "outputs": [
    {
     "name": "stdout",
     "output_type": "stream",
     "text": [
      "Introduzca la Temperatura Fahrenheit:Ochenta\n",
      "Por favor, introduzca un número\n"
     ]
    }
   ],
   "source": [
    "ent = input('Introduzca la Temperatura Fahrenheit:')\n",
    "try:\n",
    "    fahr = float(ent)\n",
    "    cel = (fahr - 32.0)*5.0/9.0\n",
    "    print(cel)\n",
    "except:\n",
    "    print('Por favor, introduzca un número')"
   ]
  },
  {
   "cell_type": "markdown",
   "id": "e81664e8",
   "metadata": {},
   "source": [
    "# 8. Evaluación en cortocircuito de expresiones lógicas"
   ]
  },
  {
   "cell_type": "code",
   "execution_count": 23,
   "id": "55c2a134",
   "metadata": {},
   "outputs": [
    {
     "data": {
      "text/plain": [
       "True"
      ]
     },
     "execution_count": 23,
     "metadata": {},
     "output_type": "execute_result"
    }
   ],
   "source": [
    "x = 6\n",
    "y = 2\n",
    "\n",
    "x >= 2 and (x/y) > 2"
   ]
  },
  {
   "cell_type": "code",
   "execution_count": 24,
   "id": "cddc244d",
   "metadata": {},
   "outputs": [
    {
     "data": {
      "text/plain": [
       "False"
      ]
     },
     "execution_count": 24,
     "metadata": {},
     "output_type": "execute_result"
    }
   ],
   "source": [
    "x = 1\n",
    "y = 0\n",
    "\n",
    "x >= 2 and (x/y) > 2 # Hay una división por 0, pero no se llega a ejecutar"
   ]
  },
  {
   "cell_type": "code",
   "execution_count": 25,
   "id": "b2d1e6b0",
   "metadata": {},
   "outputs": [
    {
     "ename": "ZeroDivisionError",
     "evalue": "division by zero",
     "output_type": "error",
     "traceback": [
      "\u001b[1;31m---------------------------------------------------------------------------\u001b[0m",
      "\u001b[1;31mZeroDivisionError\u001b[0m                         Traceback (most recent call last)",
      "Cell \u001b[1;32mIn[25], line 4\u001b[0m\n\u001b[0;32m      1\u001b[0m x \u001b[38;5;241m=\u001b[39m \u001b[38;5;241m6\u001b[39m\n\u001b[0;32m      2\u001b[0m y \u001b[38;5;241m=\u001b[39m \u001b[38;5;241m0\u001b[39m\n\u001b[1;32m----> 4\u001b[0m x \u001b[38;5;241m>\u001b[39m\u001b[38;5;241m=\u001b[39m \u001b[38;5;241m2\u001b[39m \u001b[38;5;129;01mand\u001b[39;00m (\u001b[43mx\u001b[49m\u001b[38;5;241;43m/\u001b[39;49m\u001b[43my\u001b[49m) \u001b[38;5;241m>\u001b[39m \u001b[38;5;241m2\u001b[39m\n",
      "\u001b[1;31mZeroDivisionError\u001b[0m: division by zero"
     ]
    }
   ],
   "source": [
    "x = 6\n",
    "y = 0\n",
    "\n",
    "x >= 2 and (x/y) > 2"
   ]
  },
  {
   "cell_type": "code",
   "execution_count": 26,
   "id": "7d77abfd",
   "metadata": {},
   "outputs": [
    {
     "data": {
      "text/plain": [
       "False"
      ]
     },
     "execution_count": 26,
     "metadata": {},
     "output_type": "execute_result"
    }
   ],
   "source": [
    "x = 1\n",
    "y = 0\n",
    "\n",
    "x >= 2 and y != 0 and (x/y) > 2"
   ]
  },
  {
   "cell_type": "code",
   "execution_count": 27,
   "id": "c50f2e26",
   "metadata": {},
   "outputs": [
    {
     "data": {
      "text/plain": [
       "False"
      ]
     },
     "execution_count": 27,
     "metadata": {},
     "output_type": "execute_result"
    }
   ],
   "source": [
    "x = 6\n",
    "y = 0\n",
    "\n",
    "x >= 2 and y != 0 and (x/y) > 2"
   ]
  },
  {
   "cell_type": "code",
   "execution_count": 28,
   "id": "5937f2be",
   "metadata": {},
   "outputs": [
    {
     "ename": "ZeroDivisionError",
     "evalue": "division by zero",
     "output_type": "error",
     "traceback": [
      "\u001b[1;31m---------------------------------------------------------------------------\u001b[0m",
      "\u001b[1;31mZeroDivisionError\u001b[0m                         Traceback (most recent call last)",
      "Cell \u001b[1;32mIn[28], line 1\u001b[0m\n\u001b[1;32m----> 1\u001b[0m x \u001b[38;5;241m>\u001b[39m\u001b[38;5;241m=\u001b[39m \u001b[38;5;241m2\u001b[39m \u001b[38;5;129;01mand\u001b[39;00m (\u001b[43mx\u001b[49m\u001b[38;5;241;43m/\u001b[39;49m\u001b[43my\u001b[49m) \u001b[38;5;241m>\u001b[39m \u001b[38;5;241m2\u001b[39m \u001b[38;5;129;01mand\u001b[39;00m y \u001b[38;5;241m!=\u001b[39m \u001b[38;5;241m0\u001b[39m\n",
      "\u001b[1;31mZeroDivisionError\u001b[0m: division by zero"
     ]
    }
   ],
   "source": [
    "x >= 2 and (x/y) > 2 and y != 0"
   ]
  },
  {
   "cell_type": "markdown",
   "id": "febe312c",
   "metadata": {},
   "source": [
    "# 9. Depuración"
   ]
  },
  {
   "cell_type": "code",
   "execution_count": 31,
   "id": "3412b0c1",
   "metadata": {},
   "outputs": [
    {
     "name": "stdout",
     "output_type": "stream",
     "text": [
      "-0.4575749056067512\n"
     ]
    }
   ],
   "source": [
    "int_senal = 9\n",
    "int_ruido = 10\n",
    "\n",
    "relacion = int_senal / int_ruido\n",
    "\n",
    "decibelios = 10 * math.log10(relacion)\n",
    "\n",
    "print(decibelios)"
   ]
  },
  {
   "cell_type": "markdown",
   "id": "ad419c09",
   "metadata": {},
   "source": [
    "# 10. Glosario"
   ]
  },
  {
   "cell_type": "markdown",
   "id": "e31567ed",
   "metadata": {},
   "source": [
    "Condición: la expresión booleana en una sentencia condicional que determina qué rama será ejecutada.\n",
    "\n",
    "Condicional anidado: una sentencia condicional que aparece en una de las ramas de otra sentencia condicional.\n",
    "\n",
    "Condicional encadenado: una sentencia condicional con una serie de ramas alternativas.\n",
    "\n",
    "Cortocircuito: cuando Python va evaluando una expresión lógica por tramos y detiene el proceso de evaluación debido a que ya conoce el valor final que va a tener el resultado sin necesidad de evaluar el resto de la expresión.\n",
    "\n",
    "Cuerpo: la secuencia de sentencias en el interior de una sentencia compuesta.\n",
    "\n",
    "Expresión booleana: una expresión cuyo valor puede ser verdadero o falso.\n",
    "\n",
    "Operadores de comparación: uno de los operadores que se utiliza para comparar dos operandos: ==, !=, <, >, <= y >=.\n",
    "\n",
    "Operador lógico: uno de los operadores que se combinan en las expresiones booleanas: and, or y not.\n",
    "\n",
    "Patrón guardián: cuando construimos una expresión lógica con comparaciones adicionales para aprovecharnos del funcionamiento en cortocircuito.\n",
    "\n",
    "Rama: una de las secuencias alternativas de sentencias en una sentencia condicional.\n",
    "\n",
    "Sentencia compuesta: una sentencia que consiste en un encabezado y en un cuerpo. El encabezado termina con 2 puntos (:). El cuerpo está identado con relación al encabezado.\n",
    "\n",
    "Sentencia condicional: una sentencia que controla el flujo de ejecución, dependiendo de cierta condición.\n",
    "\n",
    "Traceback: una lista de las funciones que se están ejecutando, que se muestra en pantalla cuando se produce una excepción."
   ]
  },
  {
   "cell_type": "markdown",
   "id": "5702a837",
   "metadata": {},
   "source": [
    "# 11. Ejercicios"
   ]
  },
  {
   "cell_type": "markdown",
   "id": "3b18bb86",
   "metadata": {},
   "source": [
    "1. Reescribe el programa del cálculo del salario para darle al empleado 1.5 veces la tarifa horaria para todas las horas trabajadas que excedan de 40.\n",
    "\n",
    "Introduzca las Horas: 45\n",
    "\n",
    "Introduzca la Tarifa por hora: 10\n",
    "\n",
    "Salario: 475.0"
   ]
  },
  {
   "cell_type": "code",
   "execution_count": 32,
   "id": "de21fc3c",
   "metadata": {},
   "outputs": [
    {
     "name": "stdout",
     "output_type": "stream",
     "text": [
      "Ingrese las horas: 45\n",
      "Ingrese la tarifa: 10\n",
      "Pago:  475.0\n"
     ]
    }
   ],
   "source": [
    "pago = 0.0                                   # Inicializo la variable\n",
    "\n",
    "horas = float(input('Ingrese las horas: '))\n",
    "tarifa = float(input('Ingrese la tarifa: '))\n",
    "\n",
    "if horas < 40:\n",
    "    pago = tarifa * horas                  # Sin cálculo de horas extras\n",
    "else:\n",
    "    horas_extras = horas - 40        # Calcular la cantidad de horas extras\n",
    "    pago = (tarifa * 40.0) + (1.5 * tarifa * horas_extras)\n",
    "\n",
    "print('Pago: ', pago)"
   ]
  },
  {
   "cell_type": "markdown",
   "id": "a9bc85e5",
   "metadata": {},
   "source": [
    "2. Reescribe el programa del salario usando try y except, de modo que el programa sea capaz de gestionar entradas no numéricas con elegancia, mostrando un mensaje y saliendo del programa. A continuación se muestran dos ejecuciones del programa:\n",
    "\n",
    "Introduzca las Horas: 20\n",
    "\n",
    "Introduzca la Tarifa por hora: nueve\n",
    "\n",
    "Error, por favor introduzca un número\n",
    "\n",
    "Introduzca las Horas: cuarenta\n",
    "\n",
    "Error, por favor introduzca un número"
   ]
  },
  {
   "cell_type": "code",
   "execution_count": 33,
   "id": "c3230504",
   "metadata": {},
   "outputs": [
    {
     "name": "stdout",
     "output_type": "stream",
     "text": [
      "Ingrese las horas: 20\n",
      "Ingrese una tarifa: nueve\n",
      "Error, por favor introduzca un número\n",
      "Pago:  0.0\n"
     ]
    }
   ],
   "source": [
    "# Inicializo las variables\n",
    "horas = 0.0                              \n",
    "tarifa = 0.0\n",
    "pago = 0.0\n",
    "\n",
    "input_horas = input('Ingrese las horas: ')\n",
    "\n",
    "try:\n",
    "    horas = float(input_horas)            # Solo permite entradas flotantes\n",
    "except ValueError:\n",
    "    print('Error, por favor introduzca un número')\n",
    "    # quit()\n",
    "\n",
    "input_tarifa = input('Ingrese una tarifa: ')\n",
    "\n",
    "try:\n",
    "    tarifa = float(input_tarifa)         # Solo permite entradas flotantes\n",
    "except ValueError:\n",
    "    print('Error, por favor introduzca un número')\n",
    "    # quit()\n",
    "\n",
    "if horas < 40:\n",
    "    pago = tarifa * horas                # Sin cálculo de horas extras\n",
    "else:\n",
    "    horas_extras = horas - 40                   # Calculate amount of overtime\n",
    "    pago = (tarifa * 40.0) + (1.5 * tarifa * horas_extras)\n",
    "\n",
    "print('Pago: ', pago)"
   ]
  },
  {
   "cell_type": "markdown",
   "id": "3b396eea",
   "metadata": {},
   "source": [
    "3. Escribe un programa que solicite una puntuación entre 0.0 y 1.0. Si la puntuación está fuera de ese rango, muestra un mensaje de error. Si la puntuación está entre 0.0 y 1.0, muestra la calificación usando la tabla siguiente:\n",
    "\n",
    "Puntuación Calificación\n",
    "\n",
    "$>= 0.9$ Sobresaliente\n",
    "\n",
    "$>= 0.8$ Notable\n",
    "\n",
    "$>= 0.7$ Bien\n",
    "\n",
    "$>= 0.6$ Suficiente\n",
    "\n",
    "$< 0.6$ Insuficiente\n",
    "\n",
    "Introduzca puntuación: 0.95\n",
    "Sobresaliente\n",
    "\n",
    "Introduzca puntuación: perfecto\n",
    "Puntuación incorrecta\n",
    "\n",
    "Introduzca puntuación: 10.0\n",
    "Puntuación incorrecta\n",
    "\n",
    "Introduzca puntuación: 0.75\n",
    "Bien\n",
    "\n",
    "Introduzca puntuación: 0.5\n",
    "Insuficiente\n",
    "\n",
    "Ejecuta el programa repetidamente, como se muestra arriba, para probar con varios valores de entrada diferentes."
   ]
  },
  {
   "cell_type": "code",
   "execution_count": 34,
   "id": "0708816e",
   "metadata": {},
   "outputs": [
    {
     "name": "stdout",
     "output_type": "stream",
     "text": [
      "Ingrese un puntaje: cero\n",
      "Error, ingrese otra vez el puntaje.\n",
      "Insuficiente\n"
     ]
    }
   ],
   "source": [
    "# Inicializo las variables\n",
    "puntaje = 0.0                           \n",
    "calificacion = \"\"\n",
    "\n",
    "input_puntaje = input('Ingrese un puntaje: ')\n",
    "try:\n",
    "    puntaje = float(input_puntaje)              # Solo permite entradas flotantes\n",
    "except ValueError:\n",
    "    print('Error, ingrese otra vez el puntaje.')\n",
    "    # quit()\n",
    "\n",
    "if 0.0 <= puntaje <= 1.0:     # Las puntuaciones deben estar entre 0,0 y 1,0 \n",
    "    if puntaje >= 0.9:\n",
    "        calificacion = 'Sobresaliente'\n",
    "    elif puntaje >= 0.8:\n",
    "        calificacion = 'Notable'\n",
    "    elif puntaje >= 0.7:\n",
    "        calificacion = 'Bien'\n",
    "    elif puntaje >= 0.6:\n",
    "        calificacion = 'Suficiente'\n",
    "    else:\n",
    "        calificacion = 'Insuficiente'\n",
    "else:\n",
    "    calificacion = 'Error, ingrese otra vez el puntaje.'\n",
    "\n",
    "print(calificacion)"
   ]
  }
 ],
 "metadata": {
  "kernelspec": {
   "display_name": "Python 3 (ipykernel)",
   "language": "python",
   "name": "python3"
  },
  "language_info": {
   "codemirror_mode": {
    "name": "ipython",
    "version": 3
   },
   "file_extension": ".py",
   "mimetype": "text/x-python",
   "name": "python",
   "nbconvert_exporter": "python",
   "pygments_lexer": "ipython3",
   "version": "3.10.9"
  }
 },
 "nbformat": 4,
 "nbformat_minor": 5
}
